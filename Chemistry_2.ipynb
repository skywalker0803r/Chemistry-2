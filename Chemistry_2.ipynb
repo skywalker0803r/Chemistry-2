{
 "cells": [
  {
   "cell_type": "markdown",
   "metadata": {
    "colab_type": "text",
    "id": "view-in-github"
   },
   "source": [
    "<a href=\"https://colab.research.google.com/github/skywalker0803r/Chemistry-2/blob/master/Chemistry_2.ipynb\" target=\"_parent\"><img src=\"https://colab.research.google.com/assets/colab-badge.svg\" alt=\"Open In Colab\"/></a>"
   ]
  },
  {
   "cell_type": "code",
   "execution_count": 18,
   "metadata": {
    "colab": {},
    "colab_type": "code",
    "id": "pAjTgyB5qZPG"
   },
   "outputs": [],
   "source": [
    "import pandas as pd\n",
    "import numpy as np\n",
    "import matplotlib.pyplot as plt\n",
    "import seaborn as sns\n",
    "import warnings;warnings.simplefilter('ignore')"
   ]
  },
  {
   "cell_type": "code",
   "execution_count": 19,
   "metadata": {
    "colab": {
     "base_uri": "https://localhost:8080/",
     "height": 36
    },
    "colab_type": "code",
    "id": "i-9UVUBMqrhF",
    "outputId": "edbba9a6-1db4-4d86-ba39-4ea497ad939d"
   },
   "outputs": [
    {
     "data": {
      "text/plain": [
       "['.git',\n",
       " '.ipynb_checkpoints',\n",
       " 'Chemistry-2.png',\n",
       " 'Chemistry_2.html',\n",
       " 'Chemistry_2.ipynb',\n",
       " 'README.md',\n",
       " '操作與品管數據(20200102提供).xlsx']"
      ]
     },
     "execution_count": 19,
     "metadata": {},
     "output_type": "execute_result"
    }
   ],
   "source": [
    "import os\n",
    "os.listdir()"
   ]
  },
  {
   "cell_type": "markdown",
   "metadata": {
    "colab_type": "text",
    "id": "VQ7WWlyYtH_Z"
   },
   "source": [
    "# load raw data"
   ]
  },
  {
   "cell_type": "code",
   "execution_count": 20,
   "metadata": {
    "colab": {
     "base_uri": "https://localhost:8080/",
     "height": 283
    },
    "colab_type": "code",
    "id": "CnKgQLF7qe9k",
    "outputId": "b471cda3-e5c4-4a41-d7d1-501ed4194b40"
   },
   "outputs": [
    {
     "data": {
      "text/html": [
       "<div>\n",
       "<style scoped>\n",
       "    .dataframe tbody tr th:only-of-type {\n",
       "        vertical-align: middle;\n",
       "    }\n",
       "\n",
       "    .dataframe tbody tr th {\n",
       "        vertical-align: top;\n",
       "    }\n",
       "\n",
       "    .dataframe thead th {\n",
       "        text-align: right;\n",
       "    }\n",
       "</style>\n",
       "<table border=\"1\" class=\"dataframe\">\n",
       "  <thead>\n",
       "    <tr style=\"text-align: right;\">\n",
       "      <th></th>\n",
       "      <th>Unnamed: 0</th>\n",
       "      <th>R141入口</th>\n",
       "      <th>Unnamed: 2</th>\n",
       "      <th>Unnamed: 3</th>\n",
       "      <th>Unnamed: 4</th>\n",
       "      <th>R141反應溫度</th>\n",
       "      <th>Unnamed: 6</th>\n",
       "      <th>Unnamed: 7</th>\n",
       "      <th>Unnamed: 8</th>\n",
       "      <th>R141出口</th>\n",
       "      <th>Unnamed: 10</th>\n",
       "      <th>品管數據</th>\n",
       "      <th>Unnamed: 12</th>\n",
       "      <th>Unnamed: 13</th>\n",
       "    </tr>\n",
       "  </thead>\n",
       "  <tbody>\n",
       "    <tr>\n",
       "      <td>0</td>\n",
       "      <td>NaN</td>\n",
       "      <td>新鮮苯流量(M3/h)</td>\n",
       "      <td>DIPB流量(M3/h)</td>\n",
       "      <td>溫度(℃)</td>\n",
       "      <td>壓力(KGf/cm2 G)</td>\n",
       "      <td>第一床(℃)</td>\n",
       "      <td>第二床(℃)</td>\n",
       "      <td>第三床(℃)</td>\n",
       "      <td>第四床(℃)</td>\n",
       "      <td>溫度(℃)</td>\n",
       "      <td>壓力(KGf/cm2 G)</td>\n",
       "      <td>ppm</td>\n",
       "      <td>%</td>\n",
       "      <td>%</td>\n",
       "    </tr>\n",
       "    <tr>\n",
       "      <td>1</td>\n",
       "      <td>DATE</td>\n",
       "      <td>PHL-DCS-FIC1147_PV</td>\n",
       "      <td>PHL-DCS-FIC1149A_PV</td>\n",
       "      <td>PHL-DCS-TIC1163_PV</td>\n",
       "      <td>PHL-DCS-PI1162_PV</td>\n",
       "      <td>PHL-DCS-TI1166_PV</td>\n",
       "      <td>PHL-DCS-TI1167_PV</td>\n",
       "      <td>PHL-DCS-TI1168_PV</td>\n",
       "      <td>PHL-DCS-TI1169_PV</td>\n",
       "      <td>PHL-DCS-TI1170_PV</td>\n",
       "      <td>PHL-DCS-PIC1166_PV</td>\n",
       "      <td>T121 EB含量</td>\n",
       "      <td>DIPB轉化率(檢測)</td>\n",
       "      <td>DIPB轉化率(計算)</td>\n",
       "    </tr>\n",
       "    <tr>\n",
       "      <td>2</td>\n",
       "      <td>2013-08-20 10:10:00</td>\n",
       "      <td>31.212</td>\n",
       "      <td>24.9928</td>\n",
       "      <td>169.894</td>\n",
       "      <td>[-11059] No Good Data For Calculation</td>\n",
       "      <td>167.057</td>\n",
       "      <td>166.569</td>\n",
       "      <td>166.279</td>\n",
       "      <td>165.041</td>\n",
       "      <td>[-11059] No Good Data For Calculation</td>\n",
       "      <td>12.297</td>\n",
       "      <td>NaN</td>\n",
       "      <td>NaN</td>\n",
       "      <td>58.7768</td>\n",
       "    </tr>\n",
       "    <tr>\n",
       "      <td>3</td>\n",
       "      <td>2013-08-20 10:20:00</td>\n",
       "      <td>31.2236</td>\n",
       "      <td>25.0668</td>\n",
       "      <td>169.753</td>\n",
       "      <td>[-11059] No Good Data For Calculation</td>\n",
       "      <td>167.051</td>\n",
       "      <td>166.576</td>\n",
       "      <td>166.26</td>\n",
       "      <td>164.97</td>\n",
       "      <td>[-11059] No Good Data For Calculation</td>\n",
       "      <td>12.2914</td>\n",
       "      <td>NaN</td>\n",
       "      <td>NaN</td>\n",
       "      <td>58.8524</td>\n",
       "    </tr>\n",
       "    <tr>\n",
       "      <td>4</td>\n",
       "      <td>2013-08-20 10:30:00</td>\n",
       "      <td>31.5726</td>\n",
       "      <td>25.163</td>\n",
       "      <td>169.526</td>\n",
       "      <td>[-11059] No Good Data For Calculation</td>\n",
       "      <td>167.042</td>\n",
       "      <td>166.584</td>\n",
       "      <td>166.235</td>\n",
       "      <td>164.877</td>\n",
       "      <td>[-11059] No Good Data For Calculation</td>\n",
       "      <td>12.3175</td>\n",
       "      <td>NaN</td>\n",
       "      <td>NaN</td>\n",
       "      <td>59.1137</td>\n",
       "    </tr>\n",
       "  </tbody>\n",
       "</table>\n",
       "</div>"
      ],
      "text/plain": [
       "            Unnamed: 0              R141入口           Unnamed: 2  \\\n",
       "0                  NaN         新鮮苯流量(M3/h)         DIPB流量(M3/h)   \n",
       "1                 DATE  PHL-DCS-FIC1147_PV  PHL-DCS-FIC1149A_PV   \n",
       "2  2013-08-20 10:10:00              31.212              24.9928   \n",
       "3  2013-08-20 10:20:00             31.2236              25.0668   \n",
       "4  2013-08-20 10:30:00             31.5726               25.163   \n",
       "\n",
       "           Unnamed: 3                             Unnamed: 4  \\\n",
       "0               溫度(℃)                          壓力(KGf/cm2 G)   \n",
       "1  PHL-DCS-TIC1163_PV                      PHL-DCS-PI1162_PV   \n",
       "2             169.894  [-11059] No Good Data For Calculation   \n",
       "3             169.753  [-11059] No Good Data For Calculation   \n",
       "4             169.526  [-11059] No Good Data For Calculation   \n",
       "\n",
       "            R141反應溫度         Unnamed: 6         Unnamed: 7         Unnamed: 8  \\\n",
       "0             第一床(℃)             第二床(℃)             第三床(℃)             第四床(℃)   \n",
       "1  PHL-DCS-TI1166_PV  PHL-DCS-TI1167_PV  PHL-DCS-TI1168_PV  PHL-DCS-TI1169_PV   \n",
       "2            167.057            166.569            166.279            165.041   \n",
       "3            167.051            166.576             166.26             164.97   \n",
       "4            167.042            166.584            166.235            164.877   \n",
       "\n",
       "                                  R141出口         Unnamed: 10       品管數據  \\\n",
       "0                                  溫度(℃)       壓力(KGf/cm2 G)        ppm   \n",
       "1                      PHL-DCS-TI1170_PV  PHL-DCS-PIC1166_PV  T121 EB含量   \n",
       "2  [-11059] No Good Data For Calculation              12.297        NaN   \n",
       "3  [-11059] No Good Data For Calculation             12.2914        NaN   \n",
       "4  [-11059] No Good Data For Calculation             12.3175        NaN   \n",
       "\n",
       "   Unnamed: 12  Unnamed: 13  \n",
       "0            %            %  \n",
       "1  DIPB轉化率(檢測)  DIPB轉化率(計算)  \n",
       "2          NaN      58.7768  \n",
       "3          NaN      58.8524  \n",
       "4          NaN      59.1137  "
      ]
     },
     "execution_count": 20,
     "metadata": {},
     "output_type": "execute_result"
    }
   ],
   "source": [
    "df = pd.read_excel('./操作與品管數據(20200102提供).xlsx')\n",
    "df.head()"
   ]
  },
  {
   "cell_type": "markdown",
   "metadata": {
    "colab_type": "text",
    "id": "FiRp-lJStKGu"
   },
   "source": [
    "# table data"
   ]
  },
  {
   "cell_type": "code",
   "execution_count": 21,
   "metadata": {
    "colab": {
     "base_uri": "https://localhost:8080/",
     "height": 318
    },
    "colab_type": "code",
    "id": "GsL7_AIxq396",
    "outputId": "d65cb6d3-e764-4b91-b6de-06112e63d6c8"
   },
   "outputs": [
    {
     "name": "stdout",
     "output_type": "stream",
     "text": [
      "(83027, 13)\n"
     ]
    },
    {
     "data": {
      "text/html": [
       "<div>\n",
       "<style scoped>\n",
       "    .dataframe tbody tr th:only-of-type {\n",
       "        vertical-align: middle;\n",
       "    }\n",
       "\n",
       "    .dataframe tbody tr th {\n",
       "        vertical-align: top;\n",
       "    }\n",
       "\n",
       "    .dataframe thead th {\n",
       "        text-align: right;\n",
       "    }\n",
       "</style>\n",
       "<table border=\"1\" class=\"dataframe\">\n",
       "  <thead>\n",
       "    <tr style=\"text-align: right;\">\n",
       "      <th></th>\n",
       "      <th>R141入口_新鮮苯流量</th>\n",
       "      <th>R141入口_DIPB流量</th>\n",
       "      <th>R141入口_溫度</th>\n",
       "      <th>R141入口_壓力</th>\n",
       "      <th>R141反應溫度_第一床</th>\n",
       "      <th>R141反應溫度_第二床</th>\n",
       "      <th>R141反應溫度_第三床</th>\n",
       "      <th>R141反應溫度_第四床</th>\n",
       "      <th>R141出口_溫度</th>\n",
       "      <th>R141出口_壓力</th>\n",
       "      <th>T121_EB含量</th>\n",
       "      <th>DIPB轉化率(檢測)</th>\n",
       "      <th>DIPB轉化率(計算)</th>\n",
       "    </tr>\n",
       "    <tr>\n",
       "      <th>Date</th>\n",
       "      <th></th>\n",
       "      <th></th>\n",
       "      <th></th>\n",
       "      <th></th>\n",
       "      <th></th>\n",
       "      <th></th>\n",
       "      <th></th>\n",
       "      <th></th>\n",
       "      <th></th>\n",
       "      <th></th>\n",
       "      <th></th>\n",
       "      <th></th>\n",
       "      <th></th>\n",
       "    </tr>\n",
       "  </thead>\n",
       "  <tbody>\n",
       "    <tr>\n",
       "      <td>2013-08-20 10:10:00</td>\n",
       "      <td>31.212</td>\n",
       "      <td>24.9928</td>\n",
       "      <td>169.894</td>\n",
       "      <td>[-11059] No Good Data For Calculation</td>\n",
       "      <td>167.057</td>\n",
       "      <td>166.569</td>\n",
       "      <td>166.279</td>\n",
       "      <td>165.041</td>\n",
       "      <td>[-11059] No Good Data For Calculation</td>\n",
       "      <td>12.297</td>\n",
       "      <td>NaN</td>\n",
       "      <td>NaN</td>\n",
       "      <td>58.7768</td>\n",
       "    </tr>\n",
       "    <tr>\n",
       "      <td>2013-08-20 10:20:00</td>\n",
       "      <td>31.2236</td>\n",
       "      <td>25.0668</td>\n",
       "      <td>169.753</td>\n",
       "      <td>[-11059] No Good Data For Calculation</td>\n",
       "      <td>167.051</td>\n",
       "      <td>166.576</td>\n",
       "      <td>166.26</td>\n",
       "      <td>164.97</td>\n",
       "      <td>[-11059] No Good Data For Calculation</td>\n",
       "      <td>12.2914</td>\n",
       "      <td>NaN</td>\n",
       "      <td>NaN</td>\n",
       "      <td>58.8524</td>\n",
       "    </tr>\n",
       "    <tr>\n",
       "      <td>2013-08-20 10:30:00</td>\n",
       "      <td>31.5726</td>\n",
       "      <td>25.163</td>\n",
       "      <td>169.526</td>\n",
       "      <td>[-11059] No Good Data For Calculation</td>\n",
       "      <td>167.042</td>\n",
       "      <td>166.584</td>\n",
       "      <td>166.235</td>\n",
       "      <td>164.877</td>\n",
       "      <td>[-11059] No Good Data For Calculation</td>\n",
       "      <td>12.3175</td>\n",
       "      <td>NaN</td>\n",
       "      <td>NaN</td>\n",
       "      <td>59.1137</td>\n",
       "    </tr>\n",
       "    <tr>\n",
       "      <td>2013-08-20 10:40:00</td>\n",
       "      <td>31.8862</td>\n",
       "      <td>25.1367</td>\n",
       "      <td>169.317</td>\n",
       "      <td>[-11059] No Good Data For Calculation</td>\n",
       "      <td>167.034</td>\n",
       "      <td>166.592</td>\n",
       "      <td>166.21</td>\n",
       "      <td>164.784</td>\n",
       "      <td>[-11059] No Good Data For Calculation</td>\n",
       "      <td>12.3179</td>\n",
       "      <td>NaN</td>\n",
       "      <td>NaN</td>\n",
       "      <td>58.8904</td>\n",
       "    </tr>\n",
       "    <tr>\n",
       "      <td>2013-08-20 10:50:00</td>\n",
       "      <td>31.8554</td>\n",
       "      <td>25.2207</td>\n",
       "      <td>169.665</td>\n",
       "      <td>[-11059] No Good Data For Calculation</td>\n",
       "      <td>167.026</td>\n",
       "      <td>166.6</td>\n",
       "      <td>166.186</td>\n",
       "      <td>164.691</td>\n",
       "      <td>[-11059] No Good Data For Calculation</td>\n",
       "      <td>12.3155</td>\n",
       "      <td>NaN</td>\n",
       "      <td>NaN</td>\n",
       "      <td>58.7622</td>\n",
       "    </tr>\n",
       "  </tbody>\n",
       "</table>\n",
       "</div>"
      ],
      "text/plain": [
       "                    R141入口_新鮮苯流量 R141入口_DIPB流量 R141入口_溫度  \\\n",
       "Date                                                       \n",
       "2013-08-20 10:10:00       31.212       24.9928   169.894   \n",
       "2013-08-20 10:20:00      31.2236       25.0668   169.753   \n",
       "2013-08-20 10:30:00      31.5726        25.163   169.526   \n",
       "2013-08-20 10:40:00      31.8862       25.1367   169.317   \n",
       "2013-08-20 10:50:00      31.8554       25.2207   169.665   \n",
       "\n",
       "                                                 R141入口_壓力 R141反應溫度_第一床  \\\n",
       "Date                                                                      \n",
       "2013-08-20 10:10:00  [-11059] No Good Data For Calculation      167.057   \n",
       "2013-08-20 10:20:00  [-11059] No Good Data For Calculation      167.051   \n",
       "2013-08-20 10:30:00  [-11059] No Good Data For Calculation      167.042   \n",
       "2013-08-20 10:40:00  [-11059] No Good Data For Calculation      167.034   \n",
       "2013-08-20 10:50:00  [-11059] No Good Data For Calculation      167.026   \n",
       "\n",
       "                    R141反應溫度_第二床 R141反應溫度_第三床 R141反應溫度_第四床  \\\n",
       "Date                                                         \n",
       "2013-08-20 10:10:00      166.569      166.279      165.041   \n",
       "2013-08-20 10:20:00      166.576       166.26       164.97   \n",
       "2013-08-20 10:30:00      166.584      166.235      164.877   \n",
       "2013-08-20 10:40:00      166.592       166.21      164.784   \n",
       "2013-08-20 10:50:00        166.6      166.186      164.691   \n",
       "\n",
       "                                                 R141出口_溫度 R141出口_壓力  \\\n",
       "Date                                                                   \n",
       "2013-08-20 10:10:00  [-11059] No Good Data For Calculation    12.297   \n",
       "2013-08-20 10:20:00  [-11059] No Good Data For Calculation   12.2914   \n",
       "2013-08-20 10:30:00  [-11059] No Good Data For Calculation   12.3175   \n",
       "2013-08-20 10:40:00  [-11059] No Good Data For Calculation   12.3179   \n",
       "2013-08-20 10:50:00  [-11059] No Good Data For Calculation   12.3155   \n",
       "\n",
       "                    T121_EB含量 DIPB轉化率(檢測) DIPB轉化率(計算)  \n",
       "Date                                                   \n",
       "2013-08-20 10:10:00       NaN         NaN     58.7768  \n",
       "2013-08-20 10:20:00       NaN         NaN     58.8524  \n",
       "2013-08-20 10:30:00       NaN         NaN     59.1137  \n",
       "2013-08-20 10:40:00       NaN         NaN     58.8904  \n",
       "2013-08-20 10:50:00       NaN         NaN     58.7622  "
      ]
     },
     "execution_count": 21,
     "metadata": {},
     "output_type": "execute_result"
    }
   ],
   "source": [
    "cols = ['Date','R141入口_新鮮苯流量','R141入口_DIPB流量','R141入口_溫度','R141入口_壓力',\n",
    "        'R141反應溫度_第一床','R141反應溫度_第二床','R141反應溫度_第三床','R141反應溫度_第四床',\n",
    "        'R141出口_溫度','R141出口_壓力','T121_EB含量','DIPB轉化率(檢測)','DIPB轉化率(計算)']\n",
    "values = df.iloc[2:,:]\n",
    "values\n",
    "new_df = pd.DataFrame(values.values,columns=cols)\n",
    "new_df = new_df.set_index('Date')\n",
    "print(new_df.shape)\n",
    "new_df.head()"
   ]
  },
  {
   "cell_type": "markdown",
   "metadata": {
    "colab_type": "text",
    "id": "eki5yjzctvJ9"
   },
   "source": [
    "# col transform"
   ]
  },
  {
   "cell_type": "code",
   "execution_count": 22,
   "metadata": {
    "colab": {},
    "colab_type": "code",
    "id": "OQ6YJ-DZub0f"
   },
   "outputs": [],
   "source": [
    "new_df = new_df.replace('[-11059] No Good Data For Calculation',np.nan)"
   ]
  },
  {
   "cell_type": "code",
   "execution_count": 23,
   "metadata": {
    "colab": {
     "base_uri": "https://localhost:8080/",
     "height": 298
    },
    "colab_type": "code",
    "id": "R6enhqwhrLZR",
    "outputId": "540c8f3b-1e5a-4880-b9e0-6c7591d6b408"
   },
   "outputs": [
    {
     "data": {
      "text/plain": [
       "R141入口_新鮮苯流量     float64\n",
       "R141入口_DIPB流量    float64\n",
       "R141入口_溫度        float64\n",
       "R141入口_壓力        float64\n",
       "R141反應溫度_第一床     float64\n",
       "R141反應溫度_第二床     float64\n",
       "R141反應溫度_第三床     float64\n",
       "R141反應溫度_第四床     float64\n",
       "R141出口_溫度        float64\n",
       "R141出口_壓力        float64\n",
       "T121_EB含量        float64\n",
       "DIPB轉化率(檢測)      float64\n",
       "DIPB轉化率(計算)      float64\n",
       "dtype: object"
      ]
     },
     "execution_count": 23,
     "metadata": {},
     "output_type": "execute_result"
    }
   ],
   "source": [
    "for i in new_df.columns.tolist()[1:]:\n",
    "  new_df[i] = pd.to_numeric(new_df[i])\n",
    "new_df.dtypes"
   ]
  },
  {
   "cell_type": "code",
   "execution_count": 24,
   "metadata": {},
   "outputs": [],
   "source": [
    "df = new_df\n",
    "del new_df"
   ]
  },
  {
   "cell_type": "markdown",
   "metadata": {
    "colab_type": "text",
    "id": "aLYCeyHTu8Jv"
   },
   "source": [
    "# miss value check"
   ]
  },
  {
   "cell_type": "code",
   "execution_count": 25,
   "metadata": {},
   "outputs": [
    {
     "data": {
      "text/plain": [
       "<matplotlib.axes._subplots.AxesSubplot at 0x268820fd908>"
      ]
     },
     "execution_count": 25,
     "metadata": {},
     "output_type": "execute_result"
    },
    {
     "data": {
      "image/png": "[encoded data removed]",
      "text/plain": [
       "<Figure size 1440x360 with 1 Axes>"
      ]
     },
     "metadata": {
      "needs_background": "light"
     },
     "output_type": "display_data"
    }
   ],
   "source": [
    "fig = plt.figure(figsize=(20,5))\n",
    "sns.heatmap(df.isnull(),yticklabels=False,cbar=False,cmap='viridis')"
   ]
  },
  {
   "cell_type": "code",
   "execution_count": 26,
   "metadata": {},
   "outputs": [
    {
     "data": {
      "text/html": [
       "<div>\n",
       "<style scoped>\n",
       "    .dataframe tbody tr th:only-of-type {\n",
       "        vertical-align: middle;\n",
       "    }\n",
       "\n",
       "    .dataframe tbody tr th {\n",
       "        vertical-align: top;\n",
       "    }\n",
       "\n",
       "    .dataframe thead th {\n",
       "        text-align: right;\n",
       "    }\n",
       "</style>\n",
       "<table border=\"1\" class=\"dataframe\">\n",
       "  <thead>\n",
       "    <tr style=\"text-align: right;\">\n",
       "      <th></th>\n",
       "      <th>T121_EB含量</th>\n",
       "    </tr>\n",
       "    <tr>\n",
       "      <th>Date</th>\n",
       "      <th></th>\n",
       "    </tr>\n",
       "  </thead>\n",
       "  <tbody>\n",
       "    <tr>\n",
       "      <td>2013-08-20 16:00:00</td>\n",
       "      <td>112.0</td>\n",
       "    </tr>\n",
       "    <tr>\n",
       "      <td>2013-08-21 00:00:00</td>\n",
       "      <td>85.0</td>\n",
       "    </tr>\n",
       "    <tr>\n",
       "      <td>2013-08-21 08:00:00</td>\n",
       "      <td>109.0</td>\n",
       "    </tr>\n",
       "    <tr>\n",
       "      <td>2013-08-21 16:00:00</td>\n",
       "      <td>109.0</td>\n",
       "    </tr>\n",
       "    <tr>\n",
       "      <td>2013-08-22 00:00:00</td>\n",
       "      <td>102.0</td>\n",
       "    </tr>\n",
       "    <tr>\n",
       "      <td>...</td>\n",
       "      <td>...</td>\n",
       "    </tr>\n",
       "    <tr>\n",
       "      <td>2015-03-18 08:00:00</td>\n",
       "      <td>83.0</td>\n",
       "    </tr>\n",
       "    <tr>\n",
       "      <td>2015-03-18 16:00:00</td>\n",
       "      <td>84.0</td>\n",
       "    </tr>\n",
       "    <tr>\n",
       "      <td>2015-03-19 00:00:00</td>\n",
       "      <td>84.0</td>\n",
       "    </tr>\n",
       "    <tr>\n",
       "      <td>2015-03-19 08:00:00</td>\n",
       "      <td>83.0</td>\n",
       "    </tr>\n",
       "    <tr>\n",
       "      <td>2015-03-19 16:00:00</td>\n",
       "      <td>81.0</td>\n",
       "    </tr>\n",
       "  </tbody>\n",
       "</table>\n",
       "<p>1558 rows × 1 columns</p>\n",
       "</div>"
      ],
      "text/plain": [
       "                     T121_EB含量\n",
       "Date                          \n",
       "2013-08-20 16:00:00      112.0\n",
       "2013-08-21 00:00:00       85.0\n",
       "2013-08-21 08:00:00      109.0\n",
       "2013-08-21 16:00:00      109.0\n",
       "2013-08-22 00:00:00      102.0\n",
       "...                        ...\n",
       "2015-03-18 08:00:00       83.0\n",
       "2015-03-18 16:00:00       84.0\n",
       "2015-03-19 00:00:00       84.0\n",
       "2015-03-19 08:00:00       83.0\n",
       "2015-03-19 16:00:00       81.0\n",
       "\n",
       "[1558 rows x 1 columns]"
      ]
     },
     "execution_count": 26,
     "metadata": {},
     "output_type": "execute_result"
    }
   ],
   "source": [
    "df[df['T121_EB含量'].isnull()==False][['T121_EB含量']]"
   ]
  },
  {
   "cell_type": "code",
   "execution_count": 27,
   "metadata": {},
   "outputs": [
    {
     "data": {
      "text/html": [
       "<div>\n",
       "<style scoped>\n",
       "    .dataframe tbody tr th:only-of-type {\n",
       "        vertical-align: middle;\n",
       "    }\n",
       "\n",
       "    .dataframe tbody tr th {\n",
       "        vertical-align: top;\n",
       "    }\n",
       "\n",
       "    .dataframe thead th {\n",
       "        text-align: right;\n",
       "    }\n",
       "</style>\n",
       "<table border=\"1\" class=\"dataframe\">\n",
       "  <thead>\n",
       "    <tr style=\"text-align: right;\">\n",
       "      <th></th>\n",
       "      <th>total</th>\n",
       "      <th>%</th>\n",
       "    </tr>\n",
       "  </thead>\n",
       "  <tbody>\n",
       "    <tr>\n",
       "      <td>R141入口_新鮮苯流量</td>\n",
       "      <td>71</td>\n",
       "      <td>0.085514</td>\n",
       "    </tr>\n",
       "    <tr>\n",
       "      <td>R141入口_DIPB流量</td>\n",
       "      <td>71</td>\n",
       "      <td>0.085514</td>\n",
       "    </tr>\n",
       "    <tr>\n",
       "      <td>R141入口_溫度</td>\n",
       "      <td>71</td>\n",
       "      <td>0.085514</td>\n",
       "    </tr>\n",
       "    <tr>\n",
       "      <td>R141入口_壓力</td>\n",
       "      <td>47276</td>\n",
       "      <td>56.940513</td>\n",
       "    </tr>\n",
       "    <tr>\n",
       "      <td>R141反應溫度_第一床</td>\n",
       "      <td>71</td>\n",
       "      <td>0.085514</td>\n",
       "    </tr>\n",
       "    <tr>\n",
       "      <td>R141反應溫度_第二床</td>\n",
       "      <td>71</td>\n",
       "      <td>0.085514</td>\n",
       "    </tr>\n",
       "    <tr>\n",
       "      <td>R141反應溫度_第三床</td>\n",
       "      <td>71</td>\n",
       "      <td>0.085514</td>\n",
       "    </tr>\n",
       "    <tr>\n",
       "      <td>R141反應溫度_第四床</td>\n",
       "      <td>71</td>\n",
       "      <td>0.085514</td>\n",
       "    </tr>\n",
       "    <tr>\n",
       "      <td>R141出口_溫度</td>\n",
       "      <td>47275</td>\n",
       "      <td>56.939309</td>\n",
       "    </tr>\n",
       "    <tr>\n",
       "      <td>R141出口_壓力</td>\n",
       "      <td>71</td>\n",
       "      <td>0.085514</td>\n",
       "    </tr>\n",
       "    <tr>\n",
       "      <td>T121_EB含量</td>\n",
       "      <td>81469</td>\n",
       "      <td>98.123502</td>\n",
       "    </tr>\n",
       "    <tr>\n",
       "      <td>DIPB轉化率(檢測)</td>\n",
       "      <td>82539</td>\n",
       "      <td>99.412239</td>\n",
       "    </tr>\n",
       "    <tr>\n",
       "      <td>DIPB轉化率(計算)</td>\n",
       "      <td>6474</td>\n",
       "      <td>7.797463</td>\n",
       "    </tr>\n",
       "  </tbody>\n",
       "</table>\n",
       "</div>"
      ],
      "text/plain": [
       "               total          %\n",
       "R141入口_新鮮苯流量      71   0.085514\n",
       "R141入口_DIPB流量     71   0.085514\n",
       "R141入口_溫度         71   0.085514\n",
       "R141入口_壓力      47276  56.940513\n",
       "R141反應溫度_第一床      71   0.085514\n",
       "R141反應溫度_第二床      71   0.085514\n",
       "R141反應溫度_第三床      71   0.085514\n",
       "R141反應溫度_第四床      71   0.085514\n",
       "R141出口_溫度      47275  56.939309\n",
       "R141出口_壓力         71   0.085514\n",
       "T121_EB含量      81469  98.123502\n",
       "DIPB轉化率(檢測)    82539  99.412239\n",
       "DIPB轉化率(計算)     6474   7.797463"
      ]
     },
     "execution_count": 27,
     "metadata": {},
     "output_type": "execute_result"
    }
   ],
   "source": [
    "mt = pd.DataFrame(df.isnull().sum(),columns=['total'])\n",
    "mt['%'] = (mt['total']/len(df))*100\n",
    "mt"
   ]
  },
  {
   "cell_type": "markdown",
   "metadata": {},
   "source": [
    "# fill miss value"
   ]
  },
  {
   "cell_type": "code",
   "execution_count": 28,
   "metadata": {},
   "outputs": [
    {
     "data": {
      "text/plain": [
       "['R141入口_新鮮苯流量',\n",
       " 'R141入口_DIPB流量',\n",
       " 'R141入口_溫度',\n",
       " 'R141入口_壓力',\n",
       " 'R141反應溫度_第一床',\n",
       " 'R141反應溫度_第二床',\n",
       " 'R141反應溫度_第三床',\n",
       " 'R141反應溫度_第四床',\n",
       " 'R141出口_溫度',\n",
       " 'R141出口_壓力',\n",
       " 'T121_EB含量']"
      ]
     },
     "execution_count": 28,
     "metadata": {},
     "output_type": "execute_result"
    }
   ],
   "source": [
    "x_col = df.drop(['DIPB轉化率(檢測)','DIPB轉化率(計算)'],axis=1).columns.tolist()\n",
    "x_col"
   ]
  },
  {
   "cell_type": "code",
   "execution_count": 29,
   "metadata": {},
   "outputs": [
    {
     "data": {
      "application/vnd.jupyter.widget-view+json": {
       "model_id": "02b92c1af974452a8d628bfc73e60811",
       "version_major": 2,
       "version_minor": 0
      },
      "text/plain": [
       "HBox(children=(IntProgress(value=0, max=9), HTML(value='')))"
      ]
     },
     "metadata": {},
     "output_type": "display_data"
    },
    {
     "name": "stdout",
     "output_type": "stream",
     "text": [
      "\n"
     ]
    }
   ],
   "source": [
    "from sklearn.impute import KNNImputer\n",
    "from sklearn.utils import shuffle\n",
    "from  tqdm import tqdm_notebook as tqdm\n",
    "\n",
    "df = shuffle(df)\n",
    "step = 10000\n",
    "\n",
    "for i in tqdm(range(0, len(df), step)):\n",
    "    start, end = i, min(i+step,len(df))\n",
    "    imputer = KNNImputer(n_neighbors = 3)\n",
    "    df.iloc[start:end][x_col] = imputer.fit_transform(df.iloc[start:end][x_col])\n",
    "\n",
    "df = df.sort_index()"
   ]
  },
  {
   "cell_type": "code",
   "execution_count": 30,
   "metadata": {},
   "outputs": [
    {
     "data": {
      "text/plain": [
       "<matplotlib.axes._subplots.AxesSubplot at 0x268f3767488>"
      ]
     },
     "execution_count": 30,
     "metadata": {},
     "output_type": "execute_result"
    },
    {
     "data": {
      "image/png": "[encoded data removed]",
      "text/plain": [
       "<Figure size 1440x360 with 1 Axes>"
      ]
     },
     "metadata": {
      "needs_background": "light"
     },
     "output_type": "display_data"
    }
   ],
   "source": [
    "fig = plt.figure(figsize=(20,5))\n",
    "sns.heatmap(df.isnull(),yticklabels=False,cbar=False,cmap='viridis')"
   ]
  },
  {
   "cell_type": "markdown",
   "metadata": {
    "colab_type": "text",
    "id": "_y8en6-BwQeP"
   },
   "source": [
    "# describe"
   ]
  },
  {
   "cell_type": "code",
   "execution_count": 31,
   "metadata": {
    "colab": {
     "base_uri": "https://localhost:8080/",
     "height": 311
    },
    "colab_type": "code",
    "id": "XLquxxYvvCq0",
    "outputId": "707f9151-4f63-42af-8923-25f9bf76e510"
   },
   "outputs": [
    {
     "data": {
      "text/html": [
       "<div>\n",
       "<style scoped>\n",
       "    .dataframe tbody tr th:only-of-type {\n",
       "        vertical-align: middle;\n",
       "    }\n",
       "\n",
       "    .dataframe tbody tr th {\n",
       "        vertical-align: top;\n",
       "    }\n",
       "\n",
       "    .dataframe thead th {\n",
       "        text-align: right;\n",
       "    }\n",
       "</style>\n",
       "<table border=\"1\" class=\"dataframe\">\n",
       "  <thead>\n",
       "    <tr style=\"text-align: right;\">\n",
       "      <th></th>\n",
       "      <th>R141入口_新鮮苯流量</th>\n",
       "      <th>R141入口_DIPB流量</th>\n",
       "      <th>R141入口_溫度</th>\n",
       "      <th>R141入口_壓力</th>\n",
       "      <th>R141反應溫度_第一床</th>\n",
       "      <th>R141反應溫度_第二床</th>\n",
       "      <th>R141反應溫度_第三床</th>\n",
       "      <th>R141反應溫度_第四床</th>\n",
       "      <th>R141出口_溫度</th>\n",
       "      <th>R141出口_壓力</th>\n",
       "      <th>T121_EB含量</th>\n",
       "      <th>DIPB轉化率(檢測)</th>\n",
       "      <th>DIPB轉化率(計算)</th>\n",
       "    </tr>\n",
       "  </thead>\n",
       "  <tbody>\n",
       "    <tr>\n",
       "      <td>count</td>\n",
       "      <td>83027.00</td>\n",
       "      <td>83027.00</td>\n",
       "      <td>83027.00</td>\n",
       "      <td>83027.00</td>\n",
       "      <td>83027.00</td>\n",
       "      <td>83027.00</td>\n",
       "      <td>83027.00</td>\n",
       "      <td>83027.00</td>\n",
       "      <td>83027.00</td>\n",
       "      <td>83027.00</td>\n",
       "      <td>83027.00</td>\n",
       "      <td>488.00</td>\n",
       "      <td>76553.00</td>\n",
       "    </tr>\n",
       "    <tr>\n",
       "      <td>mean</td>\n",
       "      <td>33.27</td>\n",
       "      <td>22.74</td>\n",
       "      <td>165.90</td>\n",
       "      <td>14.40</td>\n",
       "      <td>157.73</td>\n",
       "      <td>157.85</td>\n",
       "      <td>157.64</td>\n",
       "      <td>156.10</td>\n",
       "      <td>158.26</td>\n",
       "      <td>11.39</td>\n",
       "      <td>98.51</td>\n",
       "      <td>60.08</td>\n",
       "      <td>58.87</td>\n",
       "    </tr>\n",
       "    <tr>\n",
       "      <td>std</td>\n",
       "      <td>11.02</td>\n",
       "      <td>6.74</td>\n",
       "      <td>16.81</td>\n",
       "      <td>0.17</td>\n",
       "      <td>36.04</td>\n",
       "      <td>36.12</td>\n",
       "      <td>36.08</td>\n",
       "      <td>36.57</td>\n",
       "      <td>14.51</td>\n",
       "      <td>3.14</td>\n",
       "      <td>18.82</td>\n",
       "      <td>14.73</td>\n",
       "      <td>4.01</td>\n",
       "    </tr>\n",
       "    <tr>\n",
       "      <td>min</td>\n",
       "      <td>0.03</td>\n",
       "      <td>0.00</td>\n",
       "      <td>110.04</td>\n",
       "      <td>7.41</td>\n",
       "      <td>17.49</td>\n",
       "      <td>17.30</td>\n",
       "      <td>17.15</td>\n",
       "      <td>0.00</td>\n",
       "      <td>54.79</td>\n",
       "      <td>0.00</td>\n",
       "      <td>8.00</td>\n",
       "      <td>-44.02</td>\n",
       "      <td>-0.63</td>\n",
       "    </tr>\n",
       "    <tr>\n",
       "      <td>25%</td>\n",
       "      <td>31.12</td>\n",
       "      <td>24.17</td>\n",
       "      <td>168.78</td>\n",
       "      <td>14.39</td>\n",
       "      <td>165.67</td>\n",
       "      <td>165.36</td>\n",
       "      <td>164.99</td>\n",
       "      <td>163.45</td>\n",
       "      <td>159.22</td>\n",
       "      <td>12.30</td>\n",
       "      <td>84.00</td>\n",
       "      <td>59.10</td>\n",
       "      <td>57.34</td>\n",
       "    </tr>\n",
       "    <tr>\n",
       "      <td>50%</td>\n",
       "      <td>35.16</td>\n",
       "      <td>24.80</td>\n",
       "      <td>170.48</td>\n",
       "      <td>14.41</td>\n",
       "      <td>167.54</td>\n",
       "      <td>167.69</td>\n",
       "      <td>167.44</td>\n",
       "      <td>166.49</td>\n",
       "      <td>162.69</td>\n",
       "      <td>12.30</td>\n",
       "      <td>96.33</td>\n",
       "      <td>64.22</td>\n",
       "      <td>58.42</td>\n",
       "    </tr>\n",
       "    <tr>\n",
       "      <td>75%</td>\n",
       "      <td>40.99</td>\n",
       "      <td>25.50</td>\n",
       "      <td>173.02</td>\n",
       "      <td>14.43</td>\n",
       "      <td>170.29</td>\n",
       "      <td>170.67</td>\n",
       "      <td>170.39</td>\n",
       "      <td>169.36</td>\n",
       "      <td>165.20</td>\n",
       "      <td>12.30</td>\n",
       "      <td>105.67</td>\n",
       "      <td>67.89</td>\n",
       "      <td>59.74</td>\n",
       "    </tr>\n",
       "    <tr>\n",
       "      <td>max</td>\n",
       "      <td>52.73</td>\n",
       "      <td>29.72</td>\n",
       "      <td>184.35</td>\n",
       "      <td>15.10</td>\n",
       "      <td>182.30</td>\n",
       "      <td>177.28</td>\n",
       "      <td>187.30</td>\n",
       "      <td>176.02</td>\n",
       "      <td>173.64</td>\n",
       "      <td>12.73</td>\n",
       "      <td>283.00</td>\n",
       "      <td>72.99</td>\n",
       "      <td>290.24</td>\n",
       "    </tr>\n",
       "  </tbody>\n",
       "</table>\n",
       "</div>"
      ],
      "text/plain": [
       "       R141入口_新鮮苯流量  R141入口_DIPB流量  R141入口_溫度  R141入口_壓力  R141反應溫度_第一床  \\\n",
       "count      83027.00       83027.00   83027.00   83027.00      83027.00   \n",
       "mean          33.27          22.74     165.90      14.40        157.73   \n",
       "std           11.02           6.74      16.81       0.17         36.04   \n",
       "min            0.03           0.00     110.04       7.41         17.49   \n",
       "25%           31.12          24.17     168.78      14.39        165.67   \n",
       "50%           35.16          24.80     170.48      14.41        167.54   \n",
       "75%           40.99          25.50     173.02      14.43        170.29   \n",
       "max           52.73          29.72     184.35      15.10        182.30   \n",
       "\n",
       "       R141反應溫度_第二床  R141反應溫度_第三床  R141反應溫度_第四床  R141出口_溫度  R141出口_壓力  \\\n",
       "count      83027.00      83027.00      83027.00   83027.00   83027.00   \n",
       "mean         157.85        157.64        156.10     158.26      11.39   \n",
       "std           36.12         36.08         36.57      14.51       3.14   \n",
       "min           17.30         17.15          0.00      54.79       0.00   \n",
       "25%          165.36        164.99        163.45     159.22      12.30   \n",
       "50%          167.69        167.44        166.49     162.69      12.30   \n",
       "75%          170.67        170.39        169.36     165.20      12.30   \n",
       "max          177.28        187.30        176.02     173.64      12.73   \n",
       "\n",
       "       T121_EB含量  DIPB轉化率(檢測)  DIPB轉化率(計算)  \n",
       "count   83027.00       488.00     76553.00  \n",
       "mean       98.51        60.08        58.87  \n",
       "std        18.82        14.73         4.01  \n",
       "min         8.00       -44.02        -0.63  \n",
       "25%        84.00        59.10        57.34  \n",
       "50%        96.33        64.22        58.42  \n",
       "75%       105.67        67.89        59.74  \n",
       "max       283.00        72.99       290.24  "
      ]
     },
     "execution_count": 31,
     "metadata": {},
     "output_type": "execute_result"
    }
   ],
   "source": [
    "df.describe().apply(lambda x:round(x,2))"
   ]
  },
  {
   "cell_type": "markdown",
   "metadata": {},
   "source": [
    "# data filter"
   ]
  },
  {
   "cell_type": "code",
   "execution_count": 32,
   "metadata": {},
   "outputs": [],
   "source": [
    "def data_filter(df):\n",
    "    df = df.drop('DIPB轉化率(檢測)',axis=1)\n",
    "    df = df.dropna(subset=['DIPB轉化率(計算)'])\n",
    "    df = df[df['DIPB轉化率(計算)']>0]\n",
    "    return df"
   ]
  },
  {
   "cell_type": "code",
   "execution_count": 33,
   "metadata": {},
   "outputs": [
    {
     "name": "stdout",
     "output_type": "stream",
     "text": [
      "(83027, 13)\n",
      "(76552, 12)\n"
     ]
    }
   ],
   "source": [
    "print(df.shape)\n",
    "df = data_filter(df)\n",
    "print(df.shape)"
   ]
  },
  {
   "cell_type": "markdown",
   "metadata": {
    "colab_type": "text",
    "id": "Ht4lvN_Ow6dy"
   },
   "source": [
    "# EDA"
   ]
  },
  {
   "cell_type": "code",
   "execution_count": 34,
   "metadata": {
    "colab": {
     "base_uri": "https://localhost:8080/",
     "height": 283
    },
    "colab_type": "code",
    "id": "LYzSvvLYwUYB",
    "outputId": "06a2c7c5-c297-42a8-a3ef-546a68a900a2"
   },
   "outputs": [
    {
     "data": {
      "text/plain": [
       "<matplotlib.axes._subplots.AxesSubplot at 0x268f32bca08>"
      ]
     },
     "execution_count": 34,
     "metadata": {},
     "output_type": "execute_result"
    },
    {
     "data": {
      "image/png": "[encoded data removed]",
      "text/plain": [
       "<Figure size 432x288 with 1 Axes>"
      ]
     },
     "metadata": {
      "needs_background": "light"
     },
     "output_type": "display_data"
    }
   ],
   "source": [
    "import seaborn as sns\n",
    "\n",
    "sns.distplot(df['DIPB轉化率(計算)'].dropna().values)"
   ]
  },
  {
   "cell_type": "code",
   "execution_count": 35,
   "metadata": {
    "colab": {
     "base_uri": "https://localhost:8080/",
     "height": 1000
    },
    "colab_type": "code",
    "id": "Zw7hUzXByPTK",
    "outputId": "85450d1b-5faf-45d5-feb6-be2dce131cd2"
   },
   "outputs": [
    {
     "name": "stdout",
     "output_type": "stream",
     "text": [
      "R141入口_DIPB流量\n"
     ]
    },
    {
     "data": {
      "image/png": "[encoded data removed]",
      "text/plain": [
       "<Figure size 432x288 with 1 Axes>"
      ]
     },
     "metadata": {
      "needs_background": "light"
     },
     "output_type": "display_data"
    },
    {
     "name": "stdout",
     "output_type": "stream",
     "text": [
      "R141入口_溫度\n"
     ]
    },
    {
     "data": {
      "image/png": "[encoded data removed]",
      "text/plain": [
       "<Figure size 432x288 with 1 Axes>"
      ]
     },
     "metadata": {
      "needs_background": "light"
     },
     "output_type": "display_data"
    },
    {
     "name": "stdout",
     "output_type": "stream",
     "text": [
      "R141入口_壓力\n"
     ]
    },
    {
     "data": {
      "image/png": "[encoded data removed]",
      "text/plain": [
       "<Figure size 432x288 with 1 Axes>"
      ]
     },
     "metadata": {
      "needs_background": "light"
     },
     "output_type": "display_data"
    },
    {
     "name": "stdout",
     "output_type": "stream",
     "text": [
      "R141反應溫度_第一床\n"
     ]
    },
    {
     "data": {
      "image/png": "[encoded data removed]",
      "text/plain": [
       "<Figure size 432x288 with 1 Axes>"
      ]
     },
     "metadata": {
      "needs_background": "light"
     },
     "output_type": "display_data"
    },
    {
     "name": "stdout",
     "output_type": "stream",
     "text": [
      "R141反應溫度_第二床\n"
     ]
    },
    {
     "data": {
      "image/png": "[encoded data removed]",
      "text/plain": [
       "<Figure size 432x288 with 1 Axes>"
      ]
     },
     "metadata": {
      "needs_background": "light"
     },
     "output_type": "display_data"
    },
    {
     "name": "stdout",
     "output_type": "stream",
     "text": [
      "R141反應溫度_第三床\n"
     ]
    },
    {
     "data": {
      "image/png": "[encoded data removed]",
      "text/plain": [
       "<Figure size 432x288 with 1 Axes>"
      ]
     },
     "metadata": {
      "needs_background": "light"
     },
     "output_type": "display_data"
    },
    {
     "name": "stdout",
     "output_type": "stream",
     "text": [
      "R141反應溫度_第四床\n"
     ]
    },
    {
     "data": {
      "image/png": "[encoded data removed]",
      "text/plain": [
       "<Figure size 432x288 with 1 Axes>"
      ]
     },
     "metadata": {
      "needs_background": "light"
     },
     "output_type": "display_data"
    },
    {
     "name": "stdout",
     "output_type": "stream",
     "text": [
      "R141出口_溫度\n"
     ]
    },
    {
     "data": {
      "image/png": "[encoded data removed]",
      "text/plain": [
       "<Figure size 432x288 with 1 Axes>"
      ]
     },
     "metadata": {
      "needs_background": "light"
     },
     "output_type": "display_data"
    },
    {
     "name": "stdout",
     "output_type": "stream",
     "text": [
      "R141出口_壓力\n"
     ]
    },
    {
     "data": {
      "image/png": "[encoded data removed]",
      "text/plain": [
       "<Figure size 432x288 with 1 Axes>"
      ]
     },
     "metadata": {
      "needs_background": "light"
     },
     "output_type": "display_data"
    },
    {
     "name": "stdout",
     "output_type": "stream",
     "text": [
      "T121_EB含量\n"
     ]
    },
    {
     "data": {
      "image/png": "[encoded data removed]",
      "text/plain": [
       "<Figure size 432x288 with 1 Axes>"
      ]
     },
     "metadata": {
      "needs_background": "light"
     },
     "output_type": "display_data"
    },
    {
     "name": "stdout",
     "output_type": "stream",
     "text": [
      "DIPB轉化率(計算)\n"
     ]
    },
    {
     "data": {
      "image/png": "[encoded data removed]",
      "text/plain": [
       "<Figure size 432x288 with 1 Axes>"
      ]
     },
     "metadata": {
      "needs_background": "light"
     },
     "output_type": "display_data"
    }
   ],
   "source": [
    "import matplotlib.pyplot as plt\n",
    "\n",
    "y_name = 'DIPB轉化率(計算)'\n",
    "for i in df.columns.tolist()[1:]:\n",
    "  print(i)\n",
    "  plt.scatter(df[i],df[y_name])\n",
    "  plt.show()"
   ]
  },
  {
   "cell_type": "code",
   "execution_count": 36,
   "metadata": {
    "colab": {
     "base_uri": "https://localhost:8080/",
     "height": 281
    },
    "colab_type": "code",
    "id": "gHJKjuCP0Cux",
    "outputId": "dbb7ce5a-f3af-4e9c-8815-55260a094f9e"
   },
   "outputs": [
    {
     "data": {
      "text/html": [
       "<style  type=\"text/css\" >\n",
       "    #T_ee7bf058_4be3_11ea_9e99_4c1d9674ede2row0_col0 {\n",
       "            background-color:  #023858;\n",
       "            color:  #f1f1f1;\n",
       "        }    #T_ee7bf058_4be3_11ea_9e99_4c1d9674ede2row0_col1 {\n",
       "            background-color:  #1278b4;\n",
       "            color:  #f1f1f1;\n",
       "        }    #T_ee7bf058_4be3_11ea_9e99_4c1d9674ede2row0_col2 {\n",
       "            background-color:  #2f8bbe;\n",
       "            color:  #000000;\n",
       "        }    #T_ee7bf058_4be3_11ea_9e99_4c1d9674ede2row0_col3 {\n",
       "            background-color:  #dad9ea;\n",
       "            color:  #000000;\n",
       "        }    #T_ee7bf058_4be3_11ea_9e99_4c1d9674ede2row0_col4 {\n",
       "            background-color:  #529bc7;\n",
       "            color:  #000000;\n",
       "        }    #T_ee7bf058_4be3_11ea_9e99_4c1d9674ede2row0_col5 {\n",
       "            background-color:  #4897c4;\n",
       "            color:  #000000;\n",
       "        }    #T_ee7bf058_4be3_11ea_9e99_4c1d9674ede2row0_col6 {\n",
       "            background-color:  #4295c3;\n",
       "            color:  #000000;\n",
       "        }    #T_ee7bf058_4be3_11ea_9e99_4c1d9674ede2row0_col7 {\n",
       "            background-color:  #2d8abd;\n",
       "            color:  #000000;\n",
       "        }    #T_ee7bf058_4be3_11ea_9e99_4c1d9674ede2row0_col8 {\n",
       "            background-color:  #056ba7;\n",
       "            color:  #f1f1f1;\n",
       "        }    #T_ee7bf058_4be3_11ea_9e99_4c1d9674ede2row0_col9 {\n",
       "            background-color:  #e7e3f0;\n",
       "            color:  #000000;\n",
       "        }    #T_ee7bf058_4be3_11ea_9e99_4c1d9674ede2row0_col10 {\n",
       "            background-color:  #fff7fb;\n",
       "            color:  #000000;\n",
       "        }    #T_ee7bf058_4be3_11ea_9e99_4c1d9674ede2row0_col11 {\n",
       "            background-color:  #fff7fb;\n",
       "            color:  #000000;\n",
       "        }    #T_ee7bf058_4be3_11ea_9e99_4c1d9674ede2row1_col0 {\n",
       "            background-color:  #0a73b2;\n",
       "            color:  #f1f1f1;\n",
       "        }    #T_ee7bf058_4be3_11ea_9e99_4c1d9674ede2row1_col1 {\n",
       "            background-color:  #023858;\n",
       "            color:  #f1f1f1;\n",
       "        }    #T_ee7bf058_4be3_11ea_9e99_4c1d9674ede2row1_col2 {\n",
       "            background-color:  #056ba9;\n",
       "            color:  #f1f1f1;\n",
       "        }    #T_ee7bf058_4be3_11ea_9e99_4c1d9674ede2row1_col3 {\n",
       "            background-color:  #adc1dd;\n",
       "            color:  #000000;\n",
       "        }    #T_ee7bf058_4be3_11ea_9e99_4c1d9674ede2row1_col4 {\n",
       "            background-color:  #0f76b3;\n",
       "            color:  #f1f1f1;\n",
       "        }    #T_ee7bf058_4be3_11ea_9e99_4c1d9674ede2row1_col5 {\n",
       "            background-color:  #1b7eb7;\n",
       "            color:  #000000;\n",
       "        }    #T_ee7bf058_4be3_11ea_9e99_4c1d9674ede2row1_col6 {\n",
       "            background-color:  #1e80b8;\n",
       "            color:  #000000;\n",
       "        }    #T_ee7bf058_4be3_11ea_9e99_4c1d9674ede2row1_col7 {\n",
       "            background-color:  #1278b4;\n",
       "            color:  #f1f1f1;\n",
       "        }    #T_ee7bf058_4be3_11ea_9e99_4c1d9674ede2row1_col8 {\n",
       "            background-color:  #0570b0;\n",
       "            color:  #f1f1f1;\n",
       "        }    #T_ee7bf058_4be3_11ea_9e99_4c1d9674ede2row1_col9 {\n",
       "            background-color:  #7bacd1;\n",
       "            color:  #000000;\n",
       "        }    #T_ee7bf058_4be3_11ea_9e99_4c1d9674ede2row1_col10 {\n",
       "            background-color:  #f1ebf5;\n",
       "            color:  #000000;\n",
       "        }    #T_ee7bf058_4be3_11ea_9e99_4c1d9674ede2row1_col11 {\n",
       "            background-color:  #f5eef6;\n",
       "            color:  #000000;\n",
       "        }    #T_ee7bf058_4be3_11ea_9e99_4c1d9674ede2row2_col0 {\n",
       "            background-color:  #1379b5;\n",
       "            color:  #f1f1f1;\n",
       "        }    #T_ee7bf058_4be3_11ea_9e99_4c1d9674ede2row2_col1 {\n",
       "            background-color:  #0567a1;\n",
       "            color:  #f1f1f1;\n",
       "        }    #T_ee7bf058_4be3_11ea_9e99_4c1d9674ede2row2_col2 {\n",
       "            background-color:  #023858;\n",
       "            color:  #f1f1f1;\n",
       "        }    #T_ee7bf058_4be3_11ea_9e99_4c1d9674ede2row2_col3 {\n",
       "            background-color:  #91b5d6;\n",
       "            color:  #000000;\n",
       "        }    #T_ee7bf058_4be3_11ea_9e99_4c1d9674ede2row2_col4 {\n",
       "            background-color:  #045a8d;\n",
       "            color:  #f1f1f1;\n",
       "        }    #T_ee7bf058_4be3_11ea_9e99_4c1d9674ede2row2_col5 {\n",
       "            background-color:  #0568a3;\n",
       "            color:  #f1f1f1;\n",
       "        }    #T_ee7bf058_4be3_11ea_9e99_4c1d9674ede2row2_col6 {\n",
       "            background-color:  #056dac;\n",
       "            color:  #f1f1f1;\n",
       "        }    #T_ee7bf058_4be3_11ea_9e99_4c1d9674ede2row2_col7 {\n",
       "            background-color:  #0d75b3;\n",
       "            color:  #f1f1f1;\n",
       "        }    #T_ee7bf058_4be3_11ea_9e99_4c1d9674ede2row2_col8 {\n",
       "            background-color:  #0a73b2;\n",
       "            color:  #f1f1f1;\n",
       "        }    #T_ee7bf058_4be3_11ea_9e99_4c1d9674ede2row2_col9 {\n",
       "            background-color:  #6fa7ce;\n",
       "            color:  #000000;\n",
       "        }    #T_ee7bf058_4be3_11ea_9e99_4c1d9674ede2row2_col10 {\n",
       "            background-color:  #d9d8ea;\n",
       "            color:  #000000;\n",
       "        }    #T_ee7bf058_4be3_11ea_9e99_4c1d9674ede2row2_col11 {\n",
       "            background-color:  #dcdaeb;\n",
       "            color:  #000000;\n",
       "        }    #T_ee7bf058_4be3_11ea_9e99_4c1d9674ede2row3_col0 {\n",
       "            background-color:  #94b6d7;\n",
       "            color:  #000000;\n",
       "        }    #T_ee7bf058_4be3_11ea_9e99_4c1d9674ede2row3_col1 {\n",
       "            background-color:  #78abd0;\n",
       "            color:  #000000;\n",
       "        }    #T_ee7bf058_4be3_11ea_9e99_4c1d9674ede2row3_col2 {\n",
       "            background-color:  #7dacd1;\n",
       "            color:  #000000;\n",
       "        }    #T_ee7bf058_4be3_11ea_9e99_4c1d9674ede2row3_col3 {\n",
       "            background-color:  #023858;\n",
       "            color:  #f1f1f1;\n",
       "        }    #T_ee7bf058_4be3_11ea_9e99_4c1d9674ede2row3_col4 {\n",
       "            background-color:  #a4bcda;\n",
       "            color:  #000000;\n",
       "        }    #T_ee7bf058_4be3_11ea_9e99_4c1d9674ede2row3_col5 {\n",
       "            background-color:  #bdc8e1;\n",
       "            color:  #000000;\n",
       "        }    #T_ee7bf058_4be3_11ea_9e99_4c1d9674ede2row3_col6 {\n",
       "            background-color:  #a8bedc;\n",
       "            color:  #000000;\n",
       "        }    #T_ee7bf058_4be3_11ea_9e99_4c1d9674ede2row3_col7 {\n",
       "            background-color:  #a4bcda;\n",
       "            color:  #000000;\n",
       "        }    #T_ee7bf058_4be3_11ea_9e99_4c1d9674ede2row3_col8 {\n",
       "            background-color:  #94b6d7;\n",
       "            color:  #000000;\n",
       "        }    #T_ee7bf058_4be3_11ea_9e99_4c1d9674ede2row3_col9 {\n",
       "            background-color:  #94b6d7;\n",
       "            color:  #000000;\n",
       "        }    #T_ee7bf058_4be3_11ea_9e99_4c1d9674ede2row3_col10 {\n",
       "            background-color:  #e9e5f1;\n",
       "            color:  #000000;\n",
       "        }    #T_ee7bf058_4be3_11ea_9e99_4c1d9674ede2row3_col11 {\n",
       "            background-color:  #a5bddb;\n",
       "            color:  #000000;\n",
       "        }    #T_ee7bf058_4be3_11ea_9e99_4c1d9674ede2row4_col0 {\n",
       "            background-color:  #2182b9;\n",
       "            color:  #000000;\n",
       "        }    #T_ee7bf058_4be3_11ea_9e99_4c1d9674ede2row4_col1 {\n",
       "            background-color:  #056ba7;\n",
       "            color:  #f1f1f1;\n",
       "        }    #T_ee7bf058_4be3_11ea_9e99_4c1d9674ede2row4_col2 {\n",
       "            background-color:  #04588a;\n",
       "            color:  #f1f1f1;\n",
       "        }    #T_ee7bf058_4be3_11ea_9e99_4c1d9674ede2row4_col3 {\n",
       "            background-color:  #a8bedc;\n",
       "            color:  #000000;\n",
       "        }    #T_ee7bf058_4be3_11ea_9e99_4c1d9674ede2row4_col4 {\n",
       "            background-color:  #023858;\n",
       "            color:  #f1f1f1;\n",
       "        }    #T_ee7bf058_4be3_11ea_9e99_4c1d9674ede2row4_col5 {\n",
       "            background-color:  #034f7d;\n",
       "            color:  #f1f1f1;\n",
       "        }    #T_ee7bf058_4be3_11ea_9e99_4c1d9674ede2row4_col6 {\n",
       "            background-color:  #046198;\n",
       "            color:  #f1f1f1;\n",
       "        }    #T_ee7bf058_4be3_11ea_9e99_4c1d9674ede2row4_col7 {\n",
       "            background-color:  #056ba9;\n",
       "            color:  #f1f1f1;\n",
       "        }    #T_ee7bf058_4be3_11ea_9e99_4c1d9674ede2row4_col8 {\n",
       "            background-color:  #056faf;\n",
       "            color:  #f1f1f1;\n",
       "        }    #T_ee7bf058_4be3_11ea_9e99_4c1d9674ede2row4_col9 {\n",
       "            background-color:  #4e9ac6;\n",
       "            color:  #000000;\n",
       "        }    #T_ee7bf058_4be3_11ea_9e99_4c1d9674ede2row4_col10 {\n",
       "            background-color:  #e1dfed;\n",
       "            color:  #000000;\n",
       "        }    #T_ee7bf058_4be3_11ea_9e99_4c1d9674ede2row4_col11 {\n",
       "            background-color:  #ced0e6;\n",
       "            color:  #000000;\n",
       "        }    #T_ee7bf058_4be3_11ea_9e99_4c1d9674ede2row5_col0 {\n",
       "            background-color:  #167bb6;\n",
       "            color:  #000000;\n",
       "        }    #T_ee7bf058_4be3_11ea_9e99_4c1d9674ede2row5_col1 {\n",
       "            background-color:  #056dac;\n",
       "            color:  #f1f1f1;\n",
       "        }    #T_ee7bf058_4be3_11ea_9e99_4c1d9674ede2row5_col2 {\n",
       "            background-color:  #04649d;\n",
       "            color:  #f1f1f1;\n",
       "        }    #T_ee7bf058_4be3_11ea_9e99_4c1d9674ede2row5_col3 {\n",
       "            background-color:  #bbc7e0;\n",
       "            color:  #000000;\n",
       "        }    #T_ee7bf058_4be3_11ea_9e99_4c1d9674ede2row5_col4 {\n",
       "            background-color:  #034e7b;\n",
       "            color:  #f1f1f1;\n",
       "        }    #T_ee7bf058_4be3_11ea_9e99_4c1d9674ede2row5_col5 {\n",
       "            background-color:  #023858;\n",
       "            color:  #f1f1f1;\n",
       "        }    #T_ee7bf058_4be3_11ea_9e99_4c1d9674ede2row5_col6 {\n",
       "            background-color:  #03466e;\n",
       "            color:  #f1f1f1;\n",
       "        }    #T_ee7bf058_4be3_11ea_9e99_4c1d9674ede2row5_col7 {\n",
       "            background-color:  #045a8d;\n",
       "            color:  #f1f1f1;\n",
       "        }    #T_ee7bf058_4be3_11ea_9e99_4c1d9674ede2row5_col8 {\n",
       "            background-color:  #046299;\n",
       "            color:  #f1f1f1;\n",
       "        }    #T_ee7bf058_4be3_11ea_9e99_4c1d9674ede2row5_col9 {\n",
       "            background-color:  #3b92c1;\n",
       "            color:  #000000;\n",
       "        }    #T_ee7bf058_4be3_11ea_9e99_4c1d9674ede2row5_col10 {\n",
       "            background-color:  #e7e3f0;\n",
       "            color:  #000000;\n",
       "        }    #T_ee7bf058_4be3_11ea_9e99_4c1d9674ede2row5_col11 {\n",
       "            background-color:  #c1cae2;\n",
       "            color:  #000000;\n",
       "        }    #T_ee7bf058_4be3_11ea_9e99_4c1d9674ede2row6_col0 {\n",
       "            background-color:  #157ab5;\n",
       "            color:  #000000;\n",
       "        }    #T_ee7bf058_4be3_11ea_9e99_4c1d9674ede2row6_col1 {\n",
       "            background-color:  #056faf;\n",
       "            color:  #f1f1f1;\n",
       "        }    #T_ee7bf058_4be3_11ea_9e99_4c1d9674ede2row6_col2 {\n",
       "            background-color:  #056aa6;\n",
       "            color:  #f1f1f1;\n",
       "        }    #T_ee7bf058_4be3_11ea_9e99_4c1d9674ede2row6_col3 {\n",
       "            background-color:  #a9bfdc;\n",
       "            color:  #000000;\n",
       "        }    #T_ee7bf058_4be3_11ea_9e99_4c1d9674ede2row6_col4 {\n",
       "            background-color:  #046097;\n",
       "            color:  #f1f1f1;\n",
       "        }    #T_ee7bf058_4be3_11ea_9e99_4c1d9674ede2row6_col5 {\n",
       "            background-color:  #03466e;\n",
       "            color:  #f1f1f1;\n",
       "        }    #T_ee7bf058_4be3_11ea_9e99_4c1d9674ede2row6_col6 {\n",
       "            background-color:  #023858;\n",
       "            color:  #f1f1f1;\n",
       "        }    #T_ee7bf058_4be3_11ea_9e99_4c1d9674ede2row6_col7 {\n",
       "            background-color:  #034973;\n",
       "            color:  #f1f1f1;\n",
       "        }    #T_ee7bf058_4be3_11ea_9e99_4c1d9674ede2row6_col8 {\n",
       "            background-color:  #04588a;\n",
       "            color:  #f1f1f1;\n",
       "        }    #T_ee7bf058_4be3_11ea_9e99_4c1d9674ede2row6_col9 {\n",
       "            background-color:  #2c89bd;\n",
       "            color:  #000000;\n",
       "        }    #T_ee7bf058_4be3_11ea_9e99_4c1d9674ede2row6_col10 {\n",
       "            background-color:  #eae6f1;\n",
       "            color:  #000000;\n",
       "        }    #T_ee7bf058_4be3_11ea_9e99_4c1d9674ede2row6_col11 {\n",
       "            background-color:  #bdc8e1;\n",
       "            color:  #000000;\n",
       "        }    #T_ee7bf058_4be3_11ea_9e99_4c1d9674ede2row7_col0 {\n",
       "            background-color:  #0c74b2;\n",
       "            color:  #f1f1f1;\n",
       "        }    #T_ee7bf058_4be3_11ea_9e99_4c1d9674ede2row7_col1 {\n",
       "            background-color:  #056caa;\n",
       "            color:  #f1f1f1;\n",
       "        }    #T_ee7bf058_4be3_11ea_9e99_4c1d9674ede2row7_col2 {\n",
       "            background-color:  #0771b1;\n",
       "            color:  #f1f1f1;\n",
       "        }    #T_ee7bf058_4be3_11ea_9e99_4c1d9674ede2row7_col3 {\n",
       "            background-color:  #acc0dd;\n",
       "            color:  #000000;\n",
       "        }    #T_ee7bf058_4be3_11ea_9e99_4c1d9674ede2row7_col4 {\n",
       "            background-color:  #056caa;\n",
       "            color:  #f1f1f1;\n",
       "        }    #T_ee7bf058_4be3_11ea_9e99_4c1d9674ede2row7_col5 {\n",
       "            background-color:  #045b8f;\n",
       "            color:  #f1f1f1;\n",
       "        }    #T_ee7bf058_4be3_11ea_9e99_4c1d9674ede2row7_col6 {\n",
       "            background-color:  #034a74;\n",
       "            color:  #f1f1f1;\n",
       "        }    #T_ee7bf058_4be3_11ea_9e99_4c1d9674ede2row7_col7 {\n",
       "            background-color:  #023858;\n",
       "            color:  #f1f1f1;\n",
       "        }    #T_ee7bf058_4be3_11ea_9e99_4c1d9674ede2row7_col8 {\n",
       "            background-color:  #034871;\n",
       "            color:  #f1f1f1;\n",
       "        }    #T_ee7bf058_4be3_11ea_9e99_4c1d9674ede2row7_col9 {\n",
       "            background-color:  #308cbe;\n",
       "            color:  #000000;\n",
       "        }    #T_ee7bf058_4be3_11ea_9e99_4c1d9674ede2row7_col10 {\n",
       "            background-color:  #eee9f3;\n",
       "            color:  #000000;\n",
       "        }    #T_ee7bf058_4be3_11ea_9e99_4c1d9674ede2row7_col11 {\n",
       "            background-color:  #c8cde4;\n",
       "            color:  #000000;\n",
       "        }    #T_ee7bf058_4be3_11ea_9e99_4c1d9674ede2row8_col0 {\n",
       "            background-color:  #04649d;\n",
       "            color:  #f1f1f1;\n",
       "        }    #T_ee7bf058_4be3_11ea_9e99_4c1d9674ede2row8_col1 {\n",
       "            background-color:  #056ba7;\n",
       "            color:  #f1f1f1;\n",
       "        }    #T_ee7bf058_4be3_11ea_9e99_4c1d9674ede2row8_col2 {\n",
       "            background-color:  #0d75b3;\n",
       "            color:  #f1f1f1;\n",
       "        }    #T_ee7bf058_4be3_11ea_9e99_4c1d9674ede2row8_col3 {\n",
       "            background-color:  #b0c2de;\n",
       "            color:  #000000;\n",
       "        }    #T_ee7bf058_4be3_11ea_9e99_4c1d9674ede2row8_col4 {\n",
       "            background-color:  #0f76b3;\n",
       "            color:  #f1f1f1;\n",
       "        }    #T_ee7bf058_4be3_11ea_9e99_4c1d9674ede2row8_col5 {\n",
       "            background-color:  #0567a1;\n",
       "            color:  #f1f1f1;\n",
       "        }    #T_ee7bf058_4be3_11ea_9e99_4c1d9674ede2row8_col6 {\n",
       "            background-color:  #045b8e;\n",
       "            color:  #f1f1f1;\n",
       "        }    #T_ee7bf058_4be3_11ea_9e99_4c1d9674ede2row8_col7 {\n",
       "            background-color:  #034a74;\n",
       "            color:  #f1f1f1;\n",
       "        }    #T_ee7bf058_4be3_11ea_9e99_4c1d9674ede2row8_col8 {\n",
       "            background-color:  #023858;\n",
       "            color:  #f1f1f1;\n",
       "        }    #T_ee7bf058_4be3_11ea_9e99_4c1d9674ede2row8_col9 {\n",
       "            background-color:  #7eadd1;\n",
       "            color:  #000000;\n",
       "        }    #T_ee7bf058_4be3_11ea_9e99_4c1d9674ede2row8_col10 {\n",
       "            background-color:  #f0eaf4;\n",
       "            color:  #000000;\n",
       "        }    #T_ee7bf058_4be3_11ea_9e99_4c1d9674ede2row8_col11 {\n",
       "            background-color:  #e0deed;\n",
       "            color:  #000000;\n",
       "        }    #T_ee7bf058_4be3_11ea_9e99_4c1d9674ede2row9_col0 {\n",
       "            background-color:  #9ebad9;\n",
       "            color:  #000000;\n",
       "        }    #T_ee7bf058_4be3_11ea_9e99_4c1d9674ede2row9_col1 {\n",
       "            background-color:  #3f93c2;\n",
       "            color:  #000000;\n",
       "        }    #T_ee7bf058_4be3_11ea_9e99_4c1d9674ede2row9_col2 {\n",
       "            background-color:  #529bc7;\n",
       "            color:  #000000;\n",
       "        }    #T_ee7bf058_4be3_11ea_9e99_4c1d9674ede2row9_col3 {\n",
       "            background-color:  #8eb3d5;\n",
       "            color:  #000000;\n",
       "        }    #T_ee7bf058_4be3_11ea_9e99_4c1d9674ede2row9_col4 {\n",
       "            background-color:  #4295c3;\n",
       "            color:  #000000;\n",
       "        }    #T_ee7bf058_4be3_11ea_9e99_4c1d9674ede2row9_col5 {\n",
       "            background-color:  #3790c0;\n",
       "            color:  #000000;\n",
       "        }    #T_ee7bf058_4be3_11ea_9e99_4c1d9674ede2row9_col6 {\n",
       "            background-color:  #2786bb;\n",
       "            color:  #000000;\n",
       "        }    #T_ee7bf058_4be3_11ea_9e99_4c1d9674ede2row9_col7 {\n",
       "            background-color:  #2786bb;\n",
       "            color:  #000000;\n",
       "        }    #T_ee7bf058_4be3_11ea_9e99_4c1d9674ede2row9_col8 {\n",
       "            background-color:  #5c9fc9;\n",
       "            color:  #000000;\n",
       "        }    #T_ee7bf058_4be3_11ea_9e99_4c1d9674ede2row9_col9 {\n",
       "            background-color:  #023858;\n",
       "            color:  #f1f1f1;\n",
       "        }    #T_ee7bf058_4be3_11ea_9e99_4c1d9674ede2row9_col10 {\n",
       "            background-color:  #e3e0ee;\n",
       "            color:  #000000;\n",
       "        }    #T_ee7bf058_4be3_11ea_9e99_4c1d9674ede2row9_col11 {\n",
       "            background-color:  #4295c3;\n",
       "            color:  #000000;\n",
       "        }    #T_ee7bf058_4be3_11ea_9e99_4c1d9674ede2row10_col0 {\n",
       "            background-color:  #e7e3f0;\n",
       "            color:  #000000;\n",
       "        }    #T_ee7bf058_4be3_11ea_9e99_4c1d9674ede2row10_col1 {\n",
       "            background-color:  #e1dfed;\n",
       "            color:  #000000;\n",
       "        }    #T_ee7bf058_4be3_11ea_9e99_4c1d9674ede2row10_col2 {\n",
       "            background-color:  #e2dfee;\n",
       "            color:  #000000;\n",
       "        }    #T_ee7bf058_4be3_11ea_9e99_4c1d9674ede2row10_col3 {\n",
       "            background-color:  #fff7fb;\n",
       "            color:  #000000;\n",
       "        }    #T_ee7bf058_4be3_11ea_9e99_4c1d9674ede2row10_col4 {\n",
       "            background-color:  #f7f0f7;\n",
       "            color:  #000000;\n",
       "        }    #T_ee7bf058_4be3_11ea_9e99_4c1d9674ede2row10_col5 {\n",
       "            background-color:  #fff7fb;\n",
       "            color:  #000000;\n",
       "        }    #T_ee7bf058_4be3_11ea_9e99_4c1d9674ede2row10_col6 {\n",
       "            background-color:  #fff7fb;\n",
       "            color:  #000000;\n",
       "        }    #T_ee7bf058_4be3_11ea_9e99_4c1d9674ede2row10_col7 {\n",
       "            background-color:  #fff7fb;\n",
       "            color:  #000000;\n",
       "        }    #T_ee7bf058_4be3_11ea_9e99_4c1d9674ede2row10_col8 {\n",
       "            background-color:  #f4edf6;\n",
       "            color:  #000000;\n",
       "        }    #T_ee7bf058_4be3_11ea_9e99_4c1d9674ede2row10_col9 {\n",
       "            background-color:  #fff7fb;\n",
       "            color:  #000000;\n",
       "        }    #T_ee7bf058_4be3_11ea_9e99_4c1d9674ede2row10_col10 {\n",
       "            background-color:  #023858;\n",
       "            color:  #f1f1f1;\n",
       "        }    #T_ee7bf058_4be3_11ea_9e99_4c1d9674ede2row10_col11 {\n",
       "            background-color:  #9fbad9;\n",
       "            color:  #000000;\n",
       "        }    #T_ee7bf058_4be3_11ea_9e99_4c1d9674ede2row11_col0 {\n",
       "            background-color:  #fff7fb;\n",
       "            color:  #000000;\n",
       "        }    #T_ee7bf058_4be3_11ea_9e99_4c1d9674ede2row11_col1 {\n",
       "            background-color:  #fff7fb;\n",
       "            color:  #000000;\n",
       "        }    #T_ee7bf058_4be3_11ea_9e99_4c1d9674ede2row11_col2 {\n",
       "            background-color:  #fff7fb;\n",
       "            color:  #000000;\n",
       "        }    #T_ee7bf058_4be3_11ea_9e99_4c1d9674ede2row11_col3 {\n",
       "            background-color:  #e7e3f0;\n",
       "            color:  #000000;\n",
       "        }    #T_ee7bf058_4be3_11ea_9e99_4c1d9674ede2row11_col4 {\n",
       "            background-color:  #fff7fb;\n",
       "            color:  #000000;\n",
       "        }    #T_ee7bf058_4be3_11ea_9e99_4c1d9674ede2row11_col5 {\n",
       "            background-color:  #fdf5fa;\n",
       "            color:  #000000;\n",
       "        }    #T_ee7bf058_4be3_11ea_9e99_4c1d9674ede2row11_col6 {\n",
       "            background-color:  #f7f0f7;\n",
       "            color:  #000000;\n",
       "        }    #T_ee7bf058_4be3_11ea_9e99_4c1d9674ede2row11_col7 {\n",
       "            background-color:  #f9f2f8;\n",
       "            color:  #000000;\n",
       "        }    #T_ee7bf058_4be3_11ea_9e99_4c1d9674ede2row11_col8 {\n",
       "            background-color:  #fff7fb;\n",
       "            color:  #000000;\n",
       "        }    #T_ee7bf058_4be3_11ea_9e99_4c1d9674ede2row11_col9 {\n",
       "            background-color:  #8eb3d5;\n",
       "            color:  #000000;\n",
       "        }    #T_ee7bf058_4be3_11ea_9e99_4c1d9674ede2row11_col10 {\n",
       "            background-color:  #c5cce3;\n",
       "            color:  #000000;\n",
       "        }    #T_ee7bf058_4be3_11ea_9e99_4c1d9674ede2row11_col11 {\n",
       "            background-color:  #023858;\n",
       "            color:  #f1f1f1;\n",
       "        }</style><table id=\"T_ee7bf058_4be3_11ea_9e99_4c1d9674ede2\" ><thead>    <tr>        <th class=\"blank level0\" ></th>        <th class=\"col_heading level0 col0\" >R141入口_新鮮苯流量</th>        <th class=\"col_heading level0 col1\" >R141入口_DIPB流量</th>        <th class=\"col_heading level0 col2\" >R141入口_溫度</th>        <th class=\"col_heading level0 col3\" >R141入口_壓力</th>        <th class=\"col_heading level0 col4\" >R141反應溫度_第一床</th>        <th class=\"col_heading level0 col5\" >R141反應溫度_第二床</th>        <th class=\"col_heading level0 col6\" >R141反應溫度_第三床</th>        <th class=\"col_heading level0 col7\" >R141反應溫度_第四床</th>        <th class=\"col_heading level0 col8\" >R141出口_溫度</th>        <th class=\"col_heading level0 col9\" >R141出口_壓力</th>        <th class=\"col_heading level0 col10\" >T121_EB含量</th>        <th class=\"col_heading level0 col11\" >DIPB轉化率(計算)</th>    </tr></thead><tbody>\n",
       "                <tr>\n",
       "                        <th id=\"T_ee7bf058_4be3_11ea_9e99_4c1d9674ede2level0_row0\" class=\"row_heading level0 row0\" >R141入口_新鮮苯流量</th>\n",
       "                        <td id=\"T_ee7bf058_4be3_11ea_9e99_4c1d9674ede2row0_col0\" class=\"data row0 col0\" >1</td>\n",
       "                        <td id=\"T_ee7bf058_4be3_11ea_9e99_4c1d9674ede2row0_col1\" class=\"data row0 col1\" >0.603819</td>\n",
       "                        <td id=\"T_ee7bf058_4be3_11ea_9e99_4c1d9674ede2row0_col2\" class=\"data row0 col2\" >0.567095</td>\n",
       "                        <td id=\"T_ee7bf058_4be3_11ea_9e99_4c1d9674ede2row0_col3\" class=\"data row0 col3\" >0.127998</td>\n",
       "                        <td id=\"T_ee7bf058_4be3_11ea_9e99_4c1d9674ede2row0_col4\" class=\"data row0 col4\" >0.517316</td>\n",
       "                        <td id=\"T_ee7bf058_4be3_11ea_9e99_4c1d9674ede2row0_col5\" class=\"data row0 col5\" >0.554199</td>\n",
       "                        <td id=\"T_ee7bf058_4be3_11ea_9e99_4c1d9674ede2row0_col6\" class=\"data row0 col6\" >0.559799</td>\n",
       "                        <td id=\"T_ee7bf058_4be3_11ea_9e99_4c1d9674ede2row0_col7\" class=\"data row0 col7\" >0.597525</td>\n",
       "                        <td id=\"T_ee7bf058_4be3_11ea_9e99_4c1d9674ede2row0_col8\" class=\"data row0 col8\" >0.726376</td>\n",
       "                        <td id=\"T_ee7bf058_4be3_11ea_9e99_4c1d9674ede2row0_col9\" class=\"data row0 col9\" >0.0923441</td>\n",
       "                        <td id=\"T_ee7bf058_4be3_11ea_9e99_4c1d9674ede2row0_col10\" class=\"data row0 col10\" >-0.277022</td>\n",
       "                        <td id=\"T_ee7bf058_4be3_11ea_9e99_4c1d9674ede2row0_col11\" class=\"data row0 col11\" >-0.504919</td>\n",
       "            </tr>\n",
       "            <tr>\n",
       "                        <th id=\"T_ee7bf058_4be3_11ea_9e99_4c1d9674ede2level0_row1\" class=\"row_heading level0 row1\" >R141入口_DIPB流量</th>\n",
       "                        <td id=\"T_ee7bf058_4be3_11ea_9e99_4c1d9674ede2row1_col0\" class=\"data row1 col0\" >0.603819</td>\n",
       "                        <td id=\"T_ee7bf058_4be3_11ea_9e99_4c1d9674ede2row1_col1\" class=\"data row1 col1\" >1</td>\n",
       "                        <td id=\"T_ee7bf058_4be3_11ea_9e99_4c1d9674ede2row1_col2\" class=\"data row1 col2\" >0.726661</td>\n",
       "                        <td id=\"T_ee7bf058_4be3_11ea_9e99_4c1d9674ede2row1_col3\" class=\"data row1 col3\" >0.288303</td>\n",
       "                        <td id=\"T_ee7bf058_4be3_11ea_9e99_4c1d9674ede2row1_col4\" class=\"data row1 col4\" >0.692129</td>\n",
       "                        <td id=\"T_ee7bf058_4be3_11ea_9e99_4c1d9674ede2row1_col5\" class=\"data row1 col5\" >0.668146</td>\n",
       "                        <td id=\"T_ee7bf058_4be3_11ea_9e99_4c1d9674ede2row1_col6\" class=\"data row1 col6\" >0.653712</td>\n",
       "                        <td id=\"T_ee7bf058_4be3_11ea_9e99_4c1d9674ede2row1_col7\" class=\"data row1 col7\" >0.678969</td>\n",
       "                        <td id=\"T_ee7bf058_4be3_11ea_9e99_4c1d9674ede2row1_col8\" class=\"data row1 col8\" >0.689968</td>\n",
       "                        <td id=\"T_ee7bf058_4be3_11ea_9e99_4c1d9674ede2row1_col9\" class=\"data row1 col9\" >0.449967</td>\n",
       "                        <td id=\"T_ee7bf058_4be3_11ea_9e99_4c1d9674ede2row1_col10\" class=\"data row1 col10\" >-0.157509</td>\n",
       "                        <td id=\"T_ee7bf058_4be3_11ea_9e99_4c1d9674ede2row1_col11\" class=\"data row1 col11\" >-0.399105</td>\n",
       "            </tr>\n",
       "            <tr>\n",
       "                        <th id=\"T_ee7bf058_4be3_11ea_9e99_4c1d9674ede2level0_row2\" class=\"row_heading level0 row2\" >R141入口_溫度</th>\n",
       "                        <td id=\"T_ee7bf058_4be3_11ea_9e99_4c1d9674ede2row2_col0\" class=\"data row2 col0\" >0.567095</td>\n",
       "                        <td id=\"T_ee7bf058_4be3_11ea_9e99_4c1d9674ede2row2_col1\" class=\"data row2 col1\" >0.726661</td>\n",
       "                        <td id=\"T_ee7bf058_4be3_11ea_9e99_4c1d9674ede2row2_col2\" class=\"data row2 col2\" >1</td>\n",
       "                        <td id=\"T_ee7bf058_4be3_11ea_9e99_4c1d9674ede2row2_col3\" class=\"data row2 col3\" >0.369997</td>\n",
       "                        <td id=\"T_ee7bf058_4be3_11ea_9e99_4c1d9674ede2row2_col4\" class=\"data row2 col4\" >0.856815</td>\n",
       "                        <td id=\"T_ee7bf058_4be3_11ea_9e99_4c1d9674ede2row2_col5\" class=\"data row2 col5\" >0.779642</td>\n",
       "                        <td id=\"T_ee7bf058_4be3_11ea_9e99_4c1d9674ede2row2_col6\" class=\"data row2 col6\" >0.73683</td>\n",
       "                        <td id=\"T_ee7bf058_4be3_11ea_9e99_4c1d9674ede2row2_col7\" class=\"data row2 col7\" >0.690906</td>\n",
       "                        <td id=\"T_ee7bf058_4be3_11ea_9e99_4c1d9674ede2row2_col8\" class=\"data row2 col8\" >0.671535</td>\n",
       "                        <td id=\"T_ee7bf058_4be3_11ea_9e99_4c1d9674ede2row2_col9\" class=\"data row2 col9\" >0.47829</td>\n",
       "                        <td id=\"T_ee7bf058_4be3_11ea_9e99_4c1d9674ede2row2_col10\" class=\"data row2 col10\" >-0.00378107</td>\n",
       "                        <td id=\"T_ee7bf058_4be3_11ea_9e99_4c1d9674ede2row2_col11\" class=\"data row2 col11\" >-0.208163</td>\n",
       "            </tr>\n",
       "            <tr>\n",
       "                        <th id=\"T_ee7bf058_4be3_11ea_9e99_4c1d9674ede2level0_row3\" class=\"row_heading level0 row3\" >R141入口_壓力</th>\n",
       "                        <td id=\"T_ee7bf058_4be3_11ea_9e99_4c1d9674ede2row3_col0\" class=\"data row3 col0\" >0.127998</td>\n",
       "                        <td id=\"T_ee7bf058_4be3_11ea_9e99_4c1d9674ede2row3_col1\" class=\"data row3 col1\" >0.288303</td>\n",
       "                        <td id=\"T_ee7bf058_4be3_11ea_9e99_4c1d9674ede2row3_col2\" class=\"data row3 col2\" >0.369997</td>\n",
       "                        <td id=\"T_ee7bf058_4be3_11ea_9e99_4c1d9674ede2row3_col3\" class=\"data row3 col3\" >1</td>\n",
       "                        <td id=\"T_ee7bf058_4be3_11ea_9e99_4c1d9674ede2row3_col4\" class=\"data row3 col4\" >0.305316</td>\n",
       "                        <td id=\"T_ee7bf058_4be3_11ea_9e99_4c1d9674ede2row3_col5\" class=\"data row3 col5\" >0.249331</td>\n",
       "                        <td id=\"T_ee7bf058_4be3_11ea_9e99_4c1d9674ede2row3_col6\" class=\"data row3 col6\" >0.301719</td>\n",
       "                        <td id=\"T_ee7bf058_4be3_11ea_9e99_4c1d9674ede2row3_col7\" class=\"data row3 col7\" >0.294633</td>\n",
       "                        <td id=\"T_ee7bf058_4be3_11ea_9e99_4c1d9674ede2row3_col8\" class=\"data row3 col8\" >0.282526</td>\n",
       "                        <td id=\"T_ee7bf058_4be3_11ea_9e99_4c1d9674ede2row3_col9\" class=\"data row3 col9\" >0.38137</td>\n",
       "                        <td id=\"T_ee7bf058_4be3_11ea_9e99_4c1d9674ede2row3_col10\" class=\"data row3 col10\" >-0.097959</td>\n",
       "                        <td id=\"T_ee7bf058_4be3_11ea_9e99_4c1d9674ede2row3_col11\" class=\"data row3 col11\" >0.0609584</td>\n",
       "            </tr>\n",
       "            <tr>\n",
       "                        <th id=\"T_ee7bf058_4be3_11ea_9e99_4c1d9674ede2level0_row4\" class=\"row_heading level0 row4\" >R141反應溫度_第一床</th>\n",
       "                        <td id=\"T_ee7bf058_4be3_11ea_9e99_4c1d9674ede2row4_col0\" class=\"data row4 col0\" >0.517316</td>\n",
       "                        <td id=\"T_ee7bf058_4be3_11ea_9e99_4c1d9674ede2row4_col1\" class=\"data row4 col1\" >0.692129</td>\n",
       "                        <td id=\"T_ee7bf058_4be3_11ea_9e99_4c1d9674ede2row4_col2\" class=\"data row4 col2\" >0.856815</td>\n",
       "                        <td id=\"T_ee7bf058_4be3_11ea_9e99_4c1d9674ede2row4_col3\" class=\"data row4 col3\" >0.305316</td>\n",
       "                        <td id=\"T_ee7bf058_4be3_11ea_9e99_4c1d9674ede2row4_col4\" class=\"data row4 col4\" >1</td>\n",
       "                        <td id=\"T_ee7bf058_4be3_11ea_9e99_4c1d9674ede2row4_col5\" class=\"data row4 col5\" >0.906674</td>\n",
       "                        <td id=\"T_ee7bf058_4be3_11ea_9e99_4c1d9674ede2row4_col6\" class=\"data row4 col6\" >0.817723</td>\n",
       "                        <td id=\"T_ee7bf058_4be3_11ea_9e99_4c1d9674ede2row4_col7\" class=\"data row4 col7\" >0.744544</td>\n",
       "                        <td id=\"T_ee7bf058_4be3_11ea_9e99_4c1d9674ede2row4_col8\" class=\"data row4 col8\" >0.69074</td>\n",
       "                        <td id=\"T_ee7bf058_4be3_11ea_9e99_4c1d9674ede2row4_col9\" class=\"data row4 col9\" >0.550517</td>\n",
       "                        <td id=\"T_ee7bf058_4be3_11ea_9e99_4c1d9674ede2row4_col10\" class=\"data row4 col10\" >-0.0563976</td>\n",
       "                        <td id=\"T_ee7bf058_4be3_11ea_9e99_4c1d9674ede2row4_col11\" class=\"data row4 col11\" >-0.120226</td>\n",
       "            </tr>\n",
       "            <tr>\n",
       "                        <th id=\"T_ee7bf058_4be3_11ea_9e99_4c1d9674ede2level0_row5\" class=\"row_heading level0 row5\" >R141反應溫度_第二床</th>\n",
       "                        <td id=\"T_ee7bf058_4be3_11ea_9e99_4c1d9674ede2row5_col0\" class=\"data row5 col0\" >0.554199</td>\n",
       "                        <td id=\"T_ee7bf058_4be3_11ea_9e99_4c1d9674ede2row5_col1\" class=\"data row5 col1\" >0.668146</td>\n",
       "                        <td id=\"T_ee7bf058_4be3_11ea_9e99_4c1d9674ede2row5_col2\" class=\"data row5 col2\" >0.779642</td>\n",
       "                        <td id=\"T_ee7bf058_4be3_11ea_9e99_4c1d9674ede2row5_col3\" class=\"data row5 col3\" >0.249331</td>\n",
       "                        <td id=\"T_ee7bf058_4be3_11ea_9e99_4c1d9674ede2row5_col4\" class=\"data row5 col4\" >0.906674</td>\n",
       "                        <td id=\"T_ee7bf058_4be3_11ea_9e99_4c1d9674ede2row5_col5\" class=\"data row5 col5\" >1</td>\n",
       "                        <td id=\"T_ee7bf058_4be3_11ea_9e99_4c1d9674ede2row5_col6\" class=\"data row5 col6\" >0.940852</td>\n",
       "                        <td id=\"T_ee7bf058_4be3_11ea_9e99_4c1d9674ede2row5_col7\" class=\"data row5 col7\" >0.855717</td>\n",
       "                        <td id=\"T_ee7bf058_4be3_11ea_9e99_4c1d9674ede2row5_col8\" class=\"data row5 col8\" >0.787578</td>\n",
       "                        <td id=\"T_ee7bf058_4be3_11ea_9e99_4c1d9674ede2row5_col9\" class=\"data row5 col9\" >0.590272</td>\n",
       "                        <td id=\"T_ee7bf058_4be3_11ea_9e99_4c1d9674ede2row5_col10\" class=\"data row5 col10\" >-0.0829499</td>\n",
       "                        <td id=\"T_ee7bf058_4be3_11ea_9e99_4c1d9674ede2row5_col11\" class=\"data row5 col11\" >-0.0633224</td>\n",
       "            </tr>\n",
       "            <tr>\n",
       "                        <th id=\"T_ee7bf058_4be3_11ea_9e99_4c1d9674ede2level0_row6\" class=\"row_heading level0 row6\" >R141反應溫度_第三床</th>\n",
       "                        <td id=\"T_ee7bf058_4be3_11ea_9e99_4c1d9674ede2row6_col0\" class=\"data row6 col0\" >0.559799</td>\n",
       "                        <td id=\"T_ee7bf058_4be3_11ea_9e99_4c1d9674ede2row6_col1\" class=\"data row6 col1\" >0.653712</td>\n",
       "                        <td id=\"T_ee7bf058_4be3_11ea_9e99_4c1d9674ede2row6_col2\" class=\"data row6 col2\" >0.73683</td>\n",
       "                        <td id=\"T_ee7bf058_4be3_11ea_9e99_4c1d9674ede2row6_col3\" class=\"data row6 col3\" >0.301719</td>\n",
       "                        <td id=\"T_ee7bf058_4be3_11ea_9e99_4c1d9674ede2row6_col4\" class=\"data row6 col4\" >0.817723</td>\n",
       "                        <td id=\"T_ee7bf058_4be3_11ea_9e99_4c1d9674ede2row6_col5\" class=\"data row6 col5\" >0.940852</td>\n",
       "                        <td id=\"T_ee7bf058_4be3_11ea_9e99_4c1d9674ede2row6_col6\" class=\"data row6 col6\" >1</td>\n",
       "                        <td id=\"T_ee7bf058_4be3_11ea_9e99_4c1d9674ede2row6_col7\" class=\"data row6 col7\" >0.9257</td>\n",
       "                        <td id=\"T_ee7bf058_4be3_11ea_9e99_4c1d9674ede2row6_col8\" class=\"data row6 col8\" >0.854251</td>\n",
       "                        <td id=\"T_ee7bf058_4be3_11ea_9e99_4c1d9674ede2row6_col9\" class=\"data row6 col9\" >0.628129</td>\n",
       "                        <td id=\"T_ee7bf058_4be3_11ea_9e99_4c1d9674ede2row6_col10\" class=\"data row6 col10\" >-0.104563</td>\n",
       "                        <td id=\"T_ee7bf058_4be3_11ea_9e99_4c1d9674ede2row6_col11\" class=\"data row6 col11\" >-0.0412485</td>\n",
       "            </tr>\n",
       "            <tr>\n",
       "                        <th id=\"T_ee7bf058_4be3_11ea_9e99_4c1d9674ede2level0_row7\" class=\"row_heading level0 row7\" >R141反應溫度_第四床</th>\n",
       "                        <td id=\"T_ee7bf058_4be3_11ea_9e99_4c1d9674ede2row7_col0\" class=\"data row7 col0\" >0.597525</td>\n",
       "                        <td id=\"T_ee7bf058_4be3_11ea_9e99_4c1d9674ede2row7_col1\" class=\"data row7 col1\" >0.678969</td>\n",
       "                        <td id=\"T_ee7bf058_4be3_11ea_9e99_4c1d9674ede2row7_col2\" class=\"data row7 col2\" >0.690906</td>\n",
       "                        <td id=\"T_ee7bf058_4be3_11ea_9e99_4c1d9674ede2row7_col3\" class=\"data row7 col3\" >0.294633</td>\n",
       "                        <td id=\"T_ee7bf058_4be3_11ea_9e99_4c1d9674ede2row7_col4\" class=\"data row7 col4\" >0.744544</td>\n",
       "                        <td id=\"T_ee7bf058_4be3_11ea_9e99_4c1d9674ede2row7_col5\" class=\"data row7 col5\" >0.855717</td>\n",
       "                        <td id=\"T_ee7bf058_4be3_11ea_9e99_4c1d9674ede2row7_col6\" class=\"data row7 col6\" >0.9257</td>\n",
       "                        <td id=\"T_ee7bf058_4be3_11ea_9e99_4c1d9674ede2row7_col7\" class=\"data row7 col7\" >1</td>\n",
       "                        <td id=\"T_ee7bf058_4be3_11ea_9e99_4c1d9674ede2row7_col8\" class=\"data row7 col8\" >0.923933</td>\n",
       "                        <td id=\"T_ee7bf058_4be3_11ea_9e99_4c1d9674ede2row7_col9\" class=\"data row7 col9\" >0.615091</td>\n",
       "                        <td id=\"T_ee7bf058_4be3_11ea_9e99_4c1d9674ede2row7_col10\" class=\"data row7 col10\" >-0.136786</td>\n",
       "                        <td id=\"T_ee7bf058_4be3_11ea_9e99_4c1d9674ede2row7_col11\" class=\"data row7 col11\" >-0.0902988</td>\n",
       "            </tr>\n",
       "            <tr>\n",
       "                        <th id=\"T_ee7bf058_4be3_11ea_9e99_4c1d9674ede2level0_row8\" class=\"row_heading level0 row8\" >R141出口_溫度</th>\n",
       "                        <td id=\"T_ee7bf058_4be3_11ea_9e99_4c1d9674ede2row8_col0\" class=\"data row8 col0\" >0.726376</td>\n",
       "                        <td id=\"T_ee7bf058_4be3_11ea_9e99_4c1d9674ede2row8_col1\" class=\"data row8 col1\" >0.689968</td>\n",
       "                        <td id=\"T_ee7bf058_4be3_11ea_9e99_4c1d9674ede2row8_col2\" class=\"data row8 col2\" >0.671535</td>\n",
       "                        <td id=\"T_ee7bf058_4be3_11ea_9e99_4c1d9674ede2row8_col3\" class=\"data row8 col3\" >0.282526</td>\n",
       "                        <td id=\"T_ee7bf058_4be3_11ea_9e99_4c1d9674ede2row8_col4\" class=\"data row8 col4\" >0.69074</td>\n",
       "                        <td id=\"T_ee7bf058_4be3_11ea_9e99_4c1d9674ede2row8_col5\" class=\"data row8 col5\" >0.787578</td>\n",
       "                        <td id=\"T_ee7bf058_4be3_11ea_9e99_4c1d9674ede2row8_col6\" class=\"data row8 col6\" >0.854251</td>\n",
       "                        <td id=\"T_ee7bf058_4be3_11ea_9e99_4c1d9674ede2row8_col7\" class=\"data row8 col7\" >0.923933</td>\n",
       "                        <td id=\"T_ee7bf058_4be3_11ea_9e99_4c1d9674ede2row8_col8\" class=\"data row8 col8\" >1</td>\n",
       "                        <td id=\"T_ee7bf058_4be3_11ea_9e99_4c1d9674ede2row8_col9\" class=\"data row8 col9\" >0.440246</td>\n",
       "                        <td id=\"T_ee7bf058_4be3_11ea_9e99_4c1d9674ede2row8_col10\" class=\"data row8 col10\" >-0.144497</td>\n",
       "                        <td id=\"T_ee7bf058_4be3_11ea_9e99_4c1d9674ede2row8_col11\" class=\"data row8 col11\" >-0.238562</td>\n",
       "            </tr>\n",
       "            <tr>\n",
       "                        <th id=\"T_ee7bf058_4be3_11ea_9e99_4c1d9674ede2level0_row9\" class=\"row_heading level0 row9\" >R141出口_壓力</th>\n",
       "                        <td id=\"T_ee7bf058_4be3_11ea_9e99_4c1d9674ede2row9_col0\" class=\"data row9 col0\" >0.0923441</td>\n",
       "                        <td id=\"T_ee7bf058_4be3_11ea_9e99_4c1d9674ede2row9_col1\" class=\"data row9 col1\" >0.449967</td>\n",
       "                        <td id=\"T_ee7bf058_4be3_11ea_9e99_4c1d9674ede2row9_col2\" class=\"data row9 col2\" >0.47829</td>\n",
       "                        <td id=\"T_ee7bf058_4be3_11ea_9e99_4c1d9674ede2row9_col3\" class=\"data row9 col3\" >0.38137</td>\n",
       "                        <td id=\"T_ee7bf058_4be3_11ea_9e99_4c1d9674ede2row9_col4\" class=\"data row9 col4\" >0.550517</td>\n",
       "                        <td id=\"T_ee7bf058_4be3_11ea_9e99_4c1d9674ede2row9_col5\" class=\"data row9 col5\" >0.590272</td>\n",
       "                        <td id=\"T_ee7bf058_4be3_11ea_9e99_4c1d9674ede2row9_col6\" class=\"data row9 col6\" >0.628129</td>\n",
       "                        <td id=\"T_ee7bf058_4be3_11ea_9e99_4c1d9674ede2row9_col7\" class=\"data row9 col7\" >0.615091</td>\n",
       "                        <td id=\"T_ee7bf058_4be3_11ea_9e99_4c1d9674ede2row9_col8\" class=\"data row9 col8\" >0.440246</td>\n",
       "                        <td id=\"T_ee7bf058_4be3_11ea_9e99_4c1d9674ede2row9_col9\" class=\"data row9 col9\" >1</td>\n",
       "                        <td id=\"T_ee7bf058_4be3_11ea_9e99_4c1d9674ede2row9_col10\" class=\"data row9 col10\" >-0.0648634</td>\n",
       "                        <td id=\"T_ee7bf058_4be3_11ea_9e99_4c1d9674ede2row9_col11\" class=\"data row9 col11\" >0.399439</td>\n",
       "            </tr>\n",
       "            <tr>\n",
       "                        <th id=\"T_ee7bf058_4be3_11ea_9e99_4c1d9674ede2level0_row10\" class=\"row_heading level0 row10\" >T121_EB含量</th>\n",
       "                        <td id=\"T_ee7bf058_4be3_11ea_9e99_4c1d9674ede2row10_col0\" class=\"data row10 col0\" >-0.277022</td>\n",
       "                        <td id=\"T_ee7bf058_4be3_11ea_9e99_4c1d9674ede2row10_col1\" class=\"data row10 col1\" >-0.157509</td>\n",
       "                        <td id=\"T_ee7bf058_4be3_11ea_9e99_4c1d9674ede2row10_col2\" class=\"data row10 col2\" >-0.00378107</td>\n",
       "                        <td id=\"T_ee7bf058_4be3_11ea_9e99_4c1d9674ede2row10_col3\" class=\"data row10 col3\" >-0.097959</td>\n",
       "                        <td id=\"T_ee7bf058_4be3_11ea_9e99_4c1d9674ede2row10_col4\" class=\"data row10 col4\" >-0.0563976</td>\n",
       "                        <td id=\"T_ee7bf058_4be3_11ea_9e99_4c1d9674ede2row10_col5\" class=\"data row10 col5\" >-0.0829499</td>\n",
       "                        <td id=\"T_ee7bf058_4be3_11ea_9e99_4c1d9674ede2row10_col6\" class=\"data row10 col6\" >-0.104563</td>\n",
       "                        <td id=\"T_ee7bf058_4be3_11ea_9e99_4c1d9674ede2row10_col7\" class=\"data row10 col7\" >-0.136786</td>\n",
       "                        <td id=\"T_ee7bf058_4be3_11ea_9e99_4c1d9674ede2row10_col8\" class=\"data row10 col8\" >-0.144497</td>\n",
       "                        <td id=\"T_ee7bf058_4be3_11ea_9e99_4c1d9674ede2row10_col9\" class=\"data row10 col9\" >-0.0648634</td>\n",
       "                        <td id=\"T_ee7bf058_4be3_11ea_9e99_4c1d9674ede2row10_col10\" class=\"data row10 col10\" >1</td>\n",
       "                        <td id=\"T_ee7bf058_4be3_11ea_9e99_4c1d9674ede2row10_col11\" class=\"data row10 col11\" >0.0853933</td>\n",
       "            </tr>\n",
       "            <tr>\n",
       "                        <th id=\"T_ee7bf058_4be3_11ea_9e99_4c1d9674ede2level0_row11\" class=\"row_heading level0 row11\" >DIPB轉化率(計算)</th>\n",
       "                        <td id=\"T_ee7bf058_4be3_11ea_9e99_4c1d9674ede2row11_col0\" class=\"data row11 col0\" >-0.504919</td>\n",
       "                        <td id=\"T_ee7bf058_4be3_11ea_9e99_4c1d9674ede2row11_col1\" class=\"data row11 col1\" >-0.399105</td>\n",
       "                        <td id=\"T_ee7bf058_4be3_11ea_9e99_4c1d9674ede2row11_col2\" class=\"data row11 col2\" >-0.208163</td>\n",
       "                        <td id=\"T_ee7bf058_4be3_11ea_9e99_4c1d9674ede2row11_col3\" class=\"data row11 col3\" >0.0609584</td>\n",
       "                        <td id=\"T_ee7bf058_4be3_11ea_9e99_4c1d9674ede2row11_col4\" class=\"data row11 col4\" >-0.120226</td>\n",
       "                        <td id=\"T_ee7bf058_4be3_11ea_9e99_4c1d9674ede2row11_col5\" class=\"data row11 col5\" >-0.0633224</td>\n",
       "                        <td id=\"T_ee7bf058_4be3_11ea_9e99_4c1d9674ede2row11_col6\" class=\"data row11 col6\" >-0.0412485</td>\n",
       "                        <td id=\"T_ee7bf058_4be3_11ea_9e99_4c1d9674ede2row11_col7\" class=\"data row11 col7\" >-0.0902988</td>\n",
       "                        <td id=\"T_ee7bf058_4be3_11ea_9e99_4c1d9674ede2row11_col8\" class=\"data row11 col8\" >-0.238562</td>\n",
       "                        <td id=\"T_ee7bf058_4be3_11ea_9e99_4c1d9674ede2row11_col9\" class=\"data row11 col9\" >0.399439</td>\n",
       "                        <td id=\"T_ee7bf058_4be3_11ea_9e99_4c1d9674ede2row11_col10\" class=\"data row11 col10\" >0.0853933</td>\n",
       "                        <td id=\"T_ee7bf058_4be3_11ea_9e99_4c1d9674ede2row11_col11\" class=\"data row11 col11\" >1</td>\n",
       "            </tr>\n",
       "    </tbody></table>"
      ],
      "text/plain": [
       "<pandas.io.formats.style.Styler at 0x268812b9288>"
      ]
     },
     "execution_count": 36,
     "metadata": {},
     "output_type": "execute_result"
    }
   ],
   "source": [
    "df.corr().style.background_gradient()"
   ]
  },
  {
   "cell_type": "markdown",
   "metadata": {
    "colab_type": "text",
    "id": "PndwIoyo3TMA"
   },
   "source": [
    "# features engineering"
   ]
  },
  {
   "cell_type": "code",
   "execution_count": 37,
   "metadata": {
    "colab": {},
    "colab_type": "code",
    "id": "Pkq3EExU44at"
   },
   "outputs": [],
   "source": [
    "pass"
   ]
  },
  {
   "cell_type": "markdown",
   "metadata": {
    "colab_type": "text",
    "id": "3PlJG6Vw4zMa"
   },
   "source": [
    "# feature select"
   ]
  },
  {
   "cell_type": "code",
   "execution_count": 38,
   "metadata": {
    "colab": {
     "base_uri": "https://localhost:8080/",
     "height": 36
    },
    "colab_type": "code",
    "id": "SNk7zPba2PYy",
    "outputId": "b515ae0b-1bd0-470f-a662-8c889a999724"
   },
   "outputs": [
    {
     "name": "stdout",
     "output_type": "stream",
     "text": [
      "(76552, 11) (76552,)\n"
     ]
    }
   ],
   "source": [
    "features = df.drop(['DIPB轉化率(計算)'],axis=1).columns.tolist()\n",
    "y_name = 'DIPB轉化率(計算)'\n",
    "\n",
    "df = df[features+[y_name]].dropna(subset=[y_name])\n",
    "\n",
    "X = df[features]\n",
    "y = df[y_name]\n",
    "\n",
    "print(X.shape,y.shape)"
   ]
  },
  {
   "cell_type": "markdown",
   "metadata": {
    "colab_type": "text",
    "id": "5j5oPa1241HP"
   },
   "source": [
    "# split"
   ]
  },
  {
   "cell_type": "code",
   "execution_count": 39,
   "metadata": {
    "colab": {},
    "colab_type": "code",
    "id": "mVM4hwRA41O3"
   },
   "outputs": [],
   "source": [
    "from sklearn.model_selection import train_test_split\n",
    "X_train, X_test, y_train, y_test = train_test_split(X, y, test_size=0.2, random_state=42)"
   ]
  },
  {
   "cell_type": "markdown",
   "metadata": {
    "colab_type": "text",
    "id": "lyR4cNuo3tiy"
   },
   "source": [
    "# model"
   ]
  },
  {
   "cell_type": "code",
   "execution_count": 40,
   "metadata": {
    "colab": {},
    "colab_type": "code",
    "id": "aJQ6fk9B3iqS"
   },
   "outputs": [],
   "source": [
    "from sklearn.pipeline import Pipeline\n",
    "from sklearn.preprocessing import StandardScaler\n",
    "from sklearn.svm import SVR\n",
    "from sklearn.linear_model import Ridge\n",
    "from xgboost import XGBRegressor\n",
    "\n",
    "model = Pipeline(steps=[\n",
    "                        ('scaler',StandardScaler()),\n",
    "                        ('reg',XGBRegressor(objective='reg:squarederror')),\n",
    "                        ])"
   ]
  },
  {
   "cell_type": "markdown",
   "metadata": {
    "colab_type": "text",
    "id": "G0O-ya3z5EZB"
   },
   "source": [
    "# train and predict"
   ]
  },
  {
   "cell_type": "code",
   "execution_count": 41,
   "metadata": {
    "colab": {},
    "colab_type": "code",
    "id": "Y90zYZje30fo"
   },
   "outputs": [],
   "source": [
    "model.fit(X_train,y_train)\n",
    "y_pred = model.predict(X_test)"
   ]
  },
  {
   "cell_type": "markdown",
   "metadata": {
    "colab_type": "text",
    "id": "siYi_par8U6t"
   },
   "source": [
    "# metric"
   ]
  },
  {
   "cell_type": "code",
   "execution_count": 42,
   "metadata": {},
   "outputs": [
    {
     "data": {
      "text/html": [
       "<style  type=\"text/css\" >\n",
       "    #T_00e20b34_4be4_11ea_bb88_4c1d9674ede2row0_col0 {\n",
       "            background-color:  #023858;\n",
       "            color:  #f1f1f1;\n",
       "        }    #T_00e20b34_4be4_11ea_bb88_4c1d9674ede2row1_col0 {\n",
       "            background-color:  #4a98c5;\n",
       "            color:  #000000;\n",
       "        }    #T_00e20b34_4be4_11ea_bb88_4c1d9674ede2row2_col0 {\n",
       "            background-color:  #d2d3e7;\n",
       "            color:  #000000;\n",
       "        }    #T_00e20b34_4be4_11ea_bb88_4c1d9674ede2row3_col0 {\n",
       "            background-color:  #dad9ea;\n",
       "            color:  #000000;\n",
       "        }    #T_00e20b34_4be4_11ea_bb88_4c1d9674ede2row4_col0 {\n",
       "            background-color:  #dfddec;\n",
       "            color:  #000000;\n",
       "        }    #T_00e20b34_4be4_11ea_bb88_4c1d9674ede2row5_col0 {\n",
       "            background-color:  #f1ebf4;\n",
       "            color:  #000000;\n",
       "        }    #T_00e20b34_4be4_11ea_bb88_4c1d9674ede2row6_col0 {\n",
       "            background-color:  #f5eef6;\n",
       "            color:  #000000;\n",
       "        }    #T_00e20b34_4be4_11ea_bb88_4c1d9674ede2row7_col0 {\n",
       "            background-color:  #f7f0f7;\n",
       "            color:  #000000;\n",
       "        }    #T_00e20b34_4be4_11ea_bb88_4c1d9674ede2row8_col0 {\n",
       "            background-color:  #f7f0f7;\n",
       "            color:  #000000;\n",
       "        }    #T_00e20b34_4be4_11ea_bb88_4c1d9674ede2row9_col0 {\n",
       "            background-color:  #faf2f8;\n",
       "            color:  #000000;\n",
       "        }    #T_00e20b34_4be4_11ea_bb88_4c1d9674ede2row10_col0 {\n",
       "            background-color:  #fff7fb;\n",
       "            color:  #000000;\n",
       "        }</style><table id=\"T_00e20b34_4be4_11ea_bb88_4c1d9674ede2\" ><thead>    <tr>        <th class=\"blank level0\" ></th>        <th class=\"col_heading level0 col0\" >imp</th>    </tr></thead><tbody>\n",
       "                <tr>\n",
       "                        <th id=\"T_00e20b34_4be4_11ea_bb88_4c1d9674ede2level0_row0\" class=\"row_heading level0 row0\" >R141出口_壓力</th>\n",
       "                        <td id=\"T_00e20b34_4be4_11ea_bb88_4c1d9674ede2row0_col0\" class=\"data row0 col0\" >0.363323</td>\n",
       "            </tr>\n",
       "            <tr>\n",
       "                        <th id=\"T_00e20b34_4be4_11ea_bb88_4c1d9674ede2level0_row1\" class=\"row_heading level0 row1\" >R141入口_新鮮苯流量</th>\n",
       "                        <td id=\"T_00e20b34_4be4_11ea_bb88_4c1d9674ede2row1_col0\" class=\"data row1 col0\" >0.216433</td>\n",
       "            </tr>\n",
       "            <tr>\n",
       "                        <th id=\"T_00e20b34_4be4_11ea_bb88_4c1d9674ede2level0_row2\" class=\"row_heading level0 row2\" >R141入口_壓力</th>\n",
       "                        <td id=\"T_00e20b34_4be4_11ea_bb88_4c1d9674ede2row2_col0\" class=\"data row2 col0\" >0.0941755</td>\n",
       "            </tr>\n",
       "            <tr>\n",
       "                        <th id=\"T_00e20b34_4be4_11ea_bb88_4c1d9674ede2level0_row3\" class=\"row_heading level0 row3\" >T121_EB含量</th>\n",
       "                        <td id=\"T_00e20b34_4be4_11ea_bb88_4c1d9674ede2row3_col0\" class=\"data row3 col0\" >0.0823782</td>\n",
       "            </tr>\n",
       "            <tr>\n",
       "                        <th id=\"T_00e20b34_4be4_11ea_bb88_4c1d9674ede2level0_row4\" class=\"row_heading level0 row4\" >R141入口_DIPB流量</th>\n",
       "                        <td id=\"T_00e20b34_4be4_11ea_bb88_4c1d9674ede2row4_col0\" class=\"data row4 col0\" >0.0759551</td>\n",
       "            </tr>\n",
       "            <tr>\n",
       "                        <th id=\"T_00e20b34_4be4_11ea_bb88_4c1d9674ede2level0_row5\" class=\"row_heading level0 row5\" >R141反應溫度_第二床</th>\n",
       "                        <td id=\"T_00e20b34_4be4_11ea_bb88_4c1d9674ede2row5_col0\" class=\"data row5 col0\" >0.0439353</td>\n",
       "            </tr>\n",
       "            <tr>\n",
       "                        <th id=\"T_00e20b34_4be4_11ea_bb88_4c1d9674ede2level0_row6\" class=\"row_heading level0 row6\" >R141反應溫度_第三床</th>\n",
       "                        <td id=\"T_00e20b34_4be4_11ea_bb88_4c1d9674ede2row6_col0\" class=\"data row6 col0\" >0.0342855</td>\n",
       "            </tr>\n",
       "            <tr>\n",
       "                        <th id=\"T_00e20b34_4be4_11ea_bb88_4c1d9674ede2level0_row7\" class=\"row_heading level0 row7\" >R141出口_溫度</th>\n",
       "                        <td id=\"T_00e20b34_4be4_11ea_bb88_4c1d9674ede2row7_col0\" class=\"data row7 col0\" >0.0288773</td>\n",
       "            </tr>\n",
       "            <tr>\n",
       "                        <th id=\"T_00e20b34_4be4_11ea_bb88_4c1d9674ede2level0_row8\" class=\"row_heading level0 row8\" >R141反應溫度_第一床</th>\n",
       "                        <td id=\"T_00e20b34_4be4_11ea_bb88_4c1d9674ede2row8_col0\" class=\"data row8 col0\" >0.0285207</td>\n",
       "            </tr>\n",
       "            <tr>\n",
       "                        <th id=\"T_00e20b34_4be4_11ea_bb88_4c1d9674ede2level0_row9\" class=\"row_heading level0 row9\" >R141入口_溫度</th>\n",
       "                        <td id=\"T_00e20b34_4be4_11ea_bb88_4c1d9674ede2row9_col0\" class=\"data row9 col0\" >0.0223097</td>\n",
       "            </tr>\n",
       "            <tr>\n",
       "                        <th id=\"T_00e20b34_4be4_11ea_bb88_4c1d9674ede2level0_row10\" class=\"row_heading level0 row10\" >R141反應溫度_第四床</th>\n",
       "                        <td id=\"T_00e20b34_4be4_11ea_bb88_4c1d9674ede2row10_col0\" class=\"data row10 col0\" >0.00980639</td>\n",
       "            </tr>\n",
       "    </tbody></table>"
      ],
      "text/plain": [
       "<pandas.io.formats.style.Styler at 0x268820d3688>"
      ]
     },
     "execution_count": 42,
     "metadata": {},
     "output_type": "execute_result"
    }
   ],
   "source": [
    "FIMP = pd.DataFrame(model['reg'].feature_importances_,index=X.columns,columns=['imp'])\n",
    "FIMP = FIMP.sort_values(by='imp',ascending=False)\n",
    "FIMP.style.background_gradient()"
   ]
  },
  {
   "cell_type": "code",
   "execution_count": 43,
   "metadata": {
    "colab": {},
    "colab_type": "code",
    "id": "I_Y76c707X4e"
   },
   "outputs": [],
   "source": [
    "y_pred = pd.Series(y_pred,index=y_test.index,name='y_pred')"
   ]
  },
  {
   "cell_type": "code",
   "execution_count": 44,
   "metadata": {
    "colab": {
     "base_uri": "https://localhost:8080/",
     "height": 342
    },
    "colab_type": "code",
    "id": "KiJR57ZO8XWI",
    "outputId": "50948b77-5b7c-4d40-df6d-f27a4ac432a6"
   },
   "outputs": [
    {
     "data": {
      "text/plain": [
       "Text(0.5, 1.0, 'Moving average 6*24(day)')"
      ]
     },
     "execution_count": 44,
     "metadata": {},
     "output_type": "execute_result"
    },
    {
     "data": {
      "image/png": "[encoded data removed]",
      "text/plain": [
       "<Figure size 1440x360 with 1 Axes>"
      ]
     },
     "metadata": {
      "needs_background": "light"
     },
     "output_type": "display_data"
    }
   ],
   "source": [
    "fig = plt.figure(figsize=(20,5))\n",
    "plt.plot(y_test.sort_index().rolling(6*24).mean(),label='y_test')\n",
    "plt.plot(y_pred.sort_index().rolling(6*24).mean(),label='y_pred')\n",
    "plt.ylim(50,70)\n",
    "plt.legend()\n",
    "plt.title('Moving average 6*24(day)')"
   ]
  },
  {
   "cell_type": "code",
   "execution_count": 45,
   "metadata": {
    "colab": {
     "base_uri": "https://localhost:8080/",
     "height": 517
    },
    "colab_type": "code",
    "id": "FsY8g-hk-OTj",
    "outputId": "96896243-1a92-48ec-8f6a-cf5675cf3dc9"
   },
   "outputs": [
    {
     "data": {
      "image/png": "[encoded data removed]",
      "text/plain": [
       "<Figure size 432x288 with 1 Axes>"
      ]
     },
     "metadata": {
      "needs_background": "light"
     },
     "output_type": "display_data"
    },
    {
     "data": {
      "image/png": "[encoded data removed]",
      "text/plain": [
       "<Figure size 432x288 with 1 Axes>"
      ]
     },
     "metadata": {
      "needs_background": "light"
     },
     "output_type": "display_data"
    },
    {
     "data": {
      "image/png": "[encoded data removed]",
      "text/plain": [
       "<Figure size 432x288 with 1 Axes>"
      ]
     },
     "metadata": {
      "needs_background": "light"
     },
     "output_type": "display_data"
    }
   ],
   "source": [
    "from scipy import stats\n",
    "\n",
    "residual = y_test - y_pred\n",
    "\n",
    "stats.probplot(residual, plot=plt)\n",
    "plt.title('residual')\n",
    "plt.show()\n",
    "\n",
    "sns.distplot(residual)\n",
    "plt.xlim(-10,10)\n",
    "plt.title('residual')\n",
    "plt.show()\n",
    "\n",
    "sns.regplot(y_pred,residual)\n",
    "plt.title('residual')\n",
    "plt.show()"
   ]
  },
  {
   "cell_type": "code",
   "execution_count": 46,
   "metadata": {
    "colab": {},
    "colab_type": "code",
    "id": "gnG4Acqd9UBj"
   },
   "outputs": [],
   "source": [
    "from sklearn.metrics import r2_score\n",
    "def mape(a, b): \n",
    "  mask = a != 0\n",
    "  return (np.fabs(a - b)/a)[mask].mean()"
   ]
  },
  {
   "cell_type": "code",
   "execution_count": 47,
   "metadata": {
    "colab": {
     "base_uri": "https://localhost:8080/",
     "height": 36
    },
    "colab_type": "code",
    "id": "WisCov5U9Y1R",
    "outputId": "e9ff62d1-3f46-4043-8f62-2f536c189872"
   },
   "outputs": [
    {
     "name": "stdout",
     "output_type": "stream",
     "text": [
      "R2: 0.88\n"
     ]
    }
   ],
   "source": [
    "print('R2:',round(r2_score(y_test,y_pred),2))"
   ]
  },
  {
   "cell_type": "code",
   "execution_count": 48,
   "metadata": {
    "colab": {
     "base_uri": "https://localhost:8080/",
     "height": 36
    },
    "colab_type": "code",
    "id": "T3i51SDa8jvn",
    "outputId": "b9c23660-ee33-4112-fed7-9d314e8de82c"
   },
   "outputs": [
    {
     "name": "stdout",
     "output_type": "stream",
     "text": [
      "mape 0.96 %\n"
     ]
    }
   ],
   "source": [
    "print('mape',round(mape(y_test,y_pred)*100,2),'%')"
   ]
  },
  {
   "cell_type": "code",
   "execution_count": null,
   "metadata": {
    "colab": {},
    "colab_type": "code",
    "id": "Hgl1xLdt9A4V"
   },
   "outputs": [],
   "source": []
  }
 ],
 "metadata": {
  "colab": {
   "collapsed_sections": [],
   "include_colab_link": true,
   "name": "Chemistry-2.ipynb",
   "provenance": []
  },
  "kernelspec": {
   "display_name": "Python 3",
   "language": "python",
   "name": "python3"
  },
  "language_info": {
   "codemirror_mode": {
    "name": "ipython",
    "version": 3
   },
   "file_extension": ".py",
   "mimetype": "text/x-python",
   "name": "python",
   "nbconvert_exporter": "python",
   "pygments_lexer": "ipython3",
   "version": "3.7.4"
  }
 },
 "nbformat": 4,
 "nbformat_minor": 1
}
