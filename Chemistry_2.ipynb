{
 "cells": [
  {
   "cell_type": "markdown",
   "metadata": {
    "colab_type": "text",
    "id": "view-in-github"
   },
   "source": [
    "<a href=\"https://colab.research.google.com/github/skywalker0803r/Chemistry-2/blob/master/Chemistry_2.ipynb\" target=\"_parent\"><img src=\"https://colab.research.google.com/assets/colab-badge.svg\" alt=\"Open In Colab\"/></a>"
   ]
  },
  {
   "cell_type": "code",
   "execution_count": 1,
   "metadata": {
    "colab": {},
    "colab_type": "code",
    "id": "pAjTgyB5qZPG"
   },
   "outputs": [],
   "source": [
    "import pandas as pd\n",
    "import numpy as np\n",
    "import matplotlib.pyplot as plt\n",
    "import seaborn as sns\n",
    "import warnings;warnings.simplefilter('ignore')"
   ]
  },
  {
   "cell_type": "code",
   "execution_count": 2,
   "metadata": {
    "colab": {
     "base_uri": "https://localhost:8080/",
     "height": 36
    },
    "colab_type": "code",
    "id": "i-9UVUBMqrhF",
    "outputId": "edbba9a6-1db4-4d86-ba39-4ea497ad939d"
   },
   "outputs": [
    {
     "data": {
      "text/plain": [
       "['.git',\n",
       " '.ipynb_checkpoints',\n",
       " 'Chemistry_2.html',\n",
       " 'Chemistry_2.ipynb',\n",
       " 'README.md',\n",
       " '操作與品管數據(20200102提供).xlsx']"
      ]
     },
     "execution_count": 2,
     "metadata": {},
     "output_type": "execute_result"
    }
   ],
   "source": [
    "import os\n",
    "os.listdir()"
   ]
  },
  {
   "cell_type": "markdown",
   "metadata": {
    "colab_type": "text",
    "id": "VQ7WWlyYtH_Z"
   },
   "source": [
    "# load raw data"
   ]
  },
  {
   "cell_type": "code",
   "execution_count": 3,
   "metadata": {
    "colab": {
     "base_uri": "https://localhost:8080/",
     "height": 283
    },
    "colab_type": "code",
    "id": "CnKgQLF7qe9k",
    "outputId": "b471cda3-e5c4-4a41-d7d1-501ed4194b40"
   },
   "outputs": [
    {
     "data": {
      "text/html": [
       "<div>\n",
       "<style scoped>\n",
       "    .dataframe tbody tr th:only-of-type {\n",
       "        vertical-align: middle;\n",
       "    }\n",
       "\n",
       "    .dataframe tbody tr th {\n",
       "        vertical-align: top;\n",
       "    }\n",
       "\n",
       "    .dataframe thead th {\n",
       "        text-align: right;\n",
       "    }\n",
       "</style>\n",
       "<table border=\"1\" class=\"dataframe\">\n",
       "  <thead>\n",
       "    <tr style=\"text-align: right;\">\n",
       "      <th></th>\n",
       "      <th>Unnamed: 0</th>\n",
       "      <th>R141入口</th>\n",
       "      <th>Unnamed: 2</th>\n",
       "      <th>Unnamed: 3</th>\n",
       "      <th>Unnamed: 4</th>\n",
       "      <th>R141反應溫度</th>\n",
       "      <th>Unnamed: 6</th>\n",
       "      <th>Unnamed: 7</th>\n",
       "      <th>Unnamed: 8</th>\n",
       "      <th>R141出口</th>\n",
       "      <th>Unnamed: 10</th>\n",
       "      <th>品管數據</th>\n",
       "      <th>Unnamed: 12</th>\n",
       "      <th>Unnamed: 13</th>\n",
       "    </tr>\n",
       "  </thead>\n",
       "  <tbody>\n",
       "    <tr>\n",
       "      <td>0</td>\n",
       "      <td>NaN</td>\n",
       "      <td>新鮮苯流量(M3/h)</td>\n",
       "      <td>DIPB流量(M3/h)</td>\n",
       "      <td>溫度(℃)</td>\n",
       "      <td>壓力(KGf/cm2 G)</td>\n",
       "      <td>第一床(℃)</td>\n",
       "      <td>第二床(℃)</td>\n",
       "      <td>第三床(℃)</td>\n",
       "      <td>第四床(℃)</td>\n",
       "      <td>溫度(℃)</td>\n",
       "      <td>壓力(KGf/cm2 G)</td>\n",
       "      <td>ppm</td>\n",
       "      <td>%</td>\n",
       "      <td>%</td>\n",
       "    </tr>\n",
       "    <tr>\n",
       "      <td>1</td>\n",
       "      <td>DATE</td>\n",
       "      <td>PHL-DCS-FIC1147_PV</td>\n",
       "      <td>PHL-DCS-FIC1149A_PV</td>\n",
       "      <td>PHL-DCS-TIC1163_PV</td>\n",
       "      <td>PHL-DCS-PI1162_PV</td>\n",
       "      <td>PHL-DCS-TI1166_PV</td>\n",
       "      <td>PHL-DCS-TI1167_PV</td>\n",
       "      <td>PHL-DCS-TI1168_PV</td>\n",
       "      <td>PHL-DCS-TI1169_PV</td>\n",
       "      <td>PHL-DCS-TI1170_PV</td>\n",
       "      <td>PHL-DCS-PIC1166_PV</td>\n",
       "      <td>T121 EB含量</td>\n",
       "      <td>DIPB轉化率(檢測)</td>\n",
       "      <td>DIPB轉化率(計算)</td>\n",
       "    </tr>\n",
       "    <tr>\n",
       "      <td>2</td>\n",
       "      <td>2013-08-20 10:10:00</td>\n",
       "      <td>31.212</td>\n",
       "      <td>24.9928</td>\n",
       "      <td>169.894</td>\n",
       "      <td>[-11059] No Good Data For Calculation</td>\n",
       "      <td>167.057</td>\n",
       "      <td>166.569</td>\n",
       "      <td>166.279</td>\n",
       "      <td>165.041</td>\n",
       "      <td>[-11059] No Good Data For Calculation</td>\n",
       "      <td>12.297</td>\n",
       "      <td>NaN</td>\n",
       "      <td>NaN</td>\n",
       "      <td>58.7768</td>\n",
       "    </tr>\n",
       "    <tr>\n",
       "      <td>3</td>\n",
       "      <td>2013-08-20 10:20:00</td>\n",
       "      <td>31.2236</td>\n",
       "      <td>25.0668</td>\n",
       "      <td>169.753</td>\n",
       "      <td>[-11059] No Good Data For Calculation</td>\n",
       "      <td>167.051</td>\n",
       "      <td>166.576</td>\n",
       "      <td>166.26</td>\n",
       "      <td>164.97</td>\n",
       "      <td>[-11059] No Good Data For Calculation</td>\n",
       "      <td>12.2914</td>\n",
       "      <td>NaN</td>\n",
       "      <td>NaN</td>\n",
       "      <td>58.8524</td>\n",
       "    </tr>\n",
       "    <tr>\n",
       "      <td>4</td>\n",
       "      <td>2013-08-20 10:30:00</td>\n",
       "      <td>31.5726</td>\n",
       "      <td>25.163</td>\n",
       "      <td>169.526</td>\n",
       "      <td>[-11059] No Good Data For Calculation</td>\n",
       "      <td>167.042</td>\n",
       "      <td>166.584</td>\n",
       "      <td>166.235</td>\n",
       "      <td>164.877</td>\n",
       "      <td>[-11059] No Good Data For Calculation</td>\n",
       "      <td>12.3175</td>\n",
       "      <td>NaN</td>\n",
       "      <td>NaN</td>\n",
       "      <td>59.1137</td>\n",
       "    </tr>\n",
       "  </tbody>\n",
       "</table>\n",
       "</div>"
      ],
      "text/plain": [
       "            Unnamed: 0              R141入口           Unnamed: 2  \\\n",
       "0                  NaN         新鮮苯流量(M3/h)         DIPB流量(M3/h)   \n",
       "1                 DATE  PHL-DCS-FIC1147_PV  PHL-DCS-FIC1149A_PV   \n",
       "2  2013-08-20 10:10:00              31.212              24.9928   \n",
       "3  2013-08-20 10:20:00             31.2236              25.0668   \n",
       "4  2013-08-20 10:30:00             31.5726               25.163   \n",
       "\n",
       "           Unnamed: 3                             Unnamed: 4  \\\n",
       "0               溫度(℃)                          壓力(KGf/cm2 G)   \n",
       "1  PHL-DCS-TIC1163_PV                      PHL-DCS-PI1162_PV   \n",
       "2             169.894  [-11059] No Good Data For Calculation   \n",
       "3             169.753  [-11059] No Good Data For Calculation   \n",
       "4             169.526  [-11059] No Good Data For Calculation   \n",
       "\n",
       "            R141反應溫度         Unnamed: 6         Unnamed: 7         Unnamed: 8  \\\n",
       "0             第一床(℃)             第二床(℃)             第三床(℃)             第四床(℃)   \n",
       "1  PHL-DCS-TI1166_PV  PHL-DCS-TI1167_PV  PHL-DCS-TI1168_PV  PHL-DCS-TI1169_PV   \n",
       "2            167.057            166.569            166.279            165.041   \n",
       "3            167.051            166.576             166.26             164.97   \n",
       "4            167.042            166.584            166.235            164.877   \n",
       "\n",
       "                                  R141出口         Unnamed: 10       品管數據  \\\n",
       "0                                  溫度(℃)       壓力(KGf/cm2 G)        ppm   \n",
       "1                      PHL-DCS-TI1170_PV  PHL-DCS-PIC1166_PV  T121 EB含量   \n",
       "2  [-11059] No Good Data For Calculation              12.297        NaN   \n",
       "3  [-11059] No Good Data For Calculation             12.2914        NaN   \n",
       "4  [-11059] No Good Data For Calculation             12.3175        NaN   \n",
       "\n",
       "   Unnamed: 12  Unnamed: 13  \n",
       "0            %            %  \n",
       "1  DIPB轉化率(檢測)  DIPB轉化率(計算)  \n",
       "2          NaN      58.7768  \n",
       "3          NaN      58.8524  \n",
       "4          NaN      59.1137  "
      ]
     },
     "execution_count": 3,
     "metadata": {},
     "output_type": "execute_result"
    }
   ],
   "source": [
    "df = pd.read_excel('./操作與品管數據(20200102提供).xlsx')\n",
    "df.head()"
   ]
  },
  {
   "cell_type": "markdown",
   "metadata": {
    "colab_type": "text",
    "id": "FiRp-lJStKGu"
   },
   "source": [
    "# table data"
   ]
  },
  {
   "cell_type": "code",
   "execution_count": 4,
   "metadata": {
    "colab": {
     "base_uri": "https://localhost:8080/",
     "height": 318
    },
    "colab_type": "code",
    "id": "GsL7_AIxq396",
    "outputId": "d65cb6d3-e764-4b91-b6de-06112e63d6c8"
   },
   "outputs": [
    {
     "name": "stdout",
     "output_type": "stream",
     "text": [
      "(83027, 13)\n"
     ]
    },
    {
     "data": {
      "text/html": [
       "<div>\n",
       "<style scoped>\n",
       "    .dataframe tbody tr th:only-of-type {\n",
       "        vertical-align: middle;\n",
       "    }\n",
       "\n",
       "    .dataframe tbody tr th {\n",
       "        vertical-align: top;\n",
       "    }\n",
       "\n",
       "    .dataframe thead th {\n",
       "        text-align: right;\n",
       "    }\n",
       "</style>\n",
       "<table border=\"1\" class=\"dataframe\">\n",
       "  <thead>\n",
       "    <tr style=\"text-align: right;\">\n",
       "      <th></th>\n",
       "      <th>R141入口_新鮮苯流量</th>\n",
       "      <th>R141入口_DIPB流量</th>\n",
       "      <th>R141入口_溫度</th>\n",
       "      <th>R141入口_壓力</th>\n",
       "      <th>R141反應溫度_第一床</th>\n",
       "      <th>R141反應溫度_第二床</th>\n",
       "      <th>R141反應溫度_第三床</th>\n",
       "      <th>R141反應溫度_第四床</th>\n",
       "      <th>R141出口_溫度</th>\n",
       "      <th>R141出口_壓力</th>\n",
       "      <th>T121_EB含量</th>\n",
       "      <th>DIPB轉化率(檢測)</th>\n",
       "      <th>DIPB轉化率(計算)</th>\n",
       "    </tr>\n",
       "    <tr>\n",
       "      <th>Date</th>\n",
       "      <th></th>\n",
       "      <th></th>\n",
       "      <th></th>\n",
       "      <th></th>\n",
       "      <th></th>\n",
       "      <th></th>\n",
       "      <th></th>\n",
       "      <th></th>\n",
       "      <th></th>\n",
       "      <th></th>\n",
       "      <th></th>\n",
       "      <th></th>\n",
       "      <th></th>\n",
       "    </tr>\n",
       "  </thead>\n",
       "  <tbody>\n",
       "    <tr>\n",
       "      <td>2013-08-20 10:10:00</td>\n",
       "      <td>31.212</td>\n",
       "      <td>24.9928</td>\n",
       "      <td>169.894</td>\n",
       "      <td>[-11059] No Good Data For Calculation</td>\n",
       "      <td>167.057</td>\n",
       "      <td>166.569</td>\n",
       "      <td>166.279</td>\n",
       "      <td>165.041</td>\n",
       "      <td>[-11059] No Good Data For Calculation</td>\n",
       "      <td>12.297</td>\n",
       "      <td>NaN</td>\n",
       "      <td>NaN</td>\n",
       "      <td>58.7768</td>\n",
       "    </tr>\n",
       "    <tr>\n",
       "      <td>2013-08-20 10:20:00</td>\n",
       "      <td>31.2236</td>\n",
       "      <td>25.0668</td>\n",
       "      <td>169.753</td>\n",
       "      <td>[-11059] No Good Data For Calculation</td>\n",
       "      <td>167.051</td>\n",
       "      <td>166.576</td>\n",
       "      <td>166.26</td>\n",
       "      <td>164.97</td>\n",
       "      <td>[-11059] No Good Data For Calculation</td>\n",
       "      <td>12.2914</td>\n",
       "      <td>NaN</td>\n",
       "      <td>NaN</td>\n",
       "      <td>58.8524</td>\n",
       "    </tr>\n",
       "    <tr>\n",
       "      <td>2013-08-20 10:30:00</td>\n",
       "      <td>31.5726</td>\n",
       "      <td>25.163</td>\n",
       "      <td>169.526</td>\n",
       "      <td>[-11059] No Good Data For Calculation</td>\n",
       "      <td>167.042</td>\n",
       "      <td>166.584</td>\n",
       "      <td>166.235</td>\n",
       "      <td>164.877</td>\n",
       "      <td>[-11059] No Good Data For Calculation</td>\n",
       "      <td>12.3175</td>\n",
       "      <td>NaN</td>\n",
       "      <td>NaN</td>\n",
       "      <td>59.1137</td>\n",
       "    </tr>\n",
       "    <tr>\n",
       "      <td>2013-08-20 10:40:00</td>\n",
       "      <td>31.8862</td>\n",
       "      <td>25.1367</td>\n",
       "      <td>169.317</td>\n",
       "      <td>[-11059] No Good Data For Calculation</td>\n",
       "      <td>167.034</td>\n",
       "      <td>166.592</td>\n",
       "      <td>166.21</td>\n",
       "      <td>164.784</td>\n",
       "      <td>[-11059] No Good Data For Calculation</td>\n",
       "      <td>12.3179</td>\n",
       "      <td>NaN</td>\n",
       "      <td>NaN</td>\n",
       "      <td>58.8904</td>\n",
       "    </tr>\n",
       "    <tr>\n",
       "      <td>2013-08-20 10:50:00</td>\n",
       "      <td>31.8554</td>\n",
       "      <td>25.2207</td>\n",
       "      <td>169.665</td>\n",
       "      <td>[-11059] No Good Data For Calculation</td>\n",
       "      <td>167.026</td>\n",
       "      <td>166.6</td>\n",
       "      <td>166.186</td>\n",
       "      <td>164.691</td>\n",
       "      <td>[-11059] No Good Data For Calculation</td>\n",
       "      <td>12.3155</td>\n",
       "      <td>NaN</td>\n",
       "      <td>NaN</td>\n",
       "      <td>58.7622</td>\n",
       "    </tr>\n",
       "  </tbody>\n",
       "</table>\n",
       "</div>"
      ],
      "text/plain": [
       "                    R141入口_新鮮苯流量 R141入口_DIPB流量 R141入口_溫度  \\\n",
       "Date                                                       \n",
       "2013-08-20 10:10:00       31.212       24.9928   169.894   \n",
       "2013-08-20 10:20:00      31.2236       25.0668   169.753   \n",
       "2013-08-20 10:30:00      31.5726        25.163   169.526   \n",
       "2013-08-20 10:40:00      31.8862       25.1367   169.317   \n",
       "2013-08-20 10:50:00      31.8554       25.2207   169.665   \n",
       "\n",
       "                                                 R141入口_壓力 R141反應溫度_第一床  \\\n",
       "Date                                                                      \n",
       "2013-08-20 10:10:00  [-11059] No Good Data For Calculation      167.057   \n",
       "2013-08-20 10:20:00  [-11059] No Good Data For Calculation      167.051   \n",
       "2013-08-20 10:30:00  [-11059] No Good Data For Calculation      167.042   \n",
       "2013-08-20 10:40:00  [-11059] No Good Data For Calculation      167.034   \n",
       "2013-08-20 10:50:00  [-11059] No Good Data For Calculation      167.026   \n",
       "\n",
       "                    R141反應溫度_第二床 R141反應溫度_第三床 R141反應溫度_第四床  \\\n",
       "Date                                                         \n",
       "2013-08-20 10:10:00      166.569      166.279      165.041   \n",
       "2013-08-20 10:20:00      166.576       166.26       164.97   \n",
       "2013-08-20 10:30:00      166.584      166.235      164.877   \n",
       "2013-08-20 10:40:00      166.592       166.21      164.784   \n",
       "2013-08-20 10:50:00        166.6      166.186      164.691   \n",
       "\n",
       "                                                 R141出口_溫度 R141出口_壓力  \\\n",
       "Date                                                                   \n",
       "2013-08-20 10:10:00  [-11059] No Good Data For Calculation    12.297   \n",
       "2013-08-20 10:20:00  [-11059] No Good Data For Calculation   12.2914   \n",
       "2013-08-20 10:30:00  [-11059] No Good Data For Calculation   12.3175   \n",
       "2013-08-20 10:40:00  [-11059] No Good Data For Calculation   12.3179   \n",
       "2013-08-20 10:50:00  [-11059] No Good Data For Calculation   12.3155   \n",
       "\n",
       "                    T121_EB含量 DIPB轉化率(檢測) DIPB轉化率(計算)  \n",
       "Date                                                   \n",
       "2013-08-20 10:10:00       NaN         NaN     58.7768  \n",
       "2013-08-20 10:20:00       NaN         NaN     58.8524  \n",
       "2013-08-20 10:30:00       NaN         NaN     59.1137  \n",
       "2013-08-20 10:40:00       NaN         NaN     58.8904  \n",
       "2013-08-20 10:50:00       NaN         NaN     58.7622  "
      ]
     },
     "execution_count": 4,
     "metadata": {},
     "output_type": "execute_result"
    }
   ],
   "source": [
    "cols = ['Date','R141入口_新鮮苯流量','R141入口_DIPB流量','R141入口_溫度','R141入口_壓力',\n",
    "        'R141反應溫度_第一床','R141反應溫度_第二床','R141反應溫度_第三床','R141反應溫度_第四床',\n",
    "        'R141出口_溫度','R141出口_壓力','T121_EB含量','DIPB轉化率(檢測)','DIPB轉化率(計算)']\n",
    "values = df.iloc[2:,:]\n",
    "values\n",
    "new_df = pd.DataFrame(values.values,columns=cols)\n",
    "new_df = new_df.set_index('Date')\n",
    "print(new_df.shape)\n",
    "new_df.head()"
   ]
  },
  {
   "cell_type": "markdown",
   "metadata": {
    "colab_type": "text",
    "id": "eki5yjzctvJ9"
   },
   "source": [
    "# col transform"
   ]
  },
  {
   "cell_type": "code",
   "execution_count": 5,
   "metadata": {
    "colab": {},
    "colab_type": "code",
    "id": "OQ6YJ-DZub0f"
   },
   "outputs": [],
   "source": [
    "new_df = new_df.replace('[-11059] No Good Data For Calculation',np.nan)"
   ]
  },
  {
   "cell_type": "code",
   "execution_count": 6,
   "metadata": {
    "colab": {
     "base_uri": "https://localhost:8080/",
     "height": 298
    },
    "colab_type": "code",
    "id": "R6enhqwhrLZR",
    "outputId": "540c8f3b-1e5a-4880-b9e0-6c7591d6b408"
   },
   "outputs": [
    {
     "data": {
      "text/plain": [
       "R141入口_新鮮苯流量     float64\n",
       "R141入口_DIPB流量    float64\n",
       "R141入口_溫度        float64\n",
       "R141入口_壓力        float64\n",
       "R141反應溫度_第一床     float64\n",
       "R141反應溫度_第二床     float64\n",
       "R141反應溫度_第三床     float64\n",
       "R141反應溫度_第四床     float64\n",
       "R141出口_溫度        float64\n",
       "R141出口_壓力        float64\n",
       "T121_EB含量        float64\n",
       "DIPB轉化率(檢測)      float64\n",
       "DIPB轉化率(計算)      float64\n",
       "dtype: object"
      ]
     },
     "execution_count": 6,
     "metadata": {},
     "output_type": "execute_result"
    }
   ],
   "source": [
    "for i in new_df.columns.tolist()[1:]:\n",
    "  new_df[i] = pd.to_numeric(new_df[i])\n",
    "new_df.dtypes"
   ]
  },
  {
   "cell_type": "code",
   "execution_count": 7,
   "metadata": {},
   "outputs": [],
   "source": [
    "df = new_df\n",
    "del new_df"
   ]
  },
  {
   "cell_type": "markdown",
   "metadata": {
    "colab_type": "text",
    "id": "aLYCeyHTu8Jv"
   },
   "source": [
    "# miss value check"
   ]
  },
  {
   "cell_type": "code",
   "execution_count": 8,
   "metadata": {},
   "outputs": [
    {
     "data": {
      "text/plain": [
       "<matplotlib.axes._subplots.AxesSubplot at 0x2842adcb2c8>"
      ]
     },
     "execution_count": 8,
     "metadata": {},
     "output_type": "execute_result"
    },
    {
     "data": {
      "image/png": "[encoded data removed]",
      "text/plain": [
       "<Figure size 1440x360 with 1 Axes>"
      ]
     },
     "metadata": {
      "needs_background": "light"
     },
     "output_type": "display_data"
    }
   ],
   "source": [
    "fig = plt.figure(figsize=(20,5))\n",
    "sns.heatmap(df.isnull(),yticklabels=False,cbar=False,cmap='viridis')"
   ]
  },
  {
   "cell_type": "code",
   "execution_count": 9,
   "metadata": {},
   "outputs": [
    {
     "data": {
      "text/html": [
       "<div>\n",
       "<style scoped>\n",
       "    .dataframe tbody tr th:only-of-type {\n",
       "        vertical-align: middle;\n",
       "    }\n",
       "\n",
       "    .dataframe tbody tr th {\n",
       "        vertical-align: top;\n",
       "    }\n",
       "\n",
       "    .dataframe thead th {\n",
       "        text-align: right;\n",
       "    }\n",
       "</style>\n",
       "<table border=\"1\" class=\"dataframe\">\n",
       "  <thead>\n",
       "    <tr style=\"text-align: right;\">\n",
       "      <th></th>\n",
       "      <th>T121_EB含量</th>\n",
       "    </tr>\n",
       "    <tr>\n",
       "      <th>Date</th>\n",
       "      <th></th>\n",
       "    </tr>\n",
       "  </thead>\n",
       "  <tbody>\n",
       "    <tr>\n",
       "      <td>2013-08-20 16:00:00</td>\n",
       "      <td>112.0</td>\n",
       "    </tr>\n",
       "    <tr>\n",
       "      <td>2013-08-21 00:00:00</td>\n",
       "      <td>85.0</td>\n",
       "    </tr>\n",
       "    <tr>\n",
       "      <td>2013-08-21 08:00:00</td>\n",
       "      <td>109.0</td>\n",
       "    </tr>\n",
       "    <tr>\n",
       "      <td>2013-08-21 16:00:00</td>\n",
       "      <td>109.0</td>\n",
       "    </tr>\n",
       "    <tr>\n",
       "      <td>2013-08-22 00:00:00</td>\n",
       "      <td>102.0</td>\n",
       "    </tr>\n",
       "    <tr>\n",
       "      <td>...</td>\n",
       "      <td>...</td>\n",
       "    </tr>\n",
       "    <tr>\n",
       "      <td>2015-03-18 08:00:00</td>\n",
       "      <td>83.0</td>\n",
       "    </tr>\n",
       "    <tr>\n",
       "      <td>2015-03-18 16:00:00</td>\n",
       "      <td>84.0</td>\n",
       "    </tr>\n",
       "    <tr>\n",
       "      <td>2015-03-19 00:00:00</td>\n",
       "      <td>84.0</td>\n",
       "    </tr>\n",
       "    <tr>\n",
       "      <td>2015-03-19 08:00:00</td>\n",
       "      <td>83.0</td>\n",
       "    </tr>\n",
       "    <tr>\n",
       "      <td>2015-03-19 16:00:00</td>\n",
       "      <td>81.0</td>\n",
       "    </tr>\n",
       "  </tbody>\n",
       "</table>\n",
       "<p>1558 rows × 1 columns</p>\n",
       "</div>"
      ],
      "text/plain": [
       "                     T121_EB含量\n",
       "Date                          \n",
       "2013-08-20 16:00:00      112.0\n",
       "2013-08-21 00:00:00       85.0\n",
       "2013-08-21 08:00:00      109.0\n",
       "2013-08-21 16:00:00      109.0\n",
       "2013-08-22 00:00:00      102.0\n",
       "...                        ...\n",
       "2015-03-18 08:00:00       83.0\n",
       "2015-03-18 16:00:00       84.0\n",
       "2015-03-19 00:00:00       84.0\n",
       "2015-03-19 08:00:00       83.0\n",
       "2015-03-19 16:00:00       81.0\n",
       "\n",
       "[1558 rows x 1 columns]"
      ]
     },
     "execution_count": 9,
     "metadata": {},
     "output_type": "execute_result"
    }
   ],
   "source": [
    "df[df['T121_EB含量'].isnull()==False][['T121_EB含量']]"
   ]
  },
  {
   "cell_type": "code",
   "execution_count": 10,
   "metadata": {},
   "outputs": [
    {
     "data": {
      "text/html": [
       "<div>\n",
       "<style scoped>\n",
       "    .dataframe tbody tr th:only-of-type {\n",
       "        vertical-align: middle;\n",
       "    }\n",
       "\n",
       "    .dataframe tbody tr th {\n",
       "        vertical-align: top;\n",
       "    }\n",
       "\n",
       "    .dataframe thead th {\n",
       "        text-align: right;\n",
       "    }\n",
       "</style>\n",
       "<table border=\"1\" class=\"dataframe\">\n",
       "  <thead>\n",
       "    <tr style=\"text-align: right;\">\n",
       "      <th></th>\n",
       "      <th>total</th>\n",
       "      <th>%</th>\n",
       "    </tr>\n",
       "  </thead>\n",
       "  <tbody>\n",
       "    <tr>\n",
       "      <td>R141入口_新鮮苯流量</td>\n",
       "      <td>71</td>\n",
       "      <td>0.085514</td>\n",
       "    </tr>\n",
       "    <tr>\n",
       "      <td>R141入口_DIPB流量</td>\n",
       "      <td>71</td>\n",
       "      <td>0.085514</td>\n",
       "    </tr>\n",
       "    <tr>\n",
       "      <td>R141入口_溫度</td>\n",
       "      <td>71</td>\n",
       "      <td>0.085514</td>\n",
       "    </tr>\n",
       "    <tr>\n",
       "      <td>R141入口_壓力</td>\n",
       "      <td>47276</td>\n",
       "      <td>56.940513</td>\n",
       "    </tr>\n",
       "    <tr>\n",
       "      <td>R141反應溫度_第一床</td>\n",
       "      <td>71</td>\n",
       "      <td>0.085514</td>\n",
       "    </tr>\n",
       "    <tr>\n",
       "      <td>R141反應溫度_第二床</td>\n",
       "      <td>71</td>\n",
       "      <td>0.085514</td>\n",
       "    </tr>\n",
       "    <tr>\n",
       "      <td>R141反應溫度_第三床</td>\n",
       "      <td>71</td>\n",
       "      <td>0.085514</td>\n",
       "    </tr>\n",
       "    <tr>\n",
       "      <td>R141反應溫度_第四床</td>\n",
       "      <td>71</td>\n",
       "      <td>0.085514</td>\n",
       "    </tr>\n",
       "    <tr>\n",
       "      <td>R141出口_溫度</td>\n",
       "      <td>47275</td>\n",
       "      <td>56.939309</td>\n",
       "    </tr>\n",
       "    <tr>\n",
       "      <td>R141出口_壓力</td>\n",
       "      <td>71</td>\n",
       "      <td>0.085514</td>\n",
       "    </tr>\n",
       "    <tr>\n",
       "      <td>T121_EB含量</td>\n",
       "      <td>81469</td>\n",
       "      <td>98.123502</td>\n",
       "    </tr>\n",
       "    <tr>\n",
       "      <td>DIPB轉化率(檢測)</td>\n",
       "      <td>82539</td>\n",
       "      <td>99.412239</td>\n",
       "    </tr>\n",
       "    <tr>\n",
       "      <td>DIPB轉化率(計算)</td>\n",
       "      <td>6474</td>\n",
       "      <td>7.797463</td>\n",
       "    </tr>\n",
       "  </tbody>\n",
       "</table>\n",
       "</div>"
      ],
      "text/plain": [
       "               total          %\n",
       "R141入口_新鮮苯流量      71   0.085514\n",
       "R141入口_DIPB流量     71   0.085514\n",
       "R141入口_溫度         71   0.085514\n",
       "R141入口_壓力      47276  56.940513\n",
       "R141反應溫度_第一床      71   0.085514\n",
       "R141反應溫度_第二床      71   0.085514\n",
       "R141反應溫度_第三床      71   0.085514\n",
       "R141反應溫度_第四床      71   0.085514\n",
       "R141出口_溫度      47275  56.939309\n",
       "R141出口_壓力         71   0.085514\n",
       "T121_EB含量      81469  98.123502\n",
       "DIPB轉化率(檢測)    82539  99.412239\n",
       "DIPB轉化率(計算)     6474   7.797463"
      ]
     },
     "execution_count": 10,
     "metadata": {},
     "output_type": "execute_result"
    }
   ],
   "source": [
    "mt = pd.DataFrame(df.isnull().sum(),columns=['total'])\n",
    "mt['%'] = (mt['total']/len(df))*100\n",
    "mt"
   ]
  },
  {
   "cell_type": "markdown",
   "metadata": {},
   "source": [
    "# fill miss value"
   ]
  },
  {
   "cell_type": "code",
   "execution_count": 11,
   "metadata": {},
   "outputs": [
    {
     "data": {
      "text/plain": [
       "['R141入口_新鮮苯流量',\n",
       " 'R141入口_DIPB流量',\n",
       " 'R141入口_溫度',\n",
       " 'R141入口_壓力',\n",
       " 'R141反應溫度_第一床',\n",
       " 'R141反應溫度_第二床',\n",
       " 'R141反應溫度_第三床',\n",
       " 'R141反應溫度_第四床',\n",
       " 'R141出口_溫度',\n",
       " 'R141出口_壓力',\n",
       " 'T121_EB含量']"
      ]
     },
     "execution_count": 11,
     "metadata": {},
     "output_type": "execute_result"
    }
   ],
   "source": [
    "x_col = df.drop(['DIPB轉化率(檢測)','DIPB轉化率(計算)'],axis=1).columns.tolist()\n",
    "x_col"
   ]
  },
  {
   "cell_type": "code",
   "execution_count": 12,
   "metadata": {},
   "outputs": [
    {
     "data": {
      "application/vnd.jupyter.widget-view+json": {
       "model_id": "ea2f8e9f953545ae8bce27fb4b1686a6",
       "version_major": 2,
       "version_minor": 0
      },
      "text/plain": [
       "HBox(children=(IntProgress(value=0, max=9), HTML(value='')))"
      ]
     },
     "metadata": {},
     "output_type": "display_data"
    },
    {
     "name": "stdout",
     "output_type": "stream",
     "text": [
      "\n"
     ]
    }
   ],
   "source": [
    "from sklearn.impute import KNNImputer\n",
    "from sklearn.utils import shuffle\n",
    "from  tqdm import tqdm_notebook as tqdm\n",
    "\n",
    "df = shuffle(df)\n",
    "step = 10000\n",
    "\n",
    "for i in tqdm(range(0, len(df), step)):\n",
    "    start, end = i, min(i+step,len(df))\n",
    "    imputer = KNNImputer(n_neighbors = 3)\n",
    "    df.iloc[start:end][x_col] = imputer.fit_transform(df.iloc[start:end][x_col])\n",
    "\n",
    "df = df.sort_index()"
   ]
  },
  {
   "cell_type": "code",
   "execution_count": 13,
   "metadata": {},
   "outputs": [
    {
     "data": {
      "text/plain": [
       "<matplotlib.axes._subplots.AxesSubplot at 0x284271fc988>"
      ]
     },
     "execution_count": 13,
     "metadata": {},
     "output_type": "execute_result"
    },
    {
     "data": {
      "image/png": "[encoded data removed]",
      "text/plain": [
       "<Figure size 1440x360 with 1 Axes>"
      ]
     },
     "metadata": {
      "needs_background": "light"
     },
     "output_type": "display_data"
    }
   ],
   "source": [
    "fig = plt.figure(figsize=(20,5))\n",
    "sns.heatmap(df.isnull(),yticklabels=False,cbar=False,cmap='viridis')"
   ]
  },
  {
   "cell_type": "markdown",
   "metadata": {
    "colab_type": "text",
    "id": "_y8en6-BwQeP"
   },
   "source": [
    "# describe"
   ]
  },
  {
   "cell_type": "code",
   "execution_count": 14,
   "metadata": {
    "colab": {
     "base_uri": "https://localhost:8080/",
     "height": 311
    },
    "colab_type": "code",
    "id": "XLquxxYvvCq0",
    "outputId": "707f9151-4f63-42af-8923-25f9bf76e510"
   },
   "outputs": [
    {
     "data": {
      "text/html": [
       "<div>\n",
       "<style scoped>\n",
       "    .dataframe tbody tr th:only-of-type {\n",
       "        vertical-align: middle;\n",
       "    }\n",
       "\n",
       "    .dataframe tbody tr th {\n",
       "        vertical-align: top;\n",
       "    }\n",
       "\n",
       "    .dataframe thead th {\n",
       "        text-align: right;\n",
       "    }\n",
       "</style>\n",
       "<table border=\"1\" class=\"dataframe\">\n",
       "  <thead>\n",
       "    <tr style=\"text-align: right;\">\n",
       "      <th></th>\n",
       "      <th>R141入口_新鮮苯流量</th>\n",
       "      <th>R141入口_DIPB流量</th>\n",
       "      <th>R141入口_溫度</th>\n",
       "      <th>R141入口_壓力</th>\n",
       "      <th>R141反應溫度_第一床</th>\n",
       "      <th>R141反應溫度_第二床</th>\n",
       "      <th>R141反應溫度_第三床</th>\n",
       "      <th>R141反應溫度_第四床</th>\n",
       "      <th>R141出口_溫度</th>\n",
       "      <th>R141出口_壓力</th>\n",
       "      <th>T121_EB含量</th>\n",
       "      <th>DIPB轉化率(檢測)</th>\n",
       "      <th>DIPB轉化率(計算)</th>\n",
       "    </tr>\n",
       "  </thead>\n",
       "  <tbody>\n",
       "    <tr>\n",
       "      <td>count</td>\n",
       "      <td>83027.00</td>\n",
       "      <td>83027.00</td>\n",
       "      <td>83027.00</td>\n",
       "      <td>83027.00</td>\n",
       "      <td>83027.00</td>\n",
       "      <td>83027.00</td>\n",
       "      <td>83027.00</td>\n",
       "      <td>83027.00</td>\n",
       "      <td>83027.00</td>\n",
       "      <td>83027.00</td>\n",
       "      <td>83027.00</td>\n",
       "      <td>488.00</td>\n",
       "      <td>76553.00</td>\n",
       "    </tr>\n",
       "    <tr>\n",
       "      <td>mean</td>\n",
       "      <td>33.27</td>\n",
       "      <td>22.74</td>\n",
       "      <td>165.90</td>\n",
       "      <td>14.40</td>\n",
       "      <td>157.73</td>\n",
       "      <td>157.85</td>\n",
       "      <td>157.64</td>\n",
       "      <td>156.10</td>\n",
       "      <td>158.17</td>\n",
       "      <td>11.39</td>\n",
       "      <td>99.03</td>\n",
       "      <td>60.08</td>\n",
       "      <td>58.87</td>\n",
       "    </tr>\n",
       "    <tr>\n",
       "      <td>std</td>\n",
       "      <td>11.02</td>\n",
       "      <td>6.74</td>\n",
       "      <td>16.81</td>\n",
       "      <td>0.17</td>\n",
       "      <td>36.04</td>\n",
       "      <td>36.12</td>\n",
       "      <td>36.08</td>\n",
       "      <td>36.57</td>\n",
       "      <td>14.86</td>\n",
       "      <td>3.14</td>\n",
       "      <td>20.91</td>\n",
       "      <td>14.73</td>\n",
       "      <td>4.01</td>\n",
       "    </tr>\n",
       "    <tr>\n",
       "      <td>min</td>\n",
       "      <td>0.03</td>\n",
       "      <td>0.00</td>\n",
       "      <td>110.04</td>\n",
       "      <td>7.41</td>\n",
       "      <td>17.49</td>\n",
       "      <td>17.30</td>\n",
       "      <td>17.15</td>\n",
       "      <td>0.00</td>\n",
       "      <td>54.79</td>\n",
       "      <td>0.00</td>\n",
       "      <td>8.00</td>\n",
       "      <td>-44.02</td>\n",
       "      <td>-0.63</td>\n",
       "    </tr>\n",
       "    <tr>\n",
       "      <td>25%</td>\n",
       "      <td>31.12</td>\n",
       "      <td>24.17</td>\n",
       "      <td>168.78</td>\n",
       "      <td>14.39</td>\n",
       "      <td>165.67</td>\n",
       "      <td>165.36</td>\n",
       "      <td>164.99</td>\n",
       "      <td>163.45</td>\n",
       "      <td>159.33</td>\n",
       "      <td>12.30</td>\n",
       "      <td>83.33</td>\n",
       "      <td>59.10</td>\n",
       "      <td>57.34</td>\n",
       "    </tr>\n",
       "    <tr>\n",
       "      <td>50%</td>\n",
       "      <td>35.16</td>\n",
       "      <td>24.80</td>\n",
       "      <td>170.48</td>\n",
       "      <td>14.41</td>\n",
       "      <td>167.54</td>\n",
       "      <td>167.69</td>\n",
       "      <td>167.44</td>\n",
       "      <td>166.49</td>\n",
       "      <td>162.67</td>\n",
       "      <td>12.30</td>\n",
       "      <td>96.33</td>\n",
       "      <td>64.22</td>\n",
       "      <td>58.42</td>\n",
       "    </tr>\n",
       "    <tr>\n",
       "      <td>75%</td>\n",
       "      <td>40.99</td>\n",
       "      <td>25.50</td>\n",
       "      <td>173.02</td>\n",
       "      <td>14.43</td>\n",
       "      <td>170.29</td>\n",
       "      <td>170.67</td>\n",
       "      <td>170.39</td>\n",
       "      <td>169.36</td>\n",
       "      <td>165.20</td>\n",
       "      <td>12.30</td>\n",
       "      <td>105.67</td>\n",
       "      <td>67.89</td>\n",
       "      <td>59.74</td>\n",
       "    </tr>\n",
       "    <tr>\n",
       "      <td>max</td>\n",
       "      <td>52.73</td>\n",
       "      <td>29.72</td>\n",
       "      <td>184.35</td>\n",
       "      <td>15.10</td>\n",
       "      <td>182.30</td>\n",
       "      <td>177.28</td>\n",
       "      <td>187.30</td>\n",
       "      <td>176.02</td>\n",
       "      <td>173.64</td>\n",
       "      <td>12.73</td>\n",
       "      <td>283.00</td>\n",
       "      <td>72.99</td>\n",
       "      <td>290.24</td>\n",
       "    </tr>\n",
       "  </tbody>\n",
       "</table>\n",
       "</div>"
      ],
      "text/plain": [
       "       R141入口_新鮮苯流量  R141入口_DIPB流量  R141入口_溫度  R141入口_壓力  R141反應溫度_第一床  \\\n",
       "count      83027.00       83027.00   83027.00   83027.00      83027.00   \n",
       "mean          33.27          22.74     165.90      14.40        157.73   \n",
       "std           11.02           6.74      16.81       0.17         36.04   \n",
       "min            0.03           0.00     110.04       7.41         17.49   \n",
       "25%           31.12          24.17     168.78      14.39        165.67   \n",
       "50%           35.16          24.80     170.48      14.41        167.54   \n",
       "75%           40.99          25.50     173.02      14.43        170.29   \n",
       "max           52.73          29.72     184.35      15.10        182.30   \n",
       "\n",
       "       R141反應溫度_第二床  R141反應溫度_第三床  R141反應溫度_第四床  R141出口_溫度  R141出口_壓力  \\\n",
       "count      83027.00      83027.00      83027.00   83027.00   83027.00   \n",
       "mean         157.85        157.64        156.10     158.17      11.39   \n",
       "std           36.12         36.08         36.57      14.86       3.14   \n",
       "min           17.30         17.15          0.00      54.79       0.00   \n",
       "25%          165.36        164.99        163.45     159.33      12.30   \n",
       "50%          167.69        167.44        166.49     162.67      12.30   \n",
       "75%          170.67        170.39        169.36     165.20      12.30   \n",
       "max          177.28        187.30        176.02     173.64      12.73   \n",
       "\n",
       "       T121_EB含量  DIPB轉化率(檢測)  DIPB轉化率(計算)  \n",
       "count   83027.00       488.00     76553.00  \n",
       "mean       99.03        60.08        58.87  \n",
       "std        20.91        14.73         4.01  \n",
       "min         8.00       -44.02        -0.63  \n",
       "25%        83.33        59.10        57.34  \n",
       "50%        96.33        64.22        58.42  \n",
       "75%       105.67        67.89        59.74  \n",
       "max       283.00        72.99       290.24  "
      ]
     },
     "execution_count": 14,
     "metadata": {},
     "output_type": "execute_result"
    }
   ],
   "source": [
    "df.describe().apply(lambda x:round(x,2))"
   ]
  },
  {
   "cell_type": "markdown",
   "metadata": {
    "colab_type": "text",
    "id": "Ht4lvN_Ow6dy"
   },
   "source": [
    "# EDA"
   ]
  },
  {
   "cell_type": "code",
   "execution_count": 15,
   "metadata": {
    "colab": {
     "base_uri": "https://localhost:8080/",
     "height": 283
    },
    "colab_type": "code",
    "id": "LYzSvvLYwUYB",
    "outputId": "06a2c7c5-c297-42a8-a3ef-546a68a900a2"
   },
   "outputs": [
    {
     "data": {
      "text/plain": [
       "<matplotlib.axes._subplots.AxesSubplot at 0x28429576308>"
      ]
     },
     "execution_count": 15,
     "metadata": {},
     "output_type": "execute_result"
    },
    {
     "data": {
      "image/png": "[encoded data removed]",
      "text/plain": [
       "<Figure size 432x288 with 1 Axes>"
      ]
     },
     "metadata": {
      "needs_background": "light"
     },
     "output_type": "display_data"
    }
   ],
   "source": [
    "import seaborn as sns\n",
    "\n",
    "sns.distplot(df['DIPB轉化率(計算)'].dropna().values)"
   ]
  },
  {
   "cell_type": "code",
   "execution_count": 16,
   "metadata": {
    "colab": {
     "base_uri": "https://localhost:8080/",
     "height": 1000
    },
    "colab_type": "code",
    "id": "Zw7hUzXByPTK",
    "outputId": "85450d1b-5faf-45d5-feb6-be2dce131cd2"
   },
   "outputs": [
    {
     "name": "stdout",
     "output_type": "stream",
     "text": [
      "R141入口_DIPB流量\n"
     ]
    },
    {
     "data": {
      "image/png": "[encoded data removed]",
      "text/plain": [
       "<Figure size 432x288 with 1 Axes>"
      ]
     },
     "metadata": {
      "needs_background": "light"
     },
     "output_type": "display_data"
    },
    {
     "name": "stdout",
     "output_type": "stream",
     "text": [
      "R141入口_溫度\n"
     ]
    },
    {
     "data": {
      "image/png": "[encoded data removed]",
      "text/plain": [
       "<Figure size 432x288 with 1 Axes>"
      ]
     },
     "metadata": {
      "needs_background": "light"
     },
     "output_type": "display_data"
    },
    {
     "name": "stdout",
     "output_type": "stream",
     "text": [
      "R141入口_壓力\n"
     ]
    },
    {
     "data": {
      "image/png": "[encoded data removed]",
      "text/plain": [
       "<Figure size 432x288 with 1 Axes>"
      ]
     },
     "metadata": {
      "needs_background": "light"
     },
     "output_type": "display_data"
    },
    {
     "name": "stdout",
     "output_type": "stream",
     "text": [
      "R141反應溫度_第一床\n"
     ]
    },
    {
     "data": {
      "image/png": "[encoded data removed]",
      "text/plain": [
       "<Figure size 432x288 with 1 Axes>"
      ]
     },
     "metadata": {
      "needs_background": "light"
     },
     "output_type": "display_data"
    },
    {
     "name": "stdout",
     "output_type": "stream",
     "text": [
      "R141反應溫度_第二床\n"
     ]
    },
    {
     "data": {
      "image/png": "[encoded data removed]",
      "text/plain": [
       "<Figure size 432x288 with 1 Axes>"
      ]
     },
     "metadata": {
      "needs_background": "light"
     },
     "output_type": "display_data"
    },
    {
     "name": "stdout",
     "output_type": "stream",
     "text": [
      "R141反應溫度_第三床\n"
     ]
    },
    {
     "data": {
      "image/png": "[encoded data removed]",
      "text/plain": [
       "<Figure size 432x288 with 1 Axes>"
      ]
     },
     "metadata": {
      "needs_background": "light"
     },
     "output_type": "display_data"
    },
    {
     "name": "stdout",
     "output_type": "stream",
     "text": [
      "R141反應溫度_第四床\n"
     ]
    },
    {
     "data": {
      "image/png": "[encoded data removed]",
      "text/plain": [
       "<Figure size 432x288 with 1 Axes>"
      ]
     },
     "metadata": {
      "needs_background": "light"
     },
     "output_type": "display_data"
    },
    {
     "name": "stdout",
     "output_type": "stream",
     "text": [
      "R141出口_溫度\n"
     ]
    },
    {
     "data": {
      "image/png": "[encoded data removed]",
      "text/plain": [
       "<Figure size 432x288 with 1 Axes>"
      ]
     },
     "metadata": {
      "needs_background": "light"
     },
     "output_type": "display_data"
    },
    {
     "name": "stdout",
     "output_type": "stream",
     "text": [
      "R141出口_壓力\n"
     ]
    },
    {
     "data": {
      "image/png": "[encoded data removed]",
      "text/plain": [
       "<Figure size 432x288 with 1 Axes>"
      ]
     },
     "metadata": {
      "needs_background": "light"
     },
     "output_type": "display_data"
    },
    {
     "name": "stdout",
     "output_type": "stream",
     "text": [
      "T121_EB含量\n"
     ]
    },
    {
     "data": {
      "image/png": "[encoded data removed]",
      "text/plain": [
       "<Figure size 432x288 with 1 Axes>"
      ]
     },
     "metadata": {
      "needs_background": "light"
     },
     "output_type": "display_data"
    },
    {
     "name": "stdout",
     "output_type": "stream",
     "text": [
      "DIPB轉化率(檢測)\n"
     ]
    },
    {
     "data": {
      "image/png": "[encoded data removed]",
      "text/plain": [
       "<Figure size 432x288 with 1 Axes>"
      ]
     },
     "metadata": {
      "needs_background": "light"
     },
     "output_type": "display_data"
    },
    {
     "name": "stdout",
     "output_type": "stream",
     "text": [
      "DIPB轉化率(計算)\n"
     ]
    },
    {
     "data": {
      "image/png": "[encoded data removed]",
      "text/plain": [
       "<Figure size 432x288 with 1 Axes>"
      ]
     },
     "metadata": {
      "needs_background": "light"
     },
     "output_type": "display_data"
    }
   ],
   "source": [
    "import matplotlib.pyplot as plt\n",
    "\n",
    "y_name = 'DIPB轉化率(計算)'\n",
    "for i in df.columns.tolist()[1:]:\n",
    "  print(i)\n",
    "  plt.scatter(df[i],df[y_name])\n",
    "  plt.show()"
   ]
  },
  {
   "cell_type": "code",
   "execution_count": 17,
   "metadata": {
    "colab": {
     "base_uri": "https://localhost:8080/",
     "height": 281
    },
    "colab_type": "code",
    "id": "gHJKjuCP0Cux",
    "outputId": "dbb7ce5a-f3af-4e9c-8815-55260a094f9e"
   },
   "outputs": [
    {
     "data": {
      "text/html": [
       "<style  type=\"text/css\" >\n",
       "    #T_8463413a_4bba_11ea_970a_4c1d9674ede2row0_col0 {\n",
       "            background-color:  #023858;\n",
       "            color:  #f1f1f1;\n",
       "        }    #T_8463413a_4bba_11ea_970a_4c1d9674ede2row0_col1 {\n",
       "            background-color:  #034e7b;\n",
       "            color:  #f1f1f1;\n",
       "        }    #T_8463413a_4bba_11ea_970a_4c1d9674ede2row0_col2 {\n",
       "            background-color:  #034c78;\n",
       "            color:  #f1f1f1;\n",
       "        }    #T_8463413a_4bba_11ea_970a_4c1d9674ede2row0_col3 {\n",
       "            background-color:  #d8d7e9;\n",
       "            color:  #000000;\n",
       "        }    #T_8463413a_4bba_11ea_970a_4c1d9674ede2row0_col4 {\n",
       "            background-color:  #045788;\n",
       "            color:  #f1f1f1;\n",
       "        }    #T_8463413a_4bba_11ea_970a_4c1d9674ede2row0_col5 {\n",
       "            background-color:  #04588a;\n",
       "            color:  #f1f1f1;\n",
       "        }    #T_8463413a_4bba_11ea_970a_4c1d9674ede2row0_col6 {\n",
       "            background-color:  #04598c;\n",
       "            color:  #f1f1f1;\n",
       "        }    #T_8463413a_4bba_11ea_970a_4c1d9674ede2row0_col7 {\n",
       "            background-color:  #045483;\n",
       "            color:  #f1f1f1;\n",
       "        }    #T_8463413a_4bba_11ea_970a_4c1d9674ede2row0_col8 {\n",
       "            background-color:  #034a74;\n",
       "            color:  #f1f1f1;\n",
       "        }    #T_8463413a_4bba_11ea_970a_4c1d9674ede2row0_col9 {\n",
       "            background-color:  #04588a;\n",
       "            color:  #f1f1f1;\n",
       "        }    #T_8463413a_4bba_11ea_970a_4c1d9674ede2row0_col10 {\n",
       "            background-color:  #fff7fb;\n",
       "            color:  #000000;\n",
       "        }    #T_8463413a_4bba_11ea_970a_4c1d9674ede2row0_col11 {\n",
       "            background-color:  #e9e5f1;\n",
       "            color:  #000000;\n",
       "        }    #T_8463413a_4bba_11ea_970a_4c1d9674ede2row0_col12 {\n",
       "            background-color:  #fff7fb;\n",
       "            color:  #000000;\n",
       "        }    #T_8463413a_4bba_11ea_970a_4c1d9674ede2row1_col0 {\n",
       "            background-color:  #034c78;\n",
       "            color:  #f1f1f1;\n",
       "        }    #T_8463413a_4bba_11ea_970a_4c1d9674ede2row1_col1 {\n",
       "            background-color:  #023858;\n",
       "            color:  #f1f1f1;\n",
       "        }    #T_8463413a_4bba_11ea_970a_4c1d9674ede2row1_col2 {\n",
       "            background-color:  #03456c;\n",
       "            color:  #f1f1f1;\n",
       "        }    #T_8463413a_4bba_11ea_970a_4c1d9674ede2row1_col3 {\n",
       "            background-color:  #d2d2e7;\n",
       "            color:  #000000;\n",
       "        }    #T_8463413a_4bba_11ea_970a_4c1d9674ede2row1_col4 {\n",
       "            background-color:  #045280;\n",
       "            color:  #f1f1f1;\n",
       "        }    #T_8463413a_4bba_11ea_970a_4c1d9674ede2row1_col5 {\n",
       "            background-color:  #045382;\n",
       "            color:  #f1f1f1;\n",
       "        }    #T_8463413a_4bba_11ea_970a_4c1d9674ede2row1_col6 {\n",
       "            background-color:  #045585;\n",
       "            color:  #f1f1f1;\n",
       "        }    #T_8463413a_4bba_11ea_970a_4c1d9674ede2row1_col7 {\n",
       "            background-color:  #034f7d;\n",
       "            color:  #f1f1f1;\n",
       "        }    #T_8463413a_4bba_11ea_970a_4c1d9674ede2row1_col8 {\n",
       "            background-color:  #034b76;\n",
       "            color:  #f1f1f1;\n",
       "        }    #T_8463413a_4bba_11ea_970a_4c1d9674ede2row1_col9 {\n",
       "            background-color:  #03517e;\n",
       "            color:  #f1f1f1;\n",
       "        }    #T_8463413a_4bba_11ea_970a_4c1d9674ede2row1_col10 {\n",
       "            background-color:  #faf2f8;\n",
       "            color:  #000000;\n",
       "        }    #T_8463413a_4bba_11ea_970a_4c1d9674ede2row1_col11 {\n",
       "            background-color:  #c8cde4;\n",
       "            color:  #000000;\n",
       "        }    #T_8463413a_4bba_11ea_970a_4c1d9674ede2row1_col12 {\n",
       "            background-color:  #f4eef6;\n",
       "            color:  #000000;\n",
       "        }    #T_8463413a_4bba_11ea_970a_4c1d9674ede2row2_col0 {\n",
       "            background-color:  #034a74;\n",
       "            color:  #f1f1f1;\n",
       "        }    #T_8463413a_4bba_11ea_970a_4c1d9674ede2row2_col1 {\n",
       "            background-color:  #03446a;\n",
       "            color:  #f1f1f1;\n",
       "        }    #T_8463413a_4bba_11ea_970a_4c1d9674ede2row2_col2 {\n",
       "            background-color:  #023858;\n",
       "            color:  #f1f1f1;\n",
       "        }    #T_8463413a_4bba_11ea_970a_4c1d9674ede2row2_col3 {\n",
       "            background-color:  #d6d6e9;\n",
       "            color:  #000000;\n",
       "        }    #T_8463413a_4bba_11ea_970a_4c1d9674ede2row2_col4 {\n",
       "            background-color:  #03446a;\n",
       "            color:  #f1f1f1;\n",
       "        }    #T_8463413a_4bba_11ea_970a_4c1d9674ede2row2_col5 {\n",
       "            background-color:  #03466e;\n",
       "            color:  #f1f1f1;\n",
       "        }    #T_8463413a_4bba_11ea_970a_4c1d9674ede2row2_col6 {\n",
       "            background-color:  #034871;\n",
       "            color:  #f1f1f1;\n",
       "        }    #T_8463413a_4bba_11ea_970a_4c1d9674ede2row2_col7 {\n",
       "            background-color:  #03446a;\n",
       "            color:  #f1f1f1;\n",
       "        }    #T_8463413a_4bba_11ea_970a_4c1d9674ede2row2_col8 {\n",
       "            background-color:  #03466e;\n",
       "            color:  #f1f1f1;\n",
       "        }    #T_8463413a_4bba_11ea_970a_4c1d9674ede2row2_col9 {\n",
       "            background-color:  #034369;\n",
       "            color:  #f1f1f1;\n",
       "        }    #T_8463413a_4bba_11ea_970a_4c1d9674ede2row2_col10 {\n",
       "            background-color:  #f5eef6;\n",
       "            color:  #000000;\n",
       "        }    #T_8463413a_4bba_11ea_970a_4c1d9674ede2row2_col11 {\n",
       "            background-color:  #f8f1f8;\n",
       "            color:  #000000;\n",
       "        }    #T_8463413a_4bba_11ea_970a_4c1d9674ede2row2_col12 {\n",
       "            background-color:  #dcdaeb;\n",
       "            color:  #000000;\n",
       "        }    #T_8463413a_4bba_11ea_970a_4c1d9674ede2row3_col0 {\n",
       "            background-color:  #a8bedc;\n",
       "            color:  #000000;\n",
       "        }    #T_8463413a_4bba_11ea_970a_4c1d9674ede2row3_col1 {\n",
       "            background-color:  #b0c2de;\n",
       "            color:  #000000;\n",
       "        }    #T_8463413a_4bba_11ea_970a_4c1d9674ede2row3_col2 {\n",
       "            background-color:  #c6cce3;\n",
       "            color:  #000000;\n",
       "        }    #T_8463413a_4bba_11ea_970a_4c1d9674ede2row3_col3 {\n",
       "            background-color:  #023858;\n",
       "            color:  #f1f1f1;\n",
       "        }    #T_8463413a_4bba_11ea_970a_4c1d9674ede2row3_col4 {\n",
       "            background-color:  #e5e1ef;\n",
       "            color:  #000000;\n",
       "        }    #T_8463413a_4bba_11ea_970a_4c1d9674ede2row3_col5 {\n",
       "            background-color:  #e7e3f0;\n",
       "            color:  #000000;\n",
       "        }    #T_8463413a_4bba_11ea_970a_4c1d9674ede2row3_col6 {\n",
       "            background-color:  #e8e4f0;\n",
       "            color:  #000000;\n",
       "        }    #T_8463413a_4bba_11ea_970a_4c1d9674ede2row3_col7 {\n",
       "            background-color:  #e0dded;\n",
       "            color:  #000000;\n",
       "        }    #T_8463413a_4bba_11ea_970a_4c1d9674ede2row3_col8 {\n",
       "            background-color:  #c0c9e2;\n",
       "            color:  #000000;\n",
       "        }    #T_8463413a_4bba_11ea_970a_4c1d9674ede2row3_col9 {\n",
       "            background-color:  #d1d2e6;\n",
       "            color:  #000000;\n",
       "        }    #T_8463413a_4bba_11ea_970a_4c1d9674ede2row3_col10 {\n",
       "            background-color:  #d6d6e9;\n",
       "            color:  #000000;\n",
       "        }    #T_8463413a_4bba_11ea_970a_4c1d9674ede2row3_col11 {\n",
       "            background-color:  #fff7fb;\n",
       "            color:  #000000;\n",
       "        }    #T_8463413a_4bba_11ea_970a_4c1d9674ede2row3_col12 {\n",
       "            background-color:  #a9bfdc;\n",
       "            color:  #000000;\n",
       "        }    #T_8463413a_4bba_11ea_970a_4c1d9674ede2row4_col0 {\n",
       "            background-color:  #045382;\n",
       "            color:  #f1f1f1;\n",
       "        }    #T_8463413a_4bba_11ea_970a_4c1d9674ede2row4_col1 {\n",
       "            background-color:  #034f7d;\n",
       "            color:  #f1f1f1;\n",
       "        }    #T_8463413a_4bba_11ea_970a_4c1d9674ede2row4_col2 {\n",
       "            background-color:  #03446a;\n",
       "            color:  #f1f1f1;\n",
       "        }    #T_8463413a_4bba_11ea_970a_4c1d9674ede2row4_col3 {\n",
       "            background-color:  #f0eaf4;\n",
       "            color:  #000000;\n",
       "        }    #T_8463413a_4bba_11ea_970a_4c1d9674ede2row4_col4 {\n",
       "            background-color:  #023858;\n",
       "            color:  #f1f1f1;\n",
       "        }    #T_8463413a_4bba_11ea_970a_4c1d9674ede2row4_col5 {\n",
       "            background-color:  #02395a;\n",
       "            color:  #f1f1f1;\n",
       "        }    #T_8463413a_4bba_11ea_970a_4c1d9674ede2row4_col6 {\n",
       "            background-color:  #023b5d;\n",
       "            color:  #f1f1f1;\n",
       "        }    #T_8463413a_4bba_11ea_970a_4c1d9674ede2row4_col7 {\n",
       "            background-color:  #023c5f;\n",
       "            color:  #f1f1f1;\n",
       "        }    #T_8463413a_4bba_11ea_970a_4c1d9674ede2row4_col8 {\n",
       "            background-color:  #034871;\n",
       "            color:  #f1f1f1;\n",
       "        }    #T_8463413a_4bba_11ea_970a_4c1d9674ede2row4_col9 {\n",
       "            background-color:  #03446a;\n",
       "            color:  #f1f1f1;\n",
       "        }    #T_8463413a_4bba_11ea_970a_4c1d9674ede2row4_col10 {\n",
       "            background-color:  #f4eef6;\n",
       "            color:  #000000;\n",
       "        }    #T_8463413a_4bba_11ea_970a_4c1d9674ede2row4_col11 {\n",
       "            background-color:  #f5eef6;\n",
       "            color:  #000000;\n",
       "        }    #T_8463413a_4bba_11ea_970a_4c1d9674ede2row4_col12 {\n",
       "            background-color:  #ced0e6;\n",
       "            color:  #000000;\n",
       "        }    #T_8463413a_4bba_11ea_970a_4c1d9674ede2row5_col0 {\n",
       "            background-color:  #045382;\n",
       "            color:  #f1f1f1;\n",
       "        }    #T_8463413a_4bba_11ea_970a_4c1d9674ede2row5_col1 {\n",
       "            background-color:  #045280;\n",
       "            color:  #f1f1f1;\n",
       "        }    #T_8463413a_4bba_11ea_970a_4c1d9674ede2row5_col2 {\n",
       "            background-color:  #03466e;\n",
       "            color:  #f1f1f1;\n",
       "        }    #T_8463413a_4bba_11ea_970a_4c1d9674ede2row5_col3 {\n",
       "            background-color:  #f2ecf5;\n",
       "            color:  #000000;\n",
       "        }    #T_8463413a_4bba_11ea_970a_4c1d9674ede2row5_col4 {\n",
       "            background-color:  #02395a;\n",
       "            color:  #f1f1f1;\n",
       "        }    #T_8463413a_4bba_11ea_970a_4c1d9674ede2row5_col5 {\n",
       "            background-color:  #023858;\n",
       "            color:  #f1f1f1;\n",
       "        }    #T_8463413a_4bba_11ea_970a_4c1d9674ede2row5_col6 {\n",
       "            background-color:  #023858;\n",
       "            color:  #f1f1f1;\n",
       "        }    #T_8463413a_4bba_11ea_970a_4c1d9674ede2row5_col7 {\n",
       "            background-color:  #023a5b;\n",
       "            color:  #f1f1f1;\n",
       "        }    #T_8463413a_4bba_11ea_970a_4c1d9674ede2row5_col8 {\n",
       "            background-color:  #034871;\n",
       "            color:  #f1f1f1;\n",
       "        }    #T_8463413a_4bba_11ea_970a_4c1d9674ede2row5_col9 {\n",
       "            background-color:  #034369;\n",
       "            color:  #f1f1f1;\n",
       "        }    #T_8463413a_4bba_11ea_970a_4c1d9674ede2row5_col10 {\n",
       "            background-color:  #f5eef6;\n",
       "            color:  #000000;\n",
       "        }    #T_8463413a_4bba_11ea_970a_4c1d9674ede2row5_col11 {\n",
       "            background-color:  #f5eff6;\n",
       "            color:  #000000;\n",
       "        }    #T_8463413a_4bba_11ea_970a_4c1d9674ede2row5_col12 {\n",
       "            background-color:  #c1cae2;\n",
       "            color:  #000000;\n",
       "        }    #T_8463413a_4bba_11ea_970a_4c1d9674ede2row6_col0 {\n",
       "            background-color:  #045483;\n",
       "            color:  #f1f1f1;\n",
       "        }    #T_8463413a_4bba_11ea_970a_4c1d9674ede2row6_col1 {\n",
       "            background-color:  #045382;\n",
       "            color:  #f1f1f1;\n",
       "        }    #T_8463413a_4bba_11ea_970a_4c1d9674ede2row6_col2 {\n",
       "            background-color:  #034871;\n",
       "            color:  #f1f1f1;\n",
       "        }    #T_8463413a_4bba_11ea_970a_4c1d9674ede2row6_col3 {\n",
       "            background-color:  #f3edf5;\n",
       "            color:  #000000;\n",
       "        }    #T_8463413a_4bba_11ea_970a_4c1d9674ede2row6_col4 {\n",
       "            background-color:  #023b5d;\n",
       "            color:  #f1f1f1;\n",
       "        }    #T_8463413a_4bba_11ea_970a_4c1d9674ede2row6_col5 {\n",
       "            background-color:  #023858;\n",
       "            color:  #f1f1f1;\n",
       "        }    #T_8463413a_4bba_11ea_970a_4c1d9674ede2row6_col6 {\n",
       "            background-color:  #023858;\n",
       "            color:  #f1f1f1;\n",
       "        }    #T_8463413a_4bba_11ea_970a_4c1d9674ede2row6_col7 {\n",
       "            background-color:  #02395a;\n",
       "            color:  #f1f1f1;\n",
       "        }    #T_8463413a_4bba_11ea_970a_4c1d9674ede2row6_col8 {\n",
       "            background-color:  #034871;\n",
       "            color:  #f1f1f1;\n",
       "        }    #T_8463413a_4bba_11ea_970a_4c1d9674ede2row6_col9 {\n",
       "            background-color:  #03446a;\n",
       "            color:  #f1f1f1;\n",
       "        }    #T_8463413a_4bba_11ea_970a_4c1d9674ede2row6_col10 {\n",
       "            background-color:  #f5eef6;\n",
       "            color:  #000000;\n",
       "        }    #T_8463413a_4bba_11ea_970a_4c1d9674ede2row6_col11 {\n",
       "            background-color:  #f3edf5;\n",
       "            color:  #000000;\n",
       "        }    #T_8463413a_4bba_11ea_970a_4c1d9674ede2row6_col12 {\n",
       "            background-color:  #bcc7e1;\n",
       "            color:  #000000;\n",
       "        }    #T_8463413a_4bba_11ea_970a_4c1d9674ede2row7_col0 {\n",
       "            background-color:  #03517e;\n",
       "            color:  #f1f1f1;\n",
       "        }    #T_8463413a_4bba_11ea_970a_4c1d9674ede2row7_col1 {\n",
       "            background-color:  #034e7b;\n",
       "            color:  #f1f1f1;\n",
       "        }    #T_8463413a_4bba_11ea_970a_4c1d9674ede2row7_col2 {\n",
       "            background-color:  #03446a;\n",
       "            color:  #f1f1f1;\n",
       "        }    #T_8463413a_4bba_11ea_970a_4c1d9674ede2row7_col3 {\n",
       "            background-color:  #eee9f3;\n",
       "            color:  #000000;\n",
       "        }    #T_8463413a_4bba_11ea_970a_4c1d9674ede2row7_col4 {\n",
       "            background-color:  #023c5f;\n",
       "            color:  #f1f1f1;\n",
       "        }    #T_8463413a_4bba_11ea_970a_4c1d9674ede2row7_col5 {\n",
       "            background-color:  #023a5b;\n",
       "            color:  #f1f1f1;\n",
       "        }    #T_8463413a_4bba_11ea_970a_4c1d9674ede2row7_col6 {\n",
       "            background-color:  #02395a;\n",
       "            color:  #f1f1f1;\n",
       "        }    #T_8463413a_4bba_11ea_970a_4c1d9674ede2row7_col7 {\n",
       "            background-color:  #023858;\n",
       "            color:  #f1f1f1;\n",
       "        }    #T_8463413a_4bba_11ea_970a_4c1d9674ede2row7_col8 {\n",
       "            background-color:  #03446a;\n",
       "            color:  #f1f1f1;\n",
       "        }    #T_8463413a_4bba_11ea_970a_4c1d9674ede2row7_col9 {\n",
       "            background-color:  #023f64;\n",
       "            color:  #f1f1f1;\n",
       "        }    #T_8463413a_4bba_11ea_970a_4c1d9674ede2row7_col10 {\n",
       "            background-color:  #f7f0f7;\n",
       "            color:  #000000;\n",
       "        }    #T_8463413a_4bba_11ea_970a_4c1d9674ede2row7_col11 {\n",
       "            background-color:  #f1ebf4;\n",
       "            color:  #000000;\n",
       "        }    #T_8463413a_4bba_11ea_970a_4c1d9674ede2row7_col12 {\n",
       "            background-color:  #c8cde4;\n",
       "            color:  #000000;\n",
       "        }    #T_8463413a_4bba_11ea_970a_4c1d9674ede2row8_col0 {\n",
       "            background-color:  #034871;\n",
       "            color:  #f1f1f1;\n",
       "        }    #T_8463413a_4bba_11ea_970a_4c1d9674ede2row8_col1 {\n",
       "            background-color:  #034a74;\n",
       "            color:  #f1f1f1;\n",
       "        }    #T_8463413a_4bba_11ea_970a_4c1d9674ede2row8_col2 {\n",
       "            background-color:  #03476f;\n",
       "            color:  #f1f1f1;\n",
       "        }    #T_8463413a_4bba_11ea_970a_4c1d9674ede2row8_col3 {\n",
       "            background-color:  #d8d7e9;\n",
       "            color:  #000000;\n",
       "        }    #T_8463413a_4bba_11ea_970a_4c1d9674ede2row8_col4 {\n",
       "            background-color:  #034973;\n",
       "            color:  #f1f1f1;\n",
       "        }    #T_8463413a_4bba_11ea_970a_4c1d9674ede2row8_col5 {\n",
       "            background-color:  #034871;\n",
       "            color:  #f1f1f1;\n",
       "        }    #T_8463413a_4bba_11ea_970a_4c1d9674ede2row8_col6 {\n",
       "            background-color:  #034871;\n",
       "            color:  #f1f1f1;\n",
       "        }    #T_8463413a_4bba_11ea_970a_4c1d9674ede2row8_col7 {\n",
       "            background-color:  #03446a;\n",
       "            color:  #f1f1f1;\n",
       "        }    #T_8463413a_4bba_11ea_970a_4c1d9674ede2row8_col8 {\n",
       "            background-color:  #023858;\n",
       "            color:  #f1f1f1;\n",
       "        }    #T_8463413a_4bba_11ea_970a_4c1d9674ede2row8_col9 {\n",
       "            background-color:  #034d79;\n",
       "            color:  #f1f1f1;\n",
       "        }    #T_8463413a_4bba_11ea_970a_4c1d9674ede2row8_col10 {\n",
       "            background-color:  #faf3f9;\n",
       "            color:  #000000;\n",
       "        }    #T_8463413a_4bba_11ea_970a_4c1d9674ede2row8_col11 {\n",
       "            background-color:  #ece7f2;\n",
       "            color:  #000000;\n",
       "        }    #T_8463413a_4bba_11ea_970a_4c1d9674ede2row8_col12 {\n",
       "            background-color:  #e2dfee;\n",
       "            color:  #000000;\n",
       "        }    #T_8463413a_4bba_11ea_970a_4c1d9674ede2row9_col0 {\n",
       "            background-color:  #045483;\n",
       "            color:  #f1f1f1;\n",
       "        }    #T_8463413a_4bba_11ea_970a_4c1d9674ede2row9_col1 {\n",
       "            background-color:  #034e7b;\n",
       "            color:  #f1f1f1;\n",
       "        }    #T_8463413a_4bba_11ea_970a_4c1d9674ede2row9_col2 {\n",
       "            background-color:  #034369;\n",
       "            color:  #f1f1f1;\n",
       "        }    #T_8463413a_4bba_11ea_970a_4c1d9674ede2row9_col3 {\n",
       "            background-color:  #dfddec;\n",
       "            color:  #000000;\n",
       "        }    #T_8463413a_4bba_11ea_970a_4c1d9674ede2row9_col4 {\n",
       "            background-color:  #03446a;\n",
       "            color:  #f1f1f1;\n",
       "        }    #T_8463413a_4bba_11ea_970a_4c1d9674ede2row9_col5 {\n",
       "            background-color:  #03446a;\n",
       "            color:  #f1f1f1;\n",
       "        }    #T_8463413a_4bba_11ea_970a_4c1d9674ede2row9_col6 {\n",
       "            background-color:  #03446a;\n",
       "            color:  #f1f1f1;\n",
       "        }    #T_8463413a_4bba_11ea_970a_4c1d9674ede2row9_col7 {\n",
       "            background-color:  #023f64;\n",
       "            color:  #f1f1f1;\n",
       "        }    #T_8463413a_4bba_11ea_970a_4c1d9674ede2row9_col8 {\n",
       "            background-color:  #034c78;\n",
       "            color:  #f1f1f1;\n",
       "        }    #T_8463413a_4bba_11ea_970a_4c1d9674ede2row9_col9 {\n",
       "            background-color:  #023858;\n",
       "            color:  #f1f1f1;\n",
       "        }    #T_8463413a_4bba_11ea_970a_4c1d9674ede2row9_col10 {\n",
       "            background-color:  #f6eff7;\n",
       "            color:  #000000;\n",
       "        }    #T_8463413a_4bba_11ea_970a_4c1d9674ede2row9_col11 {\n",
       "            background-color:  #e4e1ef;\n",
       "            color:  #000000;\n",
       "        }    #T_8463413a_4bba_11ea_970a_4c1d9674ede2row9_col12 {\n",
       "            background-color:  #4094c3;\n",
       "            color:  #000000;\n",
       "        }    #T_8463413a_4bba_11ea_970a_4c1d9674ede2row10_col0 {\n",
       "            background-color:  #f4eef6;\n",
       "            color:  #000000;\n",
       "        }    #T_8463413a_4bba_11ea_970a_4c1d9674ede2row10_col1 {\n",
       "            background-color:  #faf2f8;\n",
       "            color:  #000000;\n",
       "        }    #T_8463413a_4bba_11ea_970a_4c1d9674ede2row10_col2 {\n",
       "            background-color:  #fff7fb;\n",
       "            color:  #000000;\n",
       "        }    #T_8463413a_4bba_11ea_970a_4c1d9674ede2row10_col3 {\n",
       "            background-color:  #f0eaf4;\n",
       "            color:  #000000;\n",
       "        }    #T_8463413a_4bba_11ea_970a_4c1d9674ede2row10_col4 {\n",
       "            background-color:  #fff7fb;\n",
       "            color:  #000000;\n",
       "        }    #T_8463413a_4bba_11ea_970a_4c1d9674ede2row10_col5 {\n",
       "            background-color:  #fff7fb;\n",
       "            color:  #000000;\n",
       "        }    #T_8463413a_4bba_11ea_970a_4c1d9674ede2row10_col6 {\n",
       "            background-color:  #fff7fb;\n",
       "            color:  #000000;\n",
       "        }    #T_8463413a_4bba_11ea_970a_4c1d9674ede2row10_col7 {\n",
       "            background-color:  #fff7fb;\n",
       "            color:  #000000;\n",
       "        }    #T_8463413a_4bba_11ea_970a_4c1d9674ede2row10_col8 {\n",
       "            background-color:  #fff7fb;\n",
       "            color:  #000000;\n",
       "        }    #T_8463413a_4bba_11ea_970a_4c1d9674ede2row10_col9 {\n",
       "            background-color:  #fff7fb;\n",
       "            color:  #000000;\n",
       "        }    #T_8463413a_4bba_11ea_970a_4c1d9674ede2row10_col10 {\n",
       "            background-color:  #023858;\n",
       "            color:  #f1f1f1;\n",
       "        }    #T_8463413a_4bba_11ea_970a_4c1d9674ede2row10_col11 {\n",
       "            background-color:  #ced0e6;\n",
       "            color:  #000000;\n",
       "        }    #T_8463413a_4bba_11ea_970a_4c1d9674ede2row10_col12 {\n",
       "            background-color:  #9cb9d9;\n",
       "            color:  #000000;\n",
       "        }    #T_8463413a_4bba_11ea_970a_4c1d9674ede2row11_col0 {\n",
       "            background-color:  #bdc8e1;\n",
       "            color:  #000000;\n",
       "        }    #T_8463413a_4bba_11ea_970a_4c1d9674ede2row11_col1 {\n",
       "            background-color:  #a7bddb;\n",
       "            color:  #000000;\n",
       "        }    #T_8463413a_4bba_11ea_970a_4c1d9674ede2row11_col2 {\n",
       "            background-color:  #eee9f3;\n",
       "            color:  #000000;\n",
       "        }    #T_8463413a_4bba_11ea_970a_4c1d9674ede2row11_col3 {\n",
       "            background-color:  #fff7fb;\n",
       "            color:  #000000;\n",
       "        }    #T_8463413a_4bba_11ea_970a_4c1d9674ede2row11_col4 {\n",
       "            background-color:  #ebe6f2;\n",
       "            color:  #000000;\n",
       "        }    #T_8463413a_4bba_11ea_970a_4c1d9674ede2row11_col5 {\n",
       "            background-color:  #ece7f2;\n",
       "            color:  #000000;\n",
       "        }    #T_8463413a_4bba_11ea_970a_4c1d9674ede2row11_col6 {\n",
       "            background-color:  #e8e4f0;\n",
       "            color:  #000000;\n",
       "        }    #T_8463413a_4bba_11ea_970a_4c1d9674ede2row11_col7 {\n",
       "            background-color:  #e3e0ee;\n",
       "            color:  #000000;\n",
       "        }    #T_8463413a_4bba_11ea_970a_4c1d9674ede2row11_col8 {\n",
       "            background-color:  #d8d7e9;\n",
       "            color:  #000000;\n",
       "        }    #T_8463413a_4bba_11ea_970a_4c1d9674ede2row11_col9 {\n",
       "            background-color:  #d6d6e9;\n",
       "            color:  #000000;\n",
       "        }    #T_8463413a_4bba_11ea_970a_4c1d9674ede2row11_col10 {\n",
       "            background-color:  #adc1dd;\n",
       "            color:  #000000;\n",
       "        }    #T_8463413a_4bba_11ea_970a_4c1d9674ede2row11_col11 {\n",
       "            background-color:  #023858;\n",
       "            color:  #f1f1f1;\n",
       "        }    #T_8463413a_4bba_11ea_970a_4c1d9674ede2row11_col12 {\n",
       "            background-color:  #d9d8ea;\n",
       "            color:  #000000;\n",
       "        }    #T_8463413a_4bba_11ea_970a_4c1d9674ede2row12_col0 {\n",
       "            background-color:  #fff7fb;\n",
       "            color:  #000000;\n",
       "        }    #T_8463413a_4bba_11ea_970a_4c1d9674ede2row12_col1 {\n",
       "            background-color:  #fff7fb;\n",
       "            color:  #000000;\n",
       "        }    #T_8463413a_4bba_11ea_970a_4c1d9674ede2row12_col2 {\n",
       "            background-color:  #f4eef6;\n",
       "            color:  #000000;\n",
       "        }    #T_8463413a_4bba_11ea_970a_4c1d9674ede2row12_col3 {\n",
       "            background-color:  #d9d8ea;\n",
       "            color:  #000000;\n",
       "        }    #T_8463413a_4bba_11ea_970a_4c1d9674ede2row12_col4 {\n",
       "            background-color:  #e9e5f1;\n",
       "            color:  #000000;\n",
       "        }    #T_8463413a_4bba_11ea_970a_4c1d9674ede2row12_col5 {\n",
       "            background-color:  #dfddec;\n",
       "            color:  #000000;\n",
       "        }    #T_8463413a_4bba_11ea_970a_4c1d9674ede2row12_col6 {\n",
       "            background-color:  #dbdaeb;\n",
       "            color:  #000000;\n",
       "        }    #T_8463413a_4bba_11ea_970a_4c1d9674ede2row12_col7 {\n",
       "            background-color:  #e1dfed;\n",
       "            color:  #000000;\n",
       "        }    #T_8463413a_4bba_11ea_970a_4c1d9674ede2row12_col8 {\n",
       "            background-color:  #f4edf6;\n",
       "            color:  #000000;\n",
       "        }    #T_8463413a_4bba_11ea_970a_4c1d9674ede2row12_col9 {\n",
       "            background-color:  #5ea0ca;\n",
       "            color:  #000000;\n",
       "        }    #T_8463413a_4bba_11ea_970a_4c1d9674ede2row12_col10 {\n",
       "            background-color:  #adc1dd;\n",
       "            color:  #000000;\n",
       "        }    #T_8463413a_4bba_11ea_970a_4c1d9674ede2row12_col11 {\n",
       "            background-color:  #fcf4fa;\n",
       "            color:  #000000;\n",
       "        }    #T_8463413a_4bba_11ea_970a_4c1d9674ede2row12_col12 {\n",
       "            background-color:  #023858;\n",
       "            color:  #f1f1f1;\n",
       "        }</style><table id=\"T_8463413a_4bba_11ea_970a_4c1d9674ede2\" ><thead>    <tr>        <th class=\"blank level0\" ></th>        <th class=\"col_heading level0 col0\" >R141入口_新鮮苯流量</th>        <th class=\"col_heading level0 col1\" >R141入口_DIPB流量</th>        <th class=\"col_heading level0 col2\" >R141入口_溫度</th>        <th class=\"col_heading level0 col3\" >R141入口_壓力</th>        <th class=\"col_heading level0 col4\" >R141反應溫度_第一床</th>        <th class=\"col_heading level0 col5\" >R141反應溫度_第二床</th>        <th class=\"col_heading level0 col6\" >R141反應溫度_第三床</th>        <th class=\"col_heading level0 col7\" >R141反應溫度_第四床</th>        <th class=\"col_heading level0 col8\" >R141出口_溫度</th>        <th class=\"col_heading level0 col9\" >R141出口_壓力</th>        <th class=\"col_heading level0 col10\" >T121_EB含量</th>        <th class=\"col_heading level0 col11\" >DIPB轉化率(檢測)</th>        <th class=\"col_heading level0 col12\" >DIPB轉化率(計算)</th>    </tr></thead><tbody>\n",
       "                <tr>\n",
       "                        <th id=\"T_8463413a_4bba_11ea_970a_4c1d9674ede2level0_row0\" class=\"row_heading level0 row0\" >R141入口_新鮮苯流量</th>\n",
       "                        <td id=\"T_8463413a_4bba_11ea_970a_4c1d9674ede2row0_col0\" class=\"data row0 col0\" >1</td>\n",
       "                        <td id=\"T_8463413a_4bba_11ea_970a_4c1d9674ede2row0_col1\" class=\"data row0 col1\" >0.884923</td>\n",
       "                        <td id=\"T_8463413a_4bba_11ea_970a_4c1d9674ede2row0_col2\" class=\"data row0 col2\" >0.89913</td>\n",
       "                        <td id=\"T_8463413a_4bba_11ea_970a_4c1d9674ede2row0_col3\" class=\"data row0 col3\" >0.0498531</td>\n",
       "                        <td id=\"T_8463413a_4bba_11ea_970a_4c1d9674ede2row0_col4\" class=\"data row0 col4\" >0.849823</td>\n",
       "                        <td id=\"T_8463413a_4bba_11ea_970a_4c1d9674ede2row0_col5\" class=\"data row0 col5\" >0.847297</td>\n",
       "                        <td id=\"T_8463413a_4bba_11ea_970a_4c1d9674ede2row0_col6\" class=\"data row0 col6\" >0.841579</td>\n",
       "                        <td id=\"T_8463413a_4bba_11ea_970a_4c1d9674ede2row0_col7\" class=\"data row0 col7\" >0.862173</td>\n",
       "                        <td id=\"T_8463413a_4bba_11ea_970a_4c1d9674ede2row0_col8\" class=\"data row0 col8\" >0.908179</td>\n",
       "                        <td id=\"T_8463413a_4bba_11ea_970a_4c1d9674ede2row0_col9\" class=\"data row0 col9\" >0.844225</td>\n",
       "                        <td id=\"T_8463413a_4bba_11ea_970a_4c1d9674ede2row0_col10\" class=\"data row0 col10\" >-0.397768</td>\n",
       "                        <td id=\"T_8463413a_4bba_11ea_970a_4c1d9674ede2row0_col11\" class=\"data row0 col11\" >-0.0443793</td>\n",
       "                        <td id=\"T_8463413a_4bba_11ea_970a_4c1d9674ede2row0_col12\" class=\"data row0 col12\" >-0.504345</td>\n",
       "            </tr>\n",
       "            <tr>\n",
       "                        <th id=\"T_8463413a_4bba_11ea_970a_4c1d9674ede2level0_row1\" class=\"row_heading level0 row1\" >R141入口_DIPB流量</th>\n",
       "                        <td id=\"T_8463413a_4bba_11ea_970a_4c1d9674ede2row1_col0\" class=\"data row1 col0\" >0.884923</td>\n",
       "                        <td id=\"T_8463413a_4bba_11ea_970a_4c1d9674ede2row1_col1\" class=\"data row1 col1\" >1</td>\n",
       "                        <td id=\"T_8463413a_4bba_11ea_970a_4c1d9674ede2row1_col2\" class=\"data row1 col2\" >0.934985</td>\n",
       "                        <td id=\"T_8463413a_4bba_11ea_970a_4c1d9674ede2row1_col3\" class=\"data row1 col3\" >0.084638</td>\n",
       "                        <td id=\"T_8463413a_4bba_11ea_970a_4c1d9674ede2row1_col4\" class=\"data row1 col4\" >0.877757</td>\n",
       "                        <td id=\"T_8463413a_4bba_11ea_970a_4c1d9674ede2row1_col5\" class=\"data row1 col5\" >0.868036</td>\n",
       "                        <td id=\"T_8463413a_4bba_11ea_970a_4c1d9674ede2row1_col6\" class=\"data row1 col6\" >0.859819</td>\n",
       "                        <td id=\"T_8463413a_4bba_11ea_970a_4c1d9674ede2row1_col7\" class=\"data row1 col7\" >0.882931</td>\n",
       "                        <td id=\"T_8463413a_4bba_11ea_970a_4c1d9674ede2row1_col8\" class=\"data row1 col8\" >0.902119</td>\n",
       "                        <td id=\"T_8463413a_4bba_11ea_970a_4c1d9674ede2row1_col9\" class=\"data row1 col9\" >0.880731</td>\n",
       "                        <td id=\"T_8463413a_4bba_11ea_970a_4c1d9674ede2row1_col10\" class=\"data row1 col10\" >-0.347648</td>\n",
       "                        <td id=\"T_8463413a_4bba_11ea_970a_4c1d9674ede2row1_col11\" class=\"data row1 col11\" >0.121691</td>\n",
       "                        <td id=\"T_8463413a_4bba_11ea_970a_4c1d9674ede2row1_col12\" class=\"data row1 col12\" >-0.396776</td>\n",
       "            </tr>\n",
       "            <tr>\n",
       "                        <th id=\"T_8463413a_4bba_11ea_970a_4c1d9674ede2level0_row2\" class=\"row_heading level0 row2\" >R141入口_溫度</th>\n",
       "                        <td id=\"T_8463413a_4bba_11ea_970a_4c1d9674ede2row2_col0\" class=\"data row2 col0\" >0.89913</td>\n",
       "                        <td id=\"T_8463413a_4bba_11ea_970a_4c1d9674ede2row2_col1\" class=\"data row2 col1\" >0.934985</td>\n",
       "                        <td id=\"T_8463413a_4bba_11ea_970a_4c1d9674ede2row2_col2\" class=\"data row2 col2\" >1</td>\n",
       "                        <td id=\"T_8463413a_4bba_11ea_970a_4c1d9674ede2row2_col3\" class=\"data row2 col3\" >0.0604278</td>\n",
       "                        <td id=\"T_8463413a_4bba_11ea_970a_4c1d9674ede2row2_col4\" class=\"data row2 col4\" >0.94357</td>\n",
       "                        <td id=\"T_8463413a_4bba_11ea_970a_4c1d9674ede2row2_col5\" class=\"data row2 col5\" >0.932389</td>\n",
       "                        <td id=\"T_8463413a_4bba_11ea_970a_4c1d9674ede2row2_col6\" class=\"data row2 col6\" >0.923426</td>\n",
       "                        <td id=\"T_8463413a_4bba_11ea_970a_4c1d9674ede2row2_col7\" class=\"data row2 col7\" >0.939352</td>\n",
       "                        <td id=\"T_8463413a_4bba_11ea_970a_4c1d9674ede2row2_col8\" class=\"data row2 col8\" >0.928501</td>\n",
       "                        <td id=\"T_8463413a_4bba_11ea_970a_4c1d9674ede2row2_col9\" class=\"data row2 col9\" >0.947079</td>\n",
       "                        <td id=\"T_8463413a_4bba_11ea_970a_4c1d9674ede2row2_col10\" class=\"data row2 col10\" >-0.302047</td>\n",
       "                        <td id=\"T_8463413a_4bba_11ea_970a_4c1d9674ede2row2_col11\" class=\"data row2 col11\" >-0.156108</td>\n",
       "                        <td id=\"T_8463413a_4bba_11ea_970a_4c1d9674ede2row2_col12\" class=\"data row2 col12\" >-0.205548</td>\n",
       "            </tr>\n",
       "            <tr>\n",
       "                        <th id=\"T_8463413a_4bba_11ea_970a_4c1d9674ede2level0_row3\" class=\"row_heading level0 row3\" >R141入口_壓力</th>\n",
       "                        <td id=\"T_8463413a_4bba_11ea_970a_4c1d9674ede2row3_col0\" class=\"data row3 col0\" >0.0498531</td>\n",
       "                        <td id=\"T_8463413a_4bba_11ea_970a_4c1d9674ede2row3_col1\" class=\"data row3 col1\" >0.084638</td>\n",
       "                        <td id=\"T_8463413a_4bba_11ea_970a_4c1d9674ede2row3_col2\" class=\"data row3 col2\" >0.0604278</td>\n",
       "                        <td id=\"T_8463413a_4bba_11ea_970a_4c1d9674ede2row3_col3\" class=\"data row3 col3\" >1</td>\n",
       "                        <td id=\"T_8463413a_4bba_11ea_970a_4c1d9674ede2row3_col4\" class=\"data row3 col4\" >-0.092118</td>\n",
       "                        <td id=\"T_8463413a_4bba_11ea_970a_4c1d9674ede2row3_col5\" class=\"data row3 col5\" >-0.107662</td>\n",
       "                        <td id=\"T_8463413a_4bba_11ea_970a_4c1d9674ede2row3_col6\" class=\"data row3 col6\" >-0.115398</td>\n",
       "                        <td id=\"T_8463413a_4bba_11ea_970a_4c1d9674ede2row3_col7\" class=\"data row3 col7\" >-0.0773443</td>\n",
       "                        <td id=\"T_8463413a_4bba_11ea_970a_4c1d9674ede2row3_col8\" class=\"data row3 col8\" >0.0496167</td>\n",
       "                        <td id=\"T_8463413a_4bba_11ea_970a_4c1d9674ede2row3_col9\" class=\"data row3 col9\" >0.0106495</td>\n",
       "                        <td id=\"T_8463413a_4bba_11ea_970a_4c1d9674ede2row3_col10\" class=\"data row3 col10\" >-0.0864134</td>\n",
       "                        <td id=\"T_8463413a_4bba_11ea_970a_4c1d9674ede2row3_col11\" class=\"data row3 col11\" >-0.211897</td>\n",
       "                        <td id=\"T_8463413a_4bba_11ea_970a_4c1d9674ede2row3_col12\" class=\"data row3 col12\" >0.0454515</td>\n",
       "            </tr>\n",
       "            <tr>\n",
       "                        <th id=\"T_8463413a_4bba_11ea_970a_4c1d9674ede2level0_row4\" class=\"row_heading level0 row4\" >R141反應溫度_第一床</th>\n",
       "                        <td id=\"T_8463413a_4bba_11ea_970a_4c1d9674ede2row4_col0\" class=\"data row4 col0\" >0.849823</td>\n",
       "                        <td id=\"T_8463413a_4bba_11ea_970a_4c1d9674ede2row4_col1\" class=\"data row4 col1\" >0.877757</td>\n",
       "                        <td id=\"T_8463413a_4bba_11ea_970a_4c1d9674ede2row4_col2\" class=\"data row4 col2\" >0.94357</td>\n",
       "                        <td id=\"T_8463413a_4bba_11ea_970a_4c1d9674ede2row4_col3\" class=\"data row4 col3\" >-0.092118</td>\n",
       "                        <td id=\"T_8463413a_4bba_11ea_970a_4c1d9674ede2row4_col4\" class=\"data row4 col4\" >1</td>\n",
       "                        <td id=\"T_8463413a_4bba_11ea_970a_4c1d9674ede2row4_col5\" class=\"data row4 col5\" >0.991727</td>\n",
       "                        <td id=\"T_8463413a_4bba_11ea_970a_4c1d9674ede2row4_col6\" class=\"data row4 col6\" >0.984078</td>\n",
       "                        <td id=\"T_8463413a_4bba_11ea_970a_4c1d9674ede2row4_col7\" class=\"data row4 col7\" >0.978121</td>\n",
       "                        <td id=\"T_8463413a_4bba_11ea_970a_4c1d9674ede2row4_col8\" class=\"data row4 col8\" >0.917542</td>\n",
       "                        <td id=\"T_8463413a_4bba_11ea_970a_4c1d9674ede2row4_col9\" class=\"data row4 col9\" >0.940254</td>\n",
       "                        <td id=\"T_8463413a_4bba_11ea_970a_4c1d9674ede2row4_col10\" class=\"data row4 col10\" >-0.298367</td>\n",
       "                        <td id=\"T_8463413a_4bba_11ea_970a_4c1d9674ede2row4_col11\" class=\"data row4 col11\" >-0.128274</td>\n",
       "                        <td id=\"T_8463413a_4bba_11ea_970a_4c1d9674ede2row4_col12\" class=\"data row4 col12\" >-0.117629</td>\n",
       "            </tr>\n",
       "            <tr>\n",
       "                        <th id=\"T_8463413a_4bba_11ea_970a_4c1d9674ede2level0_row5\" class=\"row_heading level0 row5\" >R141反應溫度_第二床</th>\n",
       "                        <td id=\"T_8463413a_4bba_11ea_970a_4c1d9674ede2row5_col0\" class=\"data row5 col0\" >0.847297</td>\n",
       "                        <td id=\"T_8463413a_4bba_11ea_970a_4c1d9674ede2row5_col1\" class=\"data row5 col1\" >0.868036</td>\n",
       "                        <td id=\"T_8463413a_4bba_11ea_970a_4c1d9674ede2row5_col2\" class=\"data row5 col2\" >0.932389</td>\n",
       "                        <td id=\"T_8463413a_4bba_11ea_970a_4c1d9674ede2row5_col3\" class=\"data row5 col3\" >-0.107662</td>\n",
       "                        <td id=\"T_8463413a_4bba_11ea_970a_4c1d9674ede2row5_col4\" class=\"data row5 col4\" >0.991727</td>\n",
       "                        <td id=\"T_8463413a_4bba_11ea_970a_4c1d9674ede2row5_col5\" class=\"data row5 col5\" >1</td>\n",
       "                        <td id=\"T_8463413a_4bba_11ea_970a_4c1d9674ede2row5_col6\" class=\"data row5 col6\" >0.994928</td>\n",
       "                        <td id=\"T_8463413a_4bba_11ea_970a_4c1d9674ede2row5_col7\" class=\"data row5 col7\" >0.986913</td>\n",
       "                        <td id=\"T_8463413a_4bba_11ea_970a_4c1d9674ede2row5_col8\" class=\"data row5 col8\" >0.919375</td>\n",
       "                        <td id=\"T_8463413a_4bba_11ea_970a_4c1d9674ede2row5_col9\" class=\"data row5 col9\" >0.943591</td>\n",
       "                        <td id=\"T_8463413a_4bba_11ea_970a_4c1d9674ede2row5_col10\" class=\"data row5 col10\" >-0.302104</td>\n",
       "                        <td id=\"T_8463413a_4bba_11ea_970a_4c1d9674ede2row5_col11\" class=\"data row5 col11\" >-0.13459</td>\n",
       "                        <td id=\"T_8463413a_4bba_11ea_970a_4c1d9674ede2row5_col12\" class=\"data row5 col12\" >-0.0606133</td>\n",
       "            </tr>\n",
       "            <tr>\n",
       "                        <th id=\"T_8463413a_4bba_11ea_970a_4c1d9674ede2level0_row6\" class=\"row_heading level0 row6\" >R141反應溫度_第三床</th>\n",
       "                        <td id=\"T_8463413a_4bba_11ea_970a_4c1d9674ede2row6_col0\" class=\"data row6 col0\" >0.841579</td>\n",
       "                        <td id=\"T_8463413a_4bba_11ea_970a_4c1d9674ede2row6_col1\" class=\"data row6 col1\" >0.859819</td>\n",
       "                        <td id=\"T_8463413a_4bba_11ea_970a_4c1d9674ede2row6_col2\" class=\"data row6 col2\" >0.923426</td>\n",
       "                        <td id=\"T_8463413a_4bba_11ea_970a_4c1d9674ede2row6_col3\" class=\"data row6 col3\" >-0.115398</td>\n",
       "                        <td id=\"T_8463413a_4bba_11ea_970a_4c1d9674ede2row6_col4\" class=\"data row6 col4\" >0.984078</td>\n",
       "                        <td id=\"T_8463413a_4bba_11ea_970a_4c1d9674ede2row6_col5\" class=\"data row6 col5\" >0.994928</td>\n",
       "                        <td id=\"T_8463413a_4bba_11ea_970a_4c1d9674ede2row6_col6\" class=\"data row6 col6\" >1</td>\n",
       "                        <td id=\"T_8463413a_4bba_11ea_970a_4c1d9674ede2row6_col7\" class=\"data row6 col7\" >0.991156</td>\n",
       "                        <td id=\"T_8463413a_4bba_11ea_970a_4c1d9674ede2row6_col8\" class=\"data row6 col8\" >0.919598</td>\n",
       "                        <td id=\"T_8463413a_4bba_11ea_970a_4c1d9674ede2row6_col9\" class=\"data row6 col9\" >0.941671</td>\n",
       "                        <td id=\"T_8463413a_4bba_11ea_970a_4c1d9674ede2row6_col10\" class=\"data row6 col10\" >-0.302825</td>\n",
       "                        <td id=\"T_8463413a_4bba_11ea_970a_4c1d9674ede2row6_col11\" class=\"data row6 col11\" >-0.116291</td>\n",
       "                        <td id=\"T_8463413a_4bba_11ea_970a_4c1d9674ede2row6_col12\" class=\"data row6 col12\" >-0.0383855</td>\n",
       "            </tr>\n",
       "            <tr>\n",
       "                        <th id=\"T_8463413a_4bba_11ea_970a_4c1d9674ede2level0_row7\" class=\"row_heading level0 row7\" >R141反應溫度_第四床</th>\n",
       "                        <td id=\"T_8463413a_4bba_11ea_970a_4c1d9674ede2row7_col0\" class=\"data row7 col0\" >0.862173</td>\n",
       "                        <td id=\"T_8463413a_4bba_11ea_970a_4c1d9674ede2row7_col1\" class=\"data row7 col1\" >0.882931</td>\n",
       "                        <td id=\"T_8463413a_4bba_11ea_970a_4c1d9674ede2row7_col2\" class=\"data row7 col2\" >0.939352</td>\n",
       "                        <td id=\"T_8463413a_4bba_11ea_970a_4c1d9674ede2row7_col3\" class=\"data row7 col3\" >-0.0773443</td>\n",
       "                        <td id=\"T_8463413a_4bba_11ea_970a_4c1d9674ede2row7_col4\" class=\"data row7 col4\" >0.978121</td>\n",
       "                        <td id=\"T_8463413a_4bba_11ea_970a_4c1d9674ede2row7_col5\" class=\"data row7 col5\" >0.986913</td>\n",
       "                        <td id=\"T_8463413a_4bba_11ea_970a_4c1d9674ede2row7_col6\" class=\"data row7 col6\" >0.991156</td>\n",
       "                        <td id=\"T_8463413a_4bba_11ea_970a_4c1d9674ede2row7_col7\" class=\"data row7 col7\" >1</td>\n",
       "                        <td id=\"T_8463413a_4bba_11ea_970a_4c1d9674ede2row7_col8\" class=\"data row7 col8\" >0.939178</td>\n",
       "                        <td id=\"T_8463413a_4bba_11ea_970a_4c1d9674ede2row7_col9\" class=\"data row7 col9\" >0.959771</td>\n",
       "                        <td id=\"T_8463413a_4bba_11ea_970a_4c1d9674ede2row7_col10\" class=\"data row7 col10\" >-0.316465</td>\n",
       "                        <td id=\"T_8463413a_4bba_11ea_970a_4c1d9674ede2row7_col11\" class=\"data row7 col11\" >-0.096656</td>\n",
       "                        <td id=\"T_8463413a_4bba_11ea_970a_4c1d9674ede2row7_col12\" class=\"data row7 col12\" >-0.0874654</td>\n",
       "            </tr>\n",
       "            <tr>\n",
       "                        <th id=\"T_8463413a_4bba_11ea_970a_4c1d9674ede2level0_row8\" class=\"row_heading level0 row8\" >R141出口_溫度</th>\n",
       "                        <td id=\"T_8463413a_4bba_11ea_970a_4c1d9674ede2row8_col0\" class=\"data row8 col0\" >0.908179</td>\n",
       "                        <td id=\"T_8463413a_4bba_11ea_970a_4c1d9674ede2row8_col1\" class=\"data row8 col1\" >0.902119</td>\n",
       "                        <td id=\"T_8463413a_4bba_11ea_970a_4c1d9674ede2row8_col2\" class=\"data row8 col2\" >0.928501</td>\n",
       "                        <td id=\"T_8463413a_4bba_11ea_970a_4c1d9674ede2row8_col3\" class=\"data row8 col3\" >0.0496167</td>\n",
       "                        <td id=\"T_8463413a_4bba_11ea_970a_4c1d9674ede2row8_col4\" class=\"data row8 col4\" >0.917542</td>\n",
       "                        <td id=\"T_8463413a_4bba_11ea_970a_4c1d9674ede2row8_col5\" class=\"data row8 col5\" >0.919375</td>\n",
       "                        <td id=\"T_8463413a_4bba_11ea_970a_4c1d9674ede2row8_col6\" class=\"data row8 col6\" >0.919598</td>\n",
       "                        <td id=\"T_8463413a_4bba_11ea_970a_4c1d9674ede2row8_col7\" class=\"data row8 col7\" >0.939178</td>\n",
       "                        <td id=\"T_8463413a_4bba_11ea_970a_4c1d9674ede2row8_col8\" class=\"data row8 col8\" >1</td>\n",
       "                        <td id=\"T_8463413a_4bba_11ea_970a_4c1d9674ede2row8_col9\" class=\"data row8 col9\" >0.895473</td>\n",
       "                        <td id=\"T_8463413a_4bba_11ea_970a_4c1d9674ede2row8_col10\" class=\"data row8 col10\" >-0.351888</td>\n",
       "                        <td id=\"T_8463413a_4bba_11ea_970a_4c1d9674ede2row8_col11\" class=\"data row8 col11\" >-0.0587099</td>\n",
       "                        <td id=\"T_8463413a_4bba_11ea_970a_4c1d9674ede2row8_col12\" class=\"data row8 col12\" >-0.2499</td>\n",
       "            </tr>\n",
       "            <tr>\n",
       "                        <th id=\"T_8463413a_4bba_11ea_970a_4c1d9674ede2level0_row9\" class=\"row_heading level0 row9\" >R141出口_壓力</th>\n",
       "                        <td id=\"T_8463413a_4bba_11ea_970a_4c1d9674ede2row9_col0\" class=\"data row9 col0\" >0.844225</td>\n",
       "                        <td id=\"T_8463413a_4bba_11ea_970a_4c1d9674ede2row9_col1\" class=\"data row9 col1\" >0.880731</td>\n",
       "                        <td id=\"T_8463413a_4bba_11ea_970a_4c1d9674ede2row9_col2\" class=\"data row9 col2\" >0.947079</td>\n",
       "                        <td id=\"T_8463413a_4bba_11ea_970a_4c1d9674ede2row9_col3\" class=\"data row9 col3\" >0.0106495</td>\n",
       "                        <td id=\"T_8463413a_4bba_11ea_970a_4c1d9674ede2row9_col4\" class=\"data row9 col4\" >0.940254</td>\n",
       "                        <td id=\"T_8463413a_4bba_11ea_970a_4c1d9674ede2row9_col5\" class=\"data row9 col5\" >0.943591</td>\n",
       "                        <td id=\"T_8463413a_4bba_11ea_970a_4c1d9674ede2row9_col6\" class=\"data row9 col6\" >0.941671</td>\n",
       "                        <td id=\"T_8463413a_4bba_11ea_970a_4c1d9674ede2row9_col7\" class=\"data row9 col7\" >0.959771</td>\n",
       "                        <td id=\"T_8463413a_4bba_11ea_970a_4c1d9674ede2row9_col8\" class=\"data row9 col8\" >0.895473</td>\n",
       "                        <td id=\"T_8463413a_4bba_11ea_970a_4c1d9674ede2row9_col9\" class=\"data row9 col9\" >1</td>\n",
       "                        <td id=\"T_8463413a_4bba_11ea_970a_4c1d9674ede2row9_col10\" class=\"data row9 col10\" >-0.314154</td>\n",
       "                        <td id=\"T_8463413a_4bba_11ea_970a_4c1d9674ede2row9_col11\" class=\"data row9 col11\" >-0.0165576</td>\n",
       "                        <td id=\"T_8463413a_4bba_11ea_970a_4c1d9674ede2row9_col12\" class=\"data row9 col12\" >0.401551</td>\n",
       "            </tr>\n",
       "            <tr>\n",
       "                        <th id=\"T_8463413a_4bba_11ea_970a_4c1d9674ede2level0_row10\" class=\"row_heading level0 row10\" >T121_EB含量</th>\n",
       "                        <td id=\"T_8463413a_4bba_11ea_970a_4c1d9674ede2row10_col0\" class=\"data row10 col0\" >-0.397768</td>\n",
       "                        <td id=\"T_8463413a_4bba_11ea_970a_4c1d9674ede2row10_col1\" class=\"data row10 col1\" >-0.347648</td>\n",
       "                        <td id=\"T_8463413a_4bba_11ea_970a_4c1d9674ede2row10_col2\" class=\"data row10 col2\" >-0.302047</td>\n",
       "                        <td id=\"T_8463413a_4bba_11ea_970a_4c1d9674ede2row10_col3\" class=\"data row10 col3\" >-0.0864134</td>\n",
       "                        <td id=\"T_8463413a_4bba_11ea_970a_4c1d9674ede2row10_col4\" class=\"data row10 col4\" >-0.298367</td>\n",
       "                        <td id=\"T_8463413a_4bba_11ea_970a_4c1d9674ede2row10_col5\" class=\"data row10 col5\" >-0.302104</td>\n",
       "                        <td id=\"T_8463413a_4bba_11ea_970a_4c1d9674ede2row10_col6\" class=\"data row10 col6\" >-0.302825</td>\n",
       "                        <td id=\"T_8463413a_4bba_11ea_970a_4c1d9674ede2row10_col7\" class=\"data row10 col7\" >-0.316465</td>\n",
       "                        <td id=\"T_8463413a_4bba_11ea_970a_4c1d9674ede2row10_col8\" class=\"data row10 col8\" >-0.351888</td>\n",
       "                        <td id=\"T_8463413a_4bba_11ea_970a_4c1d9674ede2row10_col9\" class=\"data row10 col9\" >-0.314154</td>\n",
       "                        <td id=\"T_8463413a_4bba_11ea_970a_4c1d9674ede2row10_col10\" class=\"data row10 col10\" >1</td>\n",
       "                        <td id=\"T_8463413a_4bba_11ea_970a_4c1d9674ede2row10_col11\" class=\"data row10 col11\" >0.098358</td>\n",
       "                        <td id=\"T_8463413a_4bba_11ea_970a_4c1d9674ede2row10_col12\" class=\"data row10 col12\" >0.0982978</td>\n",
       "            </tr>\n",
       "            <tr>\n",
       "                        <th id=\"T_8463413a_4bba_11ea_970a_4c1d9674ede2level0_row11\" class=\"row_heading level0 row11\" >DIPB轉化率(檢測)</th>\n",
       "                        <td id=\"T_8463413a_4bba_11ea_970a_4c1d9674ede2row11_col0\" class=\"data row11 col0\" >-0.0443793</td>\n",
       "                        <td id=\"T_8463413a_4bba_11ea_970a_4c1d9674ede2row11_col1\" class=\"data row11 col1\" >0.121691</td>\n",
       "                        <td id=\"T_8463413a_4bba_11ea_970a_4c1d9674ede2row11_col2\" class=\"data row11 col2\" >-0.156108</td>\n",
       "                        <td id=\"T_8463413a_4bba_11ea_970a_4c1d9674ede2row11_col3\" class=\"data row11 col3\" >-0.211897</td>\n",
       "                        <td id=\"T_8463413a_4bba_11ea_970a_4c1d9674ede2row11_col4\" class=\"data row11 col4\" >-0.128274</td>\n",
       "                        <td id=\"T_8463413a_4bba_11ea_970a_4c1d9674ede2row11_col5\" class=\"data row11 col5\" >-0.13459</td>\n",
       "                        <td id=\"T_8463413a_4bba_11ea_970a_4c1d9674ede2row11_col6\" class=\"data row11 col6\" >-0.116291</td>\n",
       "                        <td id=\"T_8463413a_4bba_11ea_970a_4c1d9674ede2row11_col7\" class=\"data row11 col7\" >-0.096656</td>\n",
       "                        <td id=\"T_8463413a_4bba_11ea_970a_4c1d9674ede2row11_col8\" class=\"data row11 col8\" >-0.0587099</td>\n",
       "                        <td id=\"T_8463413a_4bba_11ea_970a_4c1d9674ede2row11_col9\" class=\"data row11 col9\" >-0.0165576</td>\n",
       "                        <td id=\"T_8463413a_4bba_11ea_970a_4c1d9674ede2row11_col10\" class=\"data row11 col10\" >0.098358</td>\n",
       "                        <td id=\"T_8463413a_4bba_11ea_970a_4c1d9674ede2row11_col11\" class=\"data row11 col11\" >1</td>\n",
       "                        <td id=\"T_8463413a_4bba_11ea_970a_4c1d9674ede2row11_col12\" class=\"data row11 col12\" >-0.184156</td>\n",
       "            </tr>\n",
       "            <tr>\n",
       "                        <th id=\"T_8463413a_4bba_11ea_970a_4c1d9674ede2level0_row12\" class=\"row_heading level0 row12\" >DIPB轉化率(計算)</th>\n",
       "                        <td id=\"T_8463413a_4bba_11ea_970a_4c1d9674ede2row12_col0\" class=\"data row12 col0\" >-0.504345</td>\n",
       "                        <td id=\"T_8463413a_4bba_11ea_970a_4c1d9674ede2row12_col1\" class=\"data row12 col1\" >-0.396776</td>\n",
       "                        <td id=\"T_8463413a_4bba_11ea_970a_4c1d9674ede2row12_col2\" class=\"data row12 col2\" >-0.205548</td>\n",
       "                        <td id=\"T_8463413a_4bba_11ea_970a_4c1d9674ede2row12_col3\" class=\"data row12 col3\" >0.0454515</td>\n",
       "                        <td id=\"T_8463413a_4bba_11ea_970a_4c1d9674ede2row12_col4\" class=\"data row12 col4\" >-0.117629</td>\n",
       "                        <td id=\"T_8463413a_4bba_11ea_970a_4c1d9674ede2row12_col5\" class=\"data row12 col5\" >-0.0606133</td>\n",
       "                        <td id=\"T_8463413a_4bba_11ea_970a_4c1d9674ede2row12_col6\" class=\"data row12 col6\" >-0.0383855</td>\n",
       "                        <td id=\"T_8463413a_4bba_11ea_970a_4c1d9674ede2row12_col7\" class=\"data row12 col7\" >-0.0874654</td>\n",
       "                        <td id=\"T_8463413a_4bba_11ea_970a_4c1d9674ede2row12_col8\" class=\"data row12 col8\" >-0.2499</td>\n",
       "                        <td id=\"T_8463413a_4bba_11ea_970a_4c1d9674ede2row12_col9\" class=\"data row12 col9\" >0.401551</td>\n",
       "                        <td id=\"T_8463413a_4bba_11ea_970a_4c1d9674ede2row12_col10\" class=\"data row12 col10\" >0.0982978</td>\n",
       "                        <td id=\"T_8463413a_4bba_11ea_970a_4c1d9674ede2row12_col11\" class=\"data row12 col11\" >-0.184156</td>\n",
       "                        <td id=\"T_8463413a_4bba_11ea_970a_4c1d9674ede2row12_col12\" class=\"data row12 col12\" >1</td>\n",
       "            </tr>\n",
       "    </tbody></table>"
      ],
      "text/plain": [
       "<pandas.io.formats.style.Styler at 0x284296441c8>"
      ]
     },
     "execution_count": 17,
     "metadata": {},
     "output_type": "execute_result"
    }
   ],
   "source": [
    "df.corr().style.background_gradient()"
   ]
  },
  {
   "cell_type": "markdown",
   "metadata": {
    "colab_type": "text",
    "id": "PndwIoyo3TMA"
   },
   "source": [
    "# features engineering"
   ]
  },
  {
   "cell_type": "code",
   "execution_count": 18,
   "metadata": {
    "colab": {},
    "colab_type": "code",
    "id": "Pkq3EExU44at"
   },
   "outputs": [],
   "source": [
    "pass"
   ]
  },
  {
   "cell_type": "markdown",
   "metadata": {
    "colab_type": "text",
    "id": "3PlJG6Vw4zMa"
   },
   "source": [
    "# feature select"
   ]
  },
  {
   "cell_type": "code",
   "execution_count": 19,
   "metadata": {
    "colab": {
     "base_uri": "https://localhost:8080/",
     "height": 36
    },
    "colab_type": "code",
    "id": "SNk7zPba2PYy",
    "outputId": "b515ae0b-1bd0-470f-a662-8c889a999724"
   },
   "outputs": [
    {
     "name": "stdout",
     "output_type": "stream",
     "text": [
      "(76553, 11) (76553,)\n"
     ]
    }
   ],
   "source": [
    "features = df.drop(['DIPB轉化率(檢測)','DIPB轉化率(計算)'],axis=1).columns.tolist()\n",
    "y_name = 'DIPB轉化率(計算)'\n",
    "\n",
    "df = df[features+[y_name]].dropna(subset=[y_name])\n",
    "\n",
    "X = df[features]\n",
    "y = df[y_name]\n",
    "\n",
    "print(X.shape,y.shape)"
   ]
  },
  {
   "cell_type": "markdown",
   "metadata": {
    "colab_type": "text",
    "id": "5j5oPa1241HP"
   },
   "source": [
    "# split"
   ]
  },
  {
   "cell_type": "code",
   "execution_count": 20,
   "metadata": {
    "colab": {},
    "colab_type": "code",
    "id": "mVM4hwRA41O3"
   },
   "outputs": [],
   "source": [
    "from sklearn.model_selection import train_test_split\n",
    "X_train, X_test, y_train, y_test = train_test_split(X, y, test_size=0.2, random_state=42)"
   ]
  },
  {
   "cell_type": "markdown",
   "metadata": {
    "colab_type": "text",
    "id": "lyR4cNuo3tiy"
   },
   "source": [
    "# model"
   ]
  },
  {
   "cell_type": "code",
   "execution_count": 21,
   "metadata": {
    "colab": {},
    "colab_type": "code",
    "id": "aJQ6fk9B3iqS"
   },
   "outputs": [],
   "source": [
    "from sklearn.pipeline import Pipeline\n",
    "from sklearn.preprocessing import StandardScaler\n",
    "from sklearn.svm import SVR\n",
    "from sklearn.linear_model import Ridge\n",
    "from xgboost import XGBRegressor\n",
    "\n",
    "model = Pipeline(steps=[\n",
    "                        ('scaler',StandardScaler()),\n",
    "                        ('reg',XGBRegressor(objective='reg:squarederror')),\n",
    "                        ])"
   ]
  },
  {
   "cell_type": "markdown",
   "metadata": {
    "colab_type": "text",
    "id": "G0O-ya3z5EZB"
   },
   "source": [
    "# train and predict"
   ]
  },
  {
   "cell_type": "code",
   "execution_count": 22,
   "metadata": {
    "colab": {},
    "colab_type": "code",
    "id": "Y90zYZje30fo"
   },
   "outputs": [],
   "source": [
    "model.fit(X_train,y_train)\n",
    "y_pred = model.predict(X_test)"
   ]
  },
  {
   "cell_type": "markdown",
   "metadata": {
    "colab_type": "text",
    "id": "siYi_par8U6t"
   },
   "source": [
    "# metric"
   ]
  },
  {
   "cell_type": "code",
   "execution_count": 23,
   "metadata": {},
   "outputs": [
    {
     "data": {
      "text/html": [
       "<style  type=\"text/css\" >\n",
       "    #T_87a5e690_4bba_11ea_b7f5_4c1d9674ede2row0_col0 {\n",
       "            background-color:  #023858;\n",
       "            color:  #f1f1f1;\n",
       "        }    #T_87a5e690_4bba_11ea_b7f5_4c1d9674ede2row1_col0 {\n",
       "            background-color:  #569dc8;\n",
       "            color:  #000000;\n",
       "        }    #T_87a5e690_4bba_11ea_b7f5_4c1d9674ede2row2_col0 {\n",
       "            background-color:  #d9d8ea;\n",
       "            color:  #000000;\n",
       "        }    #T_87a5e690_4bba_11ea_b7f5_4c1d9674ede2row3_col0 {\n",
       "            background-color:  #dedcec;\n",
       "            color:  #000000;\n",
       "        }    #T_87a5e690_4bba_11ea_b7f5_4c1d9674ede2row4_col0 {\n",
       "            background-color:  #e7e3f0;\n",
       "            color:  #000000;\n",
       "        }    #T_87a5e690_4bba_11ea_b7f5_4c1d9674ede2row5_col0 {\n",
       "            background-color:  #f1ebf5;\n",
       "            color:  #000000;\n",
       "        }    #T_87a5e690_4bba_11ea_b7f5_4c1d9674ede2row6_col0 {\n",
       "            background-color:  #f2ecf5;\n",
       "            color:  #000000;\n",
       "        }    #T_87a5e690_4bba_11ea_b7f5_4c1d9674ede2row7_col0 {\n",
       "            background-color:  #f4edf6;\n",
       "            color:  #000000;\n",
       "        }    #T_87a5e690_4bba_11ea_b7f5_4c1d9674ede2row8_col0 {\n",
       "            background-color:  #faf3f9;\n",
       "            color:  #000000;\n",
       "        }    #T_87a5e690_4bba_11ea_b7f5_4c1d9674ede2row9_col0 {\n",
       "            background-color:  #faf3f9;\n",
       "            color:  #000000;\n",
       "        }    #T_87a5e690_4bba_11ea_b7f5_4c1d9674ede2row10_col0 {\n",
       "            background-color:  #fff7fb;\n",
       "            color:  #000000;\n",
       "        }</style><table id=\"T_87a5e690_4bba_11ea_b7f5_4c1d9674ede2\" ><thead>    <tr>        <th class=\"blank level0\" ></th>        <th class=\"col_heading level0 col0\" >imp</th>    </tr></thead><tbody>\n",
       "                <tr>\n",
       "                        <th id=\"T_87a5e690_4bba_11ea_b7f5_4c1d9674ede2level0_row0\" class=\"row_heading level0 row0\" >R141出口_壓力</th>\n",
       "                        <td id=\"T_87a5e690_4bba_11ea_b7f5_4c1d9674ede2row0_col0\" class=\"data row0 col0\" >0.370334</td>\n",
       "            </tr>\n",
       "            <tr>\n",
       "                        <th id=\"T_87a5e690_4bba_11ea_b7f5_4c1d9674ede2level0_row1\" class=\"row_heading level0 row1\" >R141入口_新鮮苯流量</th>\n",
       "                        <td id=\"T_87a5e690_4bba_11ea_b7f5_4c1d9674ede2row1_col0\" class=\"data row1 col0\" >0.212265</td>\n",
       "            </tr>\n",
       "            <tr>\n",
       "                        <th id=\"T_87a5e690_4bba_11ea_b7f5_4c1d9674ede2level0_row2\" class=\"row_heading level0 row2\" >T121_EB含量</th>\n",
       "                        <td id=\"T_87a5e690_4bba_11ea_b7f5_4c1d9674ede2row2_col0\" class=\"data row2 col0\" >0.0871154</td>\n",
       "            </tr>\n",
       "            <tr>\n",
       "                        <th id=\"T_87a5e690_4bba_11ea_b7f5_4c1d9674ede2level0_row3\" class=\"row_heading level0 row3\" >R141入口_壓力</th>\n",
       "                        <td id=\"T_87a5e690_4bba_11ea_b7f5_4c1d9674ede2row3_col0\" class=\"data row3 col0\" >0.0794</td>\n",
       "            </tr>\n",
       "            <tr>\n",
       "                        <th id=\"T_87a5e690_4bba_11ea_b7f5_4c1d9674ede2level0_row4\" class=\"row_heading level0 row4\" >R141入口_DIPB流量</th>\n",
       "                        <td id=\"T_87a5e690_4bba_11ea_b7f5_4c1d9674ede2row4_col0\" class=\"data row4 col0\" >0.0658126</td>\n",
       "            </tr>\n",
       "            <tr>\n",
       "                        <th id=\"T_87a5e690_4bba_11ea_b7f5_4c1d9674ede2level0_row5\" class=\"row_heading level0 row5\" >R141反應溫度_第三床</th>\n",
       "                        <td id=\"T_87a5e690_4bba_11ea_b7f5_4c1d9674ede2row5_col0\" class=\"data row5 col0\" >0.0451221</td>\n",
       "            </tr>\n",
       "            <tr>\n",
       "                        <th id=\"T_87a5e690_4bba_11ea_b7f5_4c1d9674ede2level0_row6\" class=\"row_heading level0 row6\" >R141反應溫度_第二床</th>\n",
       "                        <td id=\"T_87a5e690_4bba_11ea_b7f5_4c1d9674ede2row6_col0\" class=\"data row6 col0\" >0.0416359</td>\n",
       "            </tr>\n",
       "            <tr>\n",
       "                        <th id=\"T_87a5e690_4bba_11ea_b7f5_4c1d9674ede2level0_row7\" class=\"row_heading level0 row7\" >R141出口_溫度</th>\n",
       "                        <td id=\"T_87a5e690_4bba_11ea_b7f5_4c1d9674ede2row7_col0\" class=\"data row7 col0\" >0.0389827</td>\n",
       "            </tr>\n",
       "            <tr>\n",
       "                        <th id=\"T_87a5e690_4bba_11ea_b7f5_4c1d9674ede2level0_row8\" class=\"row_heading level0 row8\" >R141反應溫度_第一床</th>\n",
       "                        <td id=\"T_87a5e690_4bba_11ea_b7f5_4c1d9674ede2row8_col0\" class=\"data row8 col0\" >0.0240126</td>\n",
       "            </tr>\n",
       "            <tr>\n",
       "                        <th id=\"T_87a5e690_4bba_11ea_b7f5_4c1d9674ede2level0_row9\" class=\"row_heading level0 row9\" >R141入口_溫度</th>\n",
       "                        <td id=\"T_87a5e690_4bba_11ea_b7f5_4c1d9674ede2row9_col0\" class=\"data row9 col0\" >0.0232742</td>\n",
       "            </tr>\n",
       "            <tr>\n",
       "                        <th id=\"T_87a5e690_4bba_11ea_b7f5_4c1d9674ede2level0_row10\" class=\"row_heading level0 row10\" >R141反應溫度_第四床</th>\n",
       "                        <td id=\"T_87a5e690_4bba_11ea_b7f5_4c1d9674ede2row10_col0\" class=\"data row10 col0\" >0.0120458</td>\n",
       "            </tr>\n",
       "    </tbody></table>"
      ],
      "text/plain": [
       "<pandas.io.formats.style.Styler at 0x28429734f08>"
      ]
     },
     "execution_count": 23,
     "metadata": {},
     "output_type": "execute_result"
    }
   ],
   "source": [
    "FIMP = pd.DataFrame(model['reg'].feature_importances_,index=X.columns,columns=['imp'])\n",
    "FIMP = FIMP.sort_values(by='imp',ascending=False)\n",
    "FIMP.style.background_gradient()"
   ]
  },
  {
   "cell_type": "code",
   "execution_count": 24,
   "metadata": {
    "colab": {},
    "colab_type": "code",
    "id": "I_Y76c707X4e"
   },
   "outputs": [],
   "source": [
    "y_pred = pd.Series(y_pred,index=y_test.index,name='y_pred')"
   ]
  },
  {
   "cell_type": "code",
   "execution_count": 25,
   "metadata": {
    "colab": {
     "base_uri": "https://localhost:8080/",
     "height": 342
    },
    "colab_type": "code",
    "id": "KiJR57ZO8XWI",
    "outputId": "50948b77-5b7c-4d40-df6d-f27a4ac432a6"
   },
   "outputs": [
    {
     "data": {
      "text/plain": [
       "Text(0.5, 1.0, 'Moving average 6*24(day)')"
      ]
     },
     "execution_count": 25,
     "metadata": {},
     "output_type": "execute_result"
    },
    {
     "data": {
      "image/png": "[encoded data removed]",
      "text/plain": [
       "<Figure size 1440x360 with 1 Axes>"
      ]
     },
     "metadata": {
      "needs_background": "light"
     },
     "output_type": "display_data"
    }
   ],
   "source": [
    "fig = plt.figure(figsize=(20,5))\n",
    "plt.plot(y_test.sort_index().rolling(6*24).mean(),label='y_test')\n",
    "plt.plot(y_pred.sort_index().rolling(6*24).mean(),label='y_pred')\n",
    "plt.ylim(50,70)\n",
    "plt.legend()\n",
    "plt.title('Moving average 6*24(day)')"
   ]
  },
  {
   "cell_type": "code",
   "execution_count": 26,
   "metadata": {
    "colab": {
     "base_uri": "https://localhost:8080/",
     "height": 517
    },
    "colab_type": "code",
    "id": "FsY8g-hk-OTj",
    "outputId": "96896243-1a92-48ec-8f6a-cf5675cf3dc9"
   },
   "outputs": [
    {
     "data": {
      "image/png": "[encoded data removed]",
      "text/plain": [
       "<Figure size 432x288 with 1 Axes>"
      ]
     },
     "metadata": {
      "needs_background": "light"
     },
     "output_type": "display_data"
    },
    {
     "data": {
      "image/png": "[encoded data removed]",
      "text/plain": [
       "<Figure size 432x288 with 1 Axes>"
      ]
     },
     "metadata": {
      "needs_background": "light"
     },
     "output_type": "display_data"
    }
   ],
   "source": [
    "residual = y_test - y_pred\n",
    "sns.distplot(residual)\n",
    "plt.xlim(-10,10)\n",
    "plt.title('residual')\n",
    "plt.show()\n",
    "\n",
    "plt.scatter(residual.index,residual,s=0.1)\n",
    "plt.plot(residual.index,[0]*len(residual))\n",
    "plt.ylim(-10,10)\n",
    "plt.title('residual')\n",
    "plt.show()"
   ]
  },
  {
   "cell_type": "code",
   "execution_count": 27,
   "metadata": {
    "colab": {},
    "colab_type": "code",
    "id": "gnG4Acqd9UBj"
   },
   "outputs": [],
   "source": [
    "from sklearn.metrics import r2_score\n",
    "def mape(a, b): \n",
    "  mask = a != 0\n",
    "  return (np.fabs(a - b)/a)[mask].mean()"
   ]
  },
  {
   "cell_type": "code",
   "execution_count": 28,
   "metadata": {
    "colab": {
     "base_uri": "https://localhost:8080/",
     "height": 36
    },
    "colab_type": "code",
    "id": "WisCov5U9Y1R",
    "outputId": "e9ff62d1-3f46-4043-8f62-2f536c189872"
   },
   "outputs": [
    {
     "name": "stdout",
     "output_type": "stream",
     "text": [
      "R2: 0.87\n"
     ]
    }
   ],
   "source": [
    "print('R2:',round(r2_score(y_test,y_pred),2))"
   ]
  },
  {
   "cell_type": "code",
   "execution_count": 29,
   "metadata": {
    "colab": {
     "base_uri": "https://localhost:8080/",
     "height": 36
    },
    "colab_type": "code",
    "id": "T3i51SDa8jvn",
    "outputId": "b9c23660-ee33-4112-fed7-9d314e8de82c"
   },
   "outputs": [
    {
     "name": "stdout",
     "output_type": "stream",
     "text": [
      "mape 0.94 %\n"
     ]
    }
   ],
   "source": [
    "print('mape',round(mape(y_test,y_pred)*100,2),'%')"
   ]
  },
  {
   "cell_type": "code",
   "execution_count": null,
   "metadata": {
    "colab": {},
    "colab_type": "code",
    "id": "Hgl1xLdt9A4V"
   },
   "outputs": [],
   "source": []
  }
 ],
 "metadata": {
  "colab": {
   "collapsed_sections": [],
   "include_colab_link": true,
   "name": "Chemistry-2.ipynb",
   "provenance": []
  },
  "kernelspec": {
   "display_name": "Python 3",
   "language": "python",
   "name": "python3"
  },
  "language_info": {
   "codemirror_mode": {
    "name": "ipython",
    "version": 3
   },
   "file_extension": ".py",
   "mimetype": "text/x-python",
   "name": "python",
   "nbconvert_exporter": "python",
   "pygments_lexer": "ipython3",
   "version": "3.7.4"
  }
 },
 "nbformat": 4,
 "nbformat_minor": 1
}
