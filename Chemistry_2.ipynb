{
 "cells": [
  {
   "cell_type": "markdown",
   "metadata": {
    "colab_type": "text",
    "id": "view-in-github"
   },
   "source": [
    "<a href=\"https://colab.research.google.com/github/skywalker0803r/Chemistry-2/blob/master/Chemistry_2.ipynb\" target=\"_parent\"><img src=\"https://colab.research.google.com/assets/colab-badge.svg\" alt=\"Open In Colab\"/></a>"
   ]
  },
  {
   "cell_type": "code",
   "execution_count": 1,
   "metadata": {
    "colab": {},
    "colab_type": "code",
    "id": "pAjTgyB5qZPG"
   },
   "outputs": [],
   "source": [
    "import pandas as pd\n",
    "import numpy as np\n",
    "import matplotlib.pyplot as plt\n",
    "import seaborn as sns\n",
    "import warnings;warnings.simplefilter('ignore')\n",
    "from sklearn.metrics import mean_squared_error,r2_score\n",
    "from math import sqrt\n",
    "from sklearn.impute import KNNImputer\n",
    "from sklearn.utils import shuffle\n",
    "from tqdm import tqdm_notebook as tqdm\n",
    "\n",
    "# helper function\n",
    "def mape(y_test,y_pred): \n",
    "    mask = y_test != 0\n",
    "    return (np.fabs(y_test - y_pred)/y_test)[mask].mean()\n",
    "\n",
    "def rmse(y_test,y_pred):\n",
    "    return sqrt(mean_squared_error(y_test, y_pred))"
   ]
  },
  {
   "cell_type": "code",
   "execution_count": 2,
   "metadata": {
    "colab": {
     "base_uri": "https://localhost:8080/",
     "height": 36
    },
    "colab_type": "code",
    "id": "i-9UVUBMqrhF",
    "outputId": "edbba9a6-1db4-4d86-ba39-4ea497ad939d"
   },
   "outputs": [
    {
     "data": {
      "text/plain": [
       "['.git',\n",
       " '.ipynb_checkpoints',\n",
       " 'Chemistry-2.png',\n",
       " 'Chemistry_2.html',\n",
       " 'Chemistry_2.ipynb',\n",
       " 'README.md',\n",
       " '操作與品管數據(20200102提供).xlsx']"
      ]
     },
     "execution_count": 2,
     "metadata": {},
     "output_type": "execute_result"
    }
   ],
   "source": [
    "import os\n",
    "os.listdir()"
   ]
  },
  {
   "cell_type": "markdown",
   "metadata": {
    "colab_type": "text",
    "id": "VQ7WWlyYtH_Z"
   },
   "source": [
    "# load raw data"
   ]
  },
  {
   "cell_type": "code",
   "execution_count": 3,
   "metadata": {
    "colab": {
     "base_uri": "https://localhost:8080/",
     "height": 283
    },
    "colab_type": "code",
    "id": "CnKgQLF7qe9k",
    "outputId": "b471cda3-e5c4-4a41-d7d1-501ed4194b40"
   },
   "outputs": [
    {
     "data": {
      "text/html": [
       "<div>\n",
       "<style scoped>\n",
       "    .dataframe tbody tr th:only-of-type {\n",
       "        vertical-align: middle;\n",
       "    }\n",
       "\n",
       "    .dataframe tbody tr th {\n",
       "        vertical-align: top;\n",
       "    }\n",
       "\n",
       "    .dataframe thead th {\n",
       "        text-align: right;\n",
       "    }\n",
       "</style>\n",
       "<table border=\"1\" class=\"dataframe\">\n",
       "  <thead>\n",
       "    <tr style=\"text-align: right;\">\n",
       "      <th></th>\n",
       "      <th>Unnamed: 0</th>\n",
       "      <th>R141入口</th>\n",
       "      <th>Unnamed: 2</th>\n",
       "      <th>Unnamed: 3</th>\n",
       "      <th>Unnamed: 4</th>\n",
       "      <th>R141反應溫度</th>\n",
       "      <th>Unnamed: 6</th>\n",
       "      <th>Unnamed: 7</th>\n",
       "      <th>Unnamed: 8</th>\n",
       "      <th>R141出口</th>\n",
       "      <th>Unnamed: 10</th>\n",
       "      <th>品管數據</th>\n",
       "      <th>Unnamed: 12</th>\n",
       "      <th>Unnamed: 13</th>\n",
       "    </tr>\n",
       "  </thead>\n",
       "  <tbody>\n",
       "    <tr>\n",
       "      <td>0</td>\n",
       "      <td>NaN</td>\n",
       "      <td>新鮮苯流量(M3/h)</td>\n",
       "      <td>DIPB流量(M3/h)</td>\n",
       "      <td>溫度(℃)</td>\n",
       "      <td>壓力(KGf/cm2 G)</td>\n",
       "      <td>第一床(℃)</td>\n",
       "      <td>第二床(℃)</td>\n",
       "      <td>第三床(℃)</td>\n",
       "      <td>第四床(℃)</td>\n",
       "      <td>溫度(℃)</td>\n",
       "      <td>壓力(KGf/cm2 G)</td>\n",
       "      <td>ppm</td>\n",
       "      <td>%</td>\n",
       "      <td>%</td>\n",
       "    </tr>\n",
       "    <tr>\n",
       "      <td>1</td>\n",
       "      <td>DATE</td>\n",
       "      <td>PHL-DCS-FIC1147_PV</td>\n",
       "      <td>PHL-DCS-FIC1149A_PV</td>\n",
       "      <td>PHL-DCS-TIC1163_PV</td>\n",
       "      <td>PHL-DCS-PI1162_PV</td>\n",
       "      <td>PHL-DCS-TI1166_PV</td>\n",
       "      <td>PHL-DCS-TI1167_PV</td>\n",
       "      <td>PHL-DCS-TI1168_PV</td>\n",
       "      <td>PHL-DCS-TI1169_PV</td>\n",
       "      <td>PHL-DCS-TI1170_PV</td>\n",
       "      <td>PHL-DCS-PIC1166_PV</td>\n",
       "      <td>T121 EB含量</td>\n",
       "      <td>DIPB轉化率(檢測)</td>\n",
       "      <td>DIPB轉化率(計算)</td>\n",
       "    </tr>\n",
       "    <tr>\n",
       "      <td>2</td>\n",
       "      <td>2013-08-20 10:10:00</td>\n",
       "      <td>31.212</td>\n",
       "      <td>24.9928</td>\n",
       "      <td>169.894</td>\n",
       "      <td>[-11059] No Good Data For Calculation</td>\n",
       "      <td>167.057</td>\n",
       "      <td>166.569</td>\n",
       "      <td>166.279</td>\n",
       "      <td>165.041</td>\n",
       "      <td>[-11059] No Good Data For Calculation</td>\n",
       "      <td>12.297</td>\n",
       "      <td>NaN</td>\n",
       "      <td>NaN</td>\n",
       "      <td>58.7768</td>\n",
       "    </tr>\n",
       "    <tr>\n",
       "      <td>3</td>\n",
       "      <td>2013-08-20 10:20:00</td>\n",
       "      <td>31.2236</td>\n",
       "      <td>25.0668</td>\n",
       "      <td>169.753</td>\n",
       "      <td>[-11059] No Good Data For Calculation</td>\n",
       "      <td>167.051</td>\n",
       "      <td>166.576</td>\n",
       "      <td>166.26</td>\n",
       "      <td>164.97</td>\n",
       "      <td>[-11059] No Good Data For Calculation</td>\n",
       "      <td>12.2914</td>\n",
       "      <td>NaN</td>\n",
       "      <td>NaN</td>\n",
       "      <td>58.8524</td>\n",
       "    </tr>\n",
       "    <tr>\n",
       "      <td>4</td>\n",
       "      <td>2013-08-20 10:30:00</td>\n",
       "      <td>31.5726</td>\n",
       "      <td>25.163</td>\n",
       "      <td>169.526</td>\n",
       "      <td>[-11059] No Good Data For Calculation</td>\n",
       "      <td>167.042</td>\n",
       "      <td>166.584</td>\n",
       "      <td>166.235</td>\n",
       "      <td>164.877</td>\n",
       "      <td>[-11059] No Good Data For Calculation</td>\n",
       "      <td>12.3175</td>\n",
       "      <td>NaN</td>\n",
       "      <td>NaN</td>\n",
       "      <td>59.1137</td>\n",
       "    </tr>\n",
       "  </tbody>\n",
       "</table>\n",
       "</div>"
      ],
      "text/plain": [
       "            Unnamed: 0              R141入口           Unnamed: 2  \\\n",
       "0                  NaN         新鮮苯流量(M3/h)         DIPB流量(M3/h)   \n",
       "1                 DATE  PHL-DCS-FIC1147_PV  PHL-DCS-FIC1149A_PV   \n",
       "2  2013-08-20 10:10:00              31.212              24.9928   \n",
       "3  2013-08-20 10:20:00             31.2236              25.0668   \n",
       "4  2013-08-20 10:30:00             31.5726               25.163   \n",
       "\n",
       "           Unnamed: 3                             Unnamed: 4  \\\n",
       "0               溫度(℃)                          壓力(KGf/cm2 G)   \n",
       "1  PHL-DCS-TIC1163_PV                      PHL-DCS-PI1162_PV   \n",
       "2             169.894  [-11059] No Good Data For Calculation   \n",
       "3             169.753  [-11059] No Good Data For Calculation   \n",
       "4             169.526  [-11059] No Good Data For Calculation   \n",
       "\n",
       "            R141反應溫度         Unnamed: 6         Unnamed: 7         Unnamed: 8  \\\n",
       "0             第一床(℃)             第二床(℃)             第三床(℃)             第四床(℃)   \n",
       "1  PHL-DCS-TI1166_PV  PHL-DCS-TI1167_PV  PHL-DCS-TI1168_PV  PHL-DCS-TI1169_PV   \n",
       "2            167.057            166.569            166.279            165.041   \n",
       "3            167.051            166.576             166.26             164.97   \n",
       "4            167.042            166.584            166.235            164.877   \n",
       "\n",
       "                                  R141出口         Unnamed: 10       品管數據  \\\n",
       "0                                  溫度(℃)       壓力(KGf/cm2 G)        ppm   \n",
       "1                      PHL-DCS-TI1170_PV  PHL-DCS-PIC1166_PV  T121 EB含量   \n",
       "2  [-11059] No Good Data For Calculation              12.297        NaN   \n",
       "3  [-11059] No Good Data For Calculation             12.2914        NaN   \n",
       "4  [-11059] No Good Data For Calculation             12.3175        NaN   \n",
       "\n",
       "   Unnamed: 12  Unnamed: 13  \n",
       "0            %            %  \n",
       "1  DIPB轉化率(檢測)  DIPB轉化率(計算)  \n",
       "2          NaN      58.7768  \n",
       "3          NaN      58.8524  \n",
       "4          NaN      59.1137  "
      ]
     },
     "execution_count": 3,
     "metadata": {},
     "output_type": "execute_result"
    }
   ],
   "source": [
    "df = pd.read_excel('./操作與品管數據(20200102提供).xlsx')\n",
    "df.head()"
   ]
  },
  {
   "cell_type": "markdown",
   "metadata": {
    "colab_type": "text",
    "id": "FiRp-lJStKGu"
   },
   "source": [
    "# table data"
   ]
  },
  {
   "cell_type": "code",
   "execution_count": 4,
   "metadata": {
    "colab": {
     "base_uri": "https://localhost:8080/",
     "height": 318
    },
    "colab_type": "code",
    "id": "GsL7_AIxq396",
    "outputId": "d65cb6d3-e764-4b91-b6de-06112e63d6c8"
   },
   "outputs": [
    {
     "name": "stdout",
     "output_type": "stream",
     "text": [
      "(83027, 13)\n"
     ]
    },
    {
     "data": {
      "text/html": [
       "<div>\n",
       "<style scoped>\n",
       "    .dataframe tbody tr th:only-of-type {\n",
       "        vertical-align: middle;\n",
       "    }\n",
       "\n",
       "    .dataframe tbody tr th {\n",
       "        vertical-align: top;\n",
       "    }\n",
       "\n",
       "    .dataframe thead th {\n",
       "        text-align: right;\n",
       "    }\n",
       "</style>\n",
       "<table border=\"1\" class=\"dataframe\">\n",
       "  <thead>\n",
       "    <tr style=\"text-align: right;\">\n",
       "      <th></th>\n",
       "      <th>R141入口_新鮮苯流量</th>\n",
       "      <th>R141入口_DIPB流量</th>\n",
       "      <th>R141入口_溫度</th>\n",
       "      <th>R141入口_壓力</th>\n",
       "      <th>R141反應溫度_第一床</th>\n",
       "      <th>R141反應溫度_第二床</th>\n",
       "      <th>R141反應溫度_第三床</th>\n",
       "      <th>R141反應溫度_第四床</th>\n",
       "      <th>R141出口_溫度</th>\n",
       "      <th>R141出口_壓力</th>\n",
       "      <th>T121_EB含量</th>\n",
       "      <th>DIPB轉化率(檢測)</th>\n",
       "      <th>DIPB轉化率(計算)</th>\n",
       "    </tr>\n",
       "    <tr>\n",
       "      <th>Date</th>\n",
       "      <th></th>\n",
       "      <th></th>\n",
       "      <th></th>\n",
       "      <th></th>\n",
       "      <th></th>\n",
       "      <th></th>\n",
       "      <th></th>\n",
       "      <th></th>\n",
       "      <th></th>\n",
       "      <th></th>\n",
       "      <th></th>\n",
       "      <th></th>\n",
       "      <th></th>\n",
       "    </tr>\n",
       "  </thead>\n",
       "  <tbody>\n",
       "    <tr>\n",
       "      <td>2013-08-20 10:10:00</td>\n",
       "      <td>31.212</td>\n",
       "      <td>24.9928</td>\n",
       "      <td>169.894</td>\n",
       "      <td>[-11059] No Good Data For Calculation</td>\n",
       "      <td>167.057</td>\n",
       "      <td>166.569</td>\n",
       "      <td>166.279</td>\n",
       "      <td>165.041</td>\n",
       "      <td>[-11059] No Good Data For Calculation</td>\n",
       "      <td>12.297</td>\n",
       "      <td>NaN</td>\n",
       "      <td>NaN</td>\n",
       "      <td>58.7768</td>\n",
       "    </tr>\n",
       "    <tr>\n",
       "      <td>2013-08-20 10:20:00</td>\n",
       "      <td>31.2236</td>\n",
       "      <td>25.0668</td>\n",
       "      <td>169.753</td>\n",
       "      <td>[-11059] No Good Data For Calculation</td>\n",
       "      <td>167.051</td>\n",
       "      <td>166.576</td>\n",
       "      <td>166.26</td>\n",
       "      <td>164.97</td>\n",
       "      <td>[-11059] No Good Data For Calculation</td>\n",
       "      <td>12.2914</td>\n",
       "      <td>NaN</td>\n",
       "      <td>NaN</td>\n",
       "      <td>58.8524</td>\n",
       "    </tr>\n",
       "    <tr>\n",
       "      <td>2013-08-20 10:30:00</td>\n",
       "      <td>31.5726</td>\n",
       "      <td>25.163</td>\n",
       "      <td>169.526</td>\n",
       "      <td>[-11059] No Good Data For Calculation</td>\n",
       "      <td>167.042</td>\n",
       "      <td>166.584</td>\n",
       "      <td>166.235</td>\n",
       "      <td>164.877</td>\n",
       "      <td>[-11059] No Good Data For Calculation</td>\n",
       "      <td>12.3175</td>\n",
       "      <td>NaN</td>\n",
       "      <td>NaN</td>\n",
       "      <td>59.1137</td>\n",
       "    </tr>\n",
       "    <tr>\n",
       "      <td>2013-08-20 10:40:00</td>\n",
       "      <td>31.8862</td>\n",
       "      <td>25.1367</td>\n",
       "      <td>169.317</td>\n",
       "      <td>[-11059] No Good Data For Calculation</td>\n",
       "      <td>167.034</td>\n",
       "      <td>166.592</td>\n",
       "      <td>166.21</td>\n",
       "      <td>164.784</td>\n",
       "      <td>[-11059] No Good Data For Calculation</td>\n",
       "      <td>12.3179</td>\n",
       "      <td>NaN</td>\n",
       "      <td>NaN</td>\n",
       "      <td>58.8904</td>\n",
       "    </tr>\n",
       "    <tr>\n",
       "      <td>2013-08-20 10:50:00</td>\n",
       "      <td>31.8554</td>\n",
       "      <td>25.2207</td>\n",
       "      <td>169.665</td>\n",
       "      <td>[-11059] No Good Data For Calculation</td>\n",
       "      <td>167.026</td>\n",
       "      <td>166.6</td>\n",
       "      <td>166.186</td>\n",
       "      <td>164.691</td>\n",
       "      <td>[-11059] No Good Data For Calculation</td>\n",
       "      <td>12.3155</td>\n",
       "      <td>NaN</td>\n",
       "      <td>NaN</td>\n",
       "      <td>58.7622</td>\n",
       "    </tr>\n",
       "  </tbody>\n",
       "</table>\n",
       "</div>"
      ],
      "text/plain": [
       "                    R141入口_新鮮苯流量 R141入口_DIPB流量 R141入口_溫度  \\\n",
       "Date                                                       \n",
       "2013-08-20 10:10:00       31.212       24.9928   169.894   \n",
       "2013-08-20 10:20:00      31.2236       25.0668   169.753   \n",
       "2013-08-20 10:30:00      31.5726        25.163   169.526   \n",
       "2013-08-20 10:40:00      31.8862       25.1367   169.317   \n",
       "2013-08-20 10:50:00      31.8554       25.2207   169.665   \n",
       "\n",
       "                                                 R141入口_壓力 R141反應溫度_第一床  \\\n",
       "Date                                                                      \n",
       "2013-08-20 10:10:00  [-11059] No Good Data For Calculation      167.057   \n",
       "2013-08-20 10:20:00  [-11059] No Good Data For Calculation      167.051   \n",
       "2013-08-20 10:30:00  [-11059] No Good Data For Calculation      167.042   \n",
       "2013-08-20 10:40:00  [-11059] No Good Data For Calculation      167.034   \n",
       "2013-08-20 10:50:00  [-11059] No Good Data For Calculation      167.026   \n",
       "\n",
       "                    R141反應溫度_第二床 R141反應溫度_第三床 R141反應溫度_第四床  \\\n",
       "Date                                                         \n",
       "2013-08-20 10:10:00      166.569      166.279      165.041   \n",
       "2013-08-20 10:20:00      166.576       166.26       164.97   \n",
       "2013-08-20 10:30:00      166.584      166.235      164.877   \n",
       "2013-08-20 10:40:00      166.592       166.21      164.784   \n",
       "2013-08-20 10:50:00        166.6      166.186      164.691   \n",
       "\n",
       "                                                 R141出口_溫度 R141出口_壓力  \\\n",
       "Date                                                                   \n",
       "2013-08-20 10:10:00  [-11059] No Good Data For Calculation    12.297   \n",
       "2013-08-20 10:20:00  [-11059] No Good Data For Calculation   12.2914   \n",
       "2013-08-20 10:30:00  [-11059] No Good Data For Calculation   12.3175   \n",
       "2013-08-20 10:40:00  [-11059] No Good Data For Calculation   12.3179   \n",
       "2013-08-20 10:50:00  [-11059] No Good Data For Calculation   12.3155   \n",
       "\n",
       "                    T121_EB含量 DIPB轉化率(檢測) DIPB轉化率(計算)  \n",
       "Date                                                   \n",
       "2013-08-20 10:10:00       NaN         NaN     58.7768  \n",
       "2013-08-20 10:20:00       NaN         NaN     58.8524  \n",
       "2013-08-20 10:30:00       NaN         NaN     59.1137  \n",
       "2013-08-20 10:40:00       NaN         NaN     58.8904  \n",
       "2013-08-20 10:50:00       NaN         NaN     58.7622  "
      ]
     },
     "execution_count": 4,
     "metadata": {},
     "output_type": "execute_result"
    }
   ],
   "source": [
    "cols = ['Date','R141入口_新鮮苯流量','R141入口_DIPB流量','R141入口_溫度','R141入口_壓力',\n",
    "        'R141反應溫度_第一床','R141反應溫度_第二床','R141反應溫度_第三床','R141反應溫度_第四床',\n",
    "        'R141出口_溫度','R141出口_壓力','T121_EB含量','DIPB轉化率(檢測)','DIPB轉化率(計算)']\n",
    "values = df.iloc[2:,:]\n",
    "new_df = pd.DataFrame(values.values,columns=cols)\n",
    "new_df = new_df.set_index('Date')\n",
    "print(new_df.shape)\n",
    "new_df.head()"
   ]
  },
  {
   "cell_type": "markdown",
   "metadata": {
    "colab_type": "text",
    "id": "eki5yjzctvJ9"
   },
   "source": [
    "# col transform"
   ]
  },
  {
   "cell_type": "code",
   "execution_count": 5,
   "metadata": {
    "colab": {},
    "colab_type": "code",
    "id": "OQ6YJ-DZub0f"
   },
   "outputs": [],
   "source": [
    "new_df = new_df.replace('[-11059] No Good Data For Calculation',np.nan)"
   ]
  },
  {
   "cell_type": "code",
   "execution_count": 6,
   "metadata": {
    "colab": {
     "base_uri": "https://localhost:8080/",
     "height": 298
    },
    "colab_type": "code",
    "id": "R6enhqwhrLZR",
    "outputId": "540c8f3b-1e5a-4880-b9e0-6c7591d6b408"
   },
   "outputs": [
    {
     "data": {
      "text/plain": [
       "R141入口_新鮮苯流量     float64\n",
       "R141入口_DIPB流量    float64\n",
       "R141入口_溫度        float64\n",
       "R141入口_壓力        float64\n",
       "R141反應溫度_第一床     float64\n",
       "R141反應溫度_第二床     float64\n",
       "R141反應溫度_第三床     float64\n",
       "R141反應溫度_第四床     float64\n",
       "R141出口_溫度        float64\n",
       "R141出口_壓力        float64\n",
       "T121_EB含量        float64\n",
       "DIPB轉化率(檢測)      float64\n",
       "DIPB轉化率(計算)      float64\n",
       "dtype: object"
      ]
     },
     "execution_count": 6,
     "metadata": {},
     "output_type": "execute_result"
    }
   ],
   "source": [
    "for i in new_df.columns.tolist():\n",
    "    new_df[i] = pd.to_numeric(new_df[i])\n",
    "new_df.dtypes"
   ]
  },
  {
   "cell_type": "code",
   "execution_count": 7,
   "metadata": {},
   "outputs": [],
   "source": [
    "df = new_df\n",
    "del new_df"
   ]
  },
  {
   "cell_type": "markdown",
   "metadata": {},
   "source": [
    "# DATA CLEAN"
   ]
  },
  {
   "cell_type": "code",
   "execution_count": 8,
   "metadata": {},
   "outputs": [
    {
     "name": "stdout",
     "output_type": "stream",
     "text": [
      "(83027, 13)\n",
      "(76552, 12)\n"
     ]
    }
   ],
   "source": [
    "def data_filter(df):\n",
    "    df = df.drop('DIPB轉化率(檢測)',axis=1)\n",
    "    df = df.dropna(subset=['DIPB轉化率(計算)'])\n",
    "    df = df[df['DIPB轉化率(計算)']>0]\n",
    "    return df\n",
    "\n",
    "print(df.shape)\n",
    "df = data_filter(df)\n",
    "print(df.shape)"
   ]
  },
  {
   "cell_type": "markdown",
   "metadata": {
    "colab_type": "text",
    "id": "aLYCeyHTu8Jv"
   },
   "source": [
    "# miss value check"
   ]
  },
  {
   "cell_type": "code",
   "execution_count": 9,
   "metadata": {},
   "outputs": [
    {
     "data": {
      "text/plain": [
       "<matplotlib.axes._subplots.AxesSubplot at 0x1cb73719a08>"
      ]
     },
     "execution_count": 9,
     "metadata": {},
     "output_type": "execute_result"
    },
    {
     "data": {
      "image/png": "[encoded data removed]",
      "text/plain": [
       "<Figure size 1440x360 with 1 Axes>"
      ]
     },
     "metadata": {
      "needs_background": "light"
     },
     "output_type": "display_data"
    }
   ],
   "source": [
    "fig = plt.figure(figsize=(20,5))\n",
    "sns.heatmap(df.isnull(),yticklabels=False,cbar=False,cmap='viridis')"
   ]
  },
  {
   "cell_type": "code",
   "execution_count": 10,
   "metadata": {},
   "outputs": [
    {
     "data": {
      "text/html": [
       "<div>\n",
       "<style scoped>\n",
       "    .dataframe tbody tr th:only-of-type {\n",
       "        vertical-align: middle;\n",
       "    }\n",
       "\n",
       "    .dataframe tbody tr th {\n",
       "        vertical-align: top;\n",
       "    }\n",
       "\n",
       "    .dataframe thead th {\n",
       "        text-align: right;\n",
       "    }\n",
       "</style>\n",
       "<table border=\"1\" class=\"dataframe\">\n",
       "  <thead>\n",
       "    <tr style=\"text-align: right;\">\n",
       "      <th></th>\n",
       "      <th>T121_EB含量</th>\n",
       "    </tr>\n",
       "    <tr>\n",
       "      <th>Date</th>\n",
       "      <th></th>\n",
       "    </tr>\n",
       "  </thead>\n",
       "  <tbody>\n",
       "    <tr>\n",
       "      <td>2013-08-20 16:00:00</td>\n",
       "      <td>112.0</td>\n",
       "    </tr>\n",
       "    <tr>\n",
       "      <td>2013-08-21 00:00:00</td>\n",
       "      <td>85.0</td>\n",
       "    </tr>\n",
       "    <tr>\n",
       "      <td>2013-08-21 08:00:00</td>\n",
       "      <td>109.0</td>\n",
       "    </tr>\n",
       "    <tr>\n",
       "      <td>2013-08-21 16:00:00</td>\n",
       "      <td>109.0</td>\n",
       "    </tr>\n",
       "    <tr>\n",
       "      <td>2013-08-22 00:00:00</td>\n",
       "      <td>102.0</td>\n",
       "    </tr>\n",
       "    <tr>\n",
       "      <td>...</td>\n",
       "      <td>...</td>\n",
       "    </tr>\n",
       "    <tr>\n",
       "      <td>2015-03-18 08:00:00</td>\n",
       "      <td>83.0</td>\n",
       "    </tr>\n",
       "    <tr>\n",
       "      <td>2015-03-18 16:00:00</td>\n",
       "      <td>84.0</td>\n",
       "    </tr>\n",
       "    <tr>\n",
       "      <td>2015-03-19 00:00:00</td>\n",
       "      <td>84.0</td>\n",
       "    </tr>\n",
       "    <tr>\n",
       "      <td>2015-03-19 08:00:00</td>\n",
       "      <td>83.0</td>\n",
       "    </tr>\n",
       "    <tr>\n",
       "      <td>2015-03-19 16:00:00</td>\n",
       "      <td>81.0</td>\n",
       "    </tr>\n",
       "  </tbody>\n",
       "</table>\n",
       "<p>1557 rows × 1 columns</p>\n",
       "</div>"
      ],
      "text/plain": [
       "                     T121_EB含量\n",
       "Date                          \n",
       "2013-08-20 16:00:00      112.0\n",
       "2013-08-21 00:00:00       85.0\n",
       "2013-08-21 08:00:00      109.0\n",
       "2013-08-21 16:00:00      109.0\n",
       "2013-08-22 00:00:00      102.0\n",
       "...                        ...\n",
       "2015-03-18 08:00:00       83.0\n",
       "2015-03-18 16:00:00       84.0\n",
       "2015-03-19 00:00:00       84.0\n",
       "2015-03-19 08:00:00       83.0\n",
       "2015-03-19 16:00:00       81.0\n",
       "\n",
       "[1557 rows x 1 columns]"
      ]
     },
     "execution_count": 10,
     "metadata": {},
     "output_type": "execute_result"
    }
   ],
   "source": [
    "df[df['T121_EB含量'].isnull()==False][['T121_EB含量']]"
   ]
  },
  {
   "cell_type": "code",
   "execution_count": 11,
   "metadata": {},
   "outputs": [
    {
     "data": {
      "text/html": [
       "<style  type=\"text/css\" >\n",
       "    #T_928c2a2e_4c6a_11ea_bb26_4c1d9674ede2row0_col0 {\n",
       "            background-color:  #fff7fb;\n",
       "            color:  #000000;\n",
       "        }    #T_928c2a2e_4c6a_11ea_bb26_4c1d9674ede2row0_col1 {\n",
       "            background-color:  #fff7fb;\n",
       "            color:  #000000;\n",
       "        }    #T_928c2a2e_4c6a_11ea_bb26_4c1d9674ede2row1_col0 {\n",
       "            background-color:  #fff7fb;\n",
       "            color:  #000000;\n",
       "        }    #T_928c2a2e_4c6a_11ea_bb26_4c1d9674ede2row1_col1 {\n",
       "            background-color:  #fff7fb;\n",
       "            color:  #000000;\n",
       "        }    #T_928c2a2e_4c6a_11ea_bb26_4c1d9674ede2row2_col0 {\n",
       "            background-color:  #fff7fb;\n",
       "            color:  #000000;\n",
       "        }    #T_928c2a2e_4c6a_11ea_bb26_4c1d9674ede2row2_col1 {\n",
       "            background-color:  #fff7fb;\n",
       "            color:  #000000;\n",
       "        }    #T_928c2a2e_4c6a_11ea_bb26_4c1d9674ede2row3_col0 {\n",
       "            background-color:  #5ea0ca;\n",
       "            color:  #000000;\n",
       "        }    #T_928c2a2e_4c6a_11ea_bb26_4c1d9674ede2row3_col1 {\n",
       "            background-color:  #5ea0ca;\n",
       "            color:  #000000;\n",
       "        }    #T_928c2a2e_4c6a_11ea_bb26_4c1d9674ede2row4_col0 {\n",
       "            background-color:  #fff7fb;\n",
       "            color:  #000000;\n",
       "        }    #T_928c2a2e_4c6a_11ea_bb26_4c1d9674ede2row4_col1 {\n",
       "            background-color:  #fff7fb;\n",
       "            color:  #000000;\n",
       "        }    #T_928c2a2e_4c6a_11ea_bb26_4c1d9674ede2row5_col0 {\n",
       "            background-color:  #fff7fb;\n",
       "            color:  #000000;\n",
       "        }    #T_928c2a2e_4c6a_11ea_bb26_4c1d9674ede2row5_col1 {\n",
       "            background-color:  #fff7fb;\n",
       "            color:  #000000;\n",
       "        }    #T_928c2a2e_4c6a_11ea_bb26_4c1d9674ede2row6_col0 {\n",
       "            background-color:  #fff7fb;\n",
       "            color:  #000000;\n",
       "        }    #T_928c2a2e_4c6a_11ea_bb26_4c1d9674ede2row6_col1 {\n",
       "            background-color:  #fff7fb;\n",
       "            color:  #000000;\n",
       "        }    #T_928c2a2e_4c6a_11ea_bb26_4c1d9674ede2row7_col0 {\n",
       "            background-color:  #fff7fb;\n",
       "            color:  #000000;\n",
       "        }    #T_928c2a2e_4c6a_11ea_bb26_4c1d9674ede2row7_col1 {\n",
       "            background-color:  #fff7fb;\n",
       "            color:  #000000;\n",
       "        }    #T_928c2a2e_4c6a_11ea_bb26_4c1d9674ede2row8_col0 {\n",
       "            background-color:  #5ea0ca;\n",
       "            color:  #000000;\n",
       "        }    #T_928c2a2e_4c6a_11ea_bb26_4c1d9674ede2row8_col1 {\n",
       "            background-color:  #5ea0ca;\n",
       "            color:  #000000;\n",
       "        }    #T_928c2a2e_4c6a_11ea_bb26_4c1d9674ede2row9_col0 {\n",
       "            background-color:  #fff7fb;\n",
       "            color:  #000000;\n",
       "        }    #T_928c2a2e_4c6a_11ea_bb26_4c1d9674ede2row9_col1 {\n",
       "            background-color:  #fff7fb;\n",
       "            color:  #000000;\n",
       "        }    #T_928c2a2e_4c6a_11ea_bb26_4c1d9674ede2row10_col0 {\n",
       "            background-color:  #023858;\n",
       "            color:  #f1f1f1;\n",
       "        }    #T_928c2a2e_4c6a_11ea_bb26_4c1d9674ede2row10_col1 {\n",
       "            background-color:  #023858;\n",
       "            color:  #f1f1f1;\n",
       "        }    #T_928c2a2e_4c6a_11ea_bb26_4c1d9674ede2row11_col0 {\n",
       "            background-color:  #fff7fb;\n",
       "            color:  #000000;\n",
       "        }    #T_928c2a2e_4c6a_11ea_bb26_4c1d9674ede2row11_col1 {\n",
       "            background-color:  #fff7fb;\n",
       "            color:  #000000;\n",
       "        }</style><table id=\"T_928c2a2e_4c6a_11ea_bb26_4c1d9674ede2\" ><thead>    <tr>        <th class=\"blank level0\" ></th>        <th class=\"col_heading level0 col0\" >total</th>        <th class=\"col_heading level0 col1\" >%</th>    </tr></thead><tbody>\n",
       "                <tr>\n",
       "                        <th id=\"T_928c2a2e_4c6a_11ea_bb26_4c1d9674ede2level0_row0\" class=\"row_heading level0 row0\" >R141入口_新鮮苯流量</th>\n",
       "                        <td id=\"T_928c2a2e_4c6a_11ea_bb26_4c1d9674ede2row0_col0\" class=\"data row0 col0\" >0</td>\n",
       "                        <td id=\"T_928c2a2e_4c6a_11ea_bb26_4c1d9674ede2row0_col1\" class=\"data row0 col1\" >0</td>\n",
       "            </tr>\n",
       "            <tr>\n",
       "                        <th id=\"T_928c2a2e_4c6a_11ea_bb26_4c1d9674ede2level0_row1\" class=\"row_heading level0 row1\" >R141入口_DIPB流量</th>\n",
       "                        <td id=\"T_928c2a2e_4c6a_11ea_bb26_4c1d9674ede2row1_col0\" class=\"data row1 col0\" >0</td>\n",
       "                        <td id=\"T_928c2a2e_4c6a_11ea_bb26_4c1d9674ede2row1_col1\" class=\"data row1 col1\" >0</td>\n",
       "            </tr>\n",
       "            <tr>\n",
       "                        <th id=\"T_928c2a2e_4c6a_11ea_bb26_4c1d9674ede2level0_row2\" class=\"row_heading level0 row2\" >R141入口_溫度</th>\n",
       "                        <td id=\"T_928c2a2e_4c6a_11ea_bb26_4c1d9674ede2row2_col0\" class=\"data row2 col0\" >0</td>\n",
       "                        <td id=\"T_928c2a2e_4c6a_11ea_bb26_4c1d9674ede2row2_col1\" class=\"data row2 col1\" >0</td>\n",
       "            </tr>\n",
       "            <tr>\n",
       "                        <th id=\"T_928c2a2e_4c6a_11ea_bb26_4c1d9674ede2level0_row3\" class=\"row_heading level0 row3\" >R141入口_壓力</th>\n",
       "                        <td id=\"T_928c2a2e_4c6a_11ea_bb26_4c1d9674ede2row3_col0\" class=\"data row3 col0\" >40946</td>\n",
       "                        <td id=\"T_928c2a2e_4c6a_11ea_bb26_4c1d9674ede2row3_col1\" class=\"data row3 col1\" >53.4878</td>\n",
       "            </tr>\n",
       "            <tr>\n",
       "                        <th id=\"T_928c2a2e_4c6a_11ea_bb26_4c1d9674ede2level0_row4\" class=\"row_heading level0 row4\" >R141反應溫度_第一床</th>\n",
       "                        <td id=\"T_928c2a2e_4c6a_11ea_bb26_4c1d9674ede2row4_col0\" class=\"data row4 col0\" >0</td>\n",
       "                        <td id=\"T_928c2a2e_4c6a_11ea_bb26_4c1d9674ede2row4_col1\" class=\"data row4 col1\" >0</td>\n",
       "            </tr>\n",
       "            <tr>\n",
       "                        <th id=\"T_928c2a2e_4c6a_11ea_bb26_4c1d9674ede2level0_row5\" class=\"row_heading level0 row5\" >R141反應溫度_第二床</th>\n",
       "                        <td id=\"T_928c2a2e_4c6a_11ea_bb26_4c1d9674ede2row5_col0\" class=\"data row5 col0\" >0</td>\n",
       "                        <td id=\"T_928c2a2e_4c6a_11ea_bb26_4c1d9674ede2row5_col1\" class=\"data row5 col1\" >0</td>\n",
       "            </tr>\n",
       "            <tr>\n",
       "                        <th id=\"T_928c2a2e_4c6a_11ea_bb26_4c1d9674ede2level0_row6\" class=\"row_heading level0 row6\" >R141反應溫度_第三床</th>\n",
       "                        <td id=\"T_928c2a2e_4c6a_11ea_bb26_4c1d9674ede2row6_col0\" class=\"data row6 col0\" >0</td>\n",
       "                        <td id=\"T_928c2a2e_4c6a_11ea_bb26_4c1d9674ede2row6_col1\" class=\"data row6 col1\" >0</td>\n",
       "            </tr>\n",
       "            <tr>\n",
       "                        <th id=\"T_928c2a2e_4c6a_11ea_bb26_4c1d9674ede2level0_row7\" class=\"row_heading level0 row7\" >R141反應溫度_第四床</th>\n",
       "                        <td id=\"T_928c2a2e_4c6a_11ea_bb26_4c1d9674ede2row7_col0\" class=\"data row7 col0\" >0</td>\n",
       "                        <td id=\"T_928c2a2e_4c6a_11ea_bb26_4c1d9674ede2row7_col1\" class=\"data row7 col1\" >0</td>\n",
       "            </tr>\n",
       "            <tr>\n",
       "                        <th id=\"T_928c2a2e_4c6a_11ea_bb26_4c1d9674ede2level0_row8\" class=\"row_heading level0 row8\" >R141出口_溫度</th>\n",
       "                        <td id=\"T_928c2a2e_4c6a_11ea_bb26_4c1d9674ede2row8_col0\" class=\"data row8 col0\" >40945</td>\n",
       "                        <td id=\"T_928c2a2e_4c6a_11ea_bb26_4c1d9674ede2row8_col1\" class=\"data row8 col1\" >53.4865</td>\n",
       "            </tr>\n",
       "            <tr>\n",
       "                        <th id=\"T_928c2a2e_4c6a_11ea_bb26_4c1d9674ede2level0_row9\" class=\"row_heading level0 row9\" >R141出口_壓力</th>\n",
       "                        <td id=\"T_928c2a2e_4c6a_11ea_bb26_4c1d9674ede2row9_col0\" class=\"data row9 col0\" >0</td>\n",
       "                        <td id=\"T_928c2a2e_4c6a_11ea_bb26_4c1d9674ede2row9_col1\" class=\"data row9 col1\" >0</td>\n",
       "            </tr>\n",
       "            <tr>\n",
       "                        <th id=\"T_928c2a2e_4c6a_11ea_bb26_4c1d9674ede2level0_row10\" class=\"row_heading level0 row10\" >T121_EB含量</th>\n",
       "                        <td id=\"T_928c2a2e_4c6a_11ea_bb26_4c1d9674ede2row10_col0\" class=\"data row10 col0\" >74995</td>\n",
       "                        <td id=\"T_928c2a2e_4c6a_11ea_bb26_4c1d9674ede2row10_col1\" class=\"data row10 col1\" >97.9661</td>\n",
       "            </tr>\n",
       "            <tr>\n",
       "                        <th id=\"T_928c2a2e_4c6a_11ea_bb26_4c1d9674ede2level0_row11\" class=\"row_heading level0 row11\" >DIPB轉化率(計算)</th>\n",
       "                        <td id=\"T_928c2a2e_4c6a_11ea_bb26_4c1d9674ede2row11_col0\" class=\"data row11 col0\" >0</td>\n",
       "                        <td id=\"T_928c2a2e_4c6a_11ea_bb26_4c1d9674ede2row11_col1\" class=\"data row11 col1\" >0</td>\n",
       "            </tr>\n",
       "    </tbody></table>"
      ],
      "text/plain": [
       "<pandas.io.formats.style.Styler at 0x1cb7212d4c8>"
      ]
     },
     "execution_count": 11,
     "metadata": {},
     "output_type": "execute_result"
    }
   ],
   "source": [
    "mt = pd.DataFrame(df.isnull().sum(),columns=['total'])\n",
    "mt['%'] = (mt['total']/len(df))*100\n",
    "mt.style.background_gradient()"
   ]
  },
  {
   "cell_type": "markdown",
   "metadata": {},
   "source": [
    "# fill miss value"
   ]
  },
  {
   "cell_type": "code",
   "execution_count": 12,
   "metadata": {},
   "outputs": [
    {
     "data": {
      "text/plain": [
       "['R141入口_新鮮苯流量',\n",
       " 'R141入口_DIPB流量',\n",
       " 'R141入口_溫度',\n",
       " 'R141入口_壓力',\n",
       " 'R141反應溫度_第一床',\n",
       " 'R141反應溫度_第二床',\n",
       " 'R141反應溫度_第三床',\n",
       " 'R141反應溫度_第四床',\n",
       " 'R141出口_溫度',\n",
       " 'R141出口_壓力',\n",
       " 'T121_EB含量']"
      ]
     },
     "execution_count": 12,
     "metadata": {},
     "output_type": "execute_result"
    }
   ],
   "source": [
    "x_col = df.drop(['DIPB轉化率(計算)'],axis=1).columns.tolist()\n",
    "x_col"
   ]
  },
  {
   "cell_type": "markdown",
   "metadata": {},
   "source": [
    "# KNNImputer"
   ]
  },
  {
   "cell_type": "code",
   "execution_count": 13,
   "metadata": {},
   "outputs": [
    {
     "data": {
      "application/vnd.jupyter.widget-view+json": {
       "model_id": "e9894e8e70ab412b90c8ecd908e31693",
       "version_major": 2,
       "version_minor": 0
      },
      "text/plain": [
       "HBox(children=(IntProgress(value=0, max=26), HTML(value='')))"
      ]
     },
     "metadata": {},
     "output_type": "display_data"
    },
    {
     "name": "stdout",
     "output_type": "stream",
     "text": [
      "\n"
     ]
    }
   ],
   "source": [
    "df = shuffle(df)\n",
    "step = 3000\n",
    "for i in tqdm(range(0, len(df), step)):\n",
    "    start, end = i, min(i+step,len(df))\n",
    "    imputer = KNNImputer(n_neighbors = 3)\n",
    "    df.iloc[start:end][x_col] = imputer.fit_transform(df.iloc[start:end][x_col])\n",
    "df = df.sort_index()"
   ]
  },
  {
   "cell_type": "markdown",
   "metadata": {},
   "source": [
    "# mean Imputer"
   ]
  },
  {
   "cell_type": "code",
   "execution_count": 14,
   "metadata": {},
   "outputs": [],
   "source": [
    "#for i in tqdm(df.columns):\n",
    "#    df[i] = df[i].fillna(df[i].mean())"
   ]
  },
  {
   "cell_type": "markdown",
   "metadata": {},
   "source": [
    "# median Imputer"
   ]
  },
  {
   "cell_type": "code",
   "execution_count": 15,
   "metadata": {},
   "outputs": [],
   "source": [
    "#for i in tqdm(df.columns):\n",
    "#    df[i] = df[i].fillna(df[i].median())"
   ]
  },
  {
   "cell_type": "code",
   "execution_count": 16,
   "metadata": {},
   "outputs": [
    {
     "data": {
      "text/plain": [
       "<matplotlib.axes._subplots.AxesSubplot at 0x1cb6f968c88>"
      ]
     },
     "execution_count": 16,
     "metadata": {},
     "output_type": "execute_result"
    },
    {
     "data": {
      "image/png": "[encoded data removed]",
      "text/plain": [
       "<Figure size 1440x360 with 1 Axes>"
      ]
     },
     "metadata": {
      "needs_background": "light"
     },
     "output_type": "display_data"
    }
   ],
   "source": [
    "fig = plt.figure(figsize=(20,5))\n",
    "sns.heatmap(df.isnull(),yticklabels=False,cbar=False,cmap='viridis')"
   ]
  },
  {
   "cell_type": "markdown",
   "metadata": {
    "colab_type": "text",
    "id": "_y8en6-BwQeP"
   },
   "source": [
    "# describe"
   ]
  },
  {
   "cell_type": "code",
   "execution_count": 17,
   "metadata": {
    "colab": {
     "base_uri": "https://localhost:8080/",
     "height": 311
    },
    "colab_type": "code",
    "id": "XLquxxYvvCq0",
    "outputId": "707f9151-4f63-42af-8923-25f9bf76e510"
   },
   "outputs": [
    {
     "data": {
      "text/html": [
       "<div>\n",
       "<style scoped>\n",
       "    .dataframe tbody tr th:only-of-type {\n",
       "        vertical-align: middle;\n",
       "    }\n",
       "\n",
       "    .dataframe tbody tr th {\n",
       "        vertical-align: top;\n",
       "    }\n",
       "\n",
       "    .dataframe thead th {\n",
       "        text-align: right;\n",
       "    }\n",
       "</style>\n",
       "<table border=\"1\" class=\"dataframe\">\n",
       "  <thead>\n",
       "    <tr style=\"text-align: right;\">\n",
       "      <th></th>\n",
       "      <th>T121_EB含量</th>\n",
       "      <th>DIPB轉化率(計算)</th>\n",
       "    </tr>\n",
       "  </thead>\n",
       "  <tbody>\n",
       "    <tr>\n",
       "      <td>count</td>\n",
       "      <td>76552.00</td>\n",
       "      <td>76552.00</td>\n",
       "    </tr>\n",
       "    <tr>\n",
       "      <td>mean</td>\n",
       "      <td>95.76</td>\n",
       "      <td>58.87</td>\n",
       "    </tr>\n",
       "    <tr>\n",
       "      <td>std</td>\n",
       "      <td>16.02</td>\n",
       "      <td>4.00</td>\n",
       "    </tr>\n",
       "    <tr>\n",
       "      <td>min</td>\n",
       "      <td>8.00</td>\n",
       "      <td>9.86</td>\n",
       "    </tr>\n",
       "    <tr>\n",
       "      <td>25%</td>\n",
       "      <td>83.67</td>\n",
       "      <td>57.34</td>\n",
       "    </tr>\n",
       "    <tr>\n",
       "      <td>50%</td>\n",
       "      <td>94.67</td>\n",
       "      <td>58.42</td>\n",
       "    </tr>\n",
       "    <tr>\n",
       "      <td>75%</td>\n",
       "      <td>102.67</td>\n",
       "      <td>59.74</td>\n",
       "    </tr>\n",
       "    <tr>\n",
       "      <td>max</td>\n",
       "      <td>283.00</td>\n",
       "      <td>290.24</td>\n",
       "    </tr>\n",
       "  </tbody>\n",
       "</table>\n",
       "</div>"
      ],
      "text/plain": [
       "       T121_EB含量  DIPB轉化率(計算)\n",
       "count   76552.00     76552.00\n",
       "mean       95.76        58.87\n",
       "std        16.02         4.00\n",
       "min         8.00         9.86\n",
       "25%        83.67        57.34\n",
       "50%        94.67        58.42\n",
       "75%       102.67        59.74\n",
       "max       283.00       290.24"
      ]
     },
     "execution_count": 17,
     "metadata": {},
     "output_type": "execute_result"
    }
   ],
   "source": [
    "df.iloc[:,-2:].describe().apply(lambda x:round(x,2))"
   ]
  },
  {
   "cell_type": "markdown",
   "metadata": {
    "colab_type": "text",
    "id": "Ht4lvN_Ow6dy"
   },
   "source": [
    "# EDA"
   ]
  },
  {
   "cell_type": "code",
   "execution_count": 18,
   "metadata": {
    "colab": {
     "base_uri": "https://localhost:8080/",
     "height": 283
    },
    "colab_type": "code",
    "id": "LYzSvvLYwUYB",
    "outputId": "06a2c7c5-c297-42a8-a3ef-546a68a900a2"
   },
   "outputs": [],
   "source": [
    "#import seaborn as sns\n",
    "#sns.distplot(df['DIPB轉化率(計算)'].dropna().values)"
   ]
  },
  {
   "cell_type": "code",
   "execution_count": 19,
   "metadata": {
    "colab": {
     "base_uri": "https://localhost:8080/",
     "height": 1000
    },
    "colab_type": "code",
    "id": "Zw7hUzXByPTK",
    "outputId": "85450d1b-5faf-45d5-feb6-be2dce131cd2"
   },
   "outputs": [],
   "source": [
    "#import matplotlib.pyplot as plt\n",
    "\n",
    "#y_name = 'DIPB轉化率(計算)'\n",
    "#for i in df.columns.tolist()[1:]:\n",
    "#  print(i)\n",
    "#  plt.scatter(df[i],df[y_name])\n",
    "#  plt.show()"
   ]
  },
  {
   "cell_type": "code",
   "execution_count": 20,
   "metadata": {
    "colab": {
     "base_uri": "https://localhost:8080/",
     "height": 281
    },
    "colab_type": "code",
    "id": "gHJKjuCP0Cux",
    "outputId": "dbb7ce5a-f3af-4e9c-8815-55260a094f9e"
   },
   "outputs": [],
   "source": [
    "#df.corr().style.background_gradient()"
   ]
  },
  {
   "cell_type": "markdown",
   "metadata": {
    "colab_type": "text",
    "id": "PndwIoyo3TMA"
   },
   "source": [
    "# features engineering"
   ]
  },
  {
   "cell_type": "code",
   "execution_count": 21,
   "metadata": {
    "colab": {},
    "colab_type": "code",
    "id": "Pkq3EExU44at"
   },
   "outputs": [],
   "source": [
    "pass"
   ]
  },
  {
   "cell_type": "markdown",
   "metadata": {
    "colab_type": "text",
    "id": "3PlJG6Vw4zMa"
   },
   "source": [
    "# feature select"
   ]
  },
  {
   "cell_type": "code",
   "execution_count": 22,
   "metadata": {
    "colab": {
     "base_uri": "https://localhost:8080/",
     "height": 36
    },
    "colab_type": "code",
    "id": "SNk7zPba2PYy",
    "outputId": "b515ae0b-1bd0-470f-a662-8c889a999724"
   },
   "outputs": [
    {
     "name": "stdout",
     "output_type": "stream",
     "text": [
      "(76552, 11) (76552,)\n"
     ]
    }
   ],
   "source": [
    "features = df.drop(['DIPB轉化率(計算)'],axis=1).columns.tolist()\n",
    "y_name = 'DIPB轉化率(計算)'\n",
    "\n",
    "df = df[features+[y_name]].dropna(subset=[y_name])\n",
    "\n",
    "X = df[features]\n",
    "y = df[y_name]\n",
    "\n",
    "print(X.shape,y.shape)"
   ]
  },
  {
   "cell_type": "markdown",
   "metadata": {
    "colab_type": "text",
    "id": "5j5oPa1241HP"
   },
   "source": [
    "# split"
   ]
  },
  {
   "cell_type": "code",
   "execution_count": 23,
   "metadata": {
    "colab": {},
    "colab_type": "code",
    "id": "mVM4hwRA41O3"
   },
   "outputs": [],
   "source": [
    "from sklearn.model_selection import train_test_split\n",
    "X_train, X_test, y_train, y_test = train_test_split(X, y, test_size=0.2, random_state=42)"
   ]
  },
  {
   "cell_type": "markdown",
   "metadata": {
    "colab_type": "text",
    "id": "lyR4cNuo3tiy"
   },
   "source": [
    "# model"
   ]
  },
  {
   "cell_type": "code",
   "execution_count": 24,
   "metadata": {
    "colab": {},
    "colab_type": "code",
    "id": "aJQ6fk9B3iqS"
   },
   "outputs": [],
   "source": [
    "from sklearn.pipeline import Pipeline\n",
    "from sklearn.preprocessing import StandardScaler\n",
    "from sklearn.svm import SVR\n",
    "from sklearn.linear_model import Ridge\n",
    "from xgboost import XGBRegressor\n",
    "\n",
    "model = Pipeline(steps=[\n",
    "                        ('scaler',StandardScaler()),\n",
    "                        ('reg',XGBRegressor(objective='reg:squarederror')),\n",
    "                        ])"
   ]
  },
  {
   "cell_type": "markdown",
   "metadata": {
    "colab_type": "text",
    "id": "G0O-ya3z5EZB"
   },
   "source": [
    "# train and predict"
   ]
  },
  {
   "cell_type": "code",
   "execution_count": 25,
   "metadata": {
    "colab": {},
    "colab_type": "code",
    "id": "Y90zYZje30fo"
   },
   "outputs": [],
   "source": [
    "model.fit(X_train,y_train)\n",
    "y_pred = model.predict(X_test)"
   ]
  },
  {
   "cell_type": "markdown",
   "metadata": {
    "colab_type": "text",
    "id": "siYi_par8U6t"
   },
   "source": [
    "# metric"
   ]
  },
  {
   "cell_type": "code",
   "execution_count": 26,
   "metadata": {},
   "outputs": [
    {
     "data": {
      "text/html": [
       "<style  type=\"text/css\" >\n",
       "    #T_9e556a80_4c6a_11ea_91a1_4c1d9674ede2row0_col0 {\n",
       "            background-color:  #023858;\n",
       "            color:  #f1f1f1;\n",
       "        }    #T_9e556a80_4c6a_11ea_91a1_4c1d9674ede2row1_col0 {\n",
       "            background-color:  #73a9cf;\n",
       "            color:  #000000;\n",
       "        }    #T_9e556a80_4c6a_11ea_91a1_4c1d9674ede2row2_col0 {\n",
       "            background-color:  #dedcec;\n",
       "            color:  #000000;\n",
       "        }    #T_9e556a80_4c6a_11ea_91a1_4c1d9674ede2row3_col0 {\n",
       "            background-color:  #e5e1ef;\n",
       "            color:  #000000;\n",
       "        }    #T_9e556a80_4c6a_11ea_91a1_4c1d9674ede2row4_col0 {\n",
       "            background-color:  #ede7f2;\n",
       "            color:  #000000;\n",
       "        }    #T_9e556a80_4c6a_11ea_91a1_4c1d9674ede2row5_col0 {\n",
       "            background-color:  #f3edf5;\n",
       "            color:  #000000;\n",
       "        }    #T_9e556a80_4c6a_11ea_91a1_4c1d9674ede2row6_col0 {\n",
       "            background-color:  #f4eef6;\n",
       "            color:  #000000;\n",
       "        }    #T_9e556a80_4c6a_11ea_91a1_4c1d9674ede2row7_col0 {\n",
       "            background-color:  #f7f0f7;\n",
       "            color:  #000000;\n",
       "        }    #T_9e556a80_4c6a_11ea_91a1_4c1d9674ede2row8_col0 {\n",
       "            background-color:  #faf2f8;\n",
       "            color:  #000000;\n",
       "        }    #T_9e556a80_4c6a_11ea_91a1_4c1d9674ede2row9_col0 {\n",
       "            background-color:  #faf3f9;\n",
       "            color:  #000000;\n",
       "        }    #T_9e556a80_4c6a_11ea_91a1_4c1d9674ede2row10_col0 {\n",
       "            background-color:  #fff7fb;\n",
       "            color:  #000000;\n",
       "        }</style><table id=\"T_9e556a80_4c6a_11ea_91a1_4c1d9674ede2\" ><thead>    <tr>        <th class=\"blank level0\" ></th>        <th class=\"col_heading level0 col0\" >imp</th>    </tr></thead><tbody>\n",
       "                <tr>\n",
       "                        <th id=\"T_9e556a80_4c6a_11ea_91a1_4c1d9674ede2level0_row0\" class=\"row_heading level0 row0\" >R141出口_壓力</th>\n",
       "                        <td id=\"T_9e556a80_4c6a_11ea_91a1_4c1d9674ede2row0_col0\" class=\"data row0 col0\" >0.403203</td>\n",
       "            </tr>\n",
       "            <tr>\n",
       "                        <th id=\"T_9e556a80_4c6a_11ea_91a1_4c1d9674ede2level0_row1\" class=\"row_heading level0 row1\" >R141入口_新鮮苯流量</th>\n",
       "                        <td id=\"T_9e556a80_4c6a_11ea_91a1_4c1d9674ede2row1_col0\" class=\"data row1 col0\" >0.20805</td>\n",
       "            </tr>\n",
       "            <tr>\n",
       "                        <th id=\"T_9e556a80_4c6a_11ea_91a1_4c1d9674ede2level0_row2\" class=\"row_heading level0 row2\" >R141入口_壓力</th>\n",
       "                        <td id=\"T_9e556a80_4c6a_11ea_91a1_4c1d9674ede2row2_col0\" class=\"data row2 col0\" >0.084343</td>\n",
       "            </tr>\n",
       "            <tr>\n",
       "                        <th id=\"T_9e556a80_4c6a_11ea_91a1_4c1d9674ede2level0_row3\" class=\"row_heading level0 row3\" >R141入口_DIPB流量</th>\n",
       "                        <td id=\"T_9e556a80_4c6a_11ea_91a1_4c1d9674ede2row3_col0\" class=\"data row3 col0\" >0.0727618</td>\n",
       "            </tr>\n",
       "            <tr>\n",
       "                        <th id=\"T_9e556a80_4c6a_11ea_91a1_4c1d9674ede2level0_row4\" class=\"row_heading level0 row4\" >R141反應溫度_第二床</th>\n",
       "                        <td id=\"T_9e556a80_4c6a_11ea_91a1_4c1d9674ede2row4_col0\" class=\"data row4 col0\" >0.0584534</td>\n",
       "            </tr>\n",
       "            <tr>\n",
       "                        <th id=\"T_9e556a80_4c6a_11ea_91a1_4c1d9674ede2level0_row5\" class=\"row_heading level0 row5\" >R141出口_溫度</th>\n",
       "                        <td id=\"T_9e556a80_4c6a_11ea_91a1_4c1d9674ede2row5_col0\" class=\"data row5 col0\" >0.0425934</td>\n",
       "            </tr>\n",
       "            <tr>\n",
       "                        <th id=\"T_9e556a80_4c6a_11ea_91a1_4c1d9674ede2level0_row6\" class=\"row_heading level0 row6\" >R141反應溫度_第三床</th>\n",
       "                        <td id=\"T_9e556a80_4c6a_11ea_91a1_4c1d9674ede2row6_col0\" class=\"data row6 col0\" >0.0382845</td>\n",
       "            </tr>\n",
       "            <tr>\n",
       "                        <th id=\"T_9e556a80_4c6a_11ea_91a1_4c1d9674ede2level0_row7\" class=\"row_heading level0 row7\" >R141反應溫度_第一床</th>\n",
       "                        <td id=\"T_9e556a80_4c6a_11ea_91a1_4c1d9674ede2row7_col0\" class=\"data row7 col0\" >0.0332921</td>\n",
       "            </tr>\n",
       "            <tr>\n",
       "                        <th id=\"T_9e556a80_4c6a_11ea_91a1_4c1d9674ede2level0_row8\" class=\"row_heading level0 row8\" >T121_EB含量</th>\n",
       "                        <td id=\"T_9e556a80_4c6a_11ea_91a1_4c1d9674ede2row8_col0\" class=\"data row8 col0\" >0.0252415</td>\n",
       "            </tr>\n",
       "            <tr>\n",
       "                        <th id=\"T_9e556a80_4c6a_11ea_91a1_4c1d9674ede2level0_row9\" class=\"row_heading level0 row9\" >R141入口_溫度</th>\n",
       "                        <td id=\"T_9e556a80_4c6a_11ea_91a1_4c1d9674ede2row9_col0\" class=\"data row9 col0\" >0.0231745</td>\n",
       "            </tr>\n",
       "            <tr>\n",
       "                        <th id=\"T_9e556a80_4c6a_11ea_91a1_4c1d9674ede2level0_row10\" class=\"row_heading level0 row10\" >R141反應溫度_第四床</th>\n",
       "                        <td id=\"T_9e556a80_4c6a_11ea_91a1_4c1d9674ede2row10_col0\" class=\"data row10 col0\" >0.0106034</td>\n",
       "            </tr>\n",
       "    </tbody></table>"
      ],
      "text/plain": [
       "<pandas.io.formats.style.Styler at 0x1cb6ea53fc8>"
      ]
     },
     "execution_count": 26,
     "metadata": {},
     "output_type": "execute_result"
    }
   ],
   "source": [
    "FIMP = pd.DataFrame(model['reg'].feature_importances_,index=X.columns,columns=['imp'])\n",
    "FIMP = FIMP.sort_values(by='imp',ascending=False)\n",
    "FIMP.style.background_gradient()"
   ]
  },
  {
   "cell_type": "code",
   "execution_count": 27,
   "metadata": {
    "colab": {},
    "colab_type": "code",
    "id": "I_Y76c707X4e"
   },
   "outputs": [],
   "source": [
    "y_pred = pd.Series(y_pred,index=y_test.index,name='y_pred')"
   ]
  },
  {
   "cell_type": "code",
   "execution_count": 28,
   "metadata": {
    "colab": {
     "base_uri": "https://localhost:8080/",
     "height": 342
    },
    "colab_type": "code",
    "id": "KiJR57ZO8XWI",
    "outputId": "50948b77-5b7c-4d40-df6d-f27a4ac432a6"
   },
   "outputs": [
    {
     "data": {
      "text/plain": [
       "Text(0.5, 1.0, 'Moving average 6*24(day)')"
      ]
     },
     "execution_count": 28,
     "metadata": {},
     "output_type": "execute_result"
    },
    {
     "data": {
      "image/png": "[encoded data removed]",
      "text/plain": [
       "<Figure size 1440x360 with 1 Axes>"
      ]
     },
     "metadata": {
      "needs_background": "light"
     },
     "output_type": "display_data"
    }
   ],
   "source": [
    "fig = plt.figure(figsize=(20,5))\n",
    "plt.plot(y_test.sort_index().rolling(6*24).mean(),label='y_test')\n",
    "plt.plot(y_pred.sort_index().rolling(6*24).mean(),label='y_pred')\n",
    "plt.ylim(50,70)\n",
    "plt.legend()\n",
    "plt.title('Moving average 6*24(day)')"
   ]
  },
  {
   "cell_type": "code",
   "execution_count": 29,
   "metadata": {
    "colab": {
     "base_uri": "https://localhost:8080/",
     "height": 517
    },
    "colab_type": "code",
    "id": "FsY8g-hk-OTj",
    "outputId": "96896243-1a92-48ec-8f6a-cf5675cf3dc9"
   },
   "outputs": [
    {
     "data": {
      "image/png": "[encoded data removed]",
      "text/plain": [
       "<Figure size 432x288 with 1 Axes>"
      ]
     },
     "metadata": {
      "needs_background": "light"
     },
     "output_type": "display_data"
    },
    {
     "data": {
      "image/png": "[encoded data removed]",
      "text/plain": [
       "<Figure size 432x288 with 1 Axes>"
      ]
     },
     "metadata": {
      "needs_background": "light"
     },
     "output_type": "display_data"
    },
    {
     "data": {
      "image/png": "[encoded data removed]",
      "text/plain": [
       "<Figure size 432x288 with 1 Axes>"
      ]
     },
     "metadata": {
      "needs_background": "light"
     },
     "output_type": "display_data"
    }
   ],
   "source": [
    "from scipy import stats\n",
    "\n",
    "residual = y_test - y_pred\n",
    "\n",
    "# plot1\n",
    "stats.probplot(residual, plot=plt)\n",
    "plt.title('residual')\n",
    "plt.show()\n",
    "\n",
    "# plot2\n",
    "sns.distplot(residual)\n",
    "plt.xlim(-10,10)\n",
    "plt.title('residual')\n",
    "plt.show()\n",
    "\n",
    "# plot3\n",
    "sns.regplot(y_pred,residual)\n",
    "plt.title('residual')\n",
    "plt.show()"
   ]
  },
  {
   "cell_type": "markdown",
   "metadata": {},
   "source": [
    "# evaluate"
   ]
  },
  {
   "cell_type": "code",
   "execution_count": 30,
   "metadata": {},
   "outputs": [
    {
     "data": {
      "text/html": [
       "<div>\n",
       "<style scoped>\n",
       "    .dataframe tbody tr th:only-of-type {\n",
       "        vertical-align: middle;\n",
       "    }\n",
       "\n",
       "    .dataframe tbody tr th {\n",
       "        vertical-align: top;\n",
       "    }\n",
       "\n",
       "    .dataframe thead th {\n",
       "        text-align: right;\n",
       "    }\n",
       "</style>\n",
       "<table border=\"1\" class=\"dataframe\">\n",
       "  <thead>\n",
       "    <tr style=\"text-align: right;\">\n",
       "      <th></th>\n",
       "      <th>r2</th>\n",
       "      <th>rmse</th>\n",
       "      <th>mape</th>\n",
       "    </tr>\n",
       "  </thead>\n",
       "  <tbody>\n",
       "    <tr>\n",
       "      <td>knn_filled</td>\n",
       "      <td>0.881019</td>\n",
       "      <td>1.341809</td>\n",
       "      <td>0.009571</td>\n",
       "    </tr>\n",
       "  </tbody>\n",
       "</table>\n",
       "</div>"
      ],
      "text/plain": [
       "                  r2      rmse      mape\n",
       "knn_filled  0.881019  1.341809  0.009571"
      ]
     },
     "execution_count": 30,
     "metadata": {},
     "output_type": "execute_result"
    }
   ],
   "source": [
    "t = pd.DataFrame(index=['knn_filled'],columns=['r2','rmse','mape'])\n",
    "t['r2'] = r2_score(y_test,y_pred)\n",
    "t['rmse'] = rmse(y_test,y_pred)\n",
    "t['mape'] = mape(y_test,y_pred)\n",
    "t"
   ]
  },
  {
   "cell_type": "code",
   "execution_count": null,
   "metadata": {},
   "outputs": [],
   "source": []
  }
 ],
 "metadata": {
  "colab": {
   "collapsed_sections": [],
   "include_colab_link": true,
   "name": "Chemistry-2.ipynb",
   "provenance": []
  },
  "kernelspec": {
   "display_name": "Python 3",
   "language": "python",
   "name": "python3"
  },
  "language_info": {
   "codemirror_mode": {
    "name": "ipython",
    "version": 3
   },
   "file_extension": ".py",
   "mimetype": "text/x-python",
   "name": "python",
   "nbconvert_exporter": "python",
   "pygments_lexer": "ipython3",
   "version": "3.7.4"
  }
 },
 "nbformat": 4,
 "nbformat_minor": 1
}
