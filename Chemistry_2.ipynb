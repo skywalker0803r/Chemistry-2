{
  "nbformat": 4,
  "nbformat_minor": 0,
  "metadata": {
    "colab": {
      "name": "Chemistry-2.ipynb",
      "provenance": [],
      "collapsed_sections": [],
      "include_colab_link": true
    },
    "kernelspec": {
      "name": "python3",
      "display_name": "Python 3"
    }
  },
  "cells": [
    {
      "cell_type": "markdown",
      "metadata": {
        "id": "view-in-github",
        "colab_type": "text"
      },
      "source": [
        "<a href=\"https://colab.research.google.com/github/skywalker0803r/Chemistry-2/blob/master/Chemistry_2.ipynb\" target=\"_parent\"><img src=\"https://colab.research.google.com/assets/colab-badge.svg\" alt=\"Open In Colab\"/></a>"
      ]
    },
    {
      "cell_type": "code",
      "metadata": {
        "id": "pAjTgyB5qZPG",
        "colab_type": "code",
        "colab": {}
      },
      "source": [
        "import pandas as pd\n",
        "import numpy as np\n",
        "import warnings;warnings.simplefilter('ignore')"
      ],
      "execution_count": 0,
      "outputs": []
    },
    {
      "cell_type": "code",
      "metadata": {
        "id": "i-9UVUBMqrhF",
        "colab_type": "code",
        "outputId": "edbba9a6-1db4-4d86-ba39-4ea497ad939d",
        "colab": {
          "base_uri": "https://localhost:8080/",
          "height": 36
        }
      },
      "source": [
        "from google.colab import drive\n",
        "drive.mount('/content/drive')"
      ],
      "execution_count": 2,
      "outputs": [
        {
          "output_type": "stream",
          "text": [
            "Drive already mounted at /content/drive; to attempt to forcibly remount, call drive.mount(\"/content/drive\", force_remount=True).\n"
          ],
          "name": "stdout"
        }
      ]
    },
    {
      "cell_type": "markdown",
      "metadata": {
        "id": "VQ7WWlyYtH_Z",
        "colab_type": "text"
      },
      "source": [
        "# load raw data"
      ]
    },
    {
      "cell_type": "code",
      "metadata": {
        "id": "CnKgQLF7qe9k",
        "colab_type": "code",
        "outputId": "b471cda3-e5c4-4a41-d7d1-501ed4194b40",
        "colab": {
          "base_uri": "https://localhost:8080/",
          "height": 283
        }
      },
      "source": [
        "df = pd.read_excel('/content/drive/My Drive/台化二部/data/操作與品管數據(20200102提供).xlsx')\n",
        "df.head()"
      ],
      "execution_count": 3,
      "outputs": [
        {
          "output_type": "execute_result",
          "data": {
            "text/html": [
              "<div>\n",
              "<style scoped>\n",
              "    .dataframe tbody tr th:only-of-type {\n",
              "        vertical-align: middle;\n",
              "    }\n",
              "\n",
              "    .dataframe tbody tr th {\n",
              "        vertical-align: top;\n",
              "    }\n",
              "\n",
              "    .dataframe thead th {\n",
              "        text-align: right;\n",
              "    }\n",
              "</style>\n",
              "<table border=\"1\" class=\"dataframe\">\n",
              "  <thead>\n",
              "    <tr style=\"text-align: right;\">\n",
              "      <th></th>\n",
              "      <th>Unnamed: 0</th>\n",
              "      <th>R141入口</th>\n",
              "      <th>Unnamed: 2</th>\n",
              "      <th>Unnamed: 3</th>\n",
              "      <th>Unnamed: 4</th>\n",
              "      <th>R141反應溫度</th>\n",
              "      <th>Unnamed: 6</th>\n",
              "      <th>Unnamed: 7</th>\n",
              "      <th>Unnamed: 8</th>\n",
              "      <th>R141出口</th>\n",
              "      <th>Unnamed: 10</th>\n",
              "      <th>品管數據</th>\n",
              "      <th>Unnamed: 12</th>\n",
              "      <th>Unnamed: 13</th>\n",
              "    </tr>\n",
              "  </thead>\n",
              "  <tbody>\n",
              "    <tr>\n",
              "      <th>0</th>\n",
              "      <td>NaN</td>\n",
              "      <td>新鮮苯流量(M3/h)</td>\n",
              "      <td>DIPB流量(M3/h)</td>\n",
              "      <td>溫度(℃)</td>\n",
              "      <td>壓力(KGf/cm2 G)</td>\n",
              "      <td>第一床(℃)</td>\n",
              "      <td>第二床(℃)</td>\n",
              "      <td>第三床(℃)</td>\n",
              "      <td>第四床(℃)</td>\n",
              "      <td>溫度(℃)</td>\n",
              "      <td>壓力(KGf/cm2 G)</td>\n",
              "      <td>ppm</td>\n",
              "      <td>%</td>\n",
              "      <td>%</td>\n",
              "    </tr>\n",
              "    <tr>\n",
              "      <th>1</th>\n",
              "      <td>DATE</td>\n",
              "      <td>PHL-DCS-FIC1147_PV</td>\n",
              "      <td>PHL-DCS-FIC1149A_PV</td>\n",
              "      <td>PHL-DCS-TIC1163_PV</td>\n",
              "      <td>PHL-DCS-PI1162_PV</td>\n",
              "      <td>PHL-DCS-TI1166_PV</td>\n",
              "      <td>PHL-DCS-TI1167_PV</td>\n",
              "      <td>PHL-DCS-TI1168_PV</td>\n",
              "      <td>PHL-DCS-TI1169_PV</td>\n",
              "      <td>PHL-DCS-TI1170_PV</td>\n",
              "      <td>PHL-DCS-PIC1166_PV</td>\n",
              "      <td>T121 EB含量</td>\n",
              "      <td>DIPB轉化率(檢測)</td>\n",
              "      <td>DIPB轉化率(計算)</td>\n",
              "    </tr>\n",
              "    <tr>\n",
              "      <th>2</th>\n",
              "      <td>2013-08-20 10:10:00</td>\n",
              "      <td>31.212</td>\n",
              "      <td>24.9928</td>\n",
              "      <td>169.894</td>\n",
              "      <td>[-11059] No Good Data For Calculation</td>\n",
              "      <td>167.057</td>\n",
              "      <td>166.569</td>\n",
              "      <td>166.279</td>\n",
              "      <td>165.041</td>\n",
              "      <td>[-11059] No Good Data For Calculation</td>\n",
              "      <td>12.297</td>\n",
              "      <td>NaN</td>\n",
              "      <td>NaN</td>\n",
              "      <td>58.7768</td>\n",
              "    </tr>\n",
              "    <tr>\n",
              "      <th>3</th>\n",
              "      <td>2013-08-20 10:20:00</td>\n",
              "      <td>31.2236</td>\n",
              "      <td>25.0668</td>\n",
              "      <td>169.753</td>\n",
              "      <td>[-11059] No Good Data For Calculation</td>\n",
              "      <td>167.051</td>\n",
              "      <td>166.576</td>\n",
              "      <td>166.26</td>\n",
              "      <td>164.97</td>\n",
              "      <td>[-11059] No Good Data For Calculation</td>\n",
              "      <td>12.2914</td>\n",
              "      <td>NaN</td>\n",
              "      <td>NaN</td>\n",
              "      <td>58.8524</td>\n",
              "    </tr>\n",
              "    <tr>\n",
              "      <th>4</th>\n",
              "      <td>2013-08-20 10:30:00</td>\n",
              "      <td>31.5726</td>\n",
              "      <td>25.163</td>\n",
              "      <td>169.526</td>\n",
              "      <td>[-11059] No Good Data For Calculation</td>\n",
              "      <td>167.042</td>\n",
              "      <td>166.584</td>\n",
              "      <td>166.235</td>\n",
              "      <td>164.877</td>\n",
              "      <td>[-11059] No Good Data For Calculation</td>\n",
              "      <td>12.3175</td>\n",
              "      <td>NaN</td>\n",
              "      <td>NaN</td>\n",
              "      <td>59.1137</td>\n",
              "    </tr>\n",
              "  </tbody>\n",
              "</table>\n",
              "</div>"
            ],
            "text/plain": [
              "            Unnamed: 0              R141入口  ...  Unnamed: 12  Unnamed: 13\n",
              "0                  NaN         新鮮苯流量(M3/h)  ...            %            %\n",
              "1                 DATE  PHL-DCS-FIC1147_PV  ...  DIPB轉化率(檢測)  DIPB轉化率(計算)\n",
              "2  2013-08-20 10:10:00              31.212  ...          NaN      58.7768\n",
              "3  2013-08-20 10:20:00             31.2236  ...          NaN      58.8524\n",
              "4  2013-08-20 10:30:00             31.5726  ...          NaN      59.1137\n",
              "\n",
              "[5 rows x 14 columns]"
            ]
          },
          "metadata": {
            "tags": []
          },
          "execution_count": 3
        }
      ]
    },
    {
      "cell_type": "markdown",
      "metadata": {
        "id": "FiRp-lJStKGu",
        "colab_type": "text"
      },
      "source": [
        "# table data"
      ]
    },
    {
      "cell_type": "code",
      "metadata": {
        "id": "GsL7_AIxq396",
        "colab_type": "code",
        "outputId": "d65cb6d3-e764-4b91-b6de-06112e63d6c8",
        "colab": {
          "base_uri": "https://localhost:8080/",
          "height": 318
        }
      },
      "source": [
        "cols = ['Date','R141入口_新鮮苯流量','R141入口_DIPB流量','R141入口_溫度','R141入口_壓力',\n",
        "        'R141反應溫度_第一床','R141反應溫度_第二床','R141反應溫度_第三床','R141反應溫度_第四床',\n",
        "        'R141出口_溫度','R141出口_壓力','T121_EB含量','DIPB轉化率(檢測)','DIPB轉化率(計算)']\n",
        "values = df.iloc[2:,:]\n",
        "values\n",
        "new_df = pd.DataFrame(values.values,columns=cols)\n",
        "new_df.head()"
      ],
      "execution_count": 4,
      "outputs": [
        {
          "output_type": "execute_result",
          "data": {
            "text/html": [
              "<div>\n",
              "<style scoped>\n",
              "    .dataframe tbody tr th:only-of-type {\n",
              "        vertical-align: middle;\n",
              "    }\n",
              "\n",
              "    .dataframe tbody tr th {\n",
              "        vertical-align: top;\n",
              "    }\n",
              "\n",
              "    .dataframe thead th {\n",
              "        text-align: right;\n",
              "    }\n",
              "</style>\n",
              "<table border=\"1\" class=\"dataframe\">\n",
              "  <thead>\n",
              "    <tr style=\"text-align: right;\">\n",
              "      <th></th>\n",
              "      <th>Date</th>\n",
              "      <th>R141入口_新鮮苯流量</th>\n",
              "      <th>R141入口_DIPB流量</th>\n",
              "      <th>R141入口_溫度</th>\n",
              "      <th>R141入口_壓力</th>\n",
              "      <th>R141反應溫度_第一床</th>\n",
              "      <th>R141反應溫度_第二床</th>\n",
              "      <th>R141反應溫度_第三床</th>\n",
              "      <th>R141反應溫度_第四床</th>\n",
              "      <th>R141出口_溫度</th>\n",
              "      <th>R141出口_壓力</th>\n",
              "      <th>T121_EB含量</th>\n",
              "      <th>DIPB轉化率(檢測)</th>\n",
              "      <th>DIPB轉化率(計算)</th>\n",
              "    </tr>\n",
              "  </thead>\n",
              "  <tbody>\n",
              "    <tr>\n",
              "      <th>0</th>\n",
              "      <td>2013-08-20 10:10:00</td>\n",
              "      <td>31.212</td>\n",
              "      <td>24.9928</td>\n",
              "      <td>169.894</td>\n",
              "      <td>[-11059] No Good Data For Calculation</td>\n",
              "      <td>167.057</td>\n",
              "      <td>166.569</td>\n",
              "      <td>166.279</td>\n",
              "      <td>165.041</td>\n",
              "      <td>[-11059] No Good Data For Calculation</td>\n",
              "      <td>12.297</td>\n",
              "      <td>NaN</td>\n",
              "      <td>NaN</td>\n",
              "      <td>58.7768</td>\n",
              "    </tr>\n",
              "    <tr>\n",
              "      <th>1</th>\n",
              "      <td>2013-08-20 10:20:00</td>\n",
              "      <td>31.2236</td>\n",
              "      <td>25.0668</td>\n",
              "      <td>169.753</td>\n",
              "      <td>[-11059] No Good Data For Calculation</td>\n",
              "      <td>167.051</td>\n",
              "      <td>166.576</td>\n",
              "      <td>166.26</td>\n",
              "      <td>164.97</td>\n",
              "      <td>[-11059] No Good Data For Calculation</td>\n",
              "      <td>12.2914</td>\n",
              "      <td>NaN</td>\n",
              "      <td>NaN</td>\n",
              "      <td>58.8524</td>\n",
              "    </tr>\n",
              "    <tr>\n",
              "      <th>2</th>\n",
              "      <td>2013-08-20 10:30:00</td>\n",
              "      <td>31.5726</td>\n",
              "      <td>25.163</td>\n",
              "      <td>169.526</td>\n",
              "      <td>[-11059] No Good Data For Calculation</td>\n",
              "      <td>167.042</td>\n",
              "      <td>166.584</td>\n",
              "      <td>166.235</td>\n",
              "      <td>164.877</td>\n",
              "      <td>[-11059] No Good Data For Calculation</td>\n",
              "      <td>12.3175</td>\n",
              "      <td>NaN</td>\n",
              "      <td>NaN</td>\n",
              "      <td>59.1137</td>\n",
              "    </tr>\n",
              "    <tr>\n",
              "      <th>3</th>\n",
              "      <td>2013-08-20 10:40:00</td>\n",
              "      <td>31.8862</td>\n",
              "      <td>25.1367</td>\n",
              "      <td>169.317</td>\n",
              "      <td>[-11059] No Good Data For Calculation</td>\n",
              "      <td>167.034</td>\n",
              "      <td>166.592</td>\n",
              "      <td>166.21</td>\n",
              "      <td>164.784</td>\n",
              "      <td>[-11059] No Good Data For Calculation</td>\n",
              "      <td>12.3179</td>\n",
              "      <td>NaN</td>\n",
              "      <td>NaN</td>\n",
              "      <td>58.8904</td>\n",
              "    </tr>\n",
              "    <tr>\n",
              "      <th>4</th>\n",
              "      <td>2013-08-20 10:50:00</td>\n",
              "      <td>31.8554</td>\n",
              "      <td>25.2207</td>\n",
              "      <td>169.665</td>\n",
              "      <td>[-11059] No Good Data For Calculation</td>\n",
              "      <td>167.026</td>\n",
              "      <td>166.6</td>\n",
              "      <td>166.186</td>\n",
              "      <td>164.691</td>\n",
              "      <td>[-11059] No Good Data For Calculation</td>\n",
              "      <td>12.3155</td>\n",
              "      <td>NaN</td>\n",
              "      <td>NaN</td>\n",
              "      <td>58.7622</td>\n",
              "    </tr>\n",
              "  </tbody>\n",
              "</table>\n",
              "</div>"
            ],
            "text/plain": [
              "                 Date R141入口_新鮮苯流量  ... DIPB轉化率(檢測) DIPB轉化率(計算)\n",
              "0 2013-08-20 10:10:00       31.212  ...         NaN     58.7768\n",
              "1 2013-08-20 10:20:00      31.2236  ...         NaN     58.8524\n",
              "2 2013-08-20 10:30:00      31.5726  ...         NaN     59.1137\n",
              "3 2013-08-20 10:40:00      31.8862  ...         NaN     58.8904\n",
              "4 2013-08-20 10:50:00      31.8554  ...         NaN     58.7622\n",
              "\n",
              "[5 rows x 14 columns]"
            ]
          },
          "metadata": {
            "tags": []
          },
          "execution_count": 4
        }
      ]
    },
    {
      "cell_type": "markdown",
      "metadata": {
        "id": "eki5yjzctvJ9",
        "colab_type": "text"
      },
      "source": [
        "# col transform"
      ]
    },
    {
      "cell_type": "code",
      "metadata": {
        "id": "OQ6YJ-DZub0f",
        "colab_type": "code",
        "colab": {}
      },
      "source": [
        "new_df = new_df.replace('[-11059] No Good Data For Calculation',np.nan)"
      ],
      "execution_count": 0,
      "outputs": []
    },
    {
      "cell_type": "code",
      "metadata": {
        "id": "R6enhqwhrLZR",
        "colab_type": "code",
        "outputId": "540c8f3b-1e5a-4880-b9e0-6c7591d6b408",
        "colab": {
          "base_uri": "https://localhost:8080/",
          "height": 298
        }
      },
      "source": [
        "for i in new_df.columns.tolist()[1:]:\n",
        "  new_df[i] = pd.to_numeric(new_df[i])\n",
        "new_df.dtypes"
      ],
      "execution_count": 6,
      "outputs": [
        {
          "output_type": "execute_result",
          "data": {
            "text/plain": [
              "Date             datetime64[ns]\n",
              "R141入口_新鮮苯流量            float64\n",
              "R141入口_DIPB流量           float64\n",
              "R141入口_溫度               float64\n",
              "R141入口_壓力               float64\n",
              "R141反應溫度_第一床            float64\n",
              "R141反應溫度_第二床            float64\n",
              "R141反應溫度_第三床            float64\n",
              "R141反應溫度_第四床            float64\n",
              "R141出口_溫度               float64\n",
              "R141出口_壓力               float64\n",
              "T121_EB含量               float64\n",
              "DIPB轉化率(檢測)             float64\n",
              "DIPB轉化率(計算)             float64\n",
              "dtype: object"
            ]
          },
          "metadata": {
            "tags": []
          },
          "execution_count": 6
        }
      ]
    },
    {
      "cell_type": "markdown",
      "metadata": {
        "id": "aLYCeyHTu8Jv",
        "colab_type": "text"
      },
      "source": [
        "# miss value check"
      ]
    },
    {
      "cell_type": "code",
      "metadata": {
        "id": "4WDNj1gDuLUm",
        "colab_type": "code",
        "outputId": "fe832603-f050-40b0-d900-96211c02e95c",
        "colab": {
          "base_uri": "https://localhost:8080/",
          "height": 506
        }
      },
      "source": [
        "mt = pd.DataFrame(new_df.isnull().sum(),columns=['total'])\n",
        "mt['%'] = (mt['total']/len(new_df))*100\n",
        "mt"
      ],
      "execution_count": 7,
      "outputs": [
        {
          "output_type": "execute_result",
          "data": {
            "text/html": [
              "<div>\n",
              "<style scoped>\n",
              "    .dataframe tbody tr th:only-of-type {\n",
              "        vertical-align: middle;\n",
              "    }\n",
              "\n",
              "    .dataframe tbody tr th {\n",
              "        vertical-align: top;\n",
              "    }\n",
              "\n",
              "    .dataframe thead th {\n",
              "        text-align: right;\n",
              "    }\n",
              "</style>\n",
              "<table border=\"1\" class=\"dataframe\">\n",
              "  <thead>\n",
              "    <tr style=\"text-align: right;\">\n",
              "      <th></th>\n",
              "      <th>total</th>\n",
              "      <th>%</th>\n",
              "    </tr>\n",
              "  </thead>\n",
              "  <tbody>\n",
              "    <tr>\n",
              "      <th>Date</th>\n",
              "      <td>0</td>\n",
              "      <td>0.000000</td>\n",
              "    </tr>\n",
              "    <tr>\n",
              "      <th>R141入口_新鮮苯流量</th>\n",
              "      <td>71</td>\n",
              "      <td>0.085514</td>\n",
              "    </tr>\n",
              "    <tr>\n",
              "      <th>R141入口_DIPB流量</th>\n",
              "      <td>71</td>\n",
              "      <td>0.085514</td>\n",
              "    </tr>\n",
              "    <tr>\n",
              "      <th>R141入口_溫度</th>\n",
              "      <td>71</td>\n",
              "      <td>0.085514</td>\n",
              "    </tr>\n",
              "    <tr>\n",
              "      <th>R141入口_壓力</th>\n",
              "      <td>47276</td>\n",
              "      <td>56.940513</td>\n",
              "    </tr>\n",
              "    <tr>\n",
              "      <th>R141反應溫度_第一床</th>\n",
              "      <td>71</td>\n",
              "      <td>0.085514</td>\n",
              "    </tr>\n",
              "    <tr>\n",
              "      <th>R141反應溫度_第二床</th>\n",
              "      <td>71</td>\n",
              "      <td>0.085514</td>\n",
              "    </tr>\n",
              "    <tr>\n",
              "      <th>R141反應溫度_第三床</th>\n",
              "      <td>71</td>\n",
              "      <td>0.085514</td>\n",
              "    </tr>\n",
              "    <tr>\n",
              "      <th>R141反應溫度_第四床</th>\n",
              "      <td>71</td>\n",
              "      <td>0.085514</td>\n",
              "    </tr>\n",
              "    <tr>\n",
              "      <th>R141出口_溫度</th>\n",
              "      <td>47275</td>\n",
              "      <td>56.939309</td>\n",
              "    </tr>\n",
              "    <tr>\n",
              "      <th>R141出口_壓力</th>\n",
              "      <td>71</td>\n",
              "      <td>0.085514</td>\n",
              "    </tr>\n",
              "    <tr>\n",
              "      <th>T121_EB含量</th>\n",
              "      <td>81469</td>\n",
              "      <td>98.123502</td>\n",
              "    </tr>\n",
              "    <tr>\n",
              "      <th>DIPB轉化率(檢測)</th>\n",
              "      <td>82539</td>\n",
              "      <td>99.412239</td>\n",
              "    </tr>\n",
              "    <tr>\n",
              "      <th>DIPB轉化率(計算)</th>\n",
              "      <td>6474</td>\n",
              "      <td>7.797463</td>\n",
              "    </tr>\n",
              "  </tbody>\n",
              "</table>\n",
              "</div>"
            ],
            "text/plain": [
              "               total          %\n",
              "Date               0   0.000000\n",
              "R141入口_新鮮苯流量      71   0.085514\n",
              "R141入口_DIPB流量     71   0.085514\n",
              "R141入口_溫度         71   0.085514\n",
              "R141入口_壓力      47276  56.940513\n",
              "R141反應溫度_第一床      71   0.085514\n",
              "R141反應溫度_第二床      71   0.085514\n",
              "R141反應溫度_第三床      71   0.085514\n",
              "R141反應溫度_第四床      71   0.085514\n",
              "R141出口_溫度      47275  56.939309\n",
              "R141出口_壓力         71   0.085514\n",
              "T121_EB含量      81469  98.123502\n",
              "DIPB轉化率(檢測)    82539  99.412239\n",
              "DIPB轉化率(計算)     6474   7.797463"
            ]
          },
          "metadata": {
            "tags": []
          },
          "execution_count": 7
        }
      ]
    },
    {
      "cell_type": "markdown",
      "metadata": {
        "id": "_y8en6-BwQeP",
        "colab_type": "text"
      },
      "source": [
        "# describe"
      ]
    },
    {
      "cell_type": "code",
      "metadata": {
        "id": "XLquxxYvvCq0",
        "colab_type": "code",
        "outputId": "707f9151-4f63-42af-8923-25f9bf76e510",
        "colab": {
          "base_uri": "https://localhost:8080/",
          "height": 311
        }
      },
      "source": [
        "new_df.describe().apply(lambda x:round(x,2))"
      ],
      "execution_count": 8,
      "outputs": [
        {
          "output_type": "execute_result",
          "data": {
            "text/html": [
              "<div>\n",
              "<style scoped>\n",
              "    .dataframe tbody tr th:only-of-type {\n",
              "        vertical-align: middle;\n",
              "    }\n",
              "\n",
              "    .dataframe tbody tr th {\n",
              "        vertical-align: top;\n",
              "    }\n",
              "\n",
              "    .dataframe thead th {\n",
              "        text-align: right;\n",
              "    }\n",
              "</style>\n",
              "<table border=\"1\" class=\"dataframe\">\n",
              "  <thead>\n",
              "    <tr style=\"text-align: right;\">\n",
              "      <th></th>\n",
              "      <th>R141入口_新鮮苯流量</th>\n",
              "      <th>R141入口_DIPB流量</th>\n",
              "      <th>R141入口_溫度</th>\n",
              "      <th>R141入口_壓力</th>\n",
              "      <th>R141反應溫度_第一床</th>\n",
              "      <th>R141反應溫度_第二床</th>\n",
              "      <th>R141反應溫度_第三床</th>\n",
              "      <th>R141反應溫度_第四床</th>\n",
              "      <th>R141出口_溫度</th>\n",
              "      <th>R141出口_壓力</th>\n",
              "      <th>T121_EB含量</th>\n",
              "      <th>DIPB轉化率(檢測)</th>\n",
              "      <th>DIPB轉化率(計算)</th>\n",
              "    </tr>\n",
              "  </thead>\n",
              "  <tbody>\n",
              "    <tr>\n",
              "      <th>count</th>\n",
              "      <td>82956.00</td>\n",
              "      <td>82956.00</td>\n",
              "      <td>82956.00</td>\n",
              "      <td>35751.00</td>\n",
              "      <td>82956.00</td>\n",
              "      <td>82956.00</td>\n",
              "      <td>82956.00</td>\n",
              "      <td>82956.00</td>\n",
              "      <td>35752.00</td>\n",
              "      <td>82956.00</td>\n",
              "      <td>1558.00</td>\n",
              "      <td>488.00</td>\n",
              "      <td>76553.00</td>\n",
              "    </tr>\n",
              "    <tr>\n",
              "      <th>mean</th>\n",
              "      <td>33.27</td>\n",
              "      <td>22.74</td>\n",
              "      <td>165.90</td>\n",
              "      <td>14.41</td>\n",
              "      <td>157.73</td>\n",
              "      <td>157.85</td>\n",
              "      <td>157.64</td>\n",
              "      <td>156.10</td>\n",
              "      <td>164.57</td>\n",
              "      <td>11.39</td>\n",
              "      <td>97.09</td>\n",
              "      <td>60.08</td>\n",
              "      <td>58.87</td>\n",
              "    </tr>\n",
              "    <tr>\n",
              "      <th>std</th>\n",
              "      <td>11.02</td>\n",
              "      <td>6.74</td>\n",
              "      <td>16.82</td>\n",
              "      <td>0.13</td>\n",
              "      <td>36.05</td>\n",
              "      <td>36.14</td>\n",
              "      <td>36.09</td>\n",
              "      <td>36.59</td>\n",
              "      <td>6.08</td>\n",
              "      <td>3.14</td>\n",
              "      <td>25.09</td>\n",
              "      <td>14.73</td>\n",
              "      <td>4.01</td>\n",
              "    </tr>\n",
              "    <tr>\n",
              "      <th>min</th>\n",
              "      <td>0.03</td>\n",
              "      <td>0.00</td>\n",
              "      <td>110.04</td>\n",
              "      <td>7.41</td>\n",
              "      <td>17.49</td>\n",
              "      <td>17.30</td>\n",
              "      <td>17.15</td>\n",
              "      <td>0.00</td>\n",
              "      <td>54.79</td>\n",
              "      <td>0.00</td>\n",
              "      <td>8.00</td>\n",
              "      <td>-44.02</td>\n",
              "      <td>-0.63</td>\n",
              "    </tr>\n",
              "    <tr>\n",
              "      <th>25%</th>\n",
              "      <td>31.12</td>\n",
              "      <td>24.17</td>\n",
              "      <td>168.80</td>\n",
              "      <td>14.38</td>\n",
              "      <td>165.68</td>\n",
              "      <td>165.38</td>\n",
              "      <td>165.01</td>\n",
              "      <td>163.47</td>\n",
              "      <td>164.39</td>\n",
              "      <td>12.30</td>\n",
              "      <td>83.00</td>\n",
              "      <td>59.10</td>\n",
              "      <td>57.34</td>\n",
              "    </tr>\n",
              "    <tr>\n",
              "      <th>50%</th>\n",
              "      <td>35.17</td>\n",
              "      <td>24.80</td>\n",
              "      <td>170.48</td>\n",
              "      <td>14.42</td>\n",
              "      <td>167.54</td>\n",
              "      <td>167.69</td>\n",
              "      <td>167.44</td>\n",
              "      <td>166.49</td>\n",
              "      <td>165.37</td>\n",
              "      <td>12.30</td>\n",
              "      <td>94.00</td>\n",
              "      <td>64.22</td>\n",
              "      <td>58.42</td>\n",
              "    </tr>\n",
              "    <tr>\n",
              "      <th>75%</th>\n",
              "      <td>40.99</td>\n",
              "      <td>25.50</td>\n",
              "      <td>173.02</td>\n",
              "      <td>14.44</td>\n",
              "      <td>170.29</td>\n",
              "      <td>170.67</td>\n",
              "      <td>170.39</td>\n",
              "      <td>169.37</td>\n",
              "      <td>166.37</td>\n",
              "      <td>12.30</td>\n",
              "      <td>105.00</td>\n",
              "      <td>67.89</td>\n",
              "      <td>59.74</td>\n",
              "    </tr>\n",
              "    <tr>\n",
              "      <th>max</th>\n",
              "      <td>52.73</td>\n",
              "      <td>29.72</td>\n",
              "      <td>184.35</td>\n",
              "      <td>15.10</td>\n",
              "      <td>182.30</td>\n",
              "      <td>177.28</td>\n",
              "      <td>187.30</td>\n",
              "      <td>176.02</td>\n",
              "      <td>173.64</td>\n",
              "      <td>12.73</td>\n",
              "      <td>283.00</td>\n",
              "      <td>72.99</td>\n",
              "      <td>290.24</td>\n",
              "    </tr>\n",
              "  </tbody>\n",
              "</table>\n",
              "</div>"
            ],
            "text/plain": [
              "       R141入口_新鮮苯流量  R141入口_DIPB流量  ...  DIPB轉化率(檢測)  DIPB轉化率(計算)\n",
              "count      82956.00       82956.00  ...       488.00     76553.00\n",
              "mean          33.27          22.74  ...        60.08        58.87\n",
              "std           11.02           6.74  ...        14.73         4.01\n",
              "min            0.03           0.00  ...       -44.02        -0.63\n",
              "25%           31.12          24.17  ...        59.10        57.34\n",
              "50%           35.17          24.80  ...        64.22        58.42\n",
              "75%           40.99          25.50  ...        67.89        59.74\n",
              "max           52.73          29.72  ...        72.99       290.24\n",
              "\n",
              "[8 rows x 13 columns]"
            ]
          },
          "metadata": {
            "tags": []
          },
          "execution_count": 8
        }
      ]
    },
    {
      "cell_type": "markdown",
      "metadata": {
        "id": "Ht4lvN_Ow6dy",
        "colab_type": "text"
      },
      "source": [
        "# EDA"
      ]
    },
    {
      "cell_type": "code",
      "metadata": {
        "id": "LYzSvvLYwUYB",
        "colab_type": "code",
        "outputId": "06a2c7c5-c297-42a8-a3ef-546a68a900a2",
        "colab": {
          "base_uri": "https://localhost:8080/",
          "height": 283
        }
      },
      "source": [
        "import seaborn as sns\n",
        "\n",
        "sns.distplot(new_df['DIPB轉化率(計算)'].dropna().values)"
      ],
      "execution_count": 9,
      "outputs": [
        {
          "output_type": "execute_result",
          "data": {
            "text/plain": [
              "<matplotlib.axes._subplots.AxesSubplot at 0x7f4110499748>"
            ]
          },
          "metadata": {
            "tags": []
          },
          "execution_count": 9
        },
        {
          "output_type": "display_data",
          "data": {
            "image/png": "[encoded data removed]",
            "text/plain": [
              "<Figure size 432x288 with 1 Axes>"
            ]
          },
          "metadata": {
            "tags": []
          }
        }
      ]
    },
    {
      "cell_type": "code",
      "metadata": {
        "id": "Zw7hUzXByPTK",
        "colab_type": "code",
        "colab": {
          "base_uri": "https://localhost:8080/",
          "height": 1000
        },
        "outputId": "85450d1b-5faf-45d5-feb6-be2dce131cd2"
      },
      "source": [
        "import matplotlib.pyplot as plt\n",
        "\n",
        "y_name = 'DIPB轉化率(計算)'\n",
        "for i in new_df.columns.tolist()[1:]:\n",
        "  print(i)\n",
        "  plt.scatter(new_df[i],new_df[y_name])\n",
        "  plt.show()"
      ],
      "execution_count": 10,
      "outputs": [
        {
          "output_type": "stream",
          "text": [
            "R141入口_新鮮苯流量\n"
          ],
          "name": "stdout"
        },
        {
          "output_type": "display_data",
          "data": {
            "image/png": "[encoded data removed]",
            "text/plain": [
              "<Figure size 432x288 with 1 Axes>"
            ]
          },
          "metadata": {
            "tags": []
          }
        },
        {
          "output_type": "stream",
          "text": [
            "R141入口_DIPB流量\n"
          ],
          "name": "stdout"
        },
        {
          "output_type": "display_data",
          "data": {
            "image/png": "[encoded data removed]",
            "text/plain": [
              "<Figure size 432x288 with 1 Axes>"
            ]
          },
          "metadata": {
            "tags": []
          }
        },
        {
          "output_type": "stream",
          "text": [
            "R141入口_溫度\n"
          ],
          "name": "stdout"
        },
        {
          "output_type": "display_data",
          "data": {
            "image/png": "[encoded data removed]",
            "text/plain": [
              "<Figure size 432x288 with 1 Axes>"
            ]
          },
          "metadata": {
            "tags": []
          }
        },
        {
          "output_type": "stream",
          "text": [
            "R141入口_壓力\n"
          ],
          "name": "stdout"
        },
        {
          "output_type": "display_data",
          "data": {
            "image/png": "[encoded data removed]",
            "text/plain": [
              "<Figure size 432x288 with 1 Axes>"
            ]
          },
          "metadata": {
            "tags": []
          }
        },
        {
          "output_type": "stream",
          "text": [
            "R141反應溫度_第一床\n"
          ],
          "name": "stdout"
        },
        {
          "output_type": "display_data",
          "data": {
            "image/png": "[encoded data removed]",
            "text/plain": [
              "<Figure size 432x288 with 1 Axes>"
            ]
          },
          "metadata": {
            "tags": []
          }
        },
        {
          "output_type": "stream",
          "text": [
            "R141反應溫度_第二床\n"
          ],
          "name": "stdout"
        },
        {
          "output_type": "display_data",
          "data": {
            "image/png": "[encoded data removed]",
            "text/plain": [
              "<Figure size 432x288 with 1 Axes>"
            ]
          },
          "metadata": {
            "tags": []
          }
        },
        {
          "output_type": "stream",
          "text": [
            "R141反應溫度_第三床\n"
          ],
          "name": "stdout"
        },
        {
          "output_type": "display_data",
          "data": {
            "image/png": "[encoded data removed]",
            "text/plain": [
              "<Figure size 432x288 with 1 Axes>"
            ]
          },
          "metadata": {
            "tags": []
          }
        },
        {
          "output_type": "stream",
          "text": [
            "R141反應溫度_第四床\n"
          ],
          "name": "stdout"
        },
        {
          "output_type": "display_data",
          "data": {
            "image/png": "[encoded data removed]",
            "text/plain": [
              "<Figure size 432x288 with 1 Axes>"
            ]
          },
          "metadata": {
            "tags": []
          }
        },
        {
          "output_type": "stream",
          "text": [
            "R141出口_溫度\n"
          ],
          "name": "stdout"
        },
        {
          "output_type": "display_data",
          "data": {
            "image/png": "[encoded data removed]",
            "text/plain": [
              "<Figure size 432x288 with 1 Axes>"
            ]
          },
          "metadata": {
            "tags": []
          }
        },
        {
          "output_type": "stream",
          "text": [
            "R141出口_壓力\n"
          ],
          "name": "stdout"
        },
        {
          "output_type": "display_data",
          "data": {
            "image/png": "[encoded data removed]",
            "text/plain": [
              "<Figure size 432x288 with 1 Axes>"
            ]
          },
          "metadata": {
            "tags": []
          }
        },
        {
          "output_type": "stream",
          "text": [
            "T121_EB含量\n"
          ],
          "name": "stdout"
        },
        {
          "output_type": "display_data",
          "data": {
            "image/png": "[encoded data removed]",
            "text/plain": [
              "<Figure size 432x288 with 1 Axes>"
            ]
          },
          "metadata": {
            "tags": []
          }
        },
        {
          "output_type": "stream",
          "text": [
            "DIPB轉化率(檢測)\n"
          ],
          "name": "stdout"
        },
        {
          "output_type": "display_data",
          "data": {
            "image/png": "[encoded data removed]",
            "text/plain": [
              "<Figure size 432x288 with 1 Axes>"
            ]
          },
          "metadata": {
            "tags": []
          }
        },
        {
          "output_type": "stream",
          "text": [
            "DIPB轉化率(計算)\n"
          ],
          "name": "stdout"
        },
        {
          "output_type": "display_data",
          "data": {
            "image/png": "[encoded data removed]",
            "text/plain": [
              "<Figure size 432x288 with 1 Axes>"
            ]
          },
          "metadata": {
            "tags": []
          }
        }
      ]
    },
    {
      "cell_type": "code",
      "metadata": {
        "id": "gHJKjuCP0Cux",
        "colab_type": "code",
        "colab": {
          "base_uri": "https://localhost:8080/",
          "height": 281
        },
        "outputId": "dbb7ce5a-f3af-4e9c-8815-55260a094f9e"
      },
      "source": [
        "new_df.corr().style.background_gradient()"
      ],
      "execution_count": 11,
      "outputs": [
        {
          "output_type": "execute_result",
          "data": {
            "text/html": [
              "<style  type=\"text/css\" >\n",
              "    #T_b893e050_31bf_11ea_ba01_0242ac1c0002row0_col0 {\n",
              "            background-color:  #023858;\n",
              "            color:  #f1f1f1;\n",
              "        }    #T_b893e050_31bf_11ea_ba01_0242ac1c0002row0_col1 {\n",
              "            background-color:  #034e7b;\n",
              "            color:  #f1f1f1;\n",
              "        }    #T_b893e050_31bf_11ea_ba01_0242ac1c0002row0_col2 {\n",
              "            background-color:  #034e7b;\n",
              "            color:  #f1f1f1;\n",
              "        }    #T_b893e050_31bf_11ea_ba01_0242ac1c0002row0_col3 {\n",
              "            background-color:  #7eadd1;\n",
              "            color:  #000000;\n",
              "        }    #T_b893e050_31bf_11ea_ba01_0242ac1c0002row0_col4 {\n",
              "            background-color:  #045b8f;\n",
              "            color:  #f1f1f1;\n",
              "        }    #T_b893e050_31bf_11ea_ba01_0242ac1c0002row0_col5 {\n",
              "            background-color:  #045b8f;\n",
              "            color:  #f1f1f1;\n",
              "        }    #T_b893e050_31bf_11ea_ba01_0242ac1c0002row0_col6 {\n",
              "            background-color:  #045d92;\n",
              "            color:  #f1f1f1;\n",
              "        }    #T_b893e050_31bf_11ea_ba01_0242ac1c0002row0_col7 {\n",
              "            background-color:  #045a8d;\n",
              "            color:  #f1f1f1;\n",
              "        }    #T_b893e050_31bf_11ea_ba01_0242ac1c0002row0_col8 {\n",
              "            background-color:  #04639b;\n",
              "            color:  #f1f1f1;\n",
              "        }    #T_b893e050_31bf_11ea_ba01_0242ac1c0002row0_col9 {\n",
              "            background-color:  #045e93;\n",
              "            color:  #f1f1f1;\n",
              "        }    #T_b893e050_31bf_11ea_ba01_0242ac1c0002row0_col10 {\n",
              "            background-color:  #fcf4fa;\n",
              "            color:  #000000;\n",
              "        }    #T_b893e050_31bf_11ea_ba01_0242ac1c0002row0_col11 {\n",
              "            background-color:  #d9d8ea;\n",
              "            color:  #000000;\n",
              "        }    #T_b893e050_31bf_11ea_ba01_0242ac1c0002row0_col12 {\n",
              "            background-color:  #fff7fb;\n",
              "            color:  #000000;\n",
              "        }    #T_b893e050_31bf_11ea_ba01_0242ac1c0002row1_col0 {\n",
              "            background-color:  #034c78;\n",
              "            color:  #f1f1f1;\n",
              "        }    #T_b893e050_31bf_11ea_ba01_0242ac1c0002row1_col1 {\n",
              "            background-color:  #023858;\n",
              "            color:  #f1f1f1;\n",
              "        }    #T_b893e050_31bf_11ea_ba01_0242ac1c0002row1_col2 {\n",
              "            background-color:  #03466e;\n",
              "            color:  #f1f1f1;\n",
              "        }    #T_b893e050_31bf_11ea_ba01_0242ac1c0002row1_col3 {\n",
              "            background-color:  #69a5cc;\n",
              "            color:  #000000;\n",
              "        }    #T_b893e050_31bf_11ea_ba01_0242ac1c0002row1_col4 {\n",
              "            background-color:  #045585;\n",
              "            color:  #f1f1f1;\n",
              "        }    #T_b893e050_31bf_11ea_ba01_0242ac1c0002row1_col5 {\n",
              "            background-color:  #045788;\n",
              "            color:  #f1f1f1;\n",
              "        }    #T_b893e050_31bf_11ea_ba01_0242ac1c0002row1_col6 {\n",
              "            background-color:  #045a8d;\n",
              "            color:  #f1f1f1;\n",
              "        }    #T_b893e050_31bf_11ea_ba01_0242ac1c0002row1_col7 {\n",
              "            background-color:  #045585;\n",
              "            color:  #f1f1f1;\n",
              "        }    #T_b893e050_31bf_11ea_ba01_0242ac1c0002row1_col8 {\n",
              "            background-color:  #0569a5;\n",
              "            color:  #f1f1f1;\n",
              "        }    #T_b893e050_31bf_11ea_ba01_0242ac1c0002row1_col9 {\n",
              "            background-color:  #045687;\n",
              "            color:  #f1f1f1;\n",
              "        }    #T_b893e050_31bf_11ea_ba01_0242ac1c0002row1_col10 {\n",
              "            background-color:  #dedcec;\n",
              "            color:  #000000;\n",
              "        }    #T_b893e050_31bf_11ea_ba01_0242ac1c0002row1_col11 {\n",
              "            background-color:  #b4c4df;\n",
              "            color:  #000000;\n",
              "        }    #T_b893e050_31bf_11ea_ba01_0242ac1c0002row1_col12 {\n",
              "            background-color:  #f4eef6;\n",
              "            color:  #000000;\n",
              "        }    #T_b893e050_31bf_11ea_ba01_0242ac1c0002row2_col0 {\n",
              "            background-color:  #034a74;\n",
              "            color:  #f1f1f1;\n",
              "        }    #T_b893e050_31bf_11ea_ba01_0242ac1c0002row2_col1 {\n",
              "            background-color:  #03446a;\n",
              "            color:  #f1f1f1;\n",
              "        }    #T_b893e050_31bf_11ea_ba01_0242ac1c0002row2_col2 {\n",
              "            background-color:  #023858;\n",
              "            color:  #f1f1f1;\n",
              "        }    #T_b893e050_31bf_11ea_ba01_0242ac1c0002row2_col3 {\n",
              "            background-color:  #6fa7ce;\n",
              "            color:  #000000;\n",
              "        }    #T_b893e050_31bf_11ea_ba01_0242ac1c0002row2_col4 {\n",
              "            background-color:  #03456c;\n",
              "            color:  #f1f1f1;\n",
              "        }    #T_b893e050_31bf_11ea_ba01_0242ac1c0002row2_col5 {\n",
              "            background-color:  #034871;\n",
              "            color:  #f1f1f1;\n",
              "        }    #T_b893e050_31bf_11ea_ba01_0242ac1c0002row2_col6 {\n",
              "            background-color:  #034a74;\n",
              "            color:  #f1f1f1;\n",
              "        }    #T_b893e050_31bf_11ea_ba01_0242ac1c0002row2_col7 {\n",
              "            background-color:  #03476f;\n",
              "            color:  #f1f1f1;\n",
              "        }    #T_b893e050_31bf_11ea_ba01_0242ac1c0002row2_col8 {\n",
              "            background-color:  #0a73b2;\n",
              "            color:  #f1f1f1;\n",
              "        }    #T_b893e050_31bf_11ea_ba01_0242ac1c0002row2_col9 {\n",
              "            background-color:  #03456c;\n",
              "            color:  #f1f1f1;\n",
              "        }    #T_b893e050_31bf_11ea_ba01_0242ac1c0002row2_col10 {\n",
              "            background-color:  #ced0e6;\n",
              "            color:  #000000;\n",
              "        }    #T_b893e050_31bf_11ea_ba01_0242ac1c0002row2_col11 {\n",
              "            background-color:  #ece7f2;\n",
              "            color:  #000000;\n",
              "        }    #T_b893e050_31bf_11ea_ba01_0242ac1c0002row2_col12 {\n",
              "            background-color:  #dcdaeb;\n",
              "            color:  #000000;\n",
              "        }    #T_b893e050_31bf_11ea_ba01_0242ac1c0002row3_col0 {\n",
              "            background-color:  #62a2cb;\n",
              "            color:  #000000;\n",
              "        }    #T_b893e050_31bf_11ea_ba01_0242ac1c0002row3_col1 {\n",
              "            background-color:  #5ea0ca;\n",
              "            color:  #000000;\n",
              "        }    #T_b893e050_31bf_11ea_ba01_0242ac1c0002row3_col2 {\n",
              "            background-color:  #83afd3;\n",
              "            color:  #000000;\n",
              "        }    #T_b893e050_31bf_11ea_ba01_0242ac1c0002row3_col3 {\n",
              "            background-color:  #023858;\n",
              "            color:  #f1f1f1;\n",
              "        }    #T_b893e050_31bf_11ea_ba01_0242ac1c0002row3_col4 {\n",
              "            background-color:  #a1bbda;\n",
              "            color:  #000000;\n",
              "        }    #T_b893e050_31bf_11ea_ba01_0242ac1c0002row3_col5 {\n",
              "            background-color:  #afc1dd;\n",
              "            color:  #000000;\n",
              "        }    #T_b893e050_31bf_11ea_ba01_0242ac1c0002row3_col6 {\n",
              "            background-color:  #a8bedc;\n",
              "            color:  #000000;\n",
              "        }    #T_b893e050_31bf_11ea_ba01_0242ac1c0002row3_col7 {\n",
              "            background-color:  #b1c2de;\n",
              "            color:  #000000;\n",
              "        }    #T_b893e050_31bf_11ea_ba01_0242ac1c0002row3_col8 {\n",
              "            background-color:  #5c9fc9;\n",
              "            color:  #000000;\n",
              "        }    #T_b893e050_31bf_11ea_ba01_0242ac1c0002row3_col9 {\n",
              "            background-color:  #034165;\n",
              "            color:  #f1f1f1;\n",
              "        }    #T_b893e050_31bf_11ea_ba01_0242ac1c0002row3_col10 {\n",
              "            background-color:  #fff7fb;\n",
              "            color:  #000000;\n",
              "        }    #T_b893e050_31bf_11ea_ba01_0242ac1c0002row3_col11 {\n",
              "            background-color:  #fff7fb;\n",
              "            color:  #000000;\n",
              "        }    #T_b893e050_31bf_11ea_ba01_0242ac1c0002row3_col12 {\n",
              "            background-color:  #d3d4e7;\n",
              "            color:  #000000;\n",
              "        }    #T_b893e050_31bf_11ea_ba01_0242ac1c0002row4_col0 {\n",
              "            background-color:  #045382;\n",
              "            color:  #f1f1f1;\n",
              "        }    #T_b893e050_31bf_11ea_ba01_0242ac1c0002row4_col1 {\n",
              "            background-color:  #034f7d;\n",
              "            color:  #f1f1f1;\n",
              "        }    #T_b893e050_31bf_11ea_ba01_0242ac1c0002row4_col2 {\n",
              "            background-color:  #03446a;\n",
              "            color:  #f1f1f1;\n",
              "        }    #T_b893e050_31bf_11ea_ba01_0242ac1c0002row4_col3 {\n",
              "            background-color:  #7dacd1;\n",
              "            color:  #000000;\n",
              "        }    #T_b893e050_31bf_11ea_ba01_0242ac1c0002row4_col4 {\n",
              "            background-color:  #023858;\n",
              "            color:  #f1f1f1;\n",
              "        }    #T_b893e050_31bf_11ea_ba01_0242ac1c0002row4_col5 {\n",
              "            background-color:  #02395a;\n",
              "            color:  #f1f1f1;\n",
              "        }    #T_b893e050_31bf_11ea_ba01_0242ac1c0002row4_col6 {\n",
              "            background-color:  #023b5d;\n",
              "            color:  #f1f1f1;\n",
              "        }    #T_b893e050_31bf_11ea_ba01_0242ac1c0002row4_col7 {\n",
              "            background-color:  #023d60;\n",
              "            color:  #f1f1f1;\n",
              "        }    #T_b893e050_31bf_11ea_ba01_0242ac1c0002row4_col8 {\n",
              "            background-color:  #056dac;\n",
              "            color:  #f1f1f1;\n",
              "        }    #T_b893e050_31bf_11ea_ba01_0242ac1c0002row4_col9 {\n",
              "            background-color:  #03476f;\n",
              "            color:  #f1f1f1;\n",
              "        }    #T_b893e050_31bf_11ea_ba01_0242ac1c0002row4_col10 {\n",
              "            background-color:  #e6e2ef;\n",
              "            color:  #000000;\n",
              "        }    #T_b893e050_31bf_11ea_ba01_0242ac1c0002row4_col11 {\n",
              "            background-color:  #e7e3f0;\n",
              "            color:  #000000;\n",
              "        }    #T_b893e050_31bf_11ea_ba01_0242ac1c0002row4_col12 {\n",
              "            background-color:  #ced0e6;\n",
              "            color:  #000000;\n",
              "        }    #T_b893e050_31bf_11ea_ba01_0242ac1c0002row5_col0 {\n",
              "            background-color:  #045382;\n",
              "            color:  #f1f1f1;\n",
              "        }    #T_b893e050_31bf_11ea_ba01_0242ac1c0002row5_col1 {\n",
              "            background-color:  #045280;\n",
              "            color:  #f1f1f1;\n",
              "        }    #T_b893e050_31bf_11ea_ba01_0242ac1c0002row5_col2 {\n",
              "            background-color:  #03476f;\n",
              "            color:  #f1f1f1;\n",
              "        }    #T_b893e050_31bf_11ea_ba01_0242ac1c0002row5_col3 {\n",
              "            background-color:  #8bb2d4;\n",
              "            color:  #000000;\n",
              "        }    #T_b893e050_31bf_11ea_ba01_0242ac1c0002row5_col4 {\n",
              "            background-color:  #02395a;\n",
              "            color:  #f1f1f1;\n",
              "        }    #T_b893e050_31bf_11ea_ba01_0242ac1c0002row5_col5 {\n",
              "            background-color:  #023858;\n",
              "            color:  #f1f1f1;\n",
              "        }    #T_b893e050_31bf_11ea_ba01_0242ac1c0002row5_col6 {\n",
              "            background-color:  #02395a;\n",
              "            color:  #f1f1f1;\n",
              "        }    #T_b893e050_31bf_11ea_ba01_0242ac1c0002row5_col7 {\n",
              "            background-color:  #023b5d;\n",
              "            color:  #f1f1f1;\n",
              "        }    #T_b893e050_31bf_11ea_ba01_0242ac1c0002row5_col8 {\n",
              "            background-color:  #0569a4;\n",
              "            color:  #f1f1f1;\n",
              "        }    #T_b893e050_31bf_11ea_ba01_0242ac1c0002row5_col9 {\n",
              "            background-color:  #03466e;\n",
              "            color:  #f1f1f1;\n",
              "        }    #T_b893e050_31bf_11ea_ba01_0242ac1c0002row5_col10 {\n",
              "            background-color:  #e8e4f0;\n",
              "            color:  #000000;\n",
              "        }    #T_b893e050_31bf_11ea_ba01_0242ac1c0002row5_col11 {\n",
              "            background-color:  #e8e4f0;\n",
              "            color:  #000000;\n",
              "        }    #T_b893e050_31bf_11ea_ba01_0242ac1c0002row5_col12 {\n",
              "            background-color:  #c1cae2;\n",
              "            color:  #000000;\n",
              "        }    #T_b893e050_31bf_11ea_ba01_0242ac1c0002row6_col0 {\n",
              "            background-color:  #045483;\n",
              "            color:  #f1f1f1;\n",
              "        }    #T_b893e050_31bf_11ea_ba01_0242ac1c0002row6_col1 {\n",
              "            background-color:  #045382;\n",
              "            color:  #f1f1f1;\n",
              "        }    #T_b893e050_31bf_11ea_ba01_0242ac1c0002row6_col2 {\n",
              "            background-color:  #034973;\n",
              "            color:  #f1f1f1;\n",
              "        }    #T_b893e050_31bf_11ea_ba01_0242ac1c0002row6_col3 {\n",
              "            background-color:  #81aed2;\n",
              "            color:  #000000;\n",
              "        }    #T_b893e050_31bf_11ea_ba01_0242ac1c0002row6_col4 {\n",
              "            background-color:  #023b5d;\n",
              "            color:  #f1f1f1;\n",
              "        }    #T_b893e050_31bf_11ea_ba01_0242ac1c0002row6_col5 {\n",
              "            background-color:  #02395a;\n",
              "            color:  #f1f1f1;\n",
              "        }    #T_b893e050_31bf_11ea_ba01_0242ac1c0002row6_col6 {\n",
              "            background-color:  #023858;\n",
              "            color:  #f1f1f1;\n",
              "        }    #T_b893e050_31bf_11ea_ba01_0242ac1c0002row6_col7 {\n",
              "            background-color:  #023a5b;\n",
              "            color:  #f1f1f1;\n",
              "        }    #T_b893e050_31bf_11ea_ba01_0242ac1c0002row6_col8 {\n",
              "            background-color:  #045d92;\n",
              "            color:  #f1f1f1;\n",
              "        }    #T_b893e050_31bf_11ea_ba01_0242ac1c0002row6_col9 {\n",
              "            background-color:  #03476f;\n",
              "            color:  #f1f1f1;\n",
              "        }    #T_b893e050_31bf_11ea_ba01_0242ac1c0002row6_col10 {\n",
              "            background-color:  #eae6f1;\n",
              "            color:  #000000;\n",
              "        }    #T_b893e050_31bf_11ea_ba01_0242ac1c0002row6_col11 {\n",
              "            background-color:  #e6e2ef;\n",
              "            color:  #000000;\n",
              "        }    #T_b893e050_31bf_11ea_ba01_0242ac1c0002row6_col12 {\n",
              "            background-color:  #bcc7e1;\n",
              "            color:  #000000;\n",
              "        }    #T_b893e050_31bf_11ea_ba01_0242ac1c0002row7_col0 {\n",
              "            background-color:  #03517e;\n",
              "            color:  #f1f1f1;\n",
              "        }    #T_b893e050_31bf_11ea_ba01_0242ac1c0002row7_col1 {\n",
              "            background-color:  #034e7b;\n",
              "            color:  #f1f1f1;\n",
              "        }    #T_b893e050_31bf_11ea_ba01_0242ac1c0002row7_col2 {\n",
              "            background-color:  #03456c;\n",
              "            color:  #f1f1f1;\n",
              "        }    #T_b893e050_31bf_11ea_ba01_0242ac1c0002row7_col3 {\n",
              "            background-color:  #88b1d4;\n",
              "            color:  #000000;\n",
              "        }    #T_b893e050_31bf_11ea_ba01_0242ac1c0002row7_col4 {\n",
              "            background-color:  #023c5f;\n",
              "            color:  #f1f1f1;\n",
              "        }    #T_b893e050_31bf_11ea_ba01_0242ac1c0002row7_col5 {\n",
              "            background-color:  #023a5b;\n",
              "            color:  #f1f1f1;\n",
              "        }    #T_b893e050_31bf_11ea_ba01_0242ac1c0002row7_col6 {\n",
              "            background-color:  #023a5b;\n",
              "            color:  #f1f1f1;\n",
              "        }    #T_b893e050_31bf_11ea_ba01_0242ac1c0002row7_col7 {\n",
              "            background-color:  #023858;\n",
              "            color:  #f1f1f1;\n",
              "        }    #T_b893e050_31bf_11ea_ba01_0242ac1c0002row7_col8 {\n",
              "            background-color:  #03476f;\n",
              "            color:  #f1f1f1;\n",
              "        }    #T_b893e050_31bf_11ea_ba01_0242ac1c0002row7_col9 {\n",
              "            background-color:  #034267;\n",
              "            color:  #f1f1f1;\n",
              "        }    #T_b893e050_31bf_11ea_ba01_0242ac1c0002row7_col10 {\n",
              "            background-color:  #ece7f2;\n",
              "            color:  #000000;\n",
              "        }    #T_b893e050_31bf_11ea_ba01_0242ac1c0002row7_col11 {\n",
              "            background-color:  #e2dfee;\n",
              "            color:  #000000;\n",
              "        }    #T_b893e050_31bf_11ea_ba01_0242ac1c0002row7_col12 {\n",
              "            background-color:  #c8cde4;\n",
              "            color:  #000000;\n",
              "        }    #T_b893e050_31bf_11ea_ba01_0242ac1c0002row8_col0 {\n",
              "            background-color:  #04639b;\n",
              "            color:  #f1f1f1;\n",
              "        }    #T_b893e050_31bf_11ea_ba01_0242ac1c0002row8_col1 {\n",
              "            background-color:  #056caa;\n",
              "            color:  #f1f1f1;\n",
              "        }    #T_b893e050_31bf_11ea_ba01_0242ac1c0002row8_col2 {\n",
              "            background-color:  #2383ba;\n",
              "            color:  #000000;\n",
              "        }    #T_b893e050_31bf_11ea_ba01_0242ac1c0002row8_col3 {\n",
              "            background-color:  #78abd0;\n",
              "            color:  #000000;\n",
              "        }    #T_b893e050_31bf_11ea_ba01_0242ac1c0002row8_col4 {\n",
              "            background-color:  #1c7fb8;\n",
              "            color:  #000000;\n",
              "        }    #T_b893e050_31bf_11ea_ba01_0242ac1c0002row8_col5 {\n",
              "            background-color:  #0f76b3;\n",
              "            color:  #f1f1f1;\n",
              "        }    #T_b893e050_31bf_11ea_ba01_0242ac1c0002row8_col6 {\n",
              "            background-color:  #05659f;\n",
              "            color:  #f1f1f1;\n",
              "        }    #T_b893e050_31bf_11ea_ba01_0242ac1c0002row8_col7 {\n",
              "            background-color:  #034c78;\n",
              "            color:  #f1f1f1;\n",
              "        }    #T_b893e050_31bf_11ea_ba01_0242ac1c0002row8_col8 {\n",
              "            background-color:  #023858;\n",
              "            color:  #f1f1f1;\n",
              "        }    #T_b893e050_31bf_11ea_ba01_0242ac1c0002row8_col9 {\n",
              "            background-color:  #a2bcda;\n",
              "            color:  #000000;\n",
              "        }    #T_b893e050_31bf_11ea_ba01_0242ac1c0002row8_col10 {\n",
              "            background-color:  #8cb3d5;\n",
              "            color:  #000000;\n",
              "        }    #T_b893e050_31bf_11ea_ba01_0242ac1c0002row8_col11 {\n",
              "            background-color:  #c5cce3;\n",
              "            color:  #000000;\n",
              "        }    #T_b893e050_31bf_11ea_ba01_0242ac1c0002row8_col12 {\n",
              "            background-color:  #fef6fb;\n",
              "            color:  #000000;\n",
              "        }    #T_b893e050_31bf_11ea_ba01_0242ac1c0002row9_col0 {\n",
              "            background-color:  #045483;\n",
              "            color:  #f1f1f1;\n",
              "        }    #T_b893e050_31bf_11ea_ba01_0242ac1c0002row9_col1 {\n",
              "            background-color:  #034e7b;\n",
              "            color:  #f1f1f1;\n",
              "        }    #T_b893e050_31bf_11ea_ba01_0242ac1c0002row9_col2 {\n",
              "            background-color:  #03446a;\n",
              "            color:  #f1f1f1;\n",
              "        }    #T_b893e050_31bf_11ea_ba01_0242ac1c0002row9_col3 {\n",
              "            background-color:  #023f64;\n",
              "            color:  #f1f1f1;\n",
              "        }    #T_b893e050_31bf_11ea_ba01_0242ac1c0002row9_col4 {\n",
              "            background-color:  #03466e;\n",
              "            color:  #f1f1f1;\n",
              "        }    #T_b893e050_31bf_11ea_ba01_0242ac1c0002row9_col5 {\n",
              "            background-color:  #03456c;\n",
              "            color:  #f1f1f1;\n",
              "        }    #T_b893e050_31bf_11ea_ba01_0242ac1c0002row9_col6 {\n",
              "            background-color:  #03466e;\n",
              "            color:  #f1f1f1;\n",
              "        }    #T_b893e050_31bf_11ea_ba01_0242ac1c0002row9_col7 {\n",
              "            background-color:  #034267;\n",
              "            color:  #f1f1f1;\n",
              "        }    #T_b893e050_31bf_11ea_ba01_0242ac1c0002row9_col8 {\n",
              "            background-color:  #549cc7;\n",
              "            color:  #000000;\n",
              "        }    #T_b893e050_31bf_11ea_ba01_0242ac1c0002row9_col9 {\n",
              "            background-color:  #023858;\n",
              "            color:  #f1f1f1;\n",
              "        }    #T_b893e050_31bf_11ea_ba01_0242ac1c0002row9_col10 {\n",
              "            background-color:  #e4e1ef;\n",
              "            color:  #000000;\n",
              "        }    #T_b893e050_31bf_11ea_ba01_0242ac1c0002row9_col11 {\n",
              "            background-color:  #d4d4e8;\n",
              "            color:  #000000;\n",
              "        }    #T_b893e050_31bf_11ea_ba01_0242ac1c0002row9_col12 {\n",
              "            background-color:  #4094c3;\n",
              "            color:  #000000;\n",
              "        }    #T_b893e050_31bf_11ea_ba01_0242ac1c0002row10_col0 {\n",
              "            background-color:  #e0deed;\n",
              "            color:  #000000;\n",
              "        }    #T_b893e050_31bf_11ea_ba01_0242ac1c0002row10_col1 {\n",
              "            background-color:  #c9cee4;\n",
              "            color:  #000000;\n",
              "        }    #T_b893e050_31bf_11ea_ba01_0242ac1c0002row10_col2 {\n",
              "            background-color:  #d6d6e9;\n",
              "            color:  #000000;\n",
              "        }    #T_b893e050_31bf_11ea_ba01_0242ac1c0002row10_col3 {\n",
              "            background-color:  #f8f1f8;\n",
              "            color:  #000000;\n",
              "        }    #T_b893e050_31bf_11ea_ba01_0242ac1c0002row10_col4 {\n",
              "            background-color:  #f7f0f7;\n",
              "            color:  #000000;\n",
              "        }    #T_b893e050_31bf_11ea_ba01_0242ac1c0002row10_col5 {\n",
              "            background-color:  #f8f1f8;\n",
              "            color:  #000000;\n",
              "        }    #T_b893e050_31bf_11ea_ba01_0242ac1c0002row10_col6 {\n",
              "            background-color:  #fcf4fa;\n",
              "            color:  #000000;\n",
              "        }    #T_b893e050_31bf_11ea_ba01_0242ac1c0002row10_col7 {\n",
              "            background-color:  #fff7fb;\n",
              "            color:  #000000;\n",
              "        }    #T_b893e050_31bf_11ea_ba01_0242ac1c0002row10_col8 {\n",
              "            background-color:  #67a4cc;\n",
              "            color:  #000000;\n",
              "        }    #T_b893e050_31bf_11ea_ba01_0242ac1c0002row10_col9 {\n",
              "            background-color:  #fff7fb;\n",
              "            color:  #000000;\n",
              "        }    #T_b893e050_31bf_11ea_ba01_0242ac1c0002row10_col10 {\n",
              "            background-color:  #023858;\n",
              "            color:  #f1f1f1;\n",
              "        }    #T_b893e050_31bf_11ea_ba01_0242ac1c0002row10_col11 {\n",
              "            background-color:  #b9c6e0;\n",
              "            color:  #000000;\n",
              "        }    #T_b893e050_31bf_11ea_ba01_0242ac1c0002row10_col12 {\n",
              "            background-color:  #acc0dd;\n",
              "            color:  #000000;\n",
              "        }    #T_b893e050_31bf_11ea_ba01_0242ac1c0002row11_col0 {\n",
              "            background-color:  #bdc8e1;\n",
              "            color:  #000000;\n",
              "        }    #T_b893e050_31bf_11ea_ba01_0242ac1c0002row11_col1 {\n",
              "            background-color:  #a7bddb;\n",
              "            color:  #000000;\n",
              "        }    #T_b893e050_31bf_11ea_ba01_0242ac1c0002row11_col2 {\n",
              "            background-color:  #f9f2f8;\n",
              "            color:  #000000;\n",
              "        }    #T_b893e050_31bf_11ea_ba01_0242ac1c0002row11_col3 {\n",
              "            background-color:  #fff7fb;\n",
              "            color:  #000000;\n",
              "        }    #T_b893e050_31bf_11ea_ba01_0242ac1c0002row11_col4 {\n",
              "            background-color:  #fff7fb;\n",
              "            color:  #000000;\n",
              "        }    #T_b893e050_31bf_11ea_ba01_0242ac1c0002row11_col5 {\n",
              "            background-color:  #fff7fb;\n",
              "            color:  #000000;\n",
              "        }    #T_b893e050_31bf_11ea_ba01_0242ac1c0002row11_col6 {\n",
              "            background-color:  #fff7fb;\n",
              "            color:  #000000;\n",
              "        }    #T_b893e050_31bf_11ea_ba01_0242ac1c0002row11_col7 {\n",
              "            background-color:  #fff7fb;\n",
              "            color:  #000000;\n",
              "        }    #T_b893e050_31bf_11ea_ba01_0242ac1c0002row11_col8 {\n",
              "            background-color:  #a8bedc;\n",
              "            color:  #000000;\n",
              "        }    #T_b893e050_31bf_11ea_ba01_0242ac1c0002row11_col9 {\n",
              "            background-color:  #faf2f8;\n",
              "            color:  #000000;\n",
              "        }    #T_b893e050_31bf_11ea_ba01_0242ac1c0002row11_col10 {\n",
              "            background-color:  #c5cce3;\n",
              "            color:  #000000;\n",
              "        }    #T_b893e050_31bf_11ea_ba01_0242ac1c0002row11_col11 {\n",
              "            background-color:  #023858;\n",
              "            color:  #f1f1f1;\n",
              "        }    #T_b893e050_31bf_11ea_ba01_0242ac1c0002row11_col12 {\n",
              "            background-color:  #d9d8ea;\n",
              "            color:  #000000;\n",
              "        }    #T_b893e050_31bf_11ea_ba01_0242ac1c0002row12_col0 {\n",
              "            background-color:  #fff7fb;\n",
              "            color:  #000000;\n",
              "        }    #T_b893e050_31bf_11ea_ba01_0242ac1c0002row12_col1 {\n",
              "            background-color:  #fff7fb;\n",
              "            color:  #000000;\n",
              "        }    #T_b893e050_31bf_11ea_ba01_0242ac1c0002row12_col2 {\n",
              "            background-color:  #fff7fb;\n",
              "            color:  #000000;\n",
              "        }    #T_b893e050_31bf_11ea_ba01_0242ac1c0002row12_col3 {\n",
              "            background-color:  #ece7f2;\n",
              "            color:  #000000;\n",
              "        }    #T_b893e050_31bf_11ea_ba01_0242ac1c0002row12_col4 {\n",
              "            background-color:  #fef6fa;\n",
              "            color:  #000000;\n",
              "        }    #T_b893e050_31bf_11ea_ba01_0242ac1c0002row12_col5 {\n",
              "            background-color:  #f5eff6;\n",
              "            color:  #000000;\n",
              "        }    #T_b893e050_31bf_11ea_ba01_0242ac1c0002row12_col6 {\n",
              "            background-color:  #f5eef6;\n",
              "            color:  #000000;\n",
              "        }    #T_b893e050_31bf_11ea_ba01_0242ac1c0002row12_col7 {\n",
              "            background-color:  #fef6fa;\n",
              "            color:  #000000;\n",
              "        }    #T_b893e050_31bf_11ea_ba01_0242ac1c0002row12_col8 {\n",
              "            background-color:  #fff7fb;\n",
              "            color:  #000000;\n",
              "        }    #T_b893e050_31bf_11ea_ba01_0242ac1c0002row12_col9 {\n",
              "            background-color:  #8eb3d5;\n",
              "            color:  #000000;\n",
              "        }    #T_b893e050_31bf_11ea_ba01_0242ac1c0002row12_col10 {\n",
              "            background-color:  #d4d4e8;\n",
              "            color:  #000000;\n",
              "        }    #T_b893e050_31bf_11ea_ba01_0242ac1c0002row12_col11 {\n",
              "            background-color:  #f0eaf4;\n",
              "            color:  #000000;\n",
              "        }    #T_b893e050_31bf_11ea_ba01_0242ac1c0002row12_col12 {\n",
              "            background-color:  #023858;\n",
              "            color:  #f1f1f1;\n",
              "        }</style><table id=\"T_b893e050_31bf_11ea_ba01_0242ac1c0002\" ><thead>    <tr>        <th class=\"blank level0\" ></th>        <th class=\"col_heading level0 col0\" >R141入口_新鮮苯流量</th>        <th class=\"col_heading level0 col1\" >R141入口_DIPB流量</th>        <th class=\"col_heading level0 col2\" >R141入口_溫度</th>        <th class=\"col_heading level0 col3\" >R141入口_壓力</th>        <th class=\"col_heading level0 col4\" >R141反應溫度_第一床</th>        <th class=\"col_heading level0 col5\" >R141反應溫度_第二床</th>        <th class=\"col_heading level0 col6\" >R141反應溫度_第三床</th>        <th class=\"col_heading level0 col7\" >R141反應溫度_第四床</th>        <th class=\"col_heading level0 col8\" >R141出口_溫度</th>        <th class=\"col_heading level0 col9\" >R141出口_壓力</th>        <th class=\"col_heading level0 col10\" >T121_EB含量</th>        <th class=\"col_heading level0 col11\" >DIPB轉化率(檢測)</th>        <th class=\"col_heading level0 col12\" >DIPB轉化率(計算)</th>    </tr></thead><tbody>\n",
              "                <tr>\n",
              "                        <th id=\"T_b893e050_31bf_11ea_ba01_0242ac1c0002level0_row0\" class=\"row_heading level0 row0\" >R141入口_新鮮苯流量</th>\n",
              "                        <td id=\"T_b893e050_31bf_11ea_ba01_0242ac1c0002row0_col0\" class=\"data row0 col0\" >1</td>\n",
              "                        <td id=\"T_b893e050_31bf_11ea_ba01_0242ac1c0002row0_col1\" class=\"data row0 col1\" >0.884923</td>\n",
              "                        <td id=\"T_b893e050_31bf_11ea_ba01_0242ac1c0002row0_col2\" class=\"data row0 col2\" >0.89913</td>\n",
              "                        <td id=\"T_b893e050_31bf_11ea_ba01_0242ac1c0002row0_col3\" class=\"data row0 col3\" >0.304174</td>\n",
              "                        <td id=\"T_b893e050_31bf_11ea_ba01_0242ac1c0002row0_col4\" class=\"data row0 col4\" >0.849823</td>\n",
              "                        <td id=\"T_b893e050_31bf_11ea_ba01_0242ac1c0002row0_col5\" class=\"data row0 col5\" >0.847297</td>\n",
              "                        <td id=\"T_b893e050_31bf_11ea_ba01_0242ac1c0002row0_col6\" class=\"data row0 col6\" >0.841579</td>\n",
              "                        <td id=\"T_b893e050_31bf_11ea_ba01_0242ac1c0002row0_col7\" class=\"data row0 col7\" >0.862173</td>\n",
              "                        <td id=\"T_b893e050_31bf_11ea_ba01_0242ac1c0002row0_col8\" class=\"data row0 col8\" >0.73121</td>\n",
              "                        <td id=\"T_b893e050_31bf_11ea_ba01_0242ac1c0002row0_col9\" class=\"data row0 col9\" >0.844226</td>\n",
              "                        <td id=\"T_b893e050_31bf_11ea_ba01_0242ac1c0002row0_col10\" class=\"data row0 col10\" >-0.23428</td>\n",
              "                        <td id=\"T_b893e050_31bf_11ea_ba01_0242ac1c0002row0_col11\" class=\"data row0 col11\" >-0.0443793</td>\n",
              "                        <td id=\"T_b893e050_31bf_11ea_ba01_0242ac1c0002row0_col12\" class=\"data row0 col12\" >-0.504345</td>\n",
              "            </tr>\n",
              "            <tr>\n",
              "                        <th id=\"T_b893e050_31bf_11ea_ba01_0242ac1c0002level0_row1\" class=\"row_heading level0 row1\" >R141入口_DIPB流量</th>\n",
              "                        <td id=\"T_b893e050_31bf_11ea_ba01_0242ac1c0002row1_col0\" class=\"data row1 col0\" >0.884923</td>\n",
              "                        <td id=\"T_b893e050_31bf_11ea_ba01_0242ac1c0002row1_col1\" class=\"data row1 col1\" >1</td>\n",
              "                        <td id=\"T_b893e050_31bf_11ea_ba01_0242ac1c0002row1_col2\" class=\"data row1 col2\" >0.934985</td>\n",
              "                        <td id=\"T_b893e050_31bf_11ea_ba01_0242ac1c0002row1_col3\" class=\"data row1 col3\" >0.365651</td>\n",
              "                        <td id=\"T_b893e050_31bf_11ea_ba01_0242ac1c0002row1_col4\" class=\"data row1 col4\" >0.877757</td>\n",
              "                        <td id=\"T_b893e050_31bf_11ea_ba01_0242ac1c0002row1_col5\" class=\"data row1 col5\" >0.868036</td>\n",
              "                        <td id=\"T_b893e050_31bf_11ea_ba01_0242ac1c0002row1_col6\" class=\"data row1 col6\" >0.859819</td>\n",
              "                        <td id=\"T_b893e050_31bf_11ea_ba01_0242ac1c0002row1_col7\" class=\"data row1 col7\" >0.882931</td>\n",
              "                        <td id=\"T_b893e050_31bf_11ea_ba01_0242ac1c0002row1_col8\" class=\"data row1 col8\" >0.683053</td>\n",
              "                        <td id=\"T_b893e050_31bf_11ea_ba01_0242ac1c0002row1_col9\" class=\"data row1 col9\" >0.880731</td>\n",
              "                        <td id=\"T_b893e050_31bf_11ea_ba01_0242ac1c0002row1_col10\" class=\"data row1 col10\" >-0.0201724</td>\n",
              "                        <td id=\"T_b893e050_31bf_11ea_ba01_0242ac1c0002row1_col11\" class=\"data row1 col11\" >0.121691</td>\n",
              "                        <td id=\"T_b893e050_31bf_11ea_ba01_0242ac1c0002row1_col12\" class=\"data row1 col12\" >-0.396776</td>\n",
              "            </tr>\n",
              "            <tr>\n",
              "                        <th id=\"T_b893e050_31bf_11ea_ba01_0242ac1c0002level0_row2\" class=\"row_heading level0 row2\" >R141入口_溫度</th>\n",
              "                        <td id=\"T_b893e050_31bf_11ea_ba01_0242ac1c0002row2_col0\" class=\"data row2 col0\" >0.89913</td>\n",
              "                        <td id=\"T_b893e050_31bf_11ea_ba01_0242ac1c0002row2_col1\" class=\"data row2 col1\" >0.934985</td>\n",
              "                        <td id=\"T_b893e050_31bf_11ea_ba01_0242ac1c0002row2_col2\" class=\"data row2 col2\" >1</td>\n",
              "                        <td id=\"T_b893e050_31bf_11ea_ba01_0242ac1c0002row2_col3\" class=\"data row2 col3\" >0.350941</td>\n",
              "                        <td id=\"T_b893e050_31bf_11ea_ba01_0242ac1c0002row2_col4\" class=\"data row2 col4\" >0.94357</td>\n",
              "                        <td id=\"T_b893e050_31bf_11ea_ba01_0242ac1c0002row2_col5\" class=\"data row2 col5\" >0.932389</td>\n",
              "                        <td id=\"T_b893e050_31bf_11ea_ba01_0242ac1c0002row2_col6\" class=\"data row2 col6\" >0.923426</td>\n",
              "                        <td id=\"T_b893e050_31bf_11ea_ba01_0242ac1c0002row2_col7\" class=\"data row2 col7\" >0.939352</td>\n",
              "                        <td id=\"T_b893e050_31bf_11ea_ba01_0242ac1c0002row2_col8\" class=\"data row2 col8\" >0.604921</td>\n",
              "                        <td id=\"T_b893e050_31bf_11ea_ba01_0242ac1c0002row2_col9\" class=\"data row2 col9\" >0.947079</td>\n",
              "                        <td id=\"T_b893e050_31bf_11ea_ba01_0242ac1c0002row2_col10\" class=\"data row2 col10\" >0.0629258</td>\n",
              "                        <td id=\"T_b893e050_31bf_11ea_ba01_0242ac1c0002row2_col11\" class=\"data row2 col11\" >-0.156108</td>\n",
              "                        <td id=\"T_b893e050_31bf_11ea_ba01_0242ac1c0002row2_col12\" class=\"data row2 col12\" >-0.205548</td>\n",
              "            </tr>\n",
              "            <tr>\n",
              "                        <th id=\"T_b893e050_31bf_11ea_ba01_0242ac1c0002level0_row3\" class=\"row_heading level0 row3\" >R141入口_壓力</th>\n",
              "                        <td id=\"T_b893e050_31bf_11ea_ba01_0242ac1c0002row3_col0\" class=\"data row3 col0\" >0.304174</td>\n",
              "                        <td id=\"T_b893e050_31bf_11ea_ba01_0242ac1c0002row3_col1\" class=\"data row3 col1\" >0.365651</td>\n",
              "                        <td id=\"T_b893e050_31bf_11ea_ba01_0242ac1c0002row3_col2\" class=\"data row3 col2\" >0.350941</td>\n",
              "                        <td id=\"T_b893e050_31bf_11ea_ba01_0242ac1c0002row3_col3\" class=\"data row3 col3\" >1</td>\n",
              "                        <td id=\"T_b893e050_31bf_11ea_ba01_0242ac1c0002row3_col4\" class=\"data row3 col4\" >0.309391</td>\n",
              "                        <td id=\"T_b893e050_31bf_11ea_ba01_0242ac1c0002row3_col5\" class=\"data row3 col5\" >0.262835</td>\n",
              "                        <td id=\"T_b893e050_31bf_11ea_ba01_0242ac1c0002row3_col6\" class=\"data row3 col6\" >0.297407</td>\n",
              "                        <td id=\"T_b893e050_31bf_11ea_ba01_0242ac1c0002row3_col7\" class=\"data row3 col7\" >0.274725</td>\n",
              "                        <td id=\"T_b893e050_31bf_11ea_ba01_0242ac1c0002row3_col8\" class=\"data row3 col8\" >0.325315</td>\n",
              "                        <td id=\"T_b893e050_31bf_11ea_ba01_0242ac1c0002row3_col9\" class=\"data row3 col9\" >0.962897</td>\n",
              "                        <td id=\"T_b893e050_31bf_11ea_ba01_0242ac1c0002row3_col10\" class=\"data row3 col10\" >-0.261149</td>\n",
              "                        <td id=\"T_b893e050_31bf_11ea_ba01_0242ac1c0002row3_col11\" class=\"data row3 col11\" >-0.321703</td>\n",
              "                        <td id=\"T_b893e050_31bf_11ea_ba01_0242ac1c0002row3_col12\" class=\"data row3 col12\" >-0.151401</td>\n",
              "            </tr>\n",
              "            <tr>\n",
              "                        <th id=\"T_b893e050_31bf_11ea_ba01_0242ac1c0002level0_row4\" class=\"row_heading level0 row4\" >R141反應溫度_第一床</th>\n",
              "                        <td id=\"T_b893e050_31bf_11ea_ba01_0242ac1c0002row4_col0\" class=\"data row4 col0\" >0.849823</td>\n",
              "                        <td id=\"T_b893e050_31bf_11ea_ba01_0242ac1c0002row4_col1\" class=\"data row4 col1\" >0.877757</td>\n",
              "                        <td id=\"T_b893e050_31bf_11ea_ba01_0242ac1c0002row4_col2\" class=\"data row4 col2\" >0.94357</td>\n",
              "                        <td id=\"T_b893e050_31bf_11ea_ba01_0242ac1c0002row4_col3\" class=\"data row4 col3\" >0.309391</td>\n",
              "                        <td id=\"T_b893e050_31bf_11ea_ba01_0242ac1c0002row4_col4\" class=\"data row4 col4\" >1</td>\n",
              "                        <td id=\"T_b893e050_31bf_11ea_ba01_0242ac1c0002row4_col5\" class=\"data row4 col5\" >0.991727</td>\n",
              "                        <td id=\"T_b893e050_31bf_11ea_ba01_0242ac1c0002row4_col6\" class=\"data row4 col6\" >0.984078</td>\n",
              "                        <td id=\"T_b893e050_31bf_11ea_ba01_0242ac1c0002row4_col7\" class=\"data row4 col7\" >0.978121</td>\n",
              "                        <td id=\"T_b893e050_31bf_11ea_ba01_0242ac1c0002row4_col8\" class=\"data row4 col8\" >0.648831</td>\n",
              "                        <td id=\"T_b893e050_31bf_11ea_ba01_0242ac1c0002row4_col9\" class=\"data row4 col9\" >0.940253</td>\n",
              "                        <td id=\"T_b893e050_31bf_11ea_ba01_0242ac1c0002row4_col10\" class=\"data row4 col10\" >-0.0662891</td>\n",
              "                        <td id=\"T_b893e050_31bf_11ea_ba01_0242ac1c0002row4_col11\" class=\"data row4 col11\" >-0.128274</td>\n",
              "                        <td id=\"T_b893e050_31bf_11ea_ba01_0242ac1c0002row4_col12\" class=\"data row4 col12\" >-0.117629</td>\n",
              "            </tr>\n",
              "            <tr>\n",
              "                        <th id=\"T_b893e050_31bf_11ea_ba01_0242ac1c0002level0_row5\" class=\"row_heading level0 row5\" >R141反應溫度_第二床</th>\n",
              "                        <td id=\"T_b893e050_31bf_11ea_ba01_0242ac1c0002row5_col0\" class=\"data row5 col0\" >0.847297</td>\n",
              "                        <td id=\"T_b893e050_31bf_11ea_ba01_0242ac1c0002row5_col1\" class=\"data row5 col1\" >0.868036</td>\n",
              "                        <td id=\"T_b893e050_31bf_11ea_ba01_0242ac1c0002row5_col2\" class=\"data row5 col2\" >0.932389</td>\n",
              "                        <td id=\"T_b893e050_31bf_11ea_ba01_0242ac1c0002row5_col3\" class=\"data row5 col3\" >0.262835</td>\n",
              "                        <td id=\"T_b893e050_31bf_11ea_ba01_0242ac1c0002row5_col4\" class=\"data row5 col4\" >0.991727</td>\n",
              "                        <td id=\"T_b893e050_31bf_11ea_ba01_0242ac1c0002row5_col5\" class=\"data row5 col5\" >1</td>\n",
              "                        <td id=\"T_b893e050_31bf_11ea_ba01_0242ac1c0002row5_col6\" class=\"data row5 col6\" >0.994928</td>\n",
              "                        <td id=\"T_b893e050_31bf_11ea_ba01_0242ac1c0002row5_col7\" class=\"data row5 col7\" >0.986913</td>\n",
              "                        <td id=\"T_b893e050_31bf_11ea_ba01_0242ac1c0002row5_col8\" class=\"data row5 col8\" >0.689236</td>\n",
              "                        <td id=\"T_b893e050_31bf_11ea_ba01_0242ac1c0002row5_col9\" class=\"data row5 col9\" >0.943591</td>\n",
              "                        <td id=\"T_b893e050_31bf_11ea_ba01_0242ac1c0002row5_col10\" class=\"data row5 col10\" >-0.082717</td>\n",
              "                        <td id=\"T_b893e050_31bf_11ea_ba01_0242ac1c0002row5_col11\" class=\"data row5 col11\" >-0.13459</td>\n",
              "                        <td id=\"T_b893e050_31bf_11ea_ba01_0242ac1c0002row5_col12\" class=\"data row5 col12\" >-0.0606133</td>\n",
              "            </tr>\n",
              "            <tr>\n",
              "                        <th id=\"T_b893e050_31bf_11ea_ba01_0242ac1c0002level0_row6\" class=\"row_heading level0 row6\" >R141反應溫度_第三床</th>\n",
              "                        <td id=\"T_b893e050_31bf_11ea_ba01_0242ac1c0002row6_col0\" class=\"data row6 col0\" >0.841579</td>\n",
              "                        <td id=\"T_b893e050_31bf_11ea_ba01_0242ac1c0002row6_col1\" class=\"data row6 col1\" >0.859819</td>\n",
              "                        <td id=\"T_b893e050_31bf_11ea_ba01_0242ac1c0002row6_col2\" class=\"data row6 col2\" >0.923426</td>\n",
              "                        <td id=\"T_b893e050_31bf_11ea_ba01_0242ac1c0002row6_col3\" class=\"data row6 col3\" >0.297407</td>\n",
              "                        <td id=\"T_b893e050_31bf_11ea_ba01_0242ac1c0002row6_col4\" class=\"data row6 col4\" >0.984078</td>\n",
              "                        <td id=\"T_b893e050_31bf_11ea_ba01_0242ac1c0002row6_col5\" class=\"data row6 col5\" >0.994928</td>\n",
              "                        <td id=\"T_b893e050_31bf_11ea_ba01_0242ac1c0002row6_col6\" class=\"data row6 col6\" >1</td>\n",
              "                        <td id=\"T_b893e050_31bf_11ea_ba01_0242ac1c0002row6_col7\" class=\"data row6 col7\" >0.991156</td>\n",
              "                        <td id=\"T_b893e050_31bf_11ea_ba01_0242ac1c0002row6_col8\" class=\"data row6 col8\" >0.789451</td>\n",
              "                        <td id=\"T_b893e050_31bf_11ea_ba01_0242ac1c0002row6_col9\" class=\"data row6 col9\" >0.941671</td>\n",
              "                        <td id=\"T_b893e050_31bf_11ea_ba01_0242ac1c0002row6_col10\" class=\"data row6 col10\" >-0.0921779</td>\n",
              "                        <td id=\"T_b893e050_31bf_11ea_ba01_0242ac1c0002row6_col11\" class=\"data row6 col11\" >-0.116291</td>\n",
              "                        <td id=\"T_b893e050_31bf_11ea_ba01_0242ac1c0002row6_col12\" class=\"data row6 col12\" >-0.0383855</td>\n",
              "            </tr>\n",
              "            <tr>\n",
              "                        <th id=\"T_b893e050_31bf_11ea_ba01_0242ac1c0002level0_row7\" class=\"row_heading level0 row7\" >R141反應溫度_第四床</th>\n",
              "                        <td id=\"T_b893e050_31bf_11ea_ba01_0242ac1c0002row7_col0\" class=\"data row7 col0\" >0.862173</td>\n",
              "                        <td id=\"T_b893e050_31bf_11ea_ba01_0242ac1c0002row7_col1\" class=\"data row7 col1\" >0.882931</td>\n",
              "                        <td id=\"T_b893e050_31bf_11ea_ba01_0242ac1c0002row7_col2\" class=\"data row7 col2\" >0.939352</td>\n",
              "                        <td id=\"T_b893e050_31bf_11ea_ba01_0242ac1c0002row7_col3\" class=\"data row7 col3\" >0.274725</td>\n",
              "                        <td id=\"T_b893e050_31bf_11ea_ba01_0242ac1c0002row7_col4\" class=\"data row7 col4\" >0.978121</td>\n",
              "                        <td id=\"T_b893e050_31bf_11ea_ba01_0242ac1c0002row7_col5\" class=\"data row7 col5\" >0.986913</td>\n",
              "                        <td id=\"T_b893e050_31bf_11ea_ba01_0242ac1c0002row7_col6\" class=\"data row7 col6\" >0.991156</td>\n",
              "                        <td id=\"T_b893e050_31bf_11ea_ba01_0242ac1c0002row7_col7\" class=\"data row7 col7\" >1</td>\n",
              "                        <td id=\"T_b893e050_31bf_11ea_ba01_0242ac1c0002row7_col8\" class=\"data row7 col8\" >0.916927</td>\n",
              "                        <td id=\"T_b893e050_31bf_11ea_ba01_0242ac1c0002row7_col9\" class=\"data row7 col9\" >0.959771</td>\n",
              "                        <td id=\"T_b893e050_31bf_11ea_ba01_0242ac1c0002row7_col10\" class=\"data row7 col10\" >-0.100037</td>\n",
              "                        <td id=\"T_b893e050_31bf_11ea_ba01_0242ac1c0002row7_col11\" class=\"data row7 col11\" >-0.096656</td>\n",
              "                        <td id=\"T_b893e050_31bf_11ea_ba01_0242ac1c0002row7_col12\" class=\"data row7 col12\" >-0.0874654</td>\n",
              "            </tr>\n",
              "            <tr>\n",
              "                        <th id=\"T_b893e050_31bf_11ea_ba01_0242ac1c0002level0_row8\" class=\"row_heading level0 row8\" >R141出口_溫度</th>\n",
              "                        <td id=\"T_b893e050_31bf_11ea_ba01_0242ac1c0002row8_col0\" class=\"data row8 col0\" >0.73121</td>\n",
              "                        <td id=\"T_b893e050_31bf_11ea_ba01_0242ac1c0002row8_col1\" class=\"data row8 col1\" >0.683053</td>\n",
              "                        <td id=\"T_b893e050_31bf_11ea_ba01_0242ac1c0002row8_col2\" class=\"data row8 col2\" >0.604921</td>\n",
              "                        <td id=\"T_b893e050_31bf_11ea_ba01_0242ac1c0002row8_col3\" class=\"data row8 col3\" >0.325315</td>\n",
              "                        <td id=\"T_b893e050_31bf_11ea_ba01_0242ac1c0002row8_col4\" class=\"data row8 col4\" >0.648831</td>\n",
              "                        <td id=\"T_b893e050_31bf_11ea_ba01_0242ac1c0002row8_col5\" class=\"data row8 col5\" >0.689236</td>\n",
              "                        <td id=\"T_b893e050_31bf_11ea_ba01_0242ac1c0002row8_col6\" class=\"data row8 col6\" >0.789451</td>\n",
              "                        <td id=\"T_b893e050_31bf_11ea_ba01_0242ac1c0002row8_col7\" class=\"data row8 col7\" >0.916927</td>\n",
              "                        <td id=\"T_b893e050_31bf_11ea_ba01_0242ac1c0002row8_col8\" class=\"data row8 col8\" >1</td>\n",
              "                        <td id=\"T_b893e050_31bf_11ea_ba01_0242ac1c0002row8_col9\" class=\"data row8 col9\" >0.350758</td>\n",
              "                        <td id=\"T_b893e050_31bf_11ea_ba01_0242ac1c0002row8_col10\" class=\"data row8 col10\" >0.291141</td>\n",
              "                        <td id=\"T_b893e050_31bf_11ea_ba01_0242ac1c0002row8_col11\" class=\"data row8 col11\" >0.053617</td>\n",
              "                        <td id=\"T_b893e050_31bf_11ea_ba01_0242ac1c0002row8_col12\" class=\"data row8 col12\" >-0.496486</td>\n",
              "            </tr>\n",
              "            <tr>\n",
              "                        <th id=\"T_b893e050_31bf_11ea_ba01_0242ac1c0002level0_row9\" class=\"row_heading level0 row9\" >R141出口_壓力</th>\n",
              "                        <td id=\"T_b893e050_31bf_11ea_ba01_0242ac1c0002row9_col0\" class=\"data row9 col0\" >0.844226</td>\n",
              "                        <td id=\"T_b893e050_31bf_11ea_ba01_0242ac1c0002row9_col1\" class=\"data row9 col1\" >0.880731</td>\n",
              "                        <td id=\"T_b893e050_31bf_11ea_ba01_0242ac1c0002row9_col2\" class=\"data row9 col2\" >0.947079</td>\n",
              "                        <td id=\"T_b893e050_31bf_11ea_ba01_0242ac1c0002row9_col3\" class=\"data row9 col3\" >0.962897</td>\n",
              "                        <td id=\"T_b893e050_31bf_11ea_ba01_0242ac1c0002row9_col4\" class=\"data row9 col4\" >0.940253</td>\n",
              "                        <td id=\"T_b893e050_31bf_11ea_ba01_0242ac1c0002row9_col5\" class=\"data row9 col5\" >0.943591</td>\n",
              "                        <td id=\"T_b893e050_31bf_11ea_ba01_0242ac1c0002row9_col6\" class=\"data row9 col6\" >0.941671</td>\n",
              "                        <td id=\"T_b893e050_31bf_11ea_ba01_0242ac1c0002row9_col7\" class=\"data row9 col7\" >0.959771</td>\n",
              "                        <td id=\"T_b893e050_31bf_11ea_ba01_0242ac1c0002row9_col8\" class=\"data row9 col8\" >0.350758</td>\n",
              "                        <td id=\"T_b893e050_31bf_11ea_ba01_0242ac1c0002row9_col9\" class=\"data row9 col9\" >1</td>\n",
              "                        <td id=\"T_b893e050_31bf_11ea_ba01_0242ac1c0002row9_col10\" class=\"data row9 col10\" >-0.0576365</td>\n",
              "                        <td id=\"T_b893e050_31bf_11ea_ba01_0242ac1c0002row9_col11\" class=\"data row9 col11\" >-0.0165576</td>\n",
              "                        <td id=\"T_b893e050_31bf_11ea_ba01_0242ac1c0002row9_col12\" class=\"data row9 col12\" >0.401551</td>\n",
              "            </tr>\n",
              "            <tr>\n",
              "                        <th id=\"T_b893e050_31bf_11ea_ba01_0242ac1c0002level0_row10\" class=\"row_heading level0 row10\" >T121_EB含量</th>\n",
              "                        <td id=\"T_b893e050_31bf_11ea_ba01_0242ac1c0002row10_col0\" class=\"data row10 col0\" >-0.23428</td>\n",
              "                        <td id=\"T_b893e050_31bf_11ea_ba01_0242ac1c0002row10_col1\" class=\"data row10 col1\" >-0.0201724</td>\n",
              "                        <td id=\"T_b893e050_31bf_11ea_ba01_0242ac1c0002row10_col2\" class=\"data row10 col2\" >0.0629258</td>\n",
              "                        <td id=\"T_b893e050_31bf_11ea_ba01_0242ac1c0002row10_col3\" class=\"data row10 col3\" >-0.261149</td>\n",
              "                        <td id=\"T_b893e050_31bf_11ea_ba01_0242ac1c0002row10_col4\" class=\"data row10 col4\" >-0.0662891</td>\n",
              "                        <td id=\"T_b893e050_31bf_11ea_ba01_0242ac1c0002row10_col5\" class=\"data row10 col5\" >-0.082717</td>\n",
              "                        <td id=\"T_b893e050_31bf_11ea_ba01_0242ac1c0002row10_col6\" class=\"data row10 col6\" >-0.0921779</td>\n",
              "                        <td id=\"T_b893e050_31bf_11ea_ba01_0242ac1c0002row10_col7\" class=\"data row10 col7\" >-0.100037</td>\n",
              "                        <td id=\"T_b893e050_31bf_11ea_ba01_0242ac1c0002row10_col8\" class=\"data row10 col8\" >0.291141</td>\n",
              "                        <td id=\"T_b893e050_31bf_11ea_ba01_0242ac1c0002row10_col9\" class=\"data row10 col9\" >-0.0576365</td>\n",
              "                        <td id=\"T_b893e050_31bf_11ea_ba01_0242ac1c0002row10_col10\" class=\"data row10 col10\" >1</td>\n",
              "                        <td id=\"T_b893e050_31bf_11ea_ba01_0242ac1c0002row10_col11\" class=\"data row10 col11\" >0.0979478</td>\n",
              "                        <td id=\"T_b893e050_31bf_11ea_ba01_0242ac1c0002row10_col12\" class=\"data row10 col12\" >0.0331849</td>\n",
              "            </tr>\n",
              "            <tr>\n",
              "                        <th id=\"T_b893e050_31bf_11ea_ba01_0242ac1c0002level0_row11\" class=\"row_heading level0 row11\" >DIPB轉化率(檢測)</th>\n",
              "                        <td id=\"T_b893e050_31bf_11ea_ba01_0242ac1c0002row11_col0\" class=\"data row11 col0\" >-0.0443793</td>\n",
              "                        <td id=\"T_b893e050_31bf_11ea_ba01_0242ac1c0002row11_col1\" class=\"data row11 col1\" >0.121691</td>\n",
              "                        <td id=\"T_b893e050_31bf_11ea_ba01_0242ac1c0002row11_col2\" class=\"data row11 col2\" >-0.156108</td>\n",
              "                        <td id=\"T_b893e050_31bf_11ea_ba01_0242ac1c0002row11_col3\" class=\"data row11 col3\" >-0.321703</td>\n",
              "                        <td id=\"T_b893e050_31bf_11ea_ba01_0242ac1c0002row11_col4\" class=\"data row11 col4\" >-0.128274</td>\n",
              "                        <td id=\"T_b893e050_31bf_11ea_ba01_0242ac1c0002row11_col5\" class=\"data row11 col5\" >-0.13459</td>\n",
              "                        <td id=\"T_b893e050_31bf_11ea_ba01_0242ac1c0002row11_col6\" class=\"data row11 col6\" >-0.116291</td>\n",
              "                        <td id=\"T_b893e050_31bf_11ea_ba01_0242ac1c0002row11_col7\" class=\"data row11 col7\" >-0.096656</td>\n",
              "                        <td id=\"T_b893e050_31bf_11ea_ba01_0242ac1c0002row11_col8\" class=\"data row11 col8\" >0.053617</td>\n",
              "                        <td id=\"T_b893e050_31bf_11ea_ba01_0242ac1c0002row11_col9\" class=\"data row11 col9\" >-0.0165576</td>\n",
              "                        <td id=\"T_b893e050_31bf_11ea_ba01_0242ac1c0002row11_col10\" class=\"data row11 col10\" >0.0979478</td>\n",
              "                        <td id=\"T_b893e050_31bf_11ea_ba01_0242ac1c0002row11_col11\" class=\"data row11 col11\" >1</td>\n",
              "                        <td id=\"T_b893e050_31bf_11ea_ba01_0242ac1c0002row11_col12\" class=\"data row11 col12\" >-0.184156</td>\n",
              "            </tr>\n",
              "            <tr>\n",
              "                        <th id=\"T_b893e050_31bf_11ea_ba01_0242ac1c0002level0_row12\" class=\"row_heading level0 row12\" >DIPB轉化率(計算)</th>\n",
              "                        <td id=\"T_b893e050_31bf_11ea_ba01_0242ac1c0002row12_col0\" class=\"data row12 col0\" >-0.504345</td>\n",
              "                        <td id=\"T_b893e050_31bf_11ea_ba01_0242ac1c0002row12_col1\" class=\"data row12 col1\" >-0.396776</td>\n",
              "                        <td id=\"T_b893e050_31bf_11ea_ba01_0242ac1c0002row12_col2\" class=\"data row12 col2\" >-0.205548</td>\n",
              "                        <td id=\"T_b893e050_31bf_11ea_ba01_0242ac1c0002row12_col3\" class=\"data row12 col3\" >-0.151401</td>\n",
              "                        <td id=\"T_b893e050_31bf_11ea_ba01_0242ac1c0002row12_col4\" class=\"data row12 col4\" >-0.117629</td>\n",
              "                        <td id=\"T_b893e050_31bf_11ea_ba01_0242ac1c0002row12_col5\" class=\"data row12 col5\" >-0.0606133</td>\n",
              "                        <td id=\"T_b893e050_31bf_11ea_ba01_0242ac1c0002row12_col6\" class=\"data row12 col6\" >-0.0383855</td>\n",
              "                        <td id=\"T_b893e050_31bf_11ea_ba01_0242ac1c0002row12_col7\" class=\"data row12 col7\" >-0.0874654</td>\n",
              "                        <td id=\"T_b893e050_31bf_11ea_ba01_0242ac1c0002row12_col8\" class=\"data row12 col8\" >-0.496486</td>\n",
              "                        <td id=\"T_b893e050_31bf_11ea_ba01_0242ac1c0002row12_col9\" class=\"data row12 col9\" >0.401551</td>\n",
              "                        <td id=\"T_b893e050_31bf_11ea_ba01_0242ac1c0002row12_col10\" class=\"data row12 col10\" >0.0331849</td>\n",
              "                        <td id=\"T_b893e050_31bf_11ea_ba01_0242ac1c0002row12_col11\" class=\"data row12 col11\" >-0.184156</td>\n",
              "                        <td id=\"T_b893e050_31bf_11ea_ba01_0242ac1c0002row12_col12\" class=\"data row12 col12\" >1</td>\n",
              "            </tr>\n",
              "    </tbody></table>"
            ],
            "text/plain": [
              "<pandas.io.formats.style.Styler at 0x7f41110f3c50>"
            ]
          },
          "metadata": {
            "tags": []
          },
          "execution_count": 11
        }
      ]
    },
    {
      "cell_type": "markdown",
      "metadata": {
        "id": "PndwIoyo3TMA",
        "colab_type": "text"
      },
      "source": [
        "# features engineering"
      ]
    },
    {
      "cell_type": "code",
      "metadata": {
        "id": "Pkq3EExU44at",
        "colab_type": "code",
        "colab": {}
      },
      "source": [
        "pass"
      ],
      "execution_count": 0,
      "outputs": []
    },
    {
      "cell_type": "markdown",
      "metadata": {
        "id": "3PlJG6Vw4zMa",
        "colab_type": "text"
      },
      "source": [
        "# feature select"
      ]
    },
    {
      "cell_type": "code",
      "metadata": {
        "id": "SNk7zPba2PYy",
        "colab_type": "code",
        "colab": {
          "base_uri": "https://localhost:8080/",
          "height": 36
        },
        "outputId": "b515ae0b-1bd0-470f-a662-8c889a999724"
      },
      "source": [
        "features = ['R141入口_新鮮苯流量','R141入口_DIPB流量','R141入口_溫度','R141入口_壓力','R141出口_溫度','R141出口_壓力']\n",
        "y_name = 'DIPB轉化率(計算)'\n",
        "new_df = new_df[features+[y_name]].dropna(subset=[y_name])\n",
        "X = new_df[features]\n",
        "y = new_df[y_name]\n",
        "print(X.shape,y.shape)"
      ],
      "execution_count": 13,
      "outputs": [
        {
          "output_type": "stream",
          "text": [
            "(76553, 6) (76553,)\n"
          ],
          "name": "stdout"
        }
      ]
    },
    {
      "cell_type": "markdown",
      "metadata": {
        "id": "5j5oPa1241HP",
        "colab_type": "text"
      },
      "source": [
        "# split"
      ]
    },
    {
      "cell_type": "code",
      "metadata": {
        "id": "mVM4hwRA41O3",
        "colab_type": "code",
        "colab": {}
      },
      "source": [
        "from sklearn.model_selection import train_test_split\n",
        "X_train, X_test, y_train, y_test = train_test_split(X, y, test_size=0.2, random_state=42)"
      ],
      "execution_count": 0,
      "outputs": []
    },
    {
      "cell_type": "markdown",
      "metadata": {
        "id": "lyR4cNuo3tiy",
        "colab_type": "text"
      },
      "source": [
        "# model"
      ]
    },
    {
      "cell_type": "code",
      "metadata": {
        "id": "aJQ6fk9B3iqS",
        "colab_type": "code",
        "colab": {}
      },
      "source": [
        "from sklearn.pipeline import Pipeline\n",
        "from sklearn.preprocessing import StandardScaler\n",
        "from sklearn.svm import SVR\n",
        "from sklearn.linear_model import Ridge\n",
        "from xgboost import XGBRegressor\n",
        "\n",
        "model = Pipeline(steps=[\n",
        "                        ('scaler',StandardScaler()),\n",
        "                        ('reg',XGBRegressor(objective='reg:squarederror')),\n",
        "                        ])"
      ],
      "execution_count": 0,
      "outputs": []
    },
    {
      "cell_type": "markdown",
      "metadata": {
        "id": "G0O-ya3z5EZB",
        "colab_type": "text"
      },
      "source": [
        "# train and predict"
      ]
    },
    {
      "cell_type": "code",
      "metadata": {
        "id": "Y90zYZje30fo",
        "colab_type": "code",
        "colab": {}
      },
      "source": [
        "model.fit(X_train,y_train)\n",
        "y_pred = model.predict(X_test)"
      ],
      "execution_count": 0,
      "outputs": []
    },
    {
      "cell_type": "markdown",
      "metadata": {
        "id": "siYi_par8U6t",
        "colab_type": "text"
      },
      "source": [
        "# metric"
      ]
    },
    {
      "cell_type": "code",
      "metadata": {
        "id": "I_Y76c707X4e",
        "colab_type": "code",
        "colab": {}
      },
      "source": [
        "y_pred = pd.Series(y_pred,index=y_test.index,name='y_pred')"
      ],
      "execution_count": 0,
      "outputs": []
    },
    {
      "cell_type": "code",
      "metadata": {
        "id": "KiJR57ZO8XWI",
        "colab_type": "code",
        "colab": {
          "base_uri": "https://localhost:8080/",
          "height": 342
        },
        "outputId": "50948b77-5b7c-4d40-df6d-f27a4ac432a6"
      },
      "source": [
        "fig = plt.figure(figsize=(20,5))\n",
        "plt.plot(y_test.sort_index(),label='y_test')\n",
        "plt.plot(y_pred.sort_index(),label='y_pred')\n",
        "plt.ylim(50,70)\n",
        "plt.legend()"
      ],
      "execution_count": 18,
      "outputs": [
        {
          "output_type": "execute_result",
          "data": {
            "text/plain": [
              "<matplotlib.legend.Legend at 0x7f41118032e8>"
            ]
          },
          "metadata": {
            "tags": []
          },
          "execution_count": 18
        },
        {
          "output_type": "display_data",
          "data": {
            "image/png": "[encoded data removed]",
            "text/plain": [
              "<Figure size 1440x360 with 1 Axes>"
            ]
          },
          "metadata": {
            "tags": []
          }
        }
      ]
    },
    {
      "cell_type": "code",
      "metadata": {
        "id": "FsY8g-hk-OTj",
        "colab_type": "code",
        "colab": {
          "base_uri": "https://localhost:8080/",
          "height": 517
        },
        "outputId": "96896243-1a92-48ec-8f6a-cf5675cf3dc9"
      },
      "source": [
        "residual = y_test - y_pred\n",
        "sns.distplot(residual)\n",
        "plt.xlim(-10,10)\n",
        "plt.show()\n",
        "\n",
        "plt.scatter(residual.index,residual,s=0.1)\n",
        "plt.plot(residual.index,[0]*len(residual))\n",
        "plt.ylim(-10,10)\n",
        "plt.show()"
      ],
      "execution_count": 19,
      "outputs": [
        {
          "output_type": "display_data",
          "data": {
            "image/png": "[encoded data removed]",
            "text/plain": [
              "<Figure size 432x288 with 1 Axes>"
            ]
          },
          "metadata": {
            "tags": []
          }
        },
        {
          "output_type": "display_data",
          "data": {
            "image/png": "[encoded data removed]",
            "text/plain": [
              "<Figure size 432x288 with 1 Axes>"
            ]
          },
          "metadata": {
            "tags": []
          }
        }
      ]
    },
    {
      "cell_type": "code",
      "metadata": {
        "id": "gnG4Acqd9UBj",
        "colab_type": "code",
        "colab": {}
      },
      "source": [
        "from sklearn.metrics import r2_score\n",
        "def mape(a, b): \n",
        "  mask = a != 0\n",
        "  return (np.fabs(a - b)/a)[mask].mean()"
      ],
      "execution_count": 0,
      "outputs": []
    },
    {
      "cell_type": "code",
      "metadata": {
        "id": "WisCov5U9Y1R",
        "colab_type": "code",
        "colab": {
          "base_uri": "https://localhost:8080/",
          "height": 36
        },
        "outputId": "e9ff62d1-3f46-4043-8f62-2f536c189872"
      },
      "source": [
        "r2_score(y_test,y_pred)"
      ],
      "execution_count": 21,
      "outputs": [
        {
          "output_type": "execute_result",
          "data": {
            "text/plain": [
              "0.8490106198472037"
            ]
          },
          "metadata": {
            "tags": []
          },
          "execution_count": 21
        }
      ]
    },
    {
      "cell_type": "code",
      "metadata": {
        "id": "T3i51SDa8jvn",
        "colab_type": "code",
        "colab": {
          "base_uri": "https://localhost:8080/",
          "height": 36
        },
        "outputId": "b9c23660-ee33-4112-fed7-9d314e8de82c"
      },
      "source": [
        "mape(y_test,y_pred)"
      ],
      "execution_count": 22,
      "outputs": [
        {
          "output_type": "execute_result",
          "data": {
            "text/plain": [
              "0.011248060362437745"
            ]
          },
          "metadata": {
            "tags": []
          },
          "execution_count": 22
        }
      ]
    },
    {
      "cell_type": "code",
      "metadata": {
        "id": "Hgl1xLdt9A4V",
        "colab_type": "code",
        "colab": {}
      },
      "source": [
        ""
      ],
      "execution_count": 0,
      "outputs": []
    }
  ]
}